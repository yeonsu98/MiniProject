{
 "cells": [
  {
   "cell_type": "markdown",
   "id": "43f929a9",
   "metadata": {},
   "source": [
    "# 안녕하세요^^ \n",
    "# AIVLE 미니 프로젝트에 오신 여러분을 환영합니다.\n",
    "* 본 과정에서는 실제 사례와 데이터를 기반으로 문제를 해결하는 전체 과정을 자기 주도형 실습으로 진행해볼 예정입니다.\n",
    "* 앞선 교육과정을 정리하는 마음과 지금까지 배운 내용을 바탕으로 문제 해결을 해볼게요!\n",
    "* 미니 프로젝트를 통한 문제 해결 과정 'A에서 Z까지', 지금부터 시작합니다!"
   ]
  },
  {
   "cell_type": "markdown",
   "id": "bf8a7bf5-a910-4367-90f1-5f206d7fc119",
   "metadata": {
    "tags": []
   },
   "source": [
    "### 문제 정의\n",
    "> 문자 메시지 스팸 분류 문제<br>\n",
    "> 1. 문자 메시지 데이터 분석\n",
    "> 2. 스팸 분류 모델 성능 평가\n",
    "### 학습 데이터\n",
    "> * train/validation : spam.csv\n",
    "> * test : spam_test_text.csv\n",
    "### 변수 소개\n",
    "> * text : 문자 메시지\n",
    "> * label : 스팸여부\n",
    "\n",
    "### References\n",
    "> * 한국어 처리\n",
    ">> * [konlpy - 한국어 처리 라이브러리](https://konlpy.org/ko/latest/)\n",
    ">> * [한국어 품사 태그 비교표](https://docs.google.com/spreadsheets/d/1OGAjUvalBuX-oZvZ_-9tEfYD2gQe7hTGsgUpiiBSXI8/edit#gid=0)\n",
    ">> * [한국어 품사 태깅 성능 비교](https://konlpy.org/ko/latest/morph/#comparison-between-pos-tagging-classes)\n",
    ">> * [한국어 시스템 사전](https://konlpy.org/ko/latest/data/#corpora)\n",
    "\n",
    "> * 자연어 처리\n",
    ">> * [NLTK](https://www.nltk.org/book/)\n",
    ">> * [gensim](https://radimrehurek.com/gensim/)\n",
    ">> * [Google guide](https://developers.google.com/machine-learning/guides/text-classification/step-2)\n",
    ">> * [WordCloud](https://amueller.github.io/word_cloud/)"
   ]
  },
  {
   "cell_type": "markdown",
   "id": "17923c29",
   "metadata": {},
   "source": [
    "----"
   ]
  },
  {
   "cell_type": "markdown",
   "id": "de0ec86c",
   "metadata": {},
   "source": [
    "# 데이터 탐색부터 먼저 시작해보겠습니다."
   ]
  },
  {
   "cell_type": "markdown",
   "id": "4af58a8c-e4ce-41ee-95df-618b0eb93e72",
   "metadata": {},
   "source": [
    "---"
   ]
  },
  {
   "cell_type": "markdown",
   "id": "7f574c77-a288-4b1d-a99b-2380a9808cb8",
   "metadata": {},
   "source": [
    "### 0. 라이브러리 설치 및 불러오기"
   ]
  },
  {
   "cell_type": "code",
   "execution_count": 1,
   "id": "fe090fe4",
   "metadata": {
    "tags": []
   },
   "outputs": [
    {
     "name": "stdout",
     "output_type": "stream",
     "text": [
      "Requirement already satisfied: konlpy in c:\\users\\user\\anaconda3\\lib\\site-packages (0.6.0)\n",
      "Requirement already satisfied: pandas in c:\\users\\user\\anaconda3\\lib\\site-packages (1.2.4)\n",
      "Requirement already satisfied: seaborn in c:\\users\\user\\anaconda3\\lib\\site-packages (0.11.2)\n",
      "Requirement already satisfied: gensim in c:\\users\\user\\anaconda3\\lib\\site-packages (4.2.0)\n",
      "Requirement already satisfied: wordcloud in c:\\users\\user\\anaconda3\\lib\\site-packages (1.8.2.2)\n",
      "Requirement already satisfied: JPype1>=0.7.0 in c:\\users\\user\\anaconda3\\lib\\site-packages (from konlpy) (1.4.0)\n",
      "Requirement already satisfied: numpy>=1.6 in c:\\users\\user\\anaconda3\\lib\\site-packages (from konlpy) (1.20.1)\n",
      "Requirement already satisfied: lxml>=4.1.0 in c:\\users\\user\\anaconda3\\lib\\site-packages (from konlpy) (4.6.3)\n",
      "Requirement already satisfied: pytz>=2017.3 in c:\\users\\user\\anaconda3\\lib\\site-packages (from pandas) (2021.1)\n",
      "Requirement already satisfied: python-dateutil>=2.7.3 in c:\\users\\user\\anaconda3\\lib\\site-packages (from pandas) (2.8.1)\n",
      "Requirement already satisfied: matplotlib>=2.2 in c:\\users\\user\\anaconda3\\lib\\site-packages (from seaborn) (3.3.4)\n",
      "Requirement already satisfied: scipy>=1.0 in c:\\users\\user\\anaconda3\\lib\\site-packages (from seaborn) (1.6.2)\n",
      "Requirement already satisfied: smart-open>=1.8.1 in c:\\users\\user\\anaconda3\\lib\\site-packages (from gensim) (6.2.0)\n",
      "Requirement already satisfied: Cython==0.29.28 in c:\\users\\user\\anaconda3\\lib\\site-packages (from gensim) (0.29.28)\n",
      "Requirement already satisfied: pillow in c:\\users\\user\\anaconda3\\lib\\site-packages (from wordcloud) (8.2.0)\n",
      "Requirement already satisfied: pyparsing!=2.0.4,!=2.1.2,!=2.1.6,>=2.0.3 in c:\\users\\user\\anaconda3\\lib\\site-packages (from matplotlib>=2.2->seaborn) (2.4.7)\n",
      "Requirement already satisfied: cycler>=0.10 in c:\\users\\user\\anaconda3\\lib\\site-packages (from matplotlib>=2.2->seaborn) (0.10.0)\n",
      "Requirement already satisfied: kiwisolver>=1.0.1 in c:\\users\\user\\anaconda3\\lib\\site-packages (from matplotlib>=2.2->seaborn) (1.3.1)\n",
      "Requirement already satisfied: six>=1.5 in c:\\users\\user\\anaconda3\\lib\\site-packages (from python-dateutil>=2.7.3->pandas) (1.15.0)\n"
     ]
    }
   ],
   "source": [
    "# 필요 라이브러리부터 설치할께요.\n",
    "!pip install konlpy pandas seaborn gensim wordcloud"
   ]
  },
  {
   "cell_type": "code",
   "execution_count": 4,
   "id": "125ba2cb-513b-4fa4-90e9-3f970deaa349",
   "metadata": {
    "tags": []
   },
   "outputs": [],
   "source": [
    "## import sklearn\n",
    "import pandas as pd\n",
    "\n",
    "import matplotlib.font_manager as fm\n",
    "import matplotlib.pyplot as plt\n",
    "#import tensorflow as tf\n",
    "fm.findSystemFonts()\n",
    "plt.rcParams['font.family']= [\"NanumGothicCoding\"]\n",
    "plt.rcParams[\"axes.unicode_minus\"]=False\n",
    "# GPU 환경 설정하기\n",
    "# assert tf.test.is_gpu_available() == True, 'GPU 설정을 확인하세요.'\n",
    "#print(tf.config.list_physical_devices('GPU'))\n",
    "#print(tf.config.list_logical_devices('GPU'))"
   ]
  },
  {
   "cell_type": "markdown",
   "id": "a499f729-025e-43da-a1fe-2e8fa3b67c8b",
   "metadata": {
    "tags": []
   },
   "source": [
    "### 1. 데이터 준비\n",
    "#### 1-1. 데이터 가져오기"
   ]
  },
  {
   "cell_type": "code",
   "execution_count": 5,
   "id": "07686e03",
   "metadata": {},
   "outputs": [],
   "source": [
    "# 데이터를 가져옵니다.\n",
    "import pandas as pd\n",
    "\n",
    "df = pd.read_csv('./spam.csv')"
   ]
  },
  {
   "cell_type": "markdown",
   "id": "f471d45d-624a-4d1f-928b-aab8ed4378f6",
   "metadata": {},
   "source": [
    "### 1-2. 데이터 확인하기"
   ]
  },
  {
   "cell_type": "code",
   "execution_count": 6,
   "id": "780dd08f",
   "metadata": {},
   "outputs": [],
   "source": [
    "# head 함수를 이용해 데이터를 확인해봅니다. (띄어쓰기가 되어 있지 않음을 알 수 있어요.)\n",
    "df.head()"
   ]
  },
  {
   "cell_type": "code",
   "execution_count": 7,
   "id": "77a0026b",
   "metadata": {},
   "outputs": [],
   "source": [
    "# info() 함수를 이용해서 데이터의 정보를 확인합니다.\n",
    "df.info()"
   ]
  },
  {
   "cell_type": "code",
   "execution_count": 8,
   "id": "9593f5c4",
   "metadata": {},
   "outputs": [],
   "source": [
    "# label 데이터 분포를 확인합니다.\n",
    "df.label.value_counts(normalize=True).plot.bar()"
   ]
  },
  {
   "cell_type": "code",
   "execution_count": null,
   "id": "30eb4043-a290-44f3-97df-256705049b73",
   "metadata": {},
   "outputs": [],
   "source": [
    "print(f'정상의 비율 = {round(df.label.value_counts()[1]/len(df) * 100,3)}%')\n",
    "print(f'스팸의 비율 = {round(df.label.value_counts()[0]/len(df) * 100,3)}%')"
   ]
  },
  {
   "cell_type": "code",
   "execution_count": null,
   "id": "6c840310-4547-49ba-8ac9-472a3585be8c",
   "metadata": {},
   "outputs": [],
   "source": [
    "# descibe 함수를 이용해서 기본 정보를 확인합니다.\n",
    "df.describe()"
   ]
  },
  {
   "cell_type": "markdown",
   "id": "4a033001-ce94-44c6-9cd9-d6f9bfe7f9a5",
   "metadata": {},
   "source": [
    "#### 1-3. 결측치 제거"
   ]
  },
  {
   "cell_type": "code",
   "execution_count": 2,
   "id": "839926ad-4476-401c-9fcb-1e7383511062",
   "metadata": {},
   "outputs": [],
   "source": [
    "# 결측치를 제거한 후 확인합니다.\n",
    "df = data.dropna(axis=0)\n",
    "df.isnull().sum()"
   ]
  },
  {
   "cell_type": "markdown",
   "id": "30bba9e3-479e-4560-b74a-cb3f0216fe7d",
   "metadata": {
    "tags": []
   },
   "source": [
    "### 2. 텍스트 데이터 분석"
   ]
  },
  {
   "cell_type": "markdown",
   "id": "6db5be2d-16b7-442f-b759-d91d4a15ba02",
   "metadata": {},
   "source": [
    "#### 2-1. 텍스트 길이 분포 "
   ]
  },
  {
   "cell_type": "code",
   "execution_count": 17,
   "id": "e0e23f62-3fb3-4f38-8828-7b930bd87807",
   "metadata": {},
   "outputs": [],
   "source": [
    "# 텍스트 길이 분포와 최대 길이를 확인합니다.\n",
    "import nltk\n",
    "\n",
    "nltk_spam = nltk.Text(' '.join(df.text.explode()))\n",
    "nltk_spam.plot(10)"
   ]
  },
  {
   "cell_type": "code",
   "execution_count": null,
   "id": "26a29ab5-a15d-42f7-ab9a-cc4072038f46",
   "metadata": {},
   "outputs": [],
   "source": [
    "import numpy as np\n",
    "import matplotlib.pyplot as plt\n",
    "\n",
    "def get_num_words_per_sample(sample_texts):\n",
    "    num_words = [len(s.split()) for s in sample_texts]\n",
    "    return np.median(num_words)\n",
    "\n",
    "def plot_sample_length_distribution(sample_texts):\n",
    "    plt.hist([len(s) for s in sample_texts], 50)\n",
    "    plt.xlabel('Length of a sample')\n",
    "    plt.ylabel('Number of samples')\n",
    "    plt.title('Sample length distribution')\n",
    "    plt.show()\n",
    "\n",
    "print(\"NUMBER OF WORDS PER SAMPLE : \",get_num_words_per_sample(df.text))\n",
    "\n",
    "plot_sample_length_distribution(df.text)"
   ]
  },
  {
   "cell_type": "code",
   "execution_count": 10,
   "id": "9d7e175f-d029-45b2-ae43-938783fd6435",
   "metadata": {},
   "outputs": [],
   "source": [
    "# konlpy를 활용하여 태깅 클래스를 불러옵니다.\n",
    "from konlpy.tag import Mecab\n",
    "\n",
    "mecab = Mecab()"
   ]
  },
  {
   "cell_type": "markdown",
   "id": "e536f0c5-c695-4df1-a4f5-9cd4204da814",
   "metadata": {
    "tags": []
   },
   "source": [
    "#### 2-2. 형태소/명사 추출"
   ]
  },
  {
   "cell_type": "code",
   "execution_count": 11,
   "id": "7bbd2b54-ea7b-417a-b75b-cb116debf8e0",
   "metadata": {},
   "outputs": [],
   "source": [
    "# 태깅 클래스를 활용하여 형태소/명사를 추출합니다.\n",
    "morphs = df.text.apply(lambda t: mecab.morphs(str(t)))\n",
    "nouns = df.text.apply(lambda t: mecab.nouns(str(t)))"
   ]
  },
  {
   "cell_type": "code",
   "execution_count": 9,
   "id": "4216ef9a-f499-4f1f-86b4-54a8d6a22f58",
   "metadata": {},
   "outputs": [],
   "source": [
    "# Number of Samples / Number of words per sample 확인합니다.\n",
    "# https://developers.google.com/machine-learning/guides/text-classification/step-2-5 참고\n",
    "len(morphs)/morphs.apply(len).mean()"
   ]
  },
  {
   "cell_type": "markdown",
   "id": "80603d65-e7ee-4278-858b-2300c7731cf6",
   "metadata": {},
   "source": [
    "#### 2-3. NLTK Text로 변환"
   ]
  },
  {
   "cell_type": "code",
   "execution_count": 10,
   "id": "7ef5dade-8b94-4312-8f05-58a6d75cf747",
   "metadata": {},
   "outputs": [],
   "source": [
    "# Tokenize한 문자 데이터를 하나의 nltk.Text로 변환합니다.\n",
    "spam_morphs_text = nltk.Text(morphs.explode().to_list())\n",
    "spam_nouns_text = nltk.Text(nouns.explode().to_list())"
   ]
  },
  {
   "cell_type": "markdown",
   "id": "0ee1d9aa-e678-419d-a529-f98ec2a0e596",
   "metadata": {
    "tags": []
   },
   "source": [
    "#### 2-4. Frequency plot"
   ]
  },
  {
   "cell_type": "code",
   "execution_count": 11,
   "id": "b348956b-510e-49fe-a1b4-a7e19b022f06",
   "metadata": {},
   "outputs": [],
   "source": [
    "# 형태소/명사 추출 각각 단어 분포를 확인합니다.\n",
    "plt.figure(figsize=(8,4))\n",
    "plt.title(\"형태소 개수 : \" + str(len(spam_morphs_text.tokens)))\n",
    "spam_morphs_text.plot(10)\n",
    "plt.figure(figsize=(8,4))\n",
    "plt.title(\"명사 개수 : \" + str(len(spam_nouns_text.tokens)))\n",
    "spam_nouns_text.plot(10)\n",
    "plt.show()"
   ]
  },
  {
   "cell_type": "markdown",
   "id": "b3c89b3f-7822-48df-9b0a-3954e2e5ad73",
   "metadata": {},
   "source": [
    "#### 2-5. Similar words"
   ]
  },
  {
   "cell_type": "code",
   "execution_count": null,
   "id": "62f2a959-c759-4279-8163-73db4c830a4e",
   "metadata": {},
   "outputs": [],
   "source": [
    "# 어떤 단어(스팸, 주식...)의 유사 단어를 확인합니다.\n",
    "print(spam_morphs_text.similar('스팸'))\n",
    "print(spam_nouns_text.similar('스팸'))"
   ]
  },
  {
   "cell_type": "markdown",
   "id": "e1c93285-d5e3-4bdf-a4a5-e398cea6f4dd",
   "metadata": {},
   "source": [
    "#### 2-6. Vocabulary"
   ]
  },
  {
   "cell_type": "code",
   "execution_count": 12,
   "id": "ef3fce51-5392-4fd6-a323-c38cf764d4ea",
   "metadata": {},
   "outputs": [],
   "source": [
    "# 단어 사전을 확인합니다.\n",
    "from sklearn.feature_extraction.text import CountVectorizer\n",
    "\n",
    "cv = CountVectorizer()\n",
    "morphs_ft = cv.fit_transform(morphs)\n",
    "\n",
    "cv.vocabulary_ "
   ]
  },
  {
   "cell_type": "markdown",
   "id": "b3975500-c689-4293-809c-5a2855e7a034",
   "metadata": {},
   "source": [
    "#### 2-7. Collocation"
   ]
  },
  {
   "cell_type": "code",
   "execution_count": 13,
   "id": "bd75ca8b-97b8-44e8-90b7-3553fa50c231",
   "metadata": {},
   "outputs": [],
   "source": [
    "# 연어(collocation)들을 확인합니다.\n",
    "spam_morphs_text.collocations(window_size=5)\n",
    "print(\"*\"*50)\n",
    "spam_nouns_text.collocations(window_size=5)"
   ]
  },
  {
   "cell_type": "markdown",
   "id": "e0bd02be-c9bd-4a0a-a2cc-8a0c6bc90329",
   "metadata": {
    "tags": []
   },
   "source": [
    "#### 3. WordCloud"
   ]
  },
  {
   "cell_type": "markdown",
   "id": "8950139f-b41b-4c58-bc32-47fc3323df01",
   "metadata": {},
   "source": [
    "#### 3-1. Morphs vs Nouns"
   ]
  },
  {
   "cell_type": "code",
   "execution_count": 15,
   "id": "d0509661-628c-4cd9-abe5-094b8351d771",
   "metadata": {},
   "outputs": [],
   "source": [
    "# 형태소와 명사 추출 각각에 대해 wordcloud로 확인합니다.\n",
    "import matplotlib.font_manager as font_manager\n",
    "from wordcloud import WordCloud\n",
    "NGC_path = font_manager.findfont('NanumGothicCoding')\n",
    "#wc = WordCloud(font_path=NGC_path,max_font_size=40).generate(constitution)\n",
    "wc = WordCloud(font_path=NGC_path,max_font_size=40,background_color=\"white\", collocations=False).generate(' '.join(spam_morphs_text))\n",
    "plt.figure(figsize=(12,6))\n",
    "plt.imshow(wc)\n",
    "plt.axis(\"off\")\n",
    "plt.show()"
   ]
  },
  {
   "cell_type": "code",
   "execution_count": null,
   "id": "932e7944-d6f2-464e-9e07-bd0372d3fa53",
   "metadata": {},
   "outputs": [],
   "source": [
    "# 형태소와 명사 추출 각각에 대해 wordcloud로 확인합니다.\n",
    "import matplotlib.font_manager as font_manager\n",
    "from wordcloud import WordCloud\n",
    "NGC_path = font_manager.findfont('NanumGothicCoding')\n",
    "#wc = WordCloud(font_path=NGC_path,max_font_size=40).generate(constitution)\n",
    "wc = WordCloud(font_path=NGC_path,max_font_size=40,background_color=\"white\", collocations=False).generate(' '.join(spam_nouns_text))\n",
    "plt.figure(figsize=(12,6))\n",
    "plt.imshow(wc)\n",
    "plt.axis(\"off\")\n",
    "plt.show()"
   ]
  },
  {
   "cell_type": "markdown",
   "id": "b8371fb5-22d8-445c-82b4-0283d16cc0b6",
   "metadata": {},
   "source": [
    "#### 3-2. Ham vs Spam"
   ]
  },
  {
   "cell_type": "code",
   "execution_count": 16,
   "id": "d7267d3b-12c2-4c96-9cef-c71556816763",
   "metadata": {},
   "outputs": [],
   "source": [
    "# 명사 추출한 결과를 Ham과 Spam에 대해 wordcloud로 확인합니다.\n",
    "spam = ' '.join(data.loc[data.label == 'spam', 'text'])\n",
    "ham = ' '.join(data.loc[data.label == 'ham', 'text'])\n",
    "nouns_spam = mecab.nouns(spam)\n",
    "nouns_ham = mecab.nouns(ham)\n",
    "nltk_nouns_spam = nltk.Text(nouns_spam)\n",
    "nltk_nouns_ham = nltk.Text(nouns_ham)"
   ]
  },
  {
   "cell_type": "code",
   "execution_count": null,
   "id": "1b5ae719-c5c6-42f2-b828-d0fa6218d6f9",
   "metadata": {},
   "outputs": [],
   "source": [
    "# 명사 추출한 결과를 Ham과 Spam에 대해 wordcloud로 확인합니다.\n",
    "# spam\n",
    "import matplotlib.font_manager as font_manager\n",
    "from wordcloud import WordCloud\n",
    "NGC_path = font_manager.findfont('NanumGothicCoding')\n",
    "#wc = WordCloud(font_path=NGC_path,max_font_size=40).generate(constitution)\n",
    "wc = WordCloud(font_path=NGC_path,max_font_size=40,background_color=\"white\", collocations=False).generate(' '.join(nltk_nouns_spam))\n",
    "plt.figure(figsize=(12,6))\n",
    "plt.imshow(wc)\n",
    "plt.axis(\"off\")\n",
    "plt.show()"
   ]
  },
  {
   "cell_type": "code",
   "execution_count": null,
   "id": "8d2ac091-0e0c-4dc0-995e-15991fd2340a",
   "metadata": {},
   "outputs": [],
   "source": [
    "# 명사 추출한 결과를 Ham과 Spam에 대해 wordcloud로 확인합니다.\n",
    "# ham\n",
    "import matplotlib.font_manager as font_manager\n",
    "from wordcloud import WordCloud\n",
    "NGC_path = font_manager.findfont('NanumGothicCoding')\n",
    "#wc = WordCloud(font_path=NGC_path,max_font_size=40).generate(constitution)\n",
    "wc = WordCloud(font_path=NGC_path,max_font_size=40,background_color=\"white\", collocations=False).generate(' '.join(nltk_nouns_ham))\n",
    "plt.figure(figsize=(12,6))\n",
    "plt.imshow(wc)\n",
    "plt.axis(\"off\")\n",
    "plt.show()"
   ]
  },
  {
   "cell_type": "code",
   "execution_count": null,
   "id": "3b9f26fb-8c18-411f-9a64-fc137ba9c98c",
   "metadata": {},
   "outputs": [],
   "source": [
    "# 정상 문자에서 신고, 스팸이란 단어가 많이 나옴"
   ]
  }
 ],
 "metadata": {
  "kernelspec": {
   "display_name": "Python 3",
   "language": "python",
   "name": "python3"
  },
  "language_info": {
   "codemirror_mode": {
    "name": "ipython",
    "version": 3
   },
   "file_extension": ".py",
   "mimetype": "text/x-python",
   "name": "python",
   "nbconvert_exporter": "python",
   "pygments_lexer": "ipython3",
   "version": "3.8.8"
  }
 },
 "nbformat": 4,
 "nbformat_minor": 5
}
