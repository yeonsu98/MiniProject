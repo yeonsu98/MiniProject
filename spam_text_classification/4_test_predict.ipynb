{
 "cells": [
  {
   "cell_type": "code",
   "execution_count": null,
   "id": "4727fe74-a698-4403-89f7-40914a44a769",
   "metadata": {},
   "outputs": [],
   "source": [
    "import pandas as pd\n",
    "from konlpy.tag import Mecab\n",
    "from tensorflow.keras.preprocessing.text import Tokenizer"
   ]
  },
  {
   "cell_type": "code",
   "execution_count": null,
   "id": "f21a1686-5871-4b15-a995-84d2fd289c08",
   "metadata": {},
   "outputs": [],
   "source": [
    "# 형태소 추출\n",
    "spam_test['tokenized'] = spam_test.text.apply(mecab.morphs)"
   ]
  },
  {
   "cell_type": "code",
   "execution_count": null,
   "id": "57ab165e-3613-4f89-a21c-1adca71ccf64",
   "metadata": {},
   "outputs": [],
   "source": [
    "def join_arr(x):\n",
    "    return ' '.join(x)"
   ]
  },
  {
   "cell_type": "code",
   "execution_count": null,
   "id": "af7c5ba3-2e10-4297-9ad1-2a927a50f0ad",
   "metadata": {},
   "outputs": [],
   "source": [
    "spam_test.tokenized = spam_test.tokenized.apply(join_arr)"
   ]
  },
  {
   "cell_type": "code",
   "execution_count": null,
   "id": "69b8be36-35ad-4593-b902-63ef6f4af48e",
   "metadata": {},
   "outputs": [],
   "source": [
    "# 토큰화, 벡터화\n",
    "x_test = spam_test['tokenized'].values\n",
    "\n",
    "tokenizer = Tokenizer()\n",
    "x_test = tokenizer.texts_to_sequences(x_test)\n",
    "x_test = pad_sequences(x_test, maxlen=max_len)"
   ]
  },
  {
   "cell_type": "code",
   "execution_count": null,
   "id": "ff7af0f9-c6e8-475f-88e5-f178123cdd76",
   "metadata": {},
   "outputs": [],
   "source": [
    "# 모델 불러오기\n",
    "loaded_model = load_model('best_model.h5')"
   ]
  },
  {
   "cell_type": "code",
   "execution_count": null,
   "id": "a5ec7f58-40b5-46ee-9423-be6c630cbd6f",
   "metadata": {},
   "outputs": [],
   "source": [
    "# 테스트데이터 예측 후 결과값 매핑\n",
    "dl_predicted = loaded_model.predict(x_test)\n",
    "dl_predicted = [1 if x>0.5 else 0 for x in dl_predicted]"
   ]
  },
  {
   "cell_type": "code",
   "execution_count": null,
   "id": "9581763a-56c7-42e4-bc79-c421bdd94c73",
   "metadata": {},
   "outputs": [],
   "source": [
    "# 결과값 df로 저장\n",
    "submission = pd.DataFrame({'id' : spam_test.id, 'label' : dl_predicted1})"
   ]
  },
  {
   "cell_type": "code",
   "execution_count": null,
   "id": "33d86505-a952-474a-8ee6-701ed2356c02",
   "metadata": {},
   "outputs": [],
   "source": [
    "# label 텍스트로 변환\n",
    "submission.label = submission.label.map({1 : 'spam', 0 : 'ham'})"
   ]
  },
  {
   "cell_type": "code",
   "execution_count": null,
   "id": "0f0fc9d7-289d-4bb1-bbb9-d58c00f2e84d",
   "metadata": {},
   "outputs": [],
   "source": [
    "# 결과값 내보내기\n",
    "submission.to_csv(\"/aihub/data/submission.csv\",index=False)"
   ]
  },
  {
   "cell_type": "code",
   "execution_count": null,
   "id": "8719f668-95d9-42bf-9d4e-debf2db511ac",
   "metadata": {},
   "outputs": [],
   "source": []
  },
  {
   "cell_type": "code",
   "execution_count": null,
   "id": "e9b0034d-564f-4b72-8737-885b78e5b413",
   "metadata": {},
   "outputs": [],
   "source": []
  }
 ],
 "metadata": {
  "kernelspec": {
   "display_name": "Python 3",
   "language": "python",
   "name": "python3"
  },
  "language_info": {
   "codemirror_mode": {
    "name": "ipython",
    "version": 3
   },
   "file_extension": ".py",
   "mimetype": "text/x-python",
   "name": "python",
   "nbconvert_exporter": "python",
   "pygments_lexer": "ipython3",
   "version": "3.8.8"
  }
 },
 "nbformat": 4,
 "nbformat_minor": 5
}
