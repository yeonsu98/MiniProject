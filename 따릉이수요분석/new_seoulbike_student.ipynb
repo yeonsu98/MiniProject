{
 "cells": [
  {
   "cell_type": "markdown",
   "id": "ef575059",
   "metadata": {
    "id": "ef575059"
   },
   "source": [
    "---"
   ]
  },
  {
   "cell_type": "markdown",
   "id": "46fa690c",
   "metadata": {
    "id": "46fa690c"
   },
   "source": [
    "## [미니프로젝트] 서울시 공유자전거 '따릉이'의 수요 예측\n",
    "\n",
    "### 여러분은 서울시 정책 연구원으로써 서울시 공유자전거인 '따릉이'의 수요와 날씨간 연관성을 분석하라는 미션을 부여받았습니다.\n",
    "\n",
    "#### <font color=\"blue\"> 데이터 분석의 주 목적은 가치있는 정보를 찾아내는것!! </font>\n",
    "\n",
    "### ▣ 우리가 풀어야 하는 문제는 무엇인가요?\n",
    "\n",
    " - 기상상황이 따릉이 수요에 주는 영향을 분석해봅시다."
   ]
  },
  {
   "cell_type": "markdown",
   "id": "a30cd0cd",
   "metadata": {
    "id": "a30cd0cd"
   },
   "source": [
    "---"
   ]
  },
  {
   "cell_type": "markdown",
   "id": "revolutionary-farmer",
   "metadata": {
    "id": "revolutionary-farmer"
   },
   "source": [
    "## ▣ 데이터 소개\n",
    "[기본 데이터]\n",
    "* 학습데이터 : traindata.csv\n",
    "\n",
    "## ▣ 데이터셋의 변수 소개\n",
    "* date : 날짜\n",
    "* hour : 시간\n",
    "* temperature : 온도\n",
    "* precipitation : 강우 여부, 비가 오지 않았으면 0, 비가 오면 1\n",
    "* windspeed : 풍속(평균)\n",
    "* humidity : 습도\n",
    "* visibility : 시정(視程), 시계(視界)(특정 기상 상태에 따른 가시성을 의미)\n",
    "* ozone : 오존 수치\n",
    "* PM10 : 미세먼지 수치(머리카락 굵기의 1/5에서 1/7 크기의 미세먼지)\n",
    "* PM2.5 : 초미세먼지 수치(머리카락 굵기의 1/20에서 1/30 크기의 미세먼지)\n",
    "* count : 시간에 따른 따릉이 대여 수"
   ]
  },
  {
   "cell_type": "markdown",
   "id": "matched-broad",
   "metadata": {
    "id": "matched-broad"
   },
   "source": [
    "---"
   ]
  },
  {
   "cell_type": "markdown",
   "id": "warming-gentleman",
   "metadata": {
    "id": "warming-gentleman"
   },
   "source": [
    "### [과제1] 환경 설정\n",
    "#### <span style=\"color: green\"> 1) 라이브러리 불러오기 </span>"
   ]
  },
  {
   "cell_type": "code",
   "execution_count": 357,
   "id": "442dc4e3",
   "metadata": {},
   "outputs": [],
   "source": [
    "#EDA에 사용할 라이브러리를 import 하세요\n",
    "import pandas as pd\n",
    "import numpy as np\n",
    "import seaborn as sns\n",
    "import matplotlib.pyplot as plt\n",
    "\n",
    "plt.rc('font', family='Malgun Gothic')\n",
    "sns.set(font=\"Malgun Gothic\",#\"NanumGothicCoding\", \n",
    "        rc={\"axes.unicode_minus\":False},) # 마이너스 부호 깨짐 현상 해결)   "
   ]
  },
  {
   "cell_type": "markdown",
   "id": "vocational-animal",
   "metadata": {
    "id": "vocational-animal"
   },
   "source": [
    "#### <span style=\"color: green\"> 2) 활용할 데이터 불러오기 </span>"
   ]
  },
  {
   "cell_type": "code",
   "execution_count": 5,
   "id": "saving-slope",
   "metadata": {
    "executionInfo": {
     "elapsed": 305,
     "status": "ok",
     "timestamp": 1655797696108,
     "user": {
      "displayName": "Seonil Kwon",
      "userId": "10539738350691841262"
     },
     "user_tz": -540
    },
    "id": "saving-slope"
   },
   "outputs": [
    {
     "data": {
      "text/html": [
       "<div>\n",
       "<style scoped>\n",
       "    .dataframe tbody tr th:only-of-type {\n",
       "        vertical-align: middle;\n",
       "    }\n",
       "\n",
       "    .dataframe tbody tr th {\n",
       "        vertical-align: top;\n",
       "    }\n",
       "\n",
       "    .dataframe thead th {\n",
       "        text-align: right;\n",
       "    }\n",
       "</style>\n",
       "<table border=\"1\" class=\"dataframe\">\n",
       "  <thead>\n",
       "    <tr style=\"text-align: right;\">\n",
       "      <th></th>\n",
       "      <th>date</th>\n",
       "      <th>hour</th>\n",
       "      <th>PM10</th>\n",
       "      <th>PM2.5</th>\n",
       "      <th>ozone</th>\n",
       "      <th>temperature</th>\n",
       "      <th>precipitation</th>\n",
       "      <th>windspeed</th>\n",
       "      <th>humidity</th>\n",
       "      <th>visibility</th>\n",
       "      <th>count</th>\n",
       "    </tr>\n",
       "  </thead>\n",
       "  <tbody>\n",
       "    <tr>\n",
       "      <th>5822</th>\n",
       "      <td>2021-11-29</td>\n",
       "      <td>20</td>\n",
       "      <td>74.0</td>\n",
       "      <td>58.0</td>\n",
       "      <td>0.002</td>\n",
       "      <td>9.3</td>\n",
       "      <td>0</td>\n",
       "      <td>0.3</td>\n",
       "      <td>66</td>\n",
       "      <td>1193</td>\n",
       "      <td>273</td>\n",
       "    </tr>\n",
       "    <tr>\n",
       "      <th>5823</th>\n",
       "      <td>2021-11-29</td>\n",
       "      <td>21</td>\n",
       "      <td>65.0</td>\n",
       "      <td>56.0</td>\n",
       "      <td>0.002</td>\n",
       "      <td>8.4</td>\n",
       "      <td>0</td>\n",
       "      <td>2.0</td>\n",
       "      <td>70</td>\n",
       "      <td>1233</td>\n",
       "      <td>228</td>\n",
       "    </tr>\n",
       "    <tr>\n",
       "      <th>5824</th>\n",
       "      <td>2021-11-29</td>\n",
       "      <td>22</td>\n",
       "      <td>51.0</td>\n",
       "      <td>41.0</td>\n",
       "      <td>0.002</td>\n",
       "      <td>8.6</td>\n",
       "      <td>0</td>\n",
       "      <td>1.9</td>\n",
       "      <td>70</td>\n",
       "      <td>1250</td>\n",
       "      <td>215</td>\n",
       "    </tr>\n",
       "    <tr>\n",
       "      <th>5825</th>\n",
       "      <td>2021-11-29</td>\n",
       "      <td>23</td>\n",
       "      <td>43.0</td>\n",
       "      <td>35.0</td>\n",
       "      <td>0.001</td>\n",
       "      <td>8.2</td>\n",
       "      <td>0</td>\n",
       "      <td>2.1</td>\n",
       "      <td>71</td>\n",
       "      <td>1262</td>\n",
       "      <td>125</td>\n",
       "    </tr>\n",
       "    <tr>\n",
       "      <th>5826</th>\n",
       "      <td>2021-11-30</td>\n",
       "      <td>0</td>\n",
       "      <td>39.0</td>\n",
       "      <td>31.0</td>\n",
       "      <td>0.004</td>\n",
       "      <td>7.9</td>\n",
       "      <td>0</td>\n",
       "      <td>2.3</td>\n",
       "      <td>71</td>\n",
       "      <td>1483</td>\n",
       "      <td>95</td>\n",
       "    </tr>\n",
       "  </tbody>\n",
       "</table>\n",
       "</div>"
      ],
      "text/plain": [
       "            date  hour  PM10  PM2.5  ozone  temperature  precipitation  \\\n",
       "5822  2021-11-29    20  74.0   58.0  0.002          9.3              0   \n",
       "5823  2021-11-29    21  65.0   56.0  0.002          8.4              0   \n",
       "5824  2021-11-29    22  51.0   41.0  0.002          8.6              0   \n",
       "5825  2021-11-29    23  43.0   35.0  0.001          8.2              0   \n",
       "5826  2021-11-30     0  39.0   31.0  0.004          7.9              0   \n",
       "\n",
       "      windspeed  humidity  visibility  count  \n",
       "5822        0.3        66        1193    273  \n",
       "5823        2.0        70        1233    228  \n",
       "5824        1.9        70        1250    215  \n",
       "5825        2.1        71        1262    125  \n",
       "5826        2.3        71        1483     95  "
      ]
     },
     "execution_count": 5,
     "metadata": {},
     "output_type": "execute_result"
    }
   ],
   "source": [
    "#이번 프로젝트에서 분석할 데이터를 불러오세요\n",
    "data = pd.read_csv('traindata.csv')\n",
    "data.tail()"
   ]
  },
  {
   "cell_type": "markdown",
   "id": "575b2637",
   "metadata": {},
   "source": [
    "### [과제2] 가설설정\n",
    "#### '가설' 이란 단어를 생각해보면, 우리가 직접 가설을 만들어야 할것 같지만 통계에서 분석기법별 귀무가설/대립가설은 정해져있습니다.\n",
    "- 귀무가설은 차이가 없다, 연관성이 없다, 효과가 없다.\n",
    "- 대립가설은 차이가 있다, 연관성이 있다, 효과가 있다. 라고 간단하게 이해하시면 좋습니다.\n",
    "\n",
    "#### 간단한 예로, 온도와 따릉이 대여량간 가설을 수립 해본다면\n",
    "\n",
    "    - 귀무가설 : 온도와 따릉이 간에는 연관성이 없다.\n",
    "    - 대립가설 : 온도와 따릉이 간에는 연관성이 있다.\n",
    "\n",
    "로 가설이 자연스레 수립 됩니다.\n",
    "\n",
    "\n",
    "\n",
    "---\n",
    "\n",
    "\n",
    "#### <span style=\"color: green\"> 'precipitation' 변수를 포함하여, 최소 5개 이상의 Feature와 따릉이 대여량 간 가설을 수립해주세요. </span>\n",
    "\n",
    "##### Guide : Target은 따릉이 대여량 입니다."
   ]
  },
  {
   "cell_type": "markdown",
   "id": "3d1b7293",
   "metadata": {},
   "source": [
    "- 가설 1 : 1시간전 강우 여부와 따릉이 대여량 간에는 연관성이 있다.\n",
    "\n",
    "- 가설 2 : 출퇴근시간과 따릉이 대여량 간에는 연관성이 있다.\n",
    "\n",
    "- 가설 3 : 평균 기온대비 해당일의 기온과 따릉이 대여량은 연관성이 있다.\n",
    "\n",
    "- 가설 4 : 습도(적정습도)/가시성은 따릉이 대여량과 연관이 있다.\n",
    "\n",
    "- 가설 5 : 미세먼지 수치와 따릉이 대여량 간에는 연관성이 있다.\n",
    "\n",
    "- 가설 6 : 주말보다 평일에 따릉이 대여량이 더 높을 것이다."
   ]
  },
  {
   "cell_type": "markdown",
   "id": "68202f34",
   "metadata": {},
   "source": [
    "### [과제3] 단변량 분석\n",
    "\n",
    "단변량 분석은 데이터분석의 매우 기초적인 분석기법으로, 독립적인 개별 변수가 가지고있는 특성들을 이해하는 과정입니다.\n",
    "\n",
    "<span style=\"color: green\"> 개별 변수에 대해 아래 사항들을 분석해보세요. </span>\n",
    "\n",
    "1. 변수가 내포하고 있는 의미\n",
    "2. 변수가 수치형인지, 범주형인지\n",
    "3. 결측치 존재 여부 및 조치 방안\n",
    "4. 기초 통계량 확인\n",
    "5. 데이터 분포 확인\n",
    "6. 위 정보로부터 파악한 내용 정리\n",
    "7. 추가 분석사항 도출"
   ]
  },
  {
   "cell_type": "markdown",
   "id": "e3fe59cc",
   "metadata": {},
   "source": [
    "### Feature1 : hour"
   ]
  },
  {
   "cell_type": "code",
   "execution_count": 431,
   "id": "5d11df65-c0e9-4a1f-863b-65b7972a8874",
   "metadata": {},
   "outputs": [],
   "source": [
    "var = 'hour'"
   ]
  },
  {
   "cell_type": "markdown",
   "id": "74305cdf",
   "metadata": {},
   "source": [
    "1. 변수가 내포하고 있는 의미\n",
    "- 변수의 의미를 한번 짚고 넘어갑시다. 여러분이 생각하는 이 변수의 의미를 작성해보세요."
   ]
  },
  {
   "cell_type": "markdown",
   "id": "0b996707-4674-438a-afbe-acba8e206eb6",
   "metadata": {},
   "source": [
    "월별 시간대"
   ]
  },
  {
   "cell_type": "markdown",
   "id": "f5598656",
   "metadata": {},
   "source": [
    "2. 변수가 수치형인지 범주형인지\n"
   ]
  },
  {
   "cell_type": "code",
   "execution_count": 219,
   "id": "e32a046b",
   "metadata": {},
   "outputs": [],
   "source": [
    "#변수의 자료형을 확인해보세요."
   ]
  },
  {
   "cell_type": "code",
   "execution_count": 221,
   "id": "7424e9da-1fb4-4b03-bf22-cc00ba1c21b0",
   "metadata": {},
   "outputs": [
    {
     "data": {
      "text/plain": [
       "dtype('int64')"
      ]
     },
     "execution_count": 221,
     "metadata": {},
     "output_type": "execute_result"
    }
   ],
   "source": [
    "data[var].dtype"
   ]
  },
  {
   "cell_type": "markdown",
   "id": "4812a02e",
   "metadata": {},
   "source": [
    "숫자형"
   ]
  },
  {
   "cell_type": "code",
   "execution_count": 435,
   "id": "363ba934-a7af-4347-949a-aed013338aa1",
   "metadata": {},
   "outputs": [
    {
     "data": {
      "text/plain": [
       "array([ 1,  2,  3,  4,  5,  6,  7,  8,  9, 10, 11, 12, 13, 14, 15, 16, 17,\n",
       "       18, 19, 20, 21, 22, 23,  0], dtype=int64)"
      ]
     },
     "execution_count": 435,
     "metadata": {},
     "output_type": "execute_result"
    }
   ],
   "source": [
    "data[var].unique()"
   ]
  },
  {
   "cell_type": "markdown",
   "id": "52aeba21",
   "metadata": {},
   "source": [
    "3. 변수의 결측치unique 여부 및 조치방안"
   ]
  },
  {
   "cell_type": "code",
   "execution_count": 222,
   "id": "526c0c27",
   "metadata": {},
   "outputs": [],
   "source": [
    "#변수의 결측치 존재 여부를 확인하고, 만약 결측치가 존재하면 어떻게 처리할지 고민해보세요. "
   ]
  },
  {
   "cell_type": "code",
   "execution_count": 223,
   "id": "01fcaba3-499e-4731-9303-8d747ac580a6",
   "metadata": {},
   "outputs": [
    {
     "data": {
      "text/plain": [
       "0"
      ]
     },
     "execution_count": 223,
     "metadata": {},
     "output_type": "execute_result"
    }
   ],
   "source": [
    "data[var].isna().sum()"
   ]
  },
  {
   "cell_type": "markdown",
   "id": "2d9760fd",
   "metadata": {},
   "source": [
    "4. 변수의 기초 통계량 확인"
   ]
  },
  {
   "cell_type": "code",
   "execution_count": 224,
   "id": "3ba272ed",
   "metadata": {},
   "outputs": [],
   "source": [
    "#변수의 기초 통계량을 확인해보세요"
   ]
  },
  {
   "cell_type": "code",
   "execution_count": 225,
   "id": "c8593ae0-ac0e-4762-8a66-938efd577897",
   "metadata": {},
   "outputs": [
    {
     "data": {
      "text/plain": [
       "count    5827.000000\n",
       "mean       11.506607\n",
       "std         6.921963\n",
       "min         0.000000\n",
       "25%         6.000000\n",
       "50%        12.000000\n",
       "75%        18.000000\n",
       "max        23.000000\n",
       "Name: hour, dtype: float64"
      ]
     },
     "execution_count": 225,
     "metadata": {},
     "output_type": "execute_result"
    }
   ],
   "source": [
    "data[var].describe()"
   ]
  },
  {
   "cell_type": "code",
   "execution_count": null,
   "id": "e1de91e1-e964-4d69-9251-59ea4451956e",
   "metadata": {},
   "outputs": [],
   "source": [
    "# 0-23시로 분포되어있다."
   ]
  },
  {
   "cell_type": "markdown",
   "id": "4eb1b708",
   "metadata": {},
   "source": [
    "5. 변수의 분포 확인"
   ]
  },
  {
   "cell_type": "code",
   "execution_count": 226,
   "id": "8449daa6",
   "metadata": {},
   "outputs": [],
   "source": [
    "#변수의 분포를 시각화 라이브러리를 활용해 확인해보세요."
   ]
  },
  {
   "cell_type": "code",
   "execution_count": 229,
   "id": "a42dca5b-68fd-4ec7-92da-511608650279",
   "metadata": {},
   "outputs": [
    {
     "data": {
      "text/plain": [
       "<AxesSubplot:xlabel='hour', ylabel='Density'>"
      ]
     },
     "execution_count": 229,
     "metadata": {},
     "output_type": "execute_result"
    },
    {
     "data": {
      "image/png": "[encoded data removed]",
      "text/plain": [
       "<Figure size 432x288 with 1 Axes>"
      ]
     },
     "metadata": {
      "needs_background": "light"
     },
     "output_type": "display_data"
    }
   ],
   "source": [
    "sns.kdeplot(x=var, data=data)"
   ]
  },
  {
   "cell_type": "markdown",
   "id": "6efa8ae0",
   "metadata": {},
   "source": []
  },
  {
   "cell_type": "markdown",
   "id": "314284e2",
   "metadata": {},
   "source": [
    "6. 위 정보로 부터 파악한 내용 정리"
   ]
  },
  {
   "cell_type": "code",
   "execution_count": 266,
   "id": "55bb2a25",
   "metadata": {},
   "outputs": [],
   "source": [
    "#위 정보로부터 파악하신 내용을 정리해보세요."
   ]
  },
  {
   "cell_type": "markdown",
   "id": "a1cf88f9",
   "metadata": {},
   "source": [
    "참고) 적정 습도는 온도에 따라 달라지는데 15℃에서는 70%, 18~20℃에서는 60%, 21~23℃에서는 50%, 24℃ 이상일 때는 40% 정도"
   ]
  },
  {
   "cell_type": "markdown",
   "id": "5341f7c2",
   "metadata": {},
   "source": [
    "7. 추가 분석사항 도출"
   ]
  },
  {
   "cell_type": "code",
   "execution_count": 81,
   "id": "ebd1fd48",
   "metadata": {},
   "outputs": [],
   "source": [
    "#추가로 분석을 원하는 부분이 있다면 분석후 정리해보세요."
   ]
  },
  {
   "cell_type": "markdown",
   "id": "36924858",
   "metadata": {},
   "source": [
    "가시성이 평균보다 낮은 경우 평균 133건, 높은 경우 평균 238건으로 가시성이 평균 이상인 경우 대여량이 약 100건 더 높다."
   ]
  },
  {
   "cell_type": "markdown",
   "id": "a3ce1e2a",
   "metadata": {},
   "source": [
    "### Feature2 : temperature"
   ]
  },
  {
   "cell_type": "code",
   "execution_count": 230,
   "id": "16226eec-0aaf-4cd1-bdca-9fb62a4f382a",
   "metadata": {},
   "outputs": [],
   "source": [
    "var = 'temperature'"
   ]
  },
  {
   "cell_type": "markdown",
   "id": "65411003-7ce8-4108-9e75-3e5646a384be",
   "metadata": {},
   "source": [
    "1. 변수가 내포하고 있는 의미\n",
    "- 변수의 의미를 한번 짚고 넘어갑시다. 여러분이 생각하는 이 변수의 의미를 작성해보세요."
   ]
  },
  {
   "cell_type": "markdown",
   "id": "3fa4fcf9-253b-42f6-aa00-0e6e5ef9afb9",
   "metadata": {},
   "source": [
    "온도"
   ]
  },
  {
   "cell_type": "markdown",
   "id": "260df91e-a511-451a-bfab-cf0b795b73af",
   "metadata": {},
   "source": [
    "2. 변수가 수치형인지 범주형인지\n"
   ]
  },
  {
   "cell_type": "code",
   "execution_count": 219,
   "id": "81a1f6f8-db30-4906-b187-b934f7cd5ef7",
   "metadata": {},
   "outputs": [],
   "source": [
    "#변수의 자료형을 확인해보세요."
   ]
  },
  {
   "cell_type": "code",
   "execution_count": 231,
   "id": "0e485bee-de04-42ef-8069-c29481edb367",
   "metadata": {},
   "outputs": [
    {
     "data": {
      "text/plain": [
       "dtype('float64')"
      ]
     },
     "execution_count": 231,
     "metadata": {},
     "output_type": "execute_result"
    }
   ],
   "source": [
    "data[var].dtype"
   ]
  },
  {
   "cell_type": "markdown",
   "id": "82fe6bf3-5c7a-4113-a0f2-563e65c3ab16",
   "metadata": {},
   "source": [
    "숫자형"
   ]
  },
  {
   "cell_type": "markdown",
   "id": "0320905b-a7a9-4e66-8c85-469fff21fa96",
   "metadata": {},
   "source": [
    "3. 변수의 결측치 존재 여부 및 조치방안"
   ]
  },
  {
   "cell_type": "code",
   "execution_count": 222,
   "id": "74c7c792-da18-4d4e-97a7-e31d1fe5d7e8",
   "metadata": {},
   "outputs": [],
   "source": [
    "#변수의 결측치 존재 여부를 확인하고, 만약 결측치가 존재하면 어떻게 처리할지 고민해보세요. "
   ]
  },
  {
   "cell_type": "code",
   "execution_count": 232,
   "id": "12bf4c70-9da7-4d03-9ca3-592b98201c11",
   "metadata": {},
   "outputs": [
    {
     "data": {
      "text/plain": [
       "0"
      ]
     },
     "execution_count": 232,
     "metadata": {},
     "output_type": "execute_result"
    }
   ],
   "source": [
    "data[var].isna().sum()"
   ]
  },
  {
   "cell_type": "markdown",
   "id": "acdcc09d-72a5-4029-ad64-4ce30e90ddb2",
   "metadata": {},
   "source": [
    "4. 변수의 기초 통계량 확인"
   ]
  },
  {
   "cell_type": "code",
   "execution_count": 224,
   "id": "0125df4e-75d7-4715-b448-4ecef5a46bc3",
   "metadata": {},
   "outputs": [],
   "source": [
    "#변수의 기초 통계량을 확인해보세요"
   ]
  },
  {
   "cell_type": "code",
   "execution_count": 233,
   "id": "d8fa3f8d-4f42-4c10-9eb5-6240cc3d3c2d",
   "metadata": {},
   "outputs": [
    {
     "data": {
      "text/plain": [
       "count    5827.000000\n",
       "mean       19.376798\n",
       "std         7.501572\n",
       "min        -3.500000\n",
       "25%        14.100000\n",
       "50%        20.400000\n",
       "75%        24.900000\n",
       "max        36.300000\n",
       "Name: temperature, dtype: float64"
      ]
     },
     "execution_count": 233,
     "metadata": {},
     "output_type": "execute_result"
    }
   ],
   "source": [
    "data[var].describe()"
   ]
  },
  {
   "cell_type": "code",
   "execution_count": null,
   "id": "03773055-bd18-4a5c-b2f7-05b5cd0ff18c",
   "metadata": {},
   "outputs": [],
   "source": [
    "# 4월부터 11월까지 봄~겨울까지 분포"
   ]
  },
  {
   "cell_type": "markdown",
   "id": "fabe63ce-2432-41a1-9f8a-afbf8335674f",
   "metadata": {},
   "source": [
    "5. 변수의 분포 확인"
   ]
  },
  {
   "cell_type": "code",
   "execution_count": 226,
   "id": "34e04d3e-5a16-4d20-be4f-44cdffe1fab3",
   "metadata": {},
   "outputs": [],
   "source": [
    "#변수의 분포를 시각화 라이브러리를 활용해 확인해보세요."
   ]
  },
  {
   "cell_type": "code",
   "execution_count": 234,
   "id": "c689d03c-3604-468e-93c1-2793c03730f9",
   "metadata": {},
   "outputs": [
    {
     "data": {
      "text/plain": [
       "<AxesSubplot:xlabel='temperature', ylabel='Density'>"
      ]
     },
     "execution_count": 234,
     "metadata": {},
     "output_type": "execute_result"
    },
    {
     "data": {
      "image/png": "[encoded data removed]",
      "text/plain": [
       "<Figure size 432x288 with 1 Axes>"
      ]
     },
     "metadata": {
      "needs_background": "light"
     },
     "output_type": "display_data"
    }
   ],
   "source": [
    "sns.kdeplot(x=var, data=data)"
   ]
  },
  {
   "cell_type": "markdown",
   "id": "cf858767",
   "metadata": {},
   "source": [
    "6. 위 정보로 부터 파악한 내용 정리"
   ]
  },
  {
   "cell_type": "code",
   "execution_count": 266,
   "id": "c46e1454",
   "metadata": {},
   "outputs": [],
   "source": [
    "#위 정보로부터 파악하신 내용을 정리해보세요."
   ]
  },
  {
   "cell_type": "code",
   "execution_count": null,
   "id": "7703bf4f-065f-4e33-bcb0-7c74db0f94b8",
   "metadata": {},
   "outputs": [],
   "source": [
    "# 4월부터 11월까지 봄~겨울까지 분포"
   ]
  },
  {
   "cell_type": "markdown",
   "id": "7406d680",
   "metadata": {},
   "source": [
    "참고) 적정 습도는 온도에 따라 달라지는데 15℃에서는 70%, 18~20℃에서는 60%, 21~23℃에서는 50%, 24℃ 이상일 때는 40% 정도"
   ]
  },
  {
   "cell_type": "markdown",
   "id": "89b7ea15",
   "metadata": {},
   "source": [
    "7. 추가 분석사항 도출"
   ]
  },
  {
   "cell_type": "code",
   "execution_count": 81,
   "id": "e13217e2",
   "metadata": {},
   "outputs": [],
   "source": [
    "#추가로 분석을 원하는 부분이 있다면 분석후 정리해보세요."
   ]
  },
  {
   "cell_type": "markdown",
   "id": "05d5d889",
   "metadata": {},
   "source": [
    "가시성이 평균보다 낮은 경우 평균 133건, 높은 경우 평균 238건으로 가시성이 평균 이상인 경우 대여량이 약 100건 더 높다."
   ]
  },
  {
   "cell_type": "markdown",
   "id": "d28e0cb7",
   "metadata": {},
   "source": [
    "### Feature3 : precipitation"
   ]
  },
  {
   "cell_type": "code",
   "execution_count": 235,
   "id": "3c16ba77-a0c1-4809-ae6b-a24f00ddc605",
   "metadata": {},
   "outputs": [],
   "source": [
    "var = 'precipitation'"
   ]
  },
  {
   "cell_type": "markdown",
   "id": "7b1d552a-0d2a-441d-ba7b-63a965efb4d2",
   "metadata": {},
   "source": [
    "1. 변수가 내포하고 있는 의미\n",
    "- 변수의 의미를 한번 짚고 넘어갑시다. 여러분이 생각하는 이 변수의 의미를 작성해보세요."
   ]
  },
  {
   "cell_type": "markdown",
   "id": "b7c11741-860c-4d65-a4e8-9d4324e7b411",
   "metadata": {},
   "source": [
    "강수 여부(0, 1)"
   ]
  },
  {
   "cell_type": "markdown",
   "id": "98c03d4a-7fa4-439a-a83f-08ada851ccfc",
   "metadata": {},
   "source": [
    "2. 변수가 수치형인지 범주형인지\n"
   ]
  },
  {
   "cell_type": "code",
   "execution_count": 219,
   "id": "68f093bc-99d1-4f96-8038-1bb4603adad5",
   "metadata": {},
   "outputs": [],
   "source": [
    "#변수의 자료형을 확인해보세요."
   ]
  },
  {
   "cell_type": "code",
   "execution_count": 236,
   "id": "347842b5-c67f-4519-ac5d-78dbb67d7d15",
   "metadata": {},
   "outputs": [
    {
     "data": {
      "text/plain": [
       "dtype('int64')"
      ]
     },
     "execution_count": 236,
     "metadata": {},
     "output_type": "execute_result"
    }
   ],
   "source": [
    "data[var].dtype"
   ]
  },
  {
   "cell_type": "markdown",
   "id": "d32b10de-21d0-442e-8fac-c4e237e86b29",
   "metadata": {},
   "source": [
    "범주형"
   ]
  },
  {
   "cell_type": "markdown",
   "id": "b5b7d68b-1ed7-46d3-9590-291114ca5efe",
   "metadata": {},
   "source": [
    "3. 변수의 결측치 존재 여부 및 조치방안"
   ]
  },
  {
   "cell_type": "code",
   "execution_count": 222,
   "id": "8be2ca51-0694-4377-abd3-82d38f541b1d",
   "metadata": {},
   "outputs": [],
   "source": [
    "#변수의 결측치 존재 여부를 확인하고, 만약 결측치가 존재하면 어떻게 처리할지 고민해보세요. "
   ]
  },
  {
   "cell_type": "code",
   "execution_count": 237,
   "id": "e097de41-b77d-420a-bdf3-bdd6f25a4af3",
   "metadata": {},
   "outputs": [
    {
     "data": {
      "text/plain": [
       "0"
      ]
     },
     "execution_count": 237,
     "metadata": {},
     "output_type": "execute_result"
    }
   ],
   "source": [
    "data[var].isna().sum()"
   ]
  },
  {
   "cell_type": "markdown",
   "id": "68573f12-fc9d-496b-ad22-36a4a07c18c8",
   "metadata": {},
   "source": [
    "4. 변수의 기초 통계량 확인"
   ]
  },
  {
   "cell_type": "code",
   "execution_count": 224,
   "id": "6c6a2c04-42be-4702-883c-304758b57b50",
   "metadata": {},
   "outputs": [],
   "source": [
    "#변수의 기초 통계량을 확인해보세요"
   ]
  },
  {
   "cell_type": "code",
   "execution_count": 238,
   "id": "8c749485-ed8a-42f6-8b6a-ebaf5fae1d0c",
   "metadata": {},
   "outputs": [
    {
     "data": {
      "text/plain": [
       "count    5827.000000\n",
       "mean        0.075511\n",
       "std         0.264236\n",
       "min         0.000000\n",
       "25%         0.000000\n",
       "50%         0.000000\n",
       "75%         0.000000\n",
       "max         1.000000\n",
       "Name: precipitation, dtype: float64"
      ]
     },
     "execution_count": 238,
     "metadata": {},
     "output_type": "execute_result"
    }
   ],
   "source": [
    "data[var].describe()"
   ]
  },
  {
   "cell_type": "code",
   "execution_count": null,
   "id": "98044d98-3483-4479-bef9-0fc820e07704",
   "metadata": {},
   "outputs": [],
   "source": [
    "# 강수가 있으면 0 없으면 1"
   ]
  },
  {
   "cell_type": "markdown",
   "id": "0fceaf7d-7a84-48d7-9c50-3aca253a48f8",
   "metadata": {},
   "source": [
    "5. 변수의 분포 확인"
   ]
  },
  {
   "cell_type": "code",
   "execution_count": 226,
   "id": "feead75d-c92f-4edd-9a70-37eed0703c7f",
   "metadata": {},
   "outputs": [],
   "source": [
    "#변수의 분포를 시각화 라이브러리를 활용해 확인해보세요."
   ]
  },
  {
   "cell_type": "code",
   "execution_count": 241,
   "id": "bc868cf7-636c-4d19-8647-8be0d12b8f88",
   "metadata": {},
   "outputs": [
    {
     "data": {
      "text/plain": [
       "<AxesSubplot:xlabel='precipitation', ylabel='count'>"
      ]
     },
     "execution_count": 241,
     "metadata": {},
     "output_type": "execute_result"
    },
    {
     "data": {
      "image/png": "[encoded data removed]",
      "text/plain": [
       "<Figure size 432x288 with 1 Axes>"
      ]
     },
     "metadata": {
      "needs_background": "light"
     },
     "output_type": "display_data"
    }
   ],
   "source": [
    "sns.countplot(x=var, data=data)"
   ]
  },
  {
   "cell_type": "code",
   "execution_count": 244,
   "id": "21e4cb4c-95b6-4f21-a48f-1818f4858870",
   "metadata": {},
   "outputs": [
    {
     "name": "stdout",
     "output_type": "stream",
     "text": [
      "Int64Index([0, 1], dtype='int64')\n",
      "[5387  440]\n"
     ]
    }
   ],
   "source": [
    "cnt = data[var].value_counts()\n",
    "print(cnt.index)\n",
    "print(cnt.values)"
   ]
  },
  {
   "cell_type": "markdown",
   "id": "c2acadab",
   "metadata": {},
   "source": [
    "6. 위 정보로 부터 파악한 내용 정리"
   ]
  },
  {
   "cell_type": "code",
   "execution_count": 266,
   "id": "55bb2a25",
   "metadata": {},
   "outputs": [],
   "source": [
    "#위 정보로부터 파악하신 내용을 정리해보세요."
   ]
  },
  {
   "cell_type": "markdown",
   "id": "5341f7c2",
   "metadata": {},
   "source": [
    "7. 추가 분석사항 도출"
   ]
  },
  {
   "cell_type": "code",
   "execution_count": 81,
   "id": "ebd1fd48",
   "metadata": {},
   "outputs": [],
   "source": [
    "#추가로 분석을 원하는 부분이 있다면 분석후 정리해보세요."
   ]
  },
  {
   "cell_type": "markdown",
   "id": "c559e931",
   "metadata": {},
   "source": [
    "PM2.5"
   ]
  },
  {
   "cell_type": "code",
   "execution_count": 285,
   "id": "10b1d6bc-29d9-44db-82ee-7405666ba3fe",
   "metadata": {},
   "outputs": [],
   "source": [
    "var = 'PM2.5'"
   ]
  },
  {
   "cell_type": "markdown",
   "id": "e14a75b3-61c6-4810-a474-34626edfb4bb",
   "metadata": {},
   "source": [
    "1. 변수가 내포하고 있는 의미\n",
    "- 변수의 의미를 한번 짚고 넘어갑시다. 여러분이 생각하는 이 변수의 의미를 작성해보세요."
   ]
  },
  {
   "cell_type": "markdown",
   "id": "9f6b780f-c859-427f-b2ce-6ffc9bbc0269",
   "metadata": {},
   "source": [
    "초미세먼지 농도"
   ]
  },
  {
   "cell_type": "markdown",
   "id": "9500eeb7-1e4f-4d1b-9c3e-c803c62e8f42",
   "metadata": {},
   "source": [
    "2. 변수가 수치형인지 범주형인지\n"
   ]
  },
  {
   "cell_type": "code",
   "execution_count": 219,
   "id": "b555e131-077c-499e-9ca8-d866723ffc4a",
   "metadata": {},
   "outputs": [],
   "source": [
    "#변수의 자료형을 확인해보세요."
   ]
  },
  {
   "cell_type": "code",
   "execution_count": 246,
   "id": "d8c79559-1951-4b4d-9383-5de1af0654f3",
   "metadata": {},
   "outputs": [
    {
     "data": {
      "text/plain": [
       "dtype('float64')"
      ]
     },
     "execution_count": 246,
     "metadata": {},
     "output_type": "execute_result"
    }
   ],
   "source": [
    "data[var].dtype"
   ]
  },
  {
   "cell_type": "markdown",
   "id": "e19f4b5d-8461-43e4-a157-1311534bfd48",
   "metadata": {},
   "source": [
    "숫자형"
   ]
  },
  {
   "cell_type": "markdown",
   "id": "61bfb580-09cb-45f4-b812-acfedfbf8349",
   "metadata": {},
   "source": [
    "3. 변수의 결측치 존재 여부 및 조치방안"
   ]
  },
  {
   "cell_type": "code",
   "execution_count": 222,
   "id": "4ee719ed-0546-4dfe-ae15-0bd5163249ab",
   "metadata": {},
   "outputs": [],
   "source": [
    "#변수의 결측치 존재 여부를 확인하고, 만약 결측치가 존재하면 어떻게 처리할지 고민해보세요. "
   ]
  },
  {
   "cell_type": "code",
   "execution_count": 247,
   "id": "02df4439-29f3-4d8f-ad82-7e631df8aea6",
   "metadata": {},
   "outputs": [
    {
     "data": {
      "text/plain": [
       "95"
      ]
     },
     "execution_count": 247,
     "metadata": {},
     "output_type": "execute_result"
    }
   ],
   "source": [
    "data[var].isna().sum()"
   ]
  },
  {
   "cell_type": "code",
   "execution_count": 300,
   "id": "67307ec4-f48c-4b0b-a6c9-caf0116f5029",
   "metadata": {},
   "outputs": [
    {
     "name": "stdout",
     "output_type": "stream",
     "text": [
      "31.970655021834062 31.853784108460616\n"
     ]
    }
   ],
   "source": [
    "# 뒤값의 데이터로 채우기\n",
    "data_na = data.fillna(method='bfill')\n",
    "print(data[var].mean(), data_na[var].mean()) # 차이가 거의 안남"
   ]
  },
  {
   "cell_type": "code",
   "execution_count": 301,
   "id": "33ce5485-e6ba-44e3-b2cb-401fbf32f988",
   "metadata": {},
   "outputs": [],
   "source": [
    "data = data.fillna(method='bfill')"
   ]
  },
  {
   "cell_type": "markdown",
   "id": "ff5892b9-8333-4139-8ed5-3dd8e861c13f",
   "metadata": {},
   "source": [
    "4. 변수의 기초 통계량 확인"
   ]
  },
  {
   "cell_type": "code",
   "execution_count": 224,
   "id": "2688721f-2bf5-440f-8b80-57a169d27688",
   "metadata": {},
   "outputs": [],
   "source": [
    "#변수의 기초 통계량을 확인해보세요"
   ]
  },
  {
   "cell_type": "code",
   "execution_count": 248,
   "id": "5890e059-1558-4b75-ad93-639af626adb2",
   "metadata": {},
   "outputs": [
    {
     "data": {
      "text/plain": [
       "count    5732.000000\n",
       "mean       15.666609\n",
       "std        13.850990\n",
       "min         1.000000\n",
       "25%         7.000000\n",
       "50%        13.000000\n",
       "75%        20.000000\n",
       "max       125.000000\n",
       "Name: PM2.5, dtype: float64"
      ]
     },
     "execution_count": 248,
     "metadata": {},
     "output_type": "execute_result"
    }
   ],
   "source": [
    "data[var].describe()"
   ]
  },
  {
   "cell_type": "code",
   "execution_count": null,
   "id": "56322871-d44a-4212-a2ae-93bf5e462d02",
   "metadata": {},
   "outputs": [],
   "source": [
    "# 평균 15, 최소 1, 최대 125"
   ]
  },
  {
   "cell_type": "markdown",
   "id": "20fd9184-5d6a-478e-b29b-57f294905abd",
   "metadata": {},
   "source": [
    "5. 변수의 분포 확인"
   ]
  },
  {
   "cell_type": "code",
   "execution_count": 226,
   "id": "9f18d5b8-abe9-4ca9-b2a8-0ad5e56fc403",
   "metadata": {},
   "outputs": [],
   "source": [
    "#변수의 분포를 시각화 라이브러리를 활용해 확인해보세요."
   ]
  },
  {
   "cell_type": "code",
   "execution_count": 250,
   "id": "54fcdd4e-d9da-4fec-8b63-dc9444ce843a",
   "metadata": {},
   "outputs": [
    {
     "data": {
      "text/plain": [
       "<AxesSubplot:xlabel='PM2.5', ylabel='Density'>"
      ]
     },
     "execution_count": 250,
     "metadata": {},
     "output_type": "execute_result"
    },
    {
     "data": {
      "image/png": "[encoded data removed]",
      "text/plain": [
       "<Figure size 432x288 with 1 Axes>"
      ]
     },
     "metadata": {
      "needs_background": "light"
     },
     "output_type": "display_data"
    }
   ],
   "source": [
    "sns.kdeplot(x=var, data=data)"
   ]
  },
  {
   "cell_type": "markdown",
   "id": "314284e2",
   "metadata": {},
   "source": [
    "6. 위 정보로 부터 파악한 내용 정리"
   ]
  },
  {
   "cell_type": "code",
   "execution_count": 266,
   "id": "55bb2a25",
   "metadata": {},
   "outputs": [],
   "source": [
    "#위 정보로부터 파악하신 내용을 정리해보세요."
   ]
  },
  {
   "cell_type": "markdown",
   "id": "5341f7c2",
   "metadata": {},
   "source": [
    "7. 추가 분석사항 도출"
   ]
  },
  {
   "cell_type": "code",
   "execution_count": 81,
   "id": "ebd1fd48",
   "metadata": {},
   "outputs": [],
   "source": [
    "#추가로 분석을 원하는 부분이 있다면 분석후 정리해보세요."
   ]
  },
  {
   "cell_type": "markdown",
   "id": "2d57279a-62ed-4282-99f1-d157e6a26468",
   "metadata": {
    "tags": []
   },
   "source": [
    "### Feature5 : PM10"
   ]
  },
  {
   "cell_type": "code",
   "execution_count": 303,
   "id": "156204a2-5bdf-4558-b1c6-4f2c69f84c62",
   "metadata": {},
   "outputs": [],
   "source": [
    "var = 'PM10'"
   ]
  },
  {
   "cell_type": "markdown",
   "id": "559857b8-8fbe-40bb-90d6-742da8e07188",
   "metadata": {},
   "source": [
    "1. 변수가 내포하고 있는 의미\n",
    "- 변수의 의미를 한번 짚고 넘어갑시다. 여러분이 생각하는 이 변수의 의미를 작성해보세요."
   ]
  },
  {
   "cell_type": "markdown",
   "id": "18a0b643-21ab-4971-a01a-1f7ef0c1526a",
   "metadata": {},
   "source": [
    "미세먼지 농도"
   ]
  },
  {
   "cell_type": "markdown",
   "id": "76d18c5c-1494-44e9-a0e0-0e6dd69d19a8",
   "metadata": {},
   "source": [
    "2. 변수가 수치형인지 범주형인지\n"
   ]
  },
  {
   "cell_type": "code",
   "execution_count": 219,
   "id": "17b48b6f-28a4-4754-999a-5e15ec0ce86b",
   "metadata": {},
   "outputs": [],
   "source": [
    "#변수의 자료형을 확인해보세요."
   ]
  },
  {
   "cell_type": "code",
   "execution_count": 252,
   "id": "046b19c5-104e-47fb-95c0-677ea8d112c2",
   "metadata": {},
   "outputs": [
    {
     "data": {
      "text/plain": [
       "dtype('float64')"
      ]
     },
     "execution_count": 252,
     "metadata": {},
     "output_type": "execute_result"
    }
   ],
   "source": [
    "data[var].dtype"
   ]
  },
  {
   "cell_type": "markdown",
   "id": "af10f22f-e501-42c0-941d-5446d0d1a8a0",
   "metadata": {},
   "source": [
    "숫자형"
   ]
  },
  {
   "cell_type": "markdown",
   "id": "9cffd169-8022-442d-9288-53f3ffd82bd4",
   "metadata": {},
   "source": [
    "3. 변수의 결측치 존재 여부 및 조치방안"
   ]
  },
  {
   "cell_type": "code",
   "execution_count": 222,
   "id": "d11ffa09-3ff5-4fbb-bc48-df26759283ba",
   "metadata": {},
   "outputs": [],
   "source": [
    "#변수의 결측치 존재 여부를 확인하고, 만약 결측치가 존재하면 어떻게 처리할지 고민해보세요. "
   ]
  },
  {
   "cell_type": "code",
   "execution_count": 302,
   "id": "af0a8cd8-5daf-495c-804f-2e7d30fdae8b",
   "metadata": {},
   "outputs": [
    {
     "data": {
      "text/plain": [
       "0"
      ]
     },
     "execution_count": 302,
     "metadata": {},
     "output_type": "execute_result"
    }
   ],
   "source": [
    "data[var].isna().sum()"
   ]
  },
  {
   "cell_type": "code",
   "execution_count": 297,
   "id": "dca2cb25-8e12-49ae-9296-65f8987c0bae",
   "metadata": {},
   "outputs": [
    {
     "name": "stdout",
     "output_type": "stream",
     "text": [
      "31.970655021834062 31.853784108460616\n"
     ]
    }
   ],
   "source": [
    "print(data[var].mean(), data_na[var].mean())"
   ]
  },
  {
   "cell_type": "markdown",
   "id": "a7a20408-6402-400c-abb6-47a1f8805c5c",
   "metadata": {},
   "source": [
    "4. 변수의 기초 통계량 확인"
   ]
  },
  {
   "cell_type": "code",
   "execution_count": 224,
   "id": "f53532a0-f5ef-4d55-8ee0-4ffff6d80cdb",
   "metadata": {},
   "outputs": [],
   "source": [
    "#변수의 기초 통계량을 확인해보세요"
   ]
  },
  {
   "cell_type": "code",
   "execution_count": 254,
   "id": "2a37c4ad-204f-4c0c-b6e3-e5371423f1bc",
   "metadata": {},
   "outputs": [
    {
     "data": {
      "text/plain": [
       "count    5725.000000\n",
       "mean       31.970655\n",
       "std        42.987292\n",
       "min         3.000000\n",
       "25%        16.000000\n",
       "50%        25.000000\n",
       "75%        37.000000\n",
       "max       827.000000\n",
       "Name: PM10, dtype: float64"
      ]
     },
     "execution_count": 254,
     "metadata": {},
     "output_type": "execute_result"
    }
   ],
   "source": [
    "data[var].describe()"
   ]
  },
  {
   "cell_type": "code",
   "execution_count": null,
   "id": "9ffeb107-e361-4d39-8b3f-cd226fa71118",
   "metadata": {},
   "outputs": [],
   "source": [
    "# 평균 31, 최소 3, 최대 827"
   ]
  },
  {
   "cell_type": "markdown",
   "id": "860a02c7-2164-4c3a-809a-d5d3c1880dae",
   "metadata": {},
   "source": [
    "5. 변수의 분포 확인"
   ]
  },
  {
   "cell_type": "code",
   "execution_count": 226,
   "id": "4e371c28-93b1-419d-b3f3-fe9df9582333",
   "metadata": {},
   "outputs": [],
   "source": [
    "#변수의 분포를 시각화 라이브러리를 활용해 확인해보세요."
   ]
  },
  {
   "cell_type": "code",
   "execution_count": 255,
   "id": "53367049-e4d8-4b4a-85ce-a2ac8651bfdf",
   "metadata": {},
   "outputs": [
    {
     "data": {
      "text/plain": [
       "<AxesSubplot:xlabel='PM10', ylabel='Density'>"
      ]
     },
     "execution_count": 255,
     "metadata": {},
     "output_type": "execute_result"
    },
    {
     "data": {
      "image/png": "[encoded data removed]",
      "text/plain": [
       "<Figure size 432x288 with 1 Axes>"
      ]
     },
     "metadata": {
      "needs_background": "light"
     },
     "output_type": "display_data"
    }
   ],
   "source": [
    "sns.kdeplot(x=var, data=data)"
   ]
  },
  {
   "cell_type": "markdown",
   "id": "314284e2",
   "metadata": {},
   "source": [
    "6. 위 정보로 부터 파악한 내용 정리"
   ]
  },
  {
   "cell_type": "code",
   "execution_count": 266,
   "id": "55bb2a25",
   "metadata": {},
   "outputs": [],
   "source": [
    "#위 정보로부터 파악하신 내용을 정리해보세요."
   ]
  },
  {
   "cell_type": "code",
   "execution_count": null,
   "id": "35590707-317b-4e98-b31f-ebf7b4b0008b",
   "metadata": {},
   "outputs": [],
   "source": [
    "# 평균 31, 최소 3, 최대 827"
   ]
  },
  {
   "cell_type": "markdown",
   "id": "5341f7c2",
   "metadata": {},
   "source": [
    "7. 추가 분석사항 도출"
   ]
  },
  {
   "cell_type": "code",
   "execution_count": 81,
   "id": "ebd1fd48",
   "metadata": {},
   "outputs": [],
   "source": [
    "#추가로 분석을 원하는 부분이 있다면 분석후 정리해보세요."
   ]
  },
  {
   "cell_type": "markdown",
   "id": "a13b42d9-7208-444b-b614-245012a11196",
   "metadata": {},
   "source": [
    "### Feature6 : windspeed"
   ]
  },
  {
   "cell_type": "code",
   "execution_count": 256,
   "id": "b90b674d-2f37-48eb-ac4c-4be7638ae7b7",
   "metadata": {},
   "outputs": [],
   "source": [
    "var = 'windspeed'"
   ]
  },
  {
   "cell_type": "markdown",
   "id": "876c60d6-ace4-40e7-a854-ce83df6e4f2e",
   "metadata": {},
   "source": [
    "1. 변수가 내포하고 있는 의미\n",
    "- 변수의 의미를 한번 짚고 넘어갑시다. 여러분이 생각하는 이 변수의 의미를 작성해보세요."
   ]
  },
  {
   "cell_type": "markdown",
   "id": "45c3ee95-cd79-4595-a843-a115305432af",
   "metadata": {},
   "source": [
    "풍속"
   ]
  },
  {
   "cell_type": "markdown",
   "id": "5a61f217-ae2b-473f-b357-7eb6cdeb07f6",
   "metadata": {},
   "source": [
    "2. 변수가 수치형인지 범주형인지\n"
   ]
  },
  {
   "cell_type": "code",
   "execution_count": 219,
   "id": "2adf18db-9e55-4251-bf88-13eecb41bf9c",
   "metadata": {},
   "outputs": [],
   "source": [
    "#변수의 자료형을 확인해보세요."
   ]
  },
  {
   "cell_type": "code",
   "execution_count": 257,
   "id": "7d79cf25-ac71-4923-a693-e1e8ad1e2d49",
   "metadata": {},
   "outputs": [
    {
     "data": {
      "text/plain": [
       "dtype('float64')"
      ]
     },
     "execution_count": 257,
     "metadata": {},
     "output_type": "execute_result"
    }
   ],
   "source": [
    "data[var].dtype"
   ]
  },
  {
   "cell_type": "markdown",
   "id": "726b8a9b-7ed6-4259-873f-288bbbad4b72",
   "metadata": {},
   "source": [
    "숫자형"
   ]
  },
  {
   "cell_type": "markdown",
   "id": "7ade29e5-ea2b-4293-ab5c-15ec17fe8f73",
   "metadata": {},
   "source": [
    "3. 변수의 결측치 존재 여부 및 조치방안"
   ]
  },
  {
   "cell_type": "code",
   "execution_count": 222,
   "id": "d6ea43db-2996-408a-b6be-a637bc562e66",
   "metadata": {},
   "outputs": [],
   "source": [
    "#변수의 결측치 존재 여부를 확인하고, 만약 결측치가 존재하면 어떻게 처리할지 고민해보세요. "
   ]
  },
  {
   "cell_type": "code",
   "execution_count": 258,
   "id": "c6ea7579-fdd2-477a-815d-0d2481a9a0e1",
   "metadata": {},
   "outputs": [
    {
     "data": {
      "text/plain": [
       "0"
      ]
     },
     "execution_count": 258,
     "metadata": {},
     "output_type": "execute_result"
    }
   ],
   "source": [
    "data[var].isna().sum()"
   ]
  },
  {
   "cell_type": "markdown",
   "id": "0ee946d3-c609-4ea2-9300-80bdbcc329f1",
   "metadata": {},
   "source": [
    "4. 변수의 기초 통계량 확인"
   ]
  },
  {
   "cell_type": "code",
   "execution_count": 224,
   "id": "80d0a3f0-59d3-4454-a0d1-08359e68cce4",
   "metadata": {},
   "outputs": [],
   "source": [
    "#변수의 기초 통계량을 확인해보세요"
   ]
  },
  {
   "cell_type": "code",
   "execution_count": 259,
   "id": "d0767bd2-8d0b-443e-ab44-67c91a5c7b72",
   "metadata": {},
   "outputs": [
    {
     "data": {
      "text/plain": [
       "count    5827.000000\n",
       "mean        2.237601\n",
       "std         1.054516\n",
       "min         0.000000\n",
       "25%         1.500000\n",
       "50%         2.200000\n",
       "75%         2.800000\n",
       "max         8.300000\n",
       "Name: windspeed, dtype: float64"
      ]
     },
     "execution_count": 259,
     "metadata": {},
     "output_type": "execute_result"
    }
   ],
   "source": [
    "data[var].describe()"
   ]
  },
  {
   "cell_type": "code",
   "execution_count": null,
   "id": "69c7ba91-1273-4701-ab62-d992e0bc06f7",
   "metadata": {},
   "outputs": [],
   "source": [
    "# 평균 2, 최소 0, 최대 8.3"
   ]
  },
  {
   "cell_type": "markdown",
   "id": "de2117b0-2e16-431c-8881-2eeaa8b7e89e",
   "metadata": {},
   "source": [
    "5. 변수의 분포 확인"
   ]
  },
  {
   "cell_type": "code",
   "execution_count": 226,
   "id": "f7658b34-cc08-4a25-9382-7dde9d4e0e02",
   "metadata": {},
   "outputs": [],
   "source": [
    "#변수의 분포를 시각화 라이브러리를 활용해 확인해보세요."
   ]
  },
  {
   "cell_type": "code",
   "execution_count": 260,
   "id": "cd20e5ff-b488-4a76-bc6b-08529871e26f",
   "metadata": {},
   "outputs": [
    {
     "data": {
      "text/plain": [
       "<AxesSubplot:xlabel='windspeed', ylabel='Density'>"
      ]
     },
     "execution_count": 260,
     "metadata": {},
     "output_type": "execute_result"
    },
    {
     "data": {
      "image/png": "[encoded data removed]",
      "text/plain": [
       "<Figure size 432x288 with 1 Axes>"
      ]
     },
     "metadata": {
      "needs_background": "light"
     },
     "output_type": "display_data"
    }
   ],
   "source": [
    "sns.kdeplot(x=var, data=data)"
   ]
  },
  {
   "cell_type": "markdown",
   "id": "314284e2",
   "metadata": {},
   "source": [
    "6. 위 정보로 부터 파악한 내용 정리"
   ]
  },
  {
   "cell_type": "code",
   "execution_count": 266,
   "id": "55bb2a25",
   "metadata": {},
   "outputs": [],
   "source": [
    "#위 정보로부터 파악하신 내용을 정리해보세요."
   ]
  },
  {
   "cell_type": "markdown",
   "id": "5341f7c2",
   "metadata": {},
   "source": [
    "7. 추가 분석사항 도출"
   ]
  },
  {
   "cell_type": "code",
   "execution_count": 81,
   "id": "ebd1fd48",
   "metadata": {},
   "outputs": [],
   "source": [
    "#추가로 분석을 원하는 부분이 있다면 분석후 정리해보세요."
   ]
  },
  {
   "cell_type": "markdown",
   "id": "b8854fa2-58a9-4696-97d5-db8076a29819",
   "metadata": {},
   "source": [
    "### Feature7 : humidity"
   ]
  },
  {
   "cell_type": "code",
   "execution_count": 261,
   "id": "99ef5a33-3d34-43d1-9f7c-fcc03d26eafc",
   "metadata": {},
   "outputs": [],
   "source": [
    "var = 'humidity'"
   ]
  },
  {
   "cell_type": "markdown",
   "id": "1e7a0595-1d6b-4f82-bf23-6bd432f36ab6",
   "metadata": {},
   "source": [
    "1. 변수가 내포하고 있는 의미\n",
    "- 변수의 의미를 한번 짚고 넘어갑시다. 여러분이 생각하는 이 변수의 의미를 작성해보세요."
   ]
  },
  {
   "cell_type": "markdown",
   "id": "57a9ca69-a2fe-4589-a6de-a0795ab6f7a1",
   "metadata": {},
   "source": [
    "습도"
   ]
  },
  {
   "cell_type": "markdown",
   "id": "48434e4e-c2c5-4f28-8d3a-df9119e6abb7",
   "metadata": {},
   "source": [
    "2. 변수가 수치형인지 범주형인지\n"
   ]
  },
  {
   "cell_type": "code",
   "execution_count": 219,
   "id": "404f6837-ef0f-4236-b0e1-4441ed5152c3",
   "metadata": {},
   "outputs": [],
   "source": [
    "#변수의 자료형을 확인해보세요."
   ]
  },
  {
   "cell_type": "code",
   "execution_count": 262,
   "id": "37c72bd8-4d22-42c2-8eff-40edaa7fb85a",
   "metadata": {},
   "outputs": [
    {
     "data": {
      "text/plain": [
       "dtype('int64')"
      ]
     },
     "execution_count": 262,
     "metadata": {},
     "output_type": "execute_result"
    }
   ],
   "source": [
    "data[var].dtype"
   ]
  },
  {
   "cell_type": "markdown",
   "id": "d5f4f200-f42f-47f8-82f2-ef3c6f22e4cb",
   "metadata": {},
   "source": [
    "숫자형"
   ]
  },
  {
   "cell_type": "markdown",
   "id": "f2109dcb-01c8-49fe-a2f4-091b06475c6b",
   "metadata": {},
   "source": [
    "3. 변수의 결측치 존재 여부 및 조치방안"
   ]
  },
  {
   "cell_type": "code",
   "execution_count": 222,
   "id": "b28c3825-a0ed-461a-807d-62d29fd640b7",
   "metadata": {},
   "outputs": [],
   "source": [
    "#변수의 결측치 존재 여부를 확인하고, 만약 결측치가 존재하면 어떻게 처리할지 고민해보세요. "
   ]
  },
  {
   "cell_type": "code",
   "execution_count": 263,
   "id": "9f65bdd7-6165-4d89-9c24-5ee6ae5c4bd2",
   "metadata": {},
   "outputs": [
    {
     "data": {
      "text/plain": [
       "0"
      ]
     },
     "execution_count": 263,
     "metadata": {},
     "output_type": "execute_result"
    }
   ],
   "source": [
    "data[var].isna().sum()"
   ]
  },
  {
   "cell_type": "markdown",
   "id": "9f8c1232-3ddd-4254-9c7b-4b55b794ebaa",
   "metadata": {},
   "source": [
    "4. 변수의 기초 통계량 확인"
   ]
  },
  {
   "cell_type": "code",
   "execution_count": 224,
   "id": "cc20339d-2940-4635-9072-a3e05ca3a02c",
   "metadata": {},
   "outputs": [],
   "source": [
    "#변수의 기초 통계량을 확인해보세요"
   ]
  },
  {
   "cell_type": "code",
   "execution_count": 264,
   "id": "74bd13f5-6966-45b6-b1f4-d3f92a73f917",
   "metadata": {},
   "outputs": [
    {
     "data": {
      "text/plain": [
       "count    5827.000000\n",
       "mean       68.608718\n",
       "std        17.277266\n",
       "min        19.000000\n",
       "25%        56.000000\n",
       "50%        70.000000\n",
       "75%        82.000000\n",
       "max       100.000000\n",
       "Name: humidity, dtype: float64"
      ]
     },
     "execution_count": 264,
     "metadata": {},
     "output_type": "execute_result"
    }
   ],
   "source": [
    "data[var].describe()"
   ]
  },
  {
   "cell_type": "code",
   "execution_count": null,
   "id": "62c1ce0d-874d-43b8-9356-d46eab12bb05",
   "metadata": {},
   "outputs": [],
   "source": [
    "# 평균 68.6, 최소 19, 최대 100"
   ]
  },
  {
   "cell_type": "markdown",
   "id": "ee7da668-9b79-43eb-85be-fc049d2c2a9d",
   "metadata": {},
   "source": [
    "5. 변수의 분포 확인"
   ]
  },
  {
   "cell_type": "code",
   "execution_count": 226,
   "id": "a6181332-0b08-478b-a235-2e195aa30146",
   "metadata": {},
   "outputs": [],
   "source": [
    "#변수의 분포를 시각화 라이브러리를 활용해 확인해보세요."
   ]
  },
  {
   "cell_type": "code",
   "execution_count": 265,
   "id": "7e47bb9e-793f-4ad8-a4f8-9566a8f6ea68",
   "metadata": {},
   "outputs": [
    {
     "data": {
      "text/plain": [
       "<AxesSubplot:xlabel='humidity', ylabel='Density'>"
      ]
     },
     "execution_count": 265,
     "metadata": {},
     "output_type": "execute_result"
    },
    {
     "data": {
      "image/png": "[encoded data removed]",
      "text/plain": [
       "<Figure size 432x288 with 1 Axes>"
      ]
     },
     "metadata": {
      "needs_background": "light"
     },
     "output_type": "display_data"
    }
   ],
   "source": [
    "sns.kdeplot(x=var, data=data)"
   ]
  },
  {
   "cell_type": "markdown",
   "id": "314284e2",
   "metadata": {},
   "source": [
    "6. 위 정보로 부터 파악한 내용 정리"
   ]
  },
  {
   "cell_type": "code",
   "execution_count": 266,
   "id": "55bb2a25",
   "metadata": {},
   "outputs": [],
   "source": [
    "#위 정보로부터 파악하신 내용을 정리해보세요."
   ]
  },
  {
   "cell_type": "code",
   "execution_count": null,
   "id": "243ecb7b-769d-42e5-984d-d82aae0ce4d6",
   "metadata": {},
   "outputs": [],
   "source": [
    "# 참고) 적정 습도는 온도에 따라 달라지는데 15℃에서는 70%, 1820℃에서는 60%, 2123℃에서는 50%, 24℃ 이상일 때는 40% 정도"
   ]
  },
  {
   "cell_type": "markdown",
   "id": "5341f7c2",
   "metadata": {},
   "source": [
    "7. 추가 분석사항 도출"
   ]
  },
  {
   "cell_type": "code",
   "execution_count": 81,
   "id": "ebd1fd48",
   "metadata": {},
   "outputs": [],
   "source": [
    "#추가로 분석을 원하는 부분이 있다면 분석후 정리해보세요."
   ]
  },
  {
   "cell_type": "code",
   "execution_count": 267,
   "id": "13874eaa-e9c6-40aa-8906-2998149197dc",
   "metadata": {},
   "outputs": [
    {
     "name": "stdout",
     "output_type": "stream",
     "text": [
      "309.89641693811075 181.22110904007457\n"
     ]
    }
   ],
   "source": [
    "# 적정습도일 경우와 아닌경우 비교\n",
    "print(data.loc[(data[var] >= 40) & (data[var] <= 60), 'count'].mean(), data.loc[(data[var] < 40) | (data[var] > 60), 'count'].mean())"
   ]
  },
  {
   "cell_type": "markdown",
   "id": "f25d510a-f497-4bd0-b79e-1065df754421",
   "metadata": {},
   "source": [
    "적정습도일 경우 평균 310건, 아닌경우 181건으로 130건 가량 차이가 남"
   ]
  },
  {
   "cell_type": "markdown",
   "id": "b8481275-8487-46c7-b81b-869cdfd0c2d4",
   "metadata": {},
   "source": [
    "### Feature8 : visibility"
   ]
  },
  {
   "cell_type": "code",
   "execution_count": 268,
   "id": "b8c3b917-45d6-415c-afe8-67f7b5517221",
   "metadata": {},
   "outputs": [],
   "source": [
    "var = 'visibility'"
   ]
  },
  {
   "cell_type": "markdown",
   "id": "84ef20dc-dbc8-46ec-8762-7f7ce9cfb81e",
   "metadata": {},
   "source": [
    "1. 변수가 내포하고 있는 의미\n",
    "- 변수의 의미를 한번 짚고 넘어갑시다. 여러분이 생각하는 이 변수의 의미를 작성해보세요."
   ]
  },
  {
   "cell_type": "markdown",
   "id": "7808070b",
   "metadata": {},
   "source": [
    "가시성"
   ]
  },
  {
   "cell_type": "markdown",
   "id": "f660746f-ede1-4377-a72d-da3a62924478",
   "metadata": {},
   "source": [
    "2. 변수가 수치형인지 범주형인지\n"
   ]
  },
  {
   "cell_type": "code",
   "execution_count": 219,
   "id": "73583ad4-4a6e-4e75-9e84-4f6037ee4266",
   "metadata": {},
   "outputs": [],
   "source": [
    "#변수의 자료형을 확인해보세요."
   ]
  },
  {
   "cell_type": "code",
   "execution_count": 269,
   "id": "52996e9c-a86f-4e16-b123-5cc4fcfa6d54",
   "metadata": {},
   "outputs": [
    {
     "data": {
      "text/plain": [
       "dtype('int64')"
      ]
     },
     "execution_count": 269,
     "metadata": {},
     "output_type": "execute_result"
    }
   ],
   "source": [
    "data[var].dtype"
   ]
  },
  {
   "cell_type": "markdown",
   "id": "d6bb455e-74bd-424b-8437-c0eefd20f9d3",
   "metadata": {},
   "source": [
    "숫자형"
   ]
  },
  {
   "cell_type": "markdown",
   "id": "c7c467de-b9ba-42e9-a277-a3f6a4d6830d",
   "metadata": {},
   "source": [
    "3. 변수의 결측치 존재 여부 및 조치방안"
   ]
  },
  {
   "cell_type": "code",
   "execution_count": 270,
   "id": "6495b889-c747-433b-9b87-8176270d76d1",
   "metadata": {},
   "outputs": [],
   "source": [
    "#변수의 결측치 존재 여부를 확인하고, 만약 결측치가 존재하면 어떻게 처리할지 고민해보세요. "
   ]
  },
  {
   "cell_type": "code",
   "execution_count": 271,
   "id": "3f6e83df-f4e5-484c-94ea-8c149704e92a",
   "metadata": {},
   "outputs": [
    {
     "data": {
      "text/plain": [
       "0"
      ]
     },
     "execution_count": 271,
     "metadata": {},
     "output_type": "execute_result"
    }
   ],
   "source": [
    "data[var].isna().sum()"
   ]
  },
  {
   "cell_type": "markdown",
   "id": "8e40ca5a-8860-422a-a9ed-dcbe1e74d1a3",
   "metadata": {},
   "source": [
    "4. 변수의 기초 통계량 확인"
   ]
  },
  {
   "cell_type": "code",
   "execution_count": 272,
   "id": "ce9c827a-796b-40db-bb0c-237e134c59ad",
   "metadata": {},
   "outputs": [],
   "source": [
    "#변수의 기초 통계량을 확인해보세요"
   ]
  },
  {
   "cell_type": "code",
   "execution_count": 273,
   "id": "5f5feb84-df72-4f54-b3ac-d3de7f6ae0f7",
   "metadata": {},
   "outputs": [
    {
     "data": {
      "text/plain": [
       "count    5827.000000\n",
       "mean     1758.438648\n",
       "std       490.969394\n",
       "min        60.000000\n",
       "25%      1935.500000\n",
       "50%      2000.000000\n",
       "75%      2000.000000\n",
       "max      2000.000000\n",
       "Name: visibility, dtype: float64"
      ]
     },
     "execution_count": 273,
     "metadata": {},
     "output_type": "execute_result"
    }
   ],
   "source": [
    "data[var].describe()"
   ]
  },
  {
   "cell_type": "code",
   "execution_count": null,
   "id": "589f47ed-914d-4523-9bfc-eec6cd96663c",
   "metadata": {},
   "outputs": [],
   "source": [
    "# 평균 1758, 최소 60, 최대 2000"
   ]
  },
  {
   "cell_type": "markdown",
   "id": "2f2e2ac6-0da7-4e75-b0cc-a58fe5ee04d3",
   "metadata": {},
   "source": [
    "5. 변수의 분포 확인"
   ]
  },
  {
   "cell_type": "code",
   "execution_count": 226,
   "id": "6c76b1c6-b002-4bd1-9920-1fffc871cb53",
   "metadata": {},
   "outputs": [],
   "source": [
    "#변수의 분포를 시각화 라이브러리를 활용해 확인해보세요."
   ]
  },
  {
   "cell_type": "code",
   "execution_count": 274,
   "id": "beaede87-8e5e-47ce-84b8-abf6b9138d6a",
   "metadata": {},
   "outputs": [
    {
     "data": {
      "text/plain": [
       "<AxesSubplot:xlabel='visibility', ylabel='Density'>"
      ]
     },
     "execution_count": 274,
     "metadata": {},
     "output_type": "execute_result"
    },
    {
     "data": {
      "image/png": "[encoded data removed]",
      "text/plain": [
       "<Figure size 432x288 with 1 Axes>"
      ]
     },
     "metadata": {
      "needs_background": "light"
     },
     "output_type": "display_data"
    }
   ],
   "source": [
    "sns.kdeplot(x=var, data=data)"
   ]
  },
  {
   "cell_type": "markdown",
   "id": "314284e2",
   "metadata": {},
   "source": [
    "6. 위 정보로 부터 파악한 내용 정리"
   ]
  },
  {
   "cell_type": "code",
   "execution_count": 266,
   "id": "55bb2a25",
   "metadata": {},
   "outputs": [],
   "source": [
    "#위 정보로부터 파악하신 내용을 정리해보세요."
   ]
  },
  {
   "cell_type": "markdown",
   "id": "5341f7c2",
   "metadata": {},
   "source": [
    "7. 추가 분석사항 도출"
   ]
  },
  {
   "cell_type": "code",
   "execution_count": 81,
   "id": "ebd1fd48",
   "metadata": {},
   "outputs": [],
   "source": [
    "#추가로 분석을 원하는 부분이 있다면 분석후 정리해보세요."
   ]
  },
  {
   "cell_type": "markdown",
   "id": "c96822db-5597-4a0d-888a-c4f0dc7518b7",
   "metadata": {},
   "source": [
    "### Feature9 : ozone"
   ]
  },
  {
   "cell_type": "code",
   "execution_count": 348,
   "id": "75a66bb1-722b-4e4a-8ff6-1508d08f23cc",
   "metadata": {},
   "outputs": [],
   "source": [
    "var = 'ozone'"
   ]
  },
  {
   "cell_type": "markdown",
   "id": "535007c3-3682-46f0-b5d2-b813f6eaa5f9",
   "metadata": {},
   "source": [
    "1. 변수가 내포하고 있는 의미\n",
    "- 변수의 의미를 한번 짚고 넘어갑시다. 여러분이 생각하는 이 변수의 의미를 작성해보세요."
   ]
  },
  {
   "cell_type": "markdown",
   "id": "9cfbb084-4b83-42d2-81cc-f38858119866",
   "metadata": {},
   "source": [
    "오존 농도"
   ]
  },
  {
   "cell_type": "markdown",
   "id": "2742d85d-c7a1-4276-86c3-98804beceadf",
   "metadata": {},
   "source": [
    "2. 변수가 수치형인지 범주형인지\n"
   ]
  },
  {
   "cell_type": "code",
   "execution_count": 349,
   "id": "c26f4bd8-816b-4cc0-af62-1d6008dc0aac",
   "metadata": {},
   "outputs": [],
   "source": [
    "#변수의 자료형을 확인해보세요."
   ]
  },
  {
   "cell_type": "code",
   "execution_count": 350,
   "id": "0d37fa4d-0ff4-4855-8209-83bd3e2a5897",
   "metadata": {},
   "outputs": [
    {
     "data": {
      "text/plain": [
       "dtype('float64')"
      ]
     },
     "execution_count": 350,
     "metadata": {},
     "output_type": "execute_result"
    }
   ],
   "source": [
    "data[var].dtype"
   ]
  },
  {
   "cell_type": "markdown",
   "id": "717e2582-9088-406f-a4c7-ad59ee96d5c1",
   "metadata": {},
   "source": [
    "숫자형"
   ]
  },
  {
   "cell_type": "markdown",
   "id": "15854c12-82b7-401f-9102-fdd2a9ba93e3",
   "metadata": {},
   "source": [
    "3. 변수의 결측치 존재 여부 및 조치방안"
   ]
  },
  {
   "cell_type": "code",
   "execution_count": 351,
   "id": "64f3066b-ceb7-4b1c-b4bb-9aac8ef9b85b",
   "metadata": {},
   "outputs": [],
   "source": [
    "#변수의 결측치 존재 여부를 확인하고, 만약 결측치가 존재하면 어떻게 처리할지 고민해보세요. "
   ]
  },
  {
   "cell_type": "code",
   "execution_count": 352,
   "id": "b578ed99-d5e5-4946-b12c-7e872b04cb51",
   "metadata": {},
   "outputs": [
    {
     "data": {
      "text/plain": [
       "0"
      ]
     },
     "execution_count": 352,
     "metadata": {},
     "output_type": "execute_result"
    }
   ],
   "source": [
    "data[var].isna().sum()"
   ]
  },
  {
   "cell_type": "markdown",
   "id": "5c5ac3d4-9ba4-4efa-877d-5a4be7a08017",
   "metadata": {},
   "source": [
    "4. 변수의 기초 통계량 확인"
   ]
  },
  {
   "cell_type": "code",
   "execution_count": 353,
   "id": "61ab01e8-9b07-4310-8137-d97b6234d3bc",
   "metadata": {},
   "outputs": [],
   "source": [
    "#변수의 기초 통계량을 확인해보세요"
   ]
  },
  {
   "cell_type": "code",
   "execution_count": 354,
   "id": "95645ead-c220-4c95-9fe1-6715dc122ddc",
   "metadata": {},
   "outputs": [
    {
     "data": {
      "text/plain": [
       "count    5827.000000\n",
       "mean        0.031678\n",
       "std         0.018277\n",
       "min         0.001000\n",
       "25%         0.019000\n",
       "50%         0.030000\n",
       "75%         0.041000\n",
       "max         0.137000\n",
       "Name: ozone, dtype: float64"
      ]
     },
     "execution_count": 354,
     "metadata": {},
     "output_type": "execute_result"
    }
   ],
   "source": [
    "data[var].describe()"
   ]
  },
  {
   "cell_type": "code",
   "execution_count": null,
   "id": "c09aa003-7392-4985-be0a-f0eb7b2d9637",
   "metadata": {},
   "outputs": [],
   "source": [
    "# 평균 0.03, 최소 0.001, 최대 0.137"
   ]
  },
  {
   "cell_type": "markdown",
   "id": "c58d85ad-6809-45ea-923a-f378ed90f1f7",
   "metadata": {},
   "source": [
    "5. 변수의 분포 확인"
   ]
  },
  {
   "cell_type": "code",
   "execution_count": 226,
   "id": "d44a0315-9037-4b0b-92bc-bc2f6720bc15",
   "metadata": {},
   "outputs": [],
   "source": [
    "#변수의 분포를 시각화 라이브러리를 활용해 확인해보세요."
   ]
  },
  {
   "cell_type": "code",
   "execution_count": 358,
   "id": "1649e583-edb0-4a17-abe6-b6981385b965",
   "metadata": {},
   "outputs": [
    {
     "data": {
      "text/plain": [
       "<AxesSubplot:xlabel='ozone', ylabel='Density'>"
      ]
     },
     "execution_count": 358,
     "metadata": {},
     "output_type": "execute_result"
    },
    {
     "data": {
      "image/png": "[encoded data removed]",
      "text/plain": [
       "<Figure size 432x288 with 1 Axes>"
      ]
     },
     "metadata": {},
     "output_type": "display_data"
    }
   ],
   "source": [
    "sns.kdeplot(x=var, data=data)"
   ]
  },
  {
   "cell_type": "markdown",
   "id": "fe06281b-9250-4ba8-9266-e8ffbd02db32",
   "metadata": {},
   "source": [
    "6. 위 정보로 부터 파악한 내용 정리"
   ]
  },
  {
   "cell_type": "code",
   "execution_count": 266,
   "id": "05aa6424-aca8-43a9-9ec7-83c2d1972e3a",
   "metadata": {},
   "outputs": [],
   "source": [
    "#위 정보로부터 파악하신 내용을 정리해보세요."
   ]
  },
  {
   "cell_type": "markdown",
   "id": "5d42c069-e490-4a04-9f1e-3accc9551243",
   "metadata": {},
   "source": [
    "7. 추가 분석사항 도출"
   ]
  },
  {
   "cell_type": "code",
   "execution_count": 359,
   "id": "a67d2425-aba0-4ea3-93e0-7b610fbb7ca0",
   "metadata": {},
   "outputs": [],
   "source": [
    "#추가로 분석을 원하는 부분이 있다면 분석후 정리해보세요."
   ]
  },
  {
   "cell_type": "markdown",
   "id": "13cf9192",
   "metadata": {},
   "source": [
    "### Count (Target)"
   ]
  },
  {
   "cell_type": "markdown",
   "id": "74305cdf",
   "metadata": {},
   "source": [
    "1. 변수가 내포하고 있는 의미\n",
    "- 변수의 의미를 한번 짚고 넘어갑시다. 여러분이 생각하는 이 변수의 의미를 작성해보세요."
   ]
  },
  {
   "cell_type": "code",
   "execution_count": 43,
   "id": "365beaa9-5936-4757-8d30-24b3a58113bb",
   "metadata": {},
   "outputs": [],
   "source": [
    "var = 'count'"
   ]
  },
  {
   "cell_type": "markdown",
   "id": "f8099f78-7480-4657-8fb0-b32290993b91",
   "metadata": {},
   "source": [
    "1. 변수가 내포하고 있는 의미\n",
    "- 변수의 의미를 한번 짚고 넘어갑시다. 여러분이 생각하는 이 변수의 의미를 작성해보세요."
   ]
  },
  {
   "cell_type": "markdown",
   "id": "af42c451-4b65-48d2-ba7b-deef5ab49c46",
   "metadata": {},
   "source": [
    "단위 시간별 따릉이 대여량"
   ]
  },
  {
   "cell_type": "markdown",
   "id": "d3f807ef-c440-4cb2-8d68-9fd7a324f981",
   "metadata": {},
   "source": [
    "2. 변수가 수치형인지 범주형인지\n"
   ]
  },
  {
   "cell_type": "code",
   "execution_count": 44,
   "id": "a6e84c0c-35f7-4808-903b-b073e60503f2",
   "metadata": {},
   "outputs": [
    {
     "data": {
      "text/plain": [
       "dtype('int64')"
      ]
     },
     "execution_count": 44,
     "metadata": {},
     "output_type": "execute_result"
    }
   ],
   "source": [
    "#변수의 자료형을 확인해보세요.\n",
    "data[var].dtype"
   ]
  },
  {
   "cell_type": "markdown",
   "id": "6fd20958-c942-483f-b04a-40a7748fc829",
   "metadata": {},
   "source": [
    "숫자형"
   ]
  },
  {
   "cell_type": "markdown",
   "id": "91edecbc-39a3-4b01-b999-719183870a0d",
   "metadata": {},
   "source": [
    "3. 변수의 결측치 존재 여부 및 조치방안"
   ]
  },
  {
   "cell_type": "code",
   "execution_count": 45,
   "id": "f0b814ba-25dc-4d22-9a8d-72eb7efdb484",
   "metadata": {},
   "outputs": [
    {
     "data": {
      "text/plain": [
       "0"
      ]
     },
     "execution_count": 45,
     "metadata": {},
     "output_type": "execute_result"
    }
   ],
   "source": [
    "#변수의 결측치 존재 여부를 확인하고, 만약 결측치가 존재하면 어떻게 처리할지 고민해보세요. \n",
    "data[var].isna().sum()"
   ]
  },
  {
   "cell_type": "markdown",
   "id": "0d3017c3-38f8-48cb-bd76-90696875f7ae",
   "metadata": {},
   "source": [
    "없음"
   ]
  },
  {
   "cell_type": "markdown",
   "id": "94d5875d-b549-4a14-8767-9b9cd65ae647",
   "metadata": {},
   "source": [
    "4. 변수의 기초 통계량 확인"
   ]
  },
  {
   "cell_type": "code",
   "execution_count": 46,
   "id": "a9209465-28d0-4f3b-80cf-c91828fb9634",
   "metadata": {},
   "outputs": [
    {
     "data": {
      "text/plain": [
       "count    5827.000000\n",
       "mean      215.117899\n",
       "std       185.972900\n",
       "min         1.000000\n",
       "25%        53.000000\n",
       "50%       186.000000\n",
       "75%       315.000000\n",
       "max      1746.000000\n",
       "Name: count, dtype: float64"
      ]
     },
     "execution_count": 46,
     "metadata": {},
     "output_type": "execute_result"
    }
   ],
   "source": [
    "#변수의 기초 통계량을 확인해보세요\n",
    "data[var].describe()"
   ]
  },
  {
   "cell_type": "markdown",
   "id": "53120865-92fa-464d-a55c-3299a2f63355",
   "metadata": {},
   "source": [
    "평균 215건, 최소 1건 최대 1746건"
   ]
  },
  {
   "cell_type": "markdown",
   "id": "cbcbed8d-c4c0-4822-ac88-94d72e8766da",
   "metadata": {},
   "source": [
    "5. 변수의 분포 확인"
   ]
  },
  {
   "cell_type": "code",
   "execution_count": 52,
   "id": "d617e5d5-39c6-4c60-9d58-cc7d46cc7a50",
   "metadata": {},
   "outputs": [
    {
     "data": {
      "image/png": "[encoded data removed]",
      "text/plain": [
       "<Figure size 432x288 with 1 Axes>"
      ]
     },
     "metadata": {
      "needs_background": "light"
     },
     "output_type": "display_data"
    }
   ],
   "source": [
    "#변수의 분포를 시각화 라이브러리를 활용해 확인해보세요.\n",
    "sns.kdeplot(var, data=data)\n",
    "plt.show()"
   ]
  },
  {
   "cell_type": "markdown",
   "id": "999a5419-10e0-4fed-8d01-127f80388421",
   "metadata": {},
   "source": [
    "강수량이 없는 경우가 훨씬 많다."
   ]
  },
  {
   "cell_type": "markdown",
   "id": "e910a448-b577-4a99-9de0-73422bf7f485",
   "metadata": {},
   "source": [
    "6. 위 정보로 부터 파악한 내용 정리"
   ]
  },
  {
   "cell_type": "code",
   "execution_count": null,
   "id": "e01d4843-fb43-4058-b8f6-4d3a5eb7ce47",
   "metadata": {},
   "outputs": [],
   "source": [
    "#위 정보로부터 파악하신 내용을 정리해보세요."
   ]
  },
  {
   "cell_type": "markdown",
   "id": "163c701a-77f3-4133-9769-5eb46d9359d2",
   "metadata": {},
   "source": [
    "평균 215건, 최소 1건 최대 1746건\n",
    "100건 정도가 가장 많은 것 같다."
   ]
  },
  {
   "cell_type": "markdown",
   "id": "003dbb02-7dbd-46b5-83ed-24bd5d53409a",
   "metadata": {},
   "source": [
    "7. 추가 분석사항 도출"
   ]
  },
  {
   "cell_type": "code",
   "execution_count": 58,
   "id": "31880d22-5ebd-4c33-a819-e4a7d53d1c5f",
   "metadata": {},
   "outputs": [
    {
     "data": {
      "text/plain": [
       "array([ 8,  9, 11, 12, 13, 14, 15, 16, 17, 18, 19, 20, 21, 22, 10,  7, 23,\n",
       "        0], dtype=int64)"
      ]
     },
     "execution_count": 58,
     "metadata": {},
     "output_type": "execute_result"
    }
   ],
   "source": [
    "#추가로 분석을 원하는 부분이 있다면 분석후 정리해보세요.\n",
    "\n",
    "# 가장 적은 시간대와 가장 많은 시간대는?\n",
    "data.sort_values(by=var)\n",
    "# 평균보다 많은 경우만 보면?\n",
    "data.loc[data[var] > data[var].mean(), 'hour'].unique()"
   ]
  },
  {
   "cell_type": "markdown",
   "id": "daa6458d",
   "metadata": {},
   "source": [
    "### 4.이변량 분석 \n",
    "* 자료의 종류에 맞게 X --> Y 에 대해서 그래프(시각화)와 가설검정(수치화)를 수행하고 결과를 평가합니다.\n",
    "* 가설검정시 다음의 항목을 참조하여 수행합니다.\n",
    "    * 적절한 유의수준\n",
    "    * 숫자 --> 숫자 : 상관분석\n",
    "    * 범주 --> 범주 : 카이제곱검정\n",
    "    * 범주 --> 숫자 : t검정, 분산분석\n",
    "    * 숫자 --> 범주 : 로지스틱 회귀모형을 통해, 회귀계수의 P.value로 검정을 수행합니다."
   ]
  },
  {
   "cell_type": "markdown",
   "id": "88936c1d",
   "metadata": {},
   "source": [
    "#### (1) 범주형 Feature --> 숫자형 Y (따릉이 대여 Count)\n",
    "\n",
    "<font color=\"green\">* 모든 범주형 Feature에 대해서 Y와 비교하여 차트를 그리고 수치화 하시오.</font>\n",
    "\n",
    "\n",
    "        1. 시각화 : 그래프를 활용한 데이터 분석\n",
    "        2. 수치화 : t-test, anova\n",
    "        3. 관계 평가 (가설 검정)"
   ]
  },
  {
   "cell_type": "code",
   "execution_count": 89,
   "id": "fa322437-9514-48a0-8c78-f3962a2155e6",
   "metadata": {},
   "outputs": [],
   "source": [
    "import scipy.stats as spst"
   ]
  },
  {
   "cell_type": "markdown",
   "id": "47716272",
   "metadata": {},
   "source": [
    "#### 1. 강수 여부와 따릉이 대여량간 이변량 분석(1시간전 강우 여부와 따릉이 대여량 간에는 연관성이 있다.)"
   ]
  },
  {
   "cell_type": "code",
   "execution_count": 92,
   "id": "d25e9900-a75e-4e3f-9147-59ed5e642d25",
   "metadata": {},
   "outputs": [],
   "source": [
    "feature = 'precipitation'\n",
    "target = 'count'"
   ]
  },
  {
   "cell_type": "code",
   "execution_count": 93,
   "id": "ae020506",
   "metadata": {},
   "outputs": [
    {
     "data": {
      "text/plain": [
       "<AxesSubplot:xlabel='precipitation', ylabel='count'>"
      ]
     },
     "execution_count": 93,
     "metadata": {},
     "output_type": "execute_result"
    },
    {
     "data": {
      "image/png": "[encoded data removed]",
      "text/plain": [
       "<Figure size 432x288 with 1 Axes>"
      ]
     },
     "metadata": {
      "needs_background": "light"
     },
     "output_type": "display_data"
    }
   ],
   "source": [
    "#데이터 타입에 주의하여 이변량 분석을 해보세요\n",
    "sns.barplot(x=feature, y=target, data=data)"
   ]
  },
  {
   "cell_type": "code",
   "execution_count": 96,
   "id": "eeca7e1a-a989-4c8f-a1e8-4f8b4910cad8",
   "metadata": {},
   "outputs": [
    {
     "data": {
      "text/plain": [
       "Ttest_indResult(statistic=21.389614151911022, pvalue=8.86239184041254e-98)"
      ]
     },
     "execution_count": 96,
     "metadata": {},
     "output_type": "execute_result"
    }
   ],
   "source": [
    "# 변수가 2개이므로 t-test 진행\n",
    "p_0 = data.loc[data[feature] == 0, target]\n",
    "p_1 = data.loc[data[feature] == 1, target]\n",
    "t_test = spst.ttest_ind(p_0, p_1)\n",
    "t_test"
   ]
  },
  {
   "cell_type": "markdown",
   "id": "6163f710",
   "metadata": {},
   "source": [
    "pvalue가 0에 가까움으로 한 시간전 강수가 없는 경우 따릉이 대여량이 더 높음을 알 수 있음"
   ]
  },
  {
   "cell_type": "markdown",
   "id": "9c44a546",
   "metadata": {},
   "source": [
    "#### (2) 숫자형 Feature --> 숫자형 Y (따릉이 대여 Count)\n",
    "\n",
    "<font color=\"green\">* 모든 숫자형 Feature에 대해서 Y와 비교하여 차트를 그리고 수치화 하시오.  </font>\n",
    "\n",
    "\n",
    "        1. 시각화 : 그래프를 활용한 데이터 분석\n",
    "        2. 수치화 : 상관분석\n",
    "        3. 관계 평가 (가설 검정)"
   ]
  },
  {
   "cell_type": "markdown",
   "id": "1c216b73",
   "metadata": {},
   "source": [
    "#### 2. 시간대별 데이터와 따릉이 대여량간 분석(출퇴근시간과 따릉이 대여량 간에는 연관성이 있다)"
   ]
  },
  {
   "cell_type": "code",
   "execution_count": 403,
   "id": "9efbbb7f-ab18-425e-85de-7b1ae9776174",
   "metadata": {},
   "outputs": [],
   "source": [
    "feature = 'hour'"
   ]
  },
  {
   "cell_type": "code",
   "execution_count": 367,
   "id": "a1f26005",
   "metadata": {},
   "outputs": [
    {
     "data": {
      "text/plain": [
       "<AxesSubplot:xlabel='hour', ylabel='count'>"
      ]
     },
     "execution_count": 367,
     "metadata": {},
     "output_type": "execute_result"
    },
    {
     "data": {
      "image/png": "[encoded data removed]",
      "text/plain": [
       "<Figure size 432x288 with 1 Axes>"
      ]
     },
     "metadata": {},
     "output_type": "display_data"
    }
   ],
   "source": [
    "#데이터 타입에 주의하여 이변량 분석을 해보세요\n",
    "plt.title('시간대별 ')\n",
    "sns.scatterplot(x=feature, y=target, data=data)"
   ]
  },
  {
   "cell_type": "markdown",
   "id": "0bd93a0e",
   "metadata": {},
   "source": [
    "오전에는 8시, 오후에는 18시에 따릉이 대여량이 가장 높다는 것을 알 수 있음   \n",
    "=> 이는 출퇴근시간이므로 출퇴근시간과 따릉이 대여량은 관계가 있다는 것을 짐작해 볼 수 있음 "
   ]
  },
  {
   "cell_type": "code",
   "execution_count": 413,
   "id": "eb196a30-8aee-4712-80f1-8ad88a3abd7b",
   "metadata": {},
   "outputs": [
    {
     "data": {
      "text/html": [
       "<div>\n",
       "<style scoped>\n",
       "    .dataframe tbody tr th:only-of-type {\n",
       "        vertical-align: middle;\n",
       "    }\n",
       "\n",
       "    .dataframe tbody tr th {\n",
       "        vertical-align: top;\n",
       "    }\n",
       "\n",
       "    .dataframe thead th {\n",
       "        text-align: right;\n",
       "    }\n",
       "</style>\n",
       "<table border=\"1\" class=\"dataframe\">\n",
       "  <thead>\n",
       "    <tr style=\"text-align: right;\">\n",
       "      <th></th>\n",
       "      <th>date</th>\n",
       "      <th>hour</th>\n",
       "      <th>PM10</th>\n",
       "      <th>PM2.5</th>\n",
       "      <th>ozone</th>\n",
       "      <th>temperature</th>\n",
       "      <th>precipitation</th>\n",
       "      <th>windspeed</th>\n",
       "      <th>humidity</th>\n",
       "      <th>visibility</th>\n",
       "      <th>count</th>\n",
       "      <th>month</th>\n",
       "      <th>day</th>\n",
       "    </tr>\n",
       "  </thead>\n",
       "  <tbody>\n",
       "    <tr>\n",
       "      <th>0</th>\n",
       "      <td>2021-04-01</td>\n",
       "      <td>1</td>\n",
       "      <td>42.0</td>\n",
       "      <td>21.0</td>\n",
       "      <td>0.002</td>\n",
       "      <td>13.1</td>\n",
       "      <td>0</td>\n",
       "      <td>1.4</td>\n",
       "      <td>49</td>\n",
       "      <td>2000</td>\n",
       "      <td>46</td>\n",
       "      <td>2021-04</td>\n",
       "      <td>Thursday</td>\n",
       "    </tr>\n",
       "    <tr>\n",
       "      <th>1</th>\n",
       "      <td>2021-04-01</td>\n",
       "      <td>2</td>\n",
       "      <td>41.0</td>\n",
       "      <td>21.0</td>\n",
       "      <td>0.003</td>\n",
       "      <td>12.4</td>\n",
       "      <td>0</td>\n",
       "      <td>2.1</td>\n",
       "      <td>53</td>\n",
       "      <td>2000</td>\n",
       "      <td>40</td>\n",
       "      <td>2021-04</td>\n",
       "      <td>Thursday</td>\n",
       "    </tr>\n",
       "    <tr>\n",
       "      <th>2</th>\n",
       "      <td>2021-04-01</td>\n",
       "      <td>3</td>\n",
       "      <td>30.0</td>\n",
       "      <td>13.0</td>\n",
       "      <td>0.023</td>\n",
       "      <td>13.1</td>\n",
       "      <td>0</td>\n",
       "      <td>3.4</td>\n",
       "      <td>43</td>\n",
       "      <td>2000</td>\n",
       "      <td>31</td>\n",
       "      <td>2021-04</td>\n",
       "      <td>Thursday</td>\n",
       "    </tr>\n",
       "    <tr>\n",
       "      <th>3</th>\n",
       "      <td>2021-04-01</td>\n",
       "      <td>4</td>\n",
       "      <td>27.0</td>\n",
       "      <td>12.0</td>\n",
       "      <td>0.028</td>\n",
       "      <td>13.0</td>\n",
       "      <td>0</td>\n",
       "      <td>3.1</td>\n",
       "      <td>44</td>\n",
       "      <td>2000</td>\n",
       "      <td>12</td>\n",
       "      <td>2021-04</td>\n",
       "      <td>Thursday</td>\n",
       "    </tr>\n",
       "    <tr>\n",
       "      <th>4</th>\n",
       "      <td>2021-04-01</td>\n",
       "      <td>5</td>\n",
       "      <td>29.0</td>\n",
       "      <td>14.0</td>\n",
       "      <td>0.008</td>\n",
       "      <td>13.0</td>\n",
       "      <td>0</td>\n",
       "      <td>2.9</td>\n",
       "      <td>44</td>\n",
       "      <td>2000</td>\n",
       "      <td>30</td>\n",
       "      <td>2021-04</td>\n",
       "      <td>Thursday</td>\n",
       "    </tr>\n",
       "    <tr>\n",
       "      <th>...</th>\n",
       "      <td>...</td>\n",
       "      <td>...</td>\n",
       "      <td>...</td>\n",
       "      <td>...</td>\n",
       "      <td>...</td>\n",
       "      <td>...</td>\n",
       "      <td>...</td>\n",
       "      <td>...</td>\n",
       "      <td>...</td>\n",
       "      <td>...</td>\n",
       "      <td>...</td>\n",
       "      <td>...</td>\n",
       "      <td>...</td>\n",
       "    </tr>\n",
       "    <tr>\n",
       "      <th>5822</th>\n",
       "      <td>2021-11-29</td>\n",
       "      <td>20</td>\n",
       "      <td>74.0</td>\n",
       "      <td>58.0</td>\n",
       "      <td>0.002</td>\n",
       "      <td>9.3</td>\n",
       "      <td>0</td>\n",
       "      <td>0.3</td>\n",
       "      <td>66</td>\n",
       "      <td>1193</td>\n",
       "      <td>273</td>\n",
       "      <td>2021-11</td>\n",
       "      <td>Monday</td>\n",
       "    </tr>\n",
       "    <tr>\n",
       "      <th>5823</th>\n",
       "      <td>2021-11-29</td>\n",
       "      <td>21</td>\n",
       "      <td>65.0</td>\n",
       "      <td>56.0</td>\n",
       "      <td>0.002</td>\n",
       "      <td>8.4</td>\n",
       "      <td>0</td>\n",
       "      <td>2.0</td>\n",
       "      <td>70</td>\n",
       "      <td>1233</td>\n",
       "      <td>228</td>\n",
       "      <td>2021-11</td>\n",
       "      <td>Monday</td>\n",
       "    </tr>\n",
       "    <tr>\n",
       "      <th>5824</th>\n",
       "      <td>2021-11-29</td>\n",
       "      <td>22</td>\n",
       "      <td>51.0</td>\n",
       "      <td>41.0</td>\n",
       "      <td>0.002</td>\n",
       "      <td>8.6</td>\n",
       "      <td>0</td>\n",
       "      <td>1.9</td>\n",
       "      <td>70</td>\n",
       "      <td>1250</td>\n",
       "      <td>215</td>\n",
       "      <td>2021-11</td>\n",
       "      <td>Monday</td>\n",
       "    </tr>\n",
       "    <tr>\n",
       "      <th>5825</th>\n",
       "      <td>2021-11-29</td>\n",
       "      <td>23</td>\n",
       "      <td>43.0</td>\n",
       "      <td>35.0</td>\n",
       "      <td>0.001</td>\n",
       "      <td>8.2</td>\n",
       "      <td>0</td>\n",
       "      <td>2.1</td>\n",
       "      <td>71</td>\n",
       "      <td>1262</td>\n",
       "      <td>125</td>\n",
       "      <td>2021-11</td>\n",
       "      <td>Monday</td>\n",
       "    </tr>\n",
       "    <tr>\n",
       "      <th>5826</th>\n",
       "      <td>2021-11-30</td>\n",
       "      <td>0</td>\n",
       "      <td>39.0</td>\n",
       "      <td>31.0</td>\n",
       "      <td>0.004</td>\n",
       "      <td>7.9</td>\n",
       "      <td>0</td>\n",
       "      <td>2.3</td>\n",
       "      <td>71</td>\n",
       "      <td>1483</td>\n",
       "      <td>95</td>\n",
       "      <td>2021-11</td>\n",
       "      <td>Tuesday</td>\n",
       "    </tr>\n",
       "  </tbody>\n",
       "</table>\n",
       "<p>4987 rows × 13 columns</p>\n",
       "</div>"
      ],
      "text/plain": [
       "           date  hour  PM10  PM2.5  ozone  temperature  precipitation  \\\n",
       "0    2021-04-01     1  42.0   21.0  0.002         13.1              0   \n",
       "1    2021-04-01     2  41.0   21.0  0.003         12.4              0   \n",
       "2    2021-04-01     3  30.0   13.0  0.023         13.1              0   \n",
       "3    2021-04-01     4  27.0   12.0  0.028         13.0              0   \n",
       "4    2021-04-01     5  29.0   14.0  0.008         13.0              0   \n",
       "...         ...   ...   ...    ...    ...          ...            ...   \n",
       "5822 2021-11-29    20  74.0   58.0  0.002          9.3              0   \n",
       "5823 2021-11-29    21  65.0   56.0  0.002          8.4              0   \n",
       "5824 2021-11-29    22  51.0   41.0  0.002          8.6              0   \n",
       "5825 2021-11-29    23  43.0   35.0  0.001          8.2              0   \n",
       "5826 2021-11-30     0  39.0   31.0  0.004          7.9              0   \n",
       "\n",
       "      windspeed  humidity  visibility  count    month       day  \n",
       "0           1.4        49        2000     46  2021-04  Thursday  \n",
       "1           2.1        53        2000     40  2021-04  Thursday  \n",
       "2           3.4        43        2000     31  2021-04  Thursday  \n",
       "3           3.1        44        2000     12  2021-04  Thursday  \n",
       "4           2.9        44        2000     30  2021-04  Thursday  \n",
       "...         ...       ...         ...    ...      ...       ...  \n",
       "5822        0.3        66        1193    273  2021-11    Monday  \n",
       "5823        2.0        70        1233    228  2021-11    Monday  \n",
       "5824        1.9        70        1250    215  2021-11    Monday  \n",
       "5825        2.1        71        1262    125  2021-11    Monday  \n",
       "5826        2.3        71        1483     95  2021-11   Tuesday  \n",
       "\n",
       "[4987 rows x 13 columns]"
      ]
     },
     "execution_count": 413,
     "metadata": {},
     "output_type": "execute_result"
    }
   ],
   "source": [
    "weekday = data.loc[(data['day'] != 'Saturday') & (data['day'] != 'Saturday')]\n",
    "weekday"
   ]
  },
  {
   "cell_type": "code",
   "execution_count": 417,
   "id": "2ab81c36-e2de-4323-aa9a-c0bb7e663a45",
   "metadata": {},
   "outputs": [
    {
     "data": {
      "text/plain": [
       "<AxesSubplot:title={'center':'평일 시간대별 평균 따릉이 대여량'}, xlabel='hour', ylabel='count'>"
      ]
     },
     "execution_count": 417,
     "metadata": {},
     "output_type": "execute_result"
    },
    {
     "data": {
      "image/png": "[encoded data removed]",
      "text/plain": [
       "<Figure size 432x288 with 1 Axes>"
      ]
     },
     "metadata": {},
     "output_type": "display_data"
    }
   ],
   "source": [
    "temp_f = weekday.groupby(by=feature, as_index=False).mean()[feature]\n",
    "temp_t = weekday.groupby(by=feature, as_index=False).mean()[target]\n",
    "\n",
    "plt.title('평일 시간대별 평균 따릉이 대여량', fontdict={'fontsize' : 15})\n",
    "sns.barplot(x=temp_f, y=temp_t)"
   ]
  },
  {
   "cell_type": "code",
   "execution_count": 111,
   "id": "796999a9-338c-4bde-953d-75bd2e5ba8d0",
   "metadata": {
    "tags": []
   },
   "outputs": [
    {
     "data": {
      "text/plain": [
       "0      0\n",
       "1      1\n",
       "2      2\n",
       "3      3\n",
       "4      4\n",
       "5      5\n",
       "6      6\n",
       "7      7\n",
       "8      8\n",
       "9      9\n",
       "10    10\n",
       "11    11\n",
       "12    12\n",
       "13    13\n",
       "14    14\n",
       "15    15\n",
       "16    16\n",
       "17    17\n",
       "18    18\n",
       "19    19\n",
       "20    20\n",
       "21    21\n",
       "22    22\n",
       "23    23\n",
       "Name: hour, dtype: int64"
      ]
     },
     "execution_count": 111,
     "metadata": {},
     "output_type": "execute_result"
    }
   ],
   "source": [
    "temp_f = data.groupby(by=feature, as_index=False).mean()[feature]\n",
    "temp_t = data.groupby(by=feature, as_index=False).mean()[target]"
   ]
  },
  {
   "cell_type": "code",
   "execution_count": 112,
   "id": "1e73002f-b608-4409-9af7-9d02b69a4f57",
   "metadata": {},
   "outputs": [
    {
     "data": {
      "text/plain": [
       "(0.7485642292809059, 2.5852069572452802e-05)"
      ]
     },
     "execution_count": 112,
     "metadata": {},
     "output_type": "execute_result"
    }
   ],
   "source": [
    "# 상관분석\n",
    "spst.pearsonr(temp_f, temp_t)"
   ]
  },
  {
   "cell_type": "code",
   "execution_count": null,
   "id": "3aacf7a3-3790-40f9-82e0-eda8608bdf64",
   "metadata": {},
   "outputs": [],
   "source": [
    "시간대와 따릉이 대여량은 0.75로 높은 양의 상관관계를 가지며, p-value 또한 0에 가까우므로 유의함"
   ]
  },
  {
   "cell_type": "markdown",
   "id": "b1d1461d",
   "metadata": {},
   "source": [
    "#### 3. 온도 데이터와 따릉이 대여량간 분석(평균 기온대비 해당일의 기온과 따릉이 대여량은 연관성이 있다.)"
   ]
  },
  {
   "cell_type": "code",
   "execution_count": 113,
   "id": "a6733096-732d-4d7f-8e83-7a55bdad63d3",
   "metadata": {},
   "outputs": [],
   "source": [
    "feature = 'temperature'"
   ]
  },
  {
   "cell_type": "code",
   "execution_count": 114,
   "id": "2fcef2cb",
   "metadata": {},
   "outputs": [],
   "source": [
    "#데이터 타입에 주의하여 이변량 분석을 해보세요"
   ]
  },
  {
   "cell_type": "code",
   "execution_count": 165,
   "id": "8235a7aa-6f8c-4819-9710-5772bd913f66",
   "metadata": {},
   "outputs": [
    {
     "data": {
      "text/html": [
       "<div>\n",
       "<style scoped>\n",
       "    .dataframe tbody tr th:only-of-type {\n",
       "        vertical-align: middle;\n",
       "    }\n",
       "\n",
       "    .dataframe tbody tr th {\n",
       "        vertical-align: top;\n",
       "    }\n",
       "\n",
       "    .dataframe thead th {\n",
       "        text-align: right;\n",
       "    }\n",
       "</style>\n",
       "<table border=\"1\" class=\"dataframe\">\n",
       "  <thead>\n",
       "    <tr style=\"text-align: right;\">\n",
       "      <th></th>\n",
       "      <th>month</th>\n",
       "      <th>hour</th>\n",
       "      <th>meanf</th>\n",
       "    </tr>\n",
       "  </thead>\n",
       "  <tbody>\n",
       "    <tr>\n",
       "      <th>0</th>\n",
       "      <td>2021-04</td>\n",
       "      <td>0</td>\n",
       "      <td>12.168966</td>\n",
       "    </tr>\n",
       "    <tr>\n",
       "      <th>1</th>\n",
       "      <td>2021-04</td>\n",
       "      <td>1</td>\n",
       "      <td>11.776667</td>\n",
       "    </tr>\n",
       "    <tr>\n",
       "      <th>2</th>\n",
       "      <td>2021-04</td>\n",
       "      <td>2</td>\n",
       "      <td>11.420690</td>\n",
       "    </tr>\n",
       "    <tr>\n",
       "      <th>3</th>\n",
       "      <td>2021-04</td>\n",
       "      <td>3</td>\n",
       "      <td>11.046667</td>\n",
       "    </tr>\n",
       "    <tr>\n",
       "      <th>4</th>\n",
       "      <td>2021-04</td>\n",
       "      <td>4</td>\n",
       "      <td>10.758621</td>\n",
       "    </tr>\n",
       "    <tr>\n",
       "      <th>...</th>\n",
       "      <td>...</td>\n",
       "      <td>...</td>\n",
       "      <td>...</td>\n",
       "    </tr>\n",
       "    <tr>\n",
       "      <th>187</th>\n",
       "      <td>2021-11</td>\n",
       "      <td>19</td>\n",
       "      <td>9.320690</td>\n",
       "    </tr>\n",
       "    <tr>\n",
       "      <th>188</th>\n",
       "      <td>2021-11</td>\n",
       "      <td>20</td>\n",
       "      <td>8.762069</td>\n",
       "    </tr>\n",
       "    <tr>\n",
       "      <th>189</th>\n",
       "      <td>2021-11</td>\n",
       "      <td>21</td>\n",
       "      <td>8.262069</td>\n",
       "    </tr>\n",
       "    <tr>\n",
       "      <th>190</th>\n",
       "      <td>2021-11</td>\n",
       "      <td>22</td>\n",
       "      <td>7.868966</td>\n",
       "    </tr>\n",
       "    <tr>\n",
       "      <th>191</th>\n",
       "      <td>2021-11</td>\n",
       "      <td>23</td>\n",
       "      <td>7.448276</td>\n",
       "    </tr>\n",
       "  </tbody>\n",
       "</table>\n",
       "<p>192 rows × 3 columns</p>\n",
       "</div>"
      ],
      "text/plain": [
       "       month  hour      meanf\n",
       "0    2021-04     0  12.168966\n",
       "1    2021-04     1  11.776667\n",
       "2    2021-04     2  11.420690\n",
       "3    2021-04     3  11.046667\n",
       "4    2021-04     4  10.758621\n",
       "..       ...   ...        ...\n",
       "187  2021-11    19   9.320690\n",
       "188  2021-11    20   8.762069\n",
       "189  2021-11    21   8.262069\n",
       "190  2021-11    22   7.868966\n",
       "191  2021-11    23   7.448276\n",
       "\n",
       "[192 rows x 3 columns]"
      ]
     },
     "execution_count": 165,
     "metadata": {},
     "output_type": "execute_result"
    }
   ],
   "source": [
    "# 월별 시간대별 평균기온 구하기\n",
    "data['date'] = pd.to_datetime(data['date'])\n",
    "data['month'] = data['date'].dt.to_period('M')\n",
    "month = data.groupby(['month', 'hour'])[feature].mean().reset_index()\n",
    "month = month.rename(columns={ feature : 'meanf'})\n",
    "month"
   ]
  },
  {
   "cell_type": "code",
   "execution_count": 168,
   "id": "ea1a00e5-e3eb-4189-8bf6-4da8ef629a29",
   "metadata": {},
   "outputs": [
    {
     "data": {
      "text/html": [
       "<div>\n",
       "<style scoped>\n",
       "    .dataframe tbody tr th:only-of-type {\n",
       "        vertical-align: middle;\n",
       "    }\n",
       "\n",
       "    .dataframe tbody tr th {\n",
       "        vertical-align: top;\n",
       "    }\n",
       "\n",
       "    .dataframe thead th {\n",
       "        text-align: right;\n",
       "    }\n",
       "</style>\n",
       "<table border=\"1\" class=\"dataframe\">\n",
       "  <thead>\n",
       "    <tr style=\"text-align: right;\">\n",
       "      <th></th>\n",
       "      <th>date</th>\n",
       "      <th>hour</th>\n",
       "      <th>PM10</th>\n",
       "      <th>PM2.5</th>\n",
       "      <th>ozone</th>\n",
       "      <th>temperature</th>\n",
       "      <th>precipitation</th>\n",
       "      <th>windspeed</th>\n",
       "      <th>humidity</th>\n",
       "      <th>visibility</th>\n",
       "      <th>count</th>\n",
       "      <th>month</th>\n",
       "      <th>meanf</th>\n",
       "      <th>diff_temp</th>\n",
       "    </tr>\n",
       "  </thead>\n",
       "  <tbody>\n",
       "    <tr>\n",
       "      <th>0</th>\n",
       "      <td>2021-04-01</td>\n",
       "      <td>1</td>\n",
       "      <td>42.0</td>\n",
       "      <td>21.0</td>\n",
       "      <td>0.002</td>\n",
       "      <td>13.1</td>\n",
       "      <td>0</td>\n",
       "      <td>1.4</td>\n",
       "      <td>49</td>\n",
       "      <td>2000</td>\n",
       "      <td>46</td>\n",
       "      <td>2021-04</td>\n",
       "      <td>11.776667</td>\n",
       "      <td>1.323333</td>\n",
       "    </tr>\n",
       "    <tr>\n",
       "      <th>1</th>\n",
       "      <td>2021-04-02</td>\n",
       "      <td>1</td>\n",
       "      <td>45.0</td>\n",
       "      <td>11.0</td>\n",
       "      <td>0.040</td>\n",
       "      <td>14.2</td>\n",
       "      <td>0</td>\n",
       "      <td>4.8</td>\n",
       "      <td>39</td>\n",
       "      <td>2000</td>\n",
       "      <td>48</td>\n",
       "      <td>2021-04</td>\n",
       "      <td>11.776667</td>\n",
       "      <td>2.423333</td>\n",
       "    </tr>\n",
       "    <tr>\n",
       "      <th>2</th>\n",
       "      <td>2021-04-03</td>\n",
       "      <td>1</td>\n",
       "      <td>49.0</td>\n",
       "      <td>19.0</td>\n",
       "      <td>0.022</td>\n",
       "      <td>17.7</td>\n",
       "      <td>0</td>\n",
       "      <td>1.8</td>\n",
       "      <td>45</td>\n",
       "      <td>2000</td>\n",
       "      <td>62</td>\n",
       "      <td>2021-04</td>\n",
       "      <td>11.776667</td>\n",
       "      <td>5.923333</td>\n",
       "    </tr>\n",
       "    <tr>\n",
       "      <th>3</th>\n",
       "      <td>2021-04-04</td>\n",
       "      <td>1</td>\n",
       "      <td>3.0</td>\n",
       "      <td>1.0</td>\n",
       "      <td>0.038</td>\n",
       "      <td>10.5</td>\n",
       "      <td>1</td>\n",
       "      <td>3.9</td>\n",
       "      <td>96</td>\n",
       "      <td>877</td>\n",
       "      <td>11</td>\n",
       "      <td>2021-04</td>\n",
       "      <td>11.776667</td>\n",
       "      <td>-1.276667</td>\n",
       "    </tr>\n",
       "    <tr>\n",
       "      <th>4</th>\n",
       "      <td>2021-04-05</td>\n",
       "      <td>1</td>\n",
       "      <td>21.0</td>\n",
       "      <td>10.0</td>\n",
       "      <td>0.020</td>\n",
       "      <td>8.1</td>\n",
       "      <td>0</td>\n",
       "      <td>1.8</td>\n",
       "      <td>67</td>\n",
       "      <td>2000</td>\n",
       "      <td>35</td>\n",
       "      <td>2021-04</td>\n",
       "      <td>11.776667</td>\n",
       "      <td>-3.676667</td>\n",
       "    </tr>\n",
       "  </tbody>\n",
       "</table>\n",
       "</div>"
      ],
      "text/plain": [
       "        date  hour  PM10  PM2.5  ozone  temperature  precipitation  windspeed  \\\n",
       "0 2021-04-01     1  42.0   21.0  0.002         13.1              0        1.4   \n",
       "1 2021-04-02     1  45.0   11.0  0.040         14.2              0        4.8   \n",
       "2 2021-04-03     1  49.0   19.0  0.022         17.7              0        1.8   \n",
       "3 2021-04-04     1   3.0    1.0  0.038         10.5              1        3.9   \n",
       "4 2021-04-05     1  21.0   10.0  0.020          8.1              0        1.8   \n",
       "\n",
       "   humidity  visibility  count    month      meanf  diff_temp  \n",
       "0        49        2000     46  2021-04  11.776667   1.323333  \n",
       "1        39        2000     48  2021-04  11.776667   2.423333  \n",
       "2        45        2000     62  2021-04  11.776667   5.923333  \n",
       "3        96         877     11  2021-04  11.776667  -1.276667  \n",
       "4        67        2000     35  2021-04  11.776667  -3.676667  "
      ]
     },
     "execution_count": 168,
     "metadata": {},
     "output_type": "execute_result"
    }
   ],
   "source": [
    "# 평균 기온과의 기온차 변수 생성\n",
    "month_temp = pd.merge(data,month,how='inner', on=['month', 'hour'])\n",
    "\n",
    "month_temp['diff_temp'] = month_temp[feature] - month_temp['meanf']\n",
    "month_temp.head()"
   ]
  },
  {
   "cell_type": "code",
   "execution_count": 174,
   "id": "39654136-dce5-4e51-8d7d-99f45484054e",
   "metadata": {},
   "outputs": [
    {
     "data": {
      "text/plain": [
       "(2.583229168938618, -2.856769518233536)"
      ]
     },
     "execution_count": 174,
     "metadata": {},
     "output_type": "execute_result"
    }
   ],
   "source": [
    "up = month_temp.loc[month_temp['diff_temp'] > 0, 'diff_temp'].mean()\n",
    "down = month_temp.loc[month_temp['diff_temp'] < 0, 'diff_temp'].mean()\n",
    "up, down"
   ]
  },
  {
   "cell_type": "code",
   "execution_count": 205,
   "id": "0a2d3cfe-168e-4979-bfc5-a30a7ad4e800",
   "metadata": {},
   "outputs": [
    {
     "name": "stdout",
     "output_type": "stream",
     "text": [
      "평균 기온차보다 높은 날 따릉이 대여량의 평균 : 242.0531914893617\n",
      "평균 기온차보다 낮은 날 따릉이 대여량의 평균 : 184.83028720626632\n"
     ]
    }
   ],
   "source": [
    "# 여름일 때 평균 기온차보다 높은 날 따릉이 대여량\n",
    "summer = month_temp.loc[(month_temp['month'] == '2021-06') | (month_temp['month'] == '2021-07') | (month_temp['month'] == '2021-08')]\n",
    "up = summer.loc[summer['diff_temp'] > 0, 'diff_temp'].mean()\n",
    "down = summer.loc[summer['diff_temp'] < 0, 'diff_temp'].mean()\n",
    "print('평균 기온차보다 높은 날 따릉이 대여량의 평균 :', summer.loc[(summer['diff_temp'] > up), target].mean())\n",
    "print('평균 기온차보다 낮은 날 따릉이 대여량의 평균 :', summer.loc[(summer['diff_temp'] < down), target].mean())"
   ]
  },
  {
   "cell_type": "code",
   "execution_count": 201,
   "id": "6850b36b-38a1-42af-9795-29314cb86bf8",
   "metadata": {},
   "outputs": [
    {
     "name": "stdout",
     "output_type": "stream",
     "text": [
      "평균 기온차보다 높은 날 강수 여부\n",
      "0    559\n",
      "1      5\n",
      "Name: precipitation, dtype: int64\n",
      "----------------------------------\n",
      "평균 기온차보다 낮은 날 강수 여부\n",
      "0    282\n",
      "1    101\n",
      "Name: precipitation, dtype: int64\n"
     ]
    }
   ],
   "source": [
    "print('평균 기온차보다 높은 날 강수 여부')\n",
    "print(summer.loc[(summer['diff_temp'] > up), 'precipitation'].value_counts())\n",
    "print('----------------------------------')\n",
    "print('평균 기온차보다 낮은 날 강수 여부')\n",
    "print(summer.loc[(summer['diff_temp'] < down), 'precipitation'].value_counts())"
   ]
  },
  {
   "cell_type": "markdown",
   "id": "6d8a0596-de89-4910-a31a-e95b0f51e922",
   "metadata": {},
   "source": [
    "<b>여름의 경우 평균 기온차보다 낮은 날에는 비가 왔을 가능성이 높기때문에 따릉이 대여량이 기온차가 높은 날 보다 평균적으로 낮다.</b>"
   ]
  },
  {
   "cell_type": "code",
   "execution_count": 370,
   "id": "3d41d51f-c414-483a-bad5-1d54710bd15a",
   "metadata": {},
   "outputs": [
    {
     "data": {
      "text/plain": [
       "(0.1606465815355495, 3.107174450952495e-14)"
      ]
     },
     "execution_count": 370,
     "metadata": {},
     "output_type": "execute_result"
    }
   ],
   "source": [
    "spst.pearsonr(summer['diff_temp'], summer['count'])"
   ]
  },
  {
   "cell_type": "code",
   "execution_count": 206,
   "id": "de452c5d-fdd3-4e71-b3c5-d26e397cee0a",
   "metadata": {},
   "outputs": [
    {
     "name": "stdout",
     "output_type": "stream",
     "text": [
      "평균 기온차보다 높은 날 따릉이 대여량의 평균 : 248.39506172839506\n",
      "평균 기온차보다 낮은 날 따릉이 대여량의 평균 : 128.53642384105962\n"
     ]
    }
   ],
   "source": [
    "# 겨울일 때 평균 기온차보다 높은 날 따릉이 대여량\n",
    "winter = month_temp.loc[(month_temp['month'] == '2021-11')]\n",
    "up = winter.loc[winter['diff_temp'] > 0, 'diff_temp'].mean()\n",
    "down = winter.loc[winter['diff_temp'] < 0, 'diff_temp'].mean()\n",
    "print('평균 기온차보다 높은 날 따릉이 대여량의 평균 :', winter.loc[(winter['diff_temp'] > up), target].mean())\n",
    "print('평균 기온차보다 낮은 날 따릉이 대여량의 평균 :', winter.loc[(winter['diff_temp'] < down), target].mean())"
   ]
  },
  {
   "cell_type": "code",
   "execution_count": 207,
   "id": "58248c22-edc8-4358-ad5d-b660c2e9f912",
   "metadata": {},
   "outputs": [
    {
     "name": "stdout",
     "output_type": "stream",
     "text": [
      "평균 기온차보다 높은 날 강수 여부\n",
      "0    160\n",
      "1      2\n",
      "Name: precipitation, dtype: int64\n",
      "----------------------------------\n",
      "평균 기온차보다 낮은 날 강수 여부\n",
      "0    146\n",
      "1      5\n",
      "Name: precipitation, dtype: int64\n"
     ]
    }
   ],
   "source": [
    "print('평균 기온차보다 높은 날 강수 여부')\n",
    "print(winter.loc[(winter['diff_temp'] > up), 'precipitation'].value_counts())\n",
    "print('----------------------------------')\n",
    "print('평균 기온차보다 낮은 날 강수 여부')\n",
    "print(winter.loc[(winter['diff_temp'] < down), 'precipitation'].value_counts())"
   ]
  },
  {
   "cell_type": "markdown",
   "id": "d2869841-6fe9-4865-9497-96603ae72792",
   "metadata": {},
   "source": [
    "<b>겨울의 경우 평균 기온차보다 높은 날에는 따릉이 대여량이 기온차가 낮은 날 보다 평균적으로 높다.</b>"
   ]
  },
  {
   "cell_type": "code",
   "execution_count": 369,
   "id": "b9ffd55b-2408-433c-957e-c59060972e28",
   "metadata": {},
   "outputs": [
    {
     "data": {
      "text/plain": [
       "(0.2801352838248771, 4.9259350378300576e-14)"
      ]
     },
     "execution_count": 369,
     "metadata": {},
     "output_type": "execute_result"
    }
   ],
   "source": [
    "spst.pearsonr(winter['diff_temp'], winter['count'])"
   ]
  },
  {
   "cell_type": "markdown",
   "id": "7f65d800",
   "metadata": {},
   "source": [
    "#### 4. 습도 데이터와 따릉이 대여량간 분석(습도와 따릉이 대여량은 연관이 있다.)"
   ]
  },
  {
   "cell_type": "code",
   "execution_count": 13,
   "id": "77bd6696",
   "metadata": {},
   "outputs": [],
   "source": [
    "#데이터 타입에 주의하여 이변량 분석을 해보세요"
   ]
  },
  {
   "cell_type": "code",
   "execution_count": 424,
   "id": "7711804e-16d2-4c62-9c52-beeed017e1b7",
   "metadata": {},
   "outputs": [],
   "source": [
    "feature = 'humidity'"
   ]
  },
  {
   "cell_type": "code",
   "execution_count": 217,
   "id": "d92bc2c3-b26f-4c64-9ee8-5405c947acd1",
   "metadata": {},
   "outputs": [
    {
     "data": {
      "text/plain": [
       "<AxesSubplot:xlabel='humidity', ylabel='count'>"
      ]
     },
     "execution_count": 217,
     "metadata": {},
     "output_type": "execute_result"
    },
    {
     "data": {
      "image/png": "[encoded data removed]",
      "text/plain": [
       "<Figure size 432x288 with 1 Axes>"
      ]
     },
     "metadata": {
      "needs_background": "light"
     },
     "output_type": "display_data"
    }
   ],
   "source": [
    "sns.regplot(x=feature, y=target, data=data)"
   ]
  },
  {
   "cell_type": "code",
   "execution_count": 211,
   "id": "9e344b5d-30ab-4128-ae55-35907aca5ecf",
   "metadata": {},
   "outputs": [
    {
     "name": "stdout",
     "output_type": "stream",
     "text": [
      "적정습도인 경우 : 309.89641693811075\n",
      "적정습도가 아닌 경우 : 181.22110904007457\n"
     ]
    }
   ],
   "source": [
    "print('적정습도인 경우 :' ,data.loc[(data[feature] >= 40) & (data[feature] <= 60), target].mean())\n",
    "print('적정습도가 아닌 경우 :', data.loc[(data[feature] < 40) | (data[feature] > 60), target].mean())"
   ]
  },
  {
   "cell_type": "code",
   "execution_count": 216,
   "id": "76d9d12b-1c2c-4550-8698-3e28539f8493",
   "metadata": {},
   "outputs": [
    {
     "data": {
      "text/plain": [
       "(-0.4789554265904137, 0.0)"
      ]
     },
     "execution_count": 216,
     "metadata": {},
     "output_type": "execute_result"
    }
   ],
   "source": [
    "spst.pearsonr(data[feature], data[target])"
   ]
  },
  {
   "cell_type": "markdown",
   "id": "bba4e9c6",
   "metadata": {},
   "source": [
    "강한 음의 상관관계를 가지며 p-value도 유의하다"
   ]
  },
  {
   "cell_type": "markdown",
   "id": "c46fccb5",
   "metadata": {},
   "source": [
    "#### 5. 시정 데이터와 따릉이 대여량간 분석(가시성과 따릉이 대여량은 연관이 있다.)"
   ]
  },
  {
   "cell_type": "code",
   "execution_count": 14,
   "id": "4deb3345",
   "metadata": {},
   "outputs": [],
   "source": [
    "#데이터 타입에 주의하여 이변량 분석을 해보세요"
   ]
  },
  {
   "cell_type": "code",
   "execution_count": 371,
   "id": "780c809c-4880-4aee-9fa3-2011cff710f4",
   "metadata": {},
   "outputs": [],
   "source": [
    "feature = 'visibility'"
   ]
  },
  {
   "cell_type": "code",
   "execution_count": 278,
   "id": "44310a16-d800-49ed-80a2-05fbea19cd5e",
   "metadata": {},
   "outputs": [
    {
     "name": "stdout",
     "output_type": "stream",
     "text": [
      "가시성이 평균보다 낮은 경우 : 133.40729247478666\n",
      "가시성이 평균보다 높은 경우 : 238.32745702952843\n"
     ]
    }
   ],
   "source": [
    "# 적정습도일 경우와 아닌경우 비교\n",
    "print('가시성이 평균보다 낮은 경우 :' , data.loc[(data[feature] < data[feature].mean()), target].mean())\n",
    "print('가시성이 평균보다 높은 경우 :' , data.loc[(data[feature] > data[feature].mean()), target].mean())"
   ]
  },
  {
   "cell_type": "code",
   "execution_count": 374,
   "id": "e981a554-b924-41cd-ae58-01b489f8374b",
   "metadata": {},
   "outputs": [
    {
     "name": "stdout",
     "output_type": "stream",
     "text": [
      "0    940\n",
      "1    349\n",
      "Name: precipitation, dtype: int64\n",
      "0    4447\n",
      "1      91\n",
      "Name: precipitation, dtype: int64\n"
     ]
    }
   ],
   "source": [
    "# 강수가 있는 경우 평균 가시성이 더 낮다.\n",
    "print(data.loc[(data[feature] < data[feature].mean()), 'precipitation'].value_counts())\n",
    "print( data.loc[(data[feature] > data[feature].mean()), 'precipitation'].value_counts())"
   ]
  },
  {
   "cell_type": "markdown",
   "id": "295aeb32-c384-4948-846f-3ca16812e3f9",
   "metadata": {},
   "source": [
    "가시성이 평균보다 낮은 경우 평균 133건, 높은 경우 평균 238건으로 가시성이 평균 이상인 경우 대여량이 약 100건 더 높다."
   ]
  },
  {
   "cell_type": "code",
   "execution_count": 279,
   "id": "5891c752-fe88-4981-ada5-826292e58c29",
   "metadata": {},
   "outputs": [
    {
     "data": {
      "text/plain": [
       "(0.26582778327488765, 7.876003852900128e-95)"
      ]
     },
     "execution_count": 279,
     "metadata": {},
     "output_type": "execute_result"
    }
   ],
   "source": [
    "spst.pearsonr(data[feature], data[target])"
   ]
  },
  {
   "cell_type": "markdown",
   "id": "486db6db",
   "metadata": {},
   "source": [
    "#### 6. 미세먼지 농도 데이터와 따릉이 대여량간 분석"
   ]
  },
  {
   "cell_type": "code",
   "execution_count": 16,
   "id": "d69657aa",
   "metadata": {},
   "outputs": [],
   "source": [
    "#데이터 타입에 주의하여 이변량 분석을 해보세요"
   ]
  },
  {
   "cell_type": "code",
   "execution_count": 304,
   "id": "d5f518b5-6c1d-41ba-b10e-322a73c6c019",
   "metadata": {},
   "outputs": [],
   "source": [
    "feature = 'PM10'"
   ]
  },
  {
   "cell_type": "code",
   "execution_count": 308,
   "id": "97227f6d-5d90-4caf-a8c9-3315faf69633",
   "metadata": {},
   "outputs": [
    {
     "data": {
      "text/plain": [
       "<AxesSubplot:xlabel='PM2.5', ylabel='count'>"
      ]
     },
     "execution_count": 308,
     "metadata": {},
     "output_type": "execute_result"
    },
    {
     "data": {
      "image/png": "[encoded data removed]",
      "text/plain": [
       "<Figure size 432x288 with 1 Axes>"
      ]
     },
     "metadata": {
      "needs_background": "light"
     },
     "output_type": "display_data"
    }
   ],
   "source": [
    "sns.regplot(x=feature, y=target, data=data)"
   ]
  },
  {
   "cell_type": "code",
   "execution_count": 305,
   "id": "518428a4-95ad-4921-916a-c218303e4186",
   "metadata": {},
   "outputs": [
    {
     "data": {
      "text/plain": [
       "(0.027690201326183578, 0.034542825293046905)"
      ]
     },
     "execution_count": 305,
     "metadata": {},
     "output_type": "execute_result"
    }
   ],
   "source": [
    "spst.pearsonr(data[feature], data[target])"
   ]
  },
  {
   "cell_type": "code",
   "execution_count": null,
   "id": "179c4cbc-64fc-4091-a15e-36a70858f29e",
   "metadata": {},
   "outputs": [],
   "source": [
    "유의미하다고 볼 수 없다."
   ]
  },
  {
   "cell_type": "markdown",
   "id": "c22fd35d",
   "metadata": {},
   "source": [
    "- 미세먼지가 나쁨이상(나쁨(81~150㎍/㎥) 혹은 매우 나쁨(151㎍/㎥ 이상))일 경우 따릉이 대여량이 더 낮을까?"
   ]
  },
  {
   "cell_type": "code",
   "execution_count": 314,
   "id": "a28adaa0-d820-4f44-8a7c-3df86632ce7e",
   "metadata": {},
   "outputs": [
    {
     "name": "stdout",
     "output_type": "stream",
     "text": [
      "미세먼지가 좋은 경우 : 215.55418761921277\n",
      "미세먼지가 안좋은 경우 : 173.18333333333334\n"
     ]
    }
   ],
   "source": [
    "good = data.loc[data[feature] < 81, target].mean()\n",
    "bad = data.loc[data[feature] >= 81, target].mean()\n",
    "\n",
    "print('미세먼지가 좋은 경우 :' , good)\n",
    "print('미세먼지가 안좋은 경우 :' , bad)"
   ]
  },
  {
   "cell_type": "markdown",
   "id": "72c0cb40",
   "metadata": {},
   "source": [
    "#### 7. 초미세먼지 농도 데이터와 따릉이 대여량간 분석"
   ]
  },
  {
   "cell_type": "code",
   "execution_count": 17,
   "id": "6751a594",
   "metadata": {},
   "outputs": [],
   "source": [
    "#데이터 타입에 주의하여 이변량 분석을 해보세요"
   ]
  },
  {
   "cell_type": "code",
   "execution_count": 315,
   "id": "edd3cfcc-cbf9-46cd-a654-8dd63de1686e",
   "metadata": {},
   "outputs": [],
   "source": [
    "feature = 'PM2.5'"
   ]
  },
  {
   "cell_type": "code",
   "execution_count": 309,
   "id": "00a027ce-fbe7-4ce5-8d8a-940c6b09851f",
   "metadata": {},
   "outputs": [
    {
     "data": {
      "text/plain": [
       "<AxesSubplot:xlabel='PM2.5', ylabel='count'>"
      ]
     },
     "execution_count": 309,
     "metadata": {},
     "output_type": "execute_result"
    },
    {
     "data": {
      "image/png": "[encoded data removed]",
      "text/plain": [
       "<Figure size 432x288 with 1 Axes>"
      ]
     },
     "metadata": {
      "needs_background": "light"
     },
     "output_type": "display_data"
    }
   ],
   "source": [
    "sns.regplot(x=feature, y=target, data=data)"
   ]
  },
  {
   "cell_type": "code",
   "execution_count": 307,
   "id": "e9958e41-3541-42a3-8fbe-6ac69bad1be8",
   "metadata": {},
   "outputs": [
    {
     "data": {
      "text/plain": [
       "(0.03544922928145933, 0.006804176771228327)"
      ]
     },
     "execution_count": 307,
     "metadata": {},
     "output_type": "execute_result"
    }
   ],
   "source": [
    "spst.pearsonr(data[feature], data[target])"
   ]
  },
  {
   "cell_type": "markdown",
   "id": "f2aac6f1",
   "metadata": {},
   "source": [
    "유의미하다고 볼 수 없다"
   ]
  },
  {
   "cell_type": "markdown",
   "id": "761d4d69-bb96-48fa-8fd7-be8e2cad592b",
   "metadata": {},
   "source": [
    "- 초미세먼지가 나쁨이상(나쁨(36㎍/㎥ 이상))일 경우 따릉이 대여량이 더 낮을까?"
   ]
  },
  {
   "cell_type": "code",
   "execution_count": 318,
   "id": "fd255160-4494-481d-88a1-129f3a38bb9b",
   "metadata": {},
   "outputs": [
    {
     "name": "stdout",
     "output_type": "stream",
     "text": [
      "초미세먼지가 좋은 경우 : 215.68407643312102\n",
      "초미세먼지가 안좋은 경우 : 205.74698795180723\n"
     ]
    }
   ],
   "source": [
    "good = data.loc[data[feature] < 36, target].mean()\n",
    "bad = data.loc[data[feature] >= 36, target].mean()\n",
    "\n",
    "print('초미세먼지가 좋은 경우 :' , good)\n",
    "print('초미세먼지가 안좋은 경우 :' , bad)"
   ]
  },
  {
   "cell_type": "markdown",
   "id": "3cb3e6ae-a91c-4296-981a-c65f180e424e",
   "metadata": {},
   "source": [
    "#### 8. 요일과 따릉이 대여량간 분석"
   ]
  },
  {
   "cell_type": "code",
   "execution_count": 361,
   "id": "362996a8-6131-4549-b336-0d84e80f3500",
   "metadata": {},
   "outputs": [],
   "source": [
    "feature = 'day'"
   ]
  },
  {
   "cell_type": "code",
   "execution_count": 320,
   "id": "e3bd3b2b-0a94-47a4-91fe-285f3841c54b",
   "metadata": {},
   "outputs": [
    {
     "data": {
      "text/html": [
       "<div>\n",
       "<style scoped>\n",
       "    .dataframe tbody tr th:only-of-type {\n",
       "        vertical-align: middle;\n",
       "    }\n",
       "\n",
       "    .dataframe tbody tr th {\n",
       "        vertical-align: top;\n",
       "    }\n",
       "\n",
       "    .dataframe thead th {\n",
       "        text-align: right;\n",
       "    }\n",
       "</style>\n",
       "<table border=\"1\" class=\"dataframe\">\n",
       "  <thead>\n",
       "    <tr style=\"text-align: right;\">\n",
       "      <th></th>\n",
       "      <th>date</th>\n",
       "      <th>hour</th>\n",
       "      <th>PM10</th>\n",
       "      <th>PM2.5</th>\n",
       "      <th>ozone</th>\n",
       "      <th>temperature</th>\n",
       "      <th>precipitation</th>\n",
       "      <th>windspeed</th>\n",
       "      <th>humidity</th>\n",
       "      <th>visibility</th>\n",
       "      <th>count</th>\n",
       "      <th>month</th>\n",
       "      <th>day</th>\n",
       "    </tr>\n",
       "  </thead>\n",
       "  <tbody>\n",
       "    <tr>\n",
       "      <th>0</th>\n",
       "      <td>2021-04-01</td>\n",
       "      <td>1</td>\n",
       "      <td>42.0</td>\n",
       "      <td>21.0</td>\n",
       "      <td>0.002</td>\n",
       "      <td>13.1</td>\n",
       "      <td>0</td>\n",
       "      <td>1.4</td>\n",
       "      <td>49</td>\n",
       "      <td>2000</td>\n",
       "      <td>46</td>\n",
       "      <td>2021-04</td>\n",
       "      <td>Thursday</td>\n",
       "    </tr>\n",
       "    <tr>\n",
       "      <th>1</th>\n",
       "      <td>2021-04-01</td>\n",
       "      <td>2</td>\n",
       "      <td>41.0</td>\n",
       "      <td>21.0</td>\n",
       "      <td>0.003</td>\n",
       "      <td>12.4</td>\n",
       "      <td>0</td>\n",
       "      <td>2.1</td>\n",
       "      <td>53</td>\n",
       "      <td>2000</td>\n",
       "      <td>40</td>\n",
       "      <td>2021-04</td>\n",
       "      <td>Thursday</td>\n",
       "    </tr>\n",
       "    <tr>\n",
       "      <th>2</th>\n",
       "      <td>2021-04-01</td>\n",
       "      <td>3</td>\n",
       "      <td>30.0</td>\n",
       "      <td>13.0</td>\n",
       "      <td>0.023</td>\n",
       "      <td>13.1</td>\n",
       "      <td>0</td>\n",
       "      <td>3.4</td>\n",
       "      <td>43</td>\n",
       "      <td>2000</td>\n",
       "      <td>31</td>\n",
       "      <td>2021-04</td>\n",
       "      <td>Thursday</td>\n",
       "    </tr>\n",
       "    <tr>\n",
       "      <th>3</th>\n",
       "      <td>2021-04-01</td>\n",
       "      <td>4</td>\n",
       "      <td>27.0</td>\n",
       "      <td>12.0</td>\n",
       "      <td>0.028</td>\n",
       "      <td>13.0</td>\n",
       "      <td>0</td>\n",
       "      <td>3.1</td>\n",
       "      <td>44</td>\n",
       "      <td>2000</td>\n",
       "      <td>12</td>\n",
       "      <td>2021-04</td>\n",
       "      <td>Thursday</td>\n",
       "    </tr>\n",
       "    <tr>\n",
       "      <th>4</th>\n",
       "      <td>2021-04-01</td>\n",
       "      <td>5</td>\n",
       "      <td>29.0</td>\n",
       "      <td>14.0</td>\n",
       "      <td>0.008</td>\n",
       "      <td>13.0</td>\n",
       "      <td>0</td>\n",
       "      <td>2.9</td>\n",
       "      <td>44</td>\n",
       "      <td>2000</td>\n",
       "      <td>30</td>\n",
       "      <td>2021-04</td>\n",
       "      <td>Thursday</td>\n",
       "    </tr>\n",
       "  </tbody>\n",
       "</table>\n",
       "</div>"
      ],
      "text/plain": [
       "        date  hour  PM10  PM2.5  ozone  temperature  precipitation  windspeed  \\\n",
       "0 2021-04-01     1  42.0   21.0  0.002         13.1              0        1.4   \n",
       "1 2021-04-01     2  41.0   21.0  0.003         12.4              0        2.1   \n",
       "2 2021-04-01     3  30.0   13.0  0.023         13.1              0        3.4   \n",
       "3 2021-04-01     4  27.0   12.0  0.028         13.0              0        3.1   \n",
       "4 2021-04-01     5  29.0   14.0  0.008         13.0              0        2.9   \n",
       "\n",
       "   humidity  visibility  count    month       day  \n",
       "0        49        2000     46  2021-04  Thursday  \n",
       "1        53        2000     40  2021-04  Thursday  \n",
       "2        43        2000     31  2021-04  Thursday  \n",
       "3        44        2000     12  2021-04  Thursday  \n",
       "4        44        2000     30  2021-04  Thursday  "
      ]
     },
     "execution_count": 320,
     "metadata": {},
     "output_type": "execute_result"
    }
   ],
   "source": [
    "# 요일별 시간대별 따릉이 대여량 분석\n",
    "data['date'] = pd.to_datetime(data['date'])\n",
    "data['day'] = data['date'].dt.day_name()\n",
    "data.head()"
   ]
  },
  {
   "cell_type": "code",
   "execution_count": 330,
   "id": "e993cb64-41eb-4c16-ab96-7cad789efeea",
   "metadata": {},
   "outputs": [
    {
     "data": {
      "text/html": [
       "<div>\n",
       "<style scoped>\n",
       "    .dataframe tbody tr th:only-of-type {\n",
       "        vertical-align: middle;\n",
       "    }\n",
       "\n",
       "    .dataframe tbody tr th {\n",
       "        vertical-align: top;\n",
       "    }\n",
       "\n",
       "    .dataframe thead th {\n",
       "        text-align: right;\n",
       "    }\n",
       "</style>\n",
       "<table border=\"1\" class=\"dataframe\">\n",
       "  <thead>\n",
       "    <tr style=\"text-align: right;\">\n",
       "      <th></th>\n",
       "      <th>hour</th>\n",
       "      <th>PM10</th>\n",
       "      <th>PM2.5</th>\n",
       "      <th>ozone</th>\n",
       "      <th>temperature</th>\n",
       "      <th>precipitation</th>\n",
       "      <th>windspeed</th>\n",
       "      <th>humidity</th>\n",
       "      <th>visibility</th>\n",
       "      <th>count</th>\n",
       "    </tr>\n",
       "    <tr>\n",
       "      <th>day</th>\n",
       "      <th></th>\n",
       "      <th></th>\n",
       "      <th></th>\n",
       "      <th></th>\n",
       "      <th></th>\n",
       "      <th></th>\n",
       "      <th></th>\n",
       "      <th></th>\n",
       "      <th></th>\n",
       "      <th></th>\n",
       "    </tr>\n",
       "  </thead>\n",
       "  <tbody>\n",
       "    <tr>\n",
       "      <th>Friday</th>\n",
       "      <td>11.529271</td>\n",
       "      <td>38.645161</td>\n",
       "      <td>17.026284</td>\n",
       "      <td>0.031762</td>\n",
       "      <td>19.581362</td>\n",
       "      <td>0.064516</td>\n",
       "      <td>2.254241</td>\n",
       "      <td>67.772999</td>\n",
       "      <td>1765.884110</td>\n",
       "      <td>227.474313</td>\n",
       "    </tr>\n",
       "    <tr>\n",
       "      <th>Monday</th>\n",
       "      <td>11.500000</td>\n",
       "      <td>28.636905</td>\n",
       "      <td>14.169048</td>\n",
       "      <td>0.030045</td>\n",
       "      <td>18.863333</td>\n",
       "      <td>0.071429</td>\n",
       "      <td>2.230119</td>\n",
       "      <td>69.703571</td>\n",
       "      <td>1799.107143</td>\n",
       "      <td>200.829762</td>\n",
       "    </tr>\n",
       "    <tr>\n",
       "      <th>Saturday</th>\n",
       "      <td>11.500000</td>\n",
       "      <td>39.657143</td>\n",
       "      <td>17.234524</td>\n",
       "      <td>0.031895</td>\n",
       "      <td>19.182857</td>\n",
       "      <td>0.078571</td>\n",
       "      <td>2.268571</td>\n",
       "      <td>68.526190</td>\n",
       "      <td>1715.522619</td>\n",
       "      <td>201.459524</td>\n",
       "    </tr>\n",
       "    <tr>\n",
       "      <th>Sunday</th>\n",
       "      <td>11.500000</td>\n",
       "      <td>28.011905</td>\n",
       "      <td>16.220238</td>\n",
       "      <td>0.034679</td>\n",
       "      <td>19.411548</td>\n",
       "      <td>0.091667</td>\n",
       "      <td>2.213929</td>\n",
       "      <td>68.559524</td>\n",
       "      <td>1717.220238</td>\n",
       "      <td>198.976190</td>\n",
       "    </tr>\n",
       "    <tr>\n",
       "      <th>Thursday</th>\n",
       "      <td>11.513707</td>\n",
       "      <td>32.417163</td>\n",
       "      <td>16.361144</td>\n",
       "      <td>0.031992</td>\n",
       "      <td>19.932658</td>\n",
       "      <td>0.035757</td>\n",
       "      <td>2.152801</td>\n",
       "      <td>65.369487</td>\n",
       "      <td>1811.592372</td>\n",
       "      <td>234.112038</td>\n",
       "    </tr>\n",
       "    <tr>\n",
       "      <th>Tuesday</th>\n",
       "      <td>11.503067</td>\n",
       "      <td>27.728834</td>\n",
       "      <td>14.415951</td>\n",
       "      <td>0.029539</td>\n",
       "      <td>19.082699</td>\n",
       "      <td>0.128834</td>\n",
       "      <td>2.308957</td>\n",
       "      <td>72.483436</td>\n",
       "      <td>1703.471166</td>\n",
       "      <td>201.514110</td>\n",
       "    </tr>\n",
       "    <tr>\n",
       "      <th>Wednesday</th>\n",
       "      <td>11.500000</td>\n",
       "      <td>27.661765</td>\n",
       "      <td>14.351716</td>\n",
       "      <td>0.031775</td>\n",
       "      <td>19.581618</td>\n",
       "      <td>0.058824</td>\n",
       "      <td>2.236642</td>\n",
       "      <td>67.935049</td>\n",
       "      <td>1795.794118</td>\n",
       "      <td>241.886029</td>\n",
       "    </tr>\n",
       "  </tbody>\n",
       "</table>\n",
       "</div>"
      ],
      "text/plain": [
       "                hour       PM10      PM2.5     ozone  temperature  \\\n",
       "day                                                                 \n",
       "Friday     11.529271  38.645161  17.026284  0.031762    19.581362   \n",
       "Monday     11.500000  28.636905  14.169048  0.030045    18.863333   \n",
       "Saturday   11.500000  39.657143  17.234524  0.031895    19.182857   \n",
       "Sunday     11.500000  28.011905  16.220238  0.034679    19.411548   \n",
       "Thursday   11.513707  32.417163  16.361144  0.031992    19.932658   \n",
       "Tuesday    11.503067  27.728834  14.415951  0.029539    19.082699   \n",
       "Wednesday  11.500000  27.661765  14.351716  0.031775    19.581618   \n",
       "\n",
       "           precipitation  windspeed   humidity   visibility       count  \n",
       "day                                                                      \n",
       "Friday          0.064516   2.254241  67.772999  1765.884110  227.474313  \n",
       "Monday          0.071429   2.230119  69.703571  1799.107143  200.829762  \n",
       "Saturday        0.078571   2.268571  68.526190  1715.522619  201.459524  \n",
       "Sunday          0.091667   2.213929  68.559524  1717.220238  198.976190  \n",
       "Thursday        0.035757   2.152801  65.369487  1811.592372  234.112038  \n",
       "Tuesday         0.128834   2.308957  72.483436  1703.471166  201.514110  \n",
       "Wednesday       0.058824   2.236642  67.935049  1795.794118  241.886029  "
      ]
     },
     "execution_count": 330,
     "metadata": {},
     "output_type": "execute_result"
    }
   ],
   "source": [
    "day = data.groupby(by='day').mean()\n",
    "day"
   ]
  },
  {
   "cell_type": "code",
   "execution_count": 347,
   "id": "7389f2cd-a797-4921-9fb8-ab10efcd3a01",
   "metadata": {},
   "outputs": [
    {
     "data": {
      "image/png": "[encoded data removed]",
      "text/plain": [
       "<Figure size 576x360 with 1 Axes>"
      ]
     },
     "metadata": {},
     "output_type": "display_data"
    }
   ],
   "source": [
    "dayname = ['Monday', 'Tuesday', 'Wednesday', 'Thursday', 'Friday', 'Saturday', 'Sunday']\n",
    "\n",
    "plt.figure(figsize=(8, 5))\n",
    "plt.title('요일별 따릉이 대여량 평균')\n",
    "sns.barplot(x='day', y=target, data=data, order=dayname)\n",
    "plt.show()"
   ]
  },
  {
   "cell_type": "code",
   "execution_count": 362,
   "id": "96854afb-7eb0-4ddb-b345-0f0959a2f526",
   "metadata": {
    "tags": []
   },
   "outputs": [
    {
     "data": {
      "text/plain": [
       "F_onewayResult(statistic=8.317297883731852, pvalue=5.378942897976812e-09)"
      ]
     },
     "execution_count": 362,
     "metadata": {},
     "output_type": "execute_result"
    }
   ],
   "source": [
    "# 변수가 3개 이상이므로 ANOVA 진행\n",
    "mon = data.loc[data[feature] == 'Monday', target]\n",
    "tue = data.loc[data[feature] == 'Tuesday', target]\n",
    "wed = data.loc[data[feature] == 'Wednesday', target]\n",
    "thu = data.loc[data[feature] == 'Thursday', target]\n",
    "fri = data.loc[data[feature] == 'Friday', target]\n",
    "sat = data.loc[data[feature] == 'Saturday', target]\n",
    "sun = data.loc[data[feature] == 'Sunday', target]\n",
    "\n",
    "spst.f_oneway(mon, tue, wed, thu, fri, sat, sun)"
   ]
  },
  {
   "cell_type": "markdown",
   "id": "289906c4-bbed-4707-99f7-ac711fe6f024",
   "metadata": {},
   "source": [
    "#### 9. 풍속"
   ]
  },
  {
   "cell_type": "code",
   "execution_count": 376,
   "id": "9f6ee517-3293-4fc5-82c0-39fcbc3fa006",
   "metadata": {},
   "outputs": [],
   "source": [
    "feature = 'windspeed'"
   ]
  },
  {
   "cell_type": "code",
   "execution_count": 377,
   "id": "9228d54b-eae9-44b9-b6e4-81fe61b1e50a",
   "metadata": {},
   "outputs": [
    {
     "data": {
      "text/plain": [
       "<AxesSubplot:xlabel='windspeed', ylabel='count'>"
      ]
     },
     "execution_count": 377,
     "metadata": {},
     "output_type": "execute_result"
    },
    {
     "data": {
      "image/png": "[encoded data removed]",
      "text/plain": [
       "<Figure size 432x288 with 1 Axes>"
      ]
     },
     "metadata": {},
     "output_type": "display_data"
    }
   ],
   "source": [
    "sns.regplot(x=feature, y=target, data=data)"
   ]
  },
  {
   "cell_type": "code",
   "execution_count": 378,
   "id": "dbe6b9c2-c927-45d8-a269-5b606e44717a",
   "metadata": {},
   "outputs": [
    {
     "data": {
      "text/plain": [
       "(0.22372189900674888, 5.2433176782994606e-67)"
      ]
     },
     "execution_count": 378,
     "metadata": {},
     "output_type": "execute_result"
    }
   ],
   "source": [
    "spst.pearsonr(data[feature], data[target])"
   ]
  },
  {
   "cell_type": "markdown",
   "id": "3fa11aaf-8ee5-4c3c-a021-99d6bee7345c",
   "metadata": {},
   "source": [
    "#### 10. 오존"
   ]
  },
  {
   "cell_type": "code",
   "execution_count": 379,
   "id": "b743d940-6124-42b7-a5d3-dd3841ab93a8",
   "metadata": {},
   "outputs": [],
   "source": [
    "feature = 'ozone'"
   ]
  },
  {
   "cell_type": "code",
   "execution_count": 380,
   "id": "8b095dce-775f-4b3b-94cc-1933a429b79a",
   "metadata": {},
   "outputs": [
    {
     "data": {
      "text/plain": [
       "<AxesSubplot:xlabel='ozone', ylabel='count'>"
      ]
     },
     "execution_count": 380,
     "metadata": {},
     "output_type": "execute_result"
    },
    {
     "data": {
      "image/png": "[encoded data removed]",
      "text/plain": [
       "<Figure size 432x288 with 1 Axes>"
      ]
     },
     "metadata": {},
     "output_type": "display_data"
    }
   ],
   "source": [
    "sns.regplot(x=feature, y=target, data=data)"
   ]
  },
  {
   "cell_type": "code",
   "execution_count": 381,
   "id": "f7a38b8e-1109-4685-a5a7-513a47f8d60d",
   "metadata": {},
   "outputs": [
    {
     "data": {
      "text/plain": [
       "(0.31515136652439446, 1.6076036486068025e-134)"
      ]
     },
     "execution_count": 381,
     "metadata": {},
     "output_type": "execute_result"
    }
   ],
   "source": [
    "spst.pearsonr(data[feature], data[target])"
   ]
  },
  {
   "cell_type": "code",
   "execution_count": 384,
   "id": "3117a744-2a95-4526-b3e1-1c3889eed7ad",
   "metadata": {},
   "outputs": [
    {
     "name": "stdout",
     "output_type": "stream",
     "text": [
      "기온이 높을 수록 오존농도도 높다.\n",
      "0.044245487364620875\n",
      "0.03384595300261098\n"
     ]
    }
   ],
   "source": [
    "print('기온이 높을 수록 오존농도도 높다.')\n",
    "up = summer.loc[summer['diff_temp'] > 0, 'diff_temp'].mean()\n",
    "down = summer.loc[summer['diff_temp'] < 0, 'diff_temp'].mean()\n",
    "print(summer.loc[(summer['diff_temp'] > up), 'ozone'].mean())\n",
    "print(summer.loc[(summer['diff_temp'] < down), 'ozone'].mean())"
   ]
  },
  {
   "cell_type": "markdown",
   "id": "de831539-3208-41d0-bb8a-43e4043a7cea",
   "metadata": {},
   "source": [
    "#### 11. 기타(따릉이 대여량이 평균보다 훨씬 많은 대여량을 보이는 이유는 무엇일까?)"
   ]
  },
  {
   "cell_type": "code",
   "execution_count": 401,
   "id": "86006410-7bb6-413a-9093-c51b4dfd4884",
   "metadata": {},
   "outputs": [
    {
     "data": {
      "text/html": [
       "<div>\n",
       "<style scoped>\n",
       "    .dataframe tbody tr th:only-of-type {\n",
       "        vertical-align: middle;\n",
       "    }\n",
       "\n",
       "    .dataframe tbody tr th {\n",
       "        vertical-align: top;\n",
       "    }\n",
       "\n",
       "    .dataframe thead th {\n",
       "        text-align: right;\n",
       "    }\n",
       "</style>\n",
       "<table border=\"1\" class=\"dataframe\">\n",
       "  <thead>\n",
       "    <tr style=\"text-align: right;\">\n",
       "      <th></th>\n",
       "      <th>date</th>\n",
       "      <th>hour</th>\n",
       "      <th>PM10</th>\n",
       "      <th>PM2.5</th>\n",
       "      <th>ozone</th>\n",
       "      <th>temperature</th>\n",
       "      <th>precipitation</th>\n",
       "      <th>windspeed</th>\n",
       "      <th>humidity</th>\n",
       "      <th>visibility</th>\n",
       "      <th>count</th>\n",
       "      <th>month</th>\n",
       "      <th>meanf</th>\n",
       "      <th>diff_temp</th>\n",
       "    </tr>\n",
       "  </thead>\n",
       "  <tbody>\n",
       "    <tr>\n",
       "      <th>4207</th>\n",
       "      <td>2021-09-02</td>\n",
       "      <td>18</td>\n",
       "      <td>20.0</td>\n",
       "      <td>8.0</td>\n",
       "      <td>0.043</td>\n",
       "      <td>25.4</td>\n",
       "      <td>0</td>\n",
       "      <td>2.1</td>\n",
       "      <td>65</td>\n",
       "      <td>2000</td>\n",
       "      <td>1746</td>\n",
       "      <td>2021-09</td>\n",
       "      <td>25.140000</td>\n",
       "      <td>0.260000</td>\n",
       "    </tr>\n",
       "    <tr>\n",
       "      <th>535</th>\n",
       "      <td>2021-04-28</td>\n",
       "      <td>18</td>\n",
       "      <td>49.0</td>\n",
       "      <td>15.0</td>\n",
       "      <td>0.033</td>\n",
       "      <td>17.2</td>\n",
       "      <td>0</td>\n",
       "      <td>3.0</td>\n",
       "      <td>40</td>\n",
       "      <td>2000</td>\n",
       "      <td>1600</td>\n",
       "      <td>2021-04</td>\n",
       "      <td>17.100000</td>\n",
       "      <td>0.100000</td>\n",
       "    </tr>\n",
       "    <tr>\n",
       "      <th>505</th>\n",
       "      <td>2021-04-28</td>\n",
       "      <td>17</td>\n",
       "      <td>53.0</td>\n",
       "      <td>15.0</td>\n",
       "      <td>0.037</td>\n",
       "      <td>17.1</td>\n",
       "      <td>0</td>\n",
       "      <td>3.0</td>\n",
       "      <td>42</td>\n",
       "      <td>2000</td>\n",
       "      <td>1126</td>\n",
       "      <td>2021-04</td>\n",
       "      <td>17.890000</td>\n",
       "      <td>-0.790000</td>\n",
       "    </tr>\n",
       "    <tr>\n",
       "      <th>4177</th>\n",
       "      <td>2021-09-02</td>\n",
       "      <td>17</td>\n",
       "      <td>15.0</td>\n",
       "      <td>7.0</td>\n",
       "      <td>0.046</td>\n",
       "      <td>25.8</td>\n",
       "      <td>0</td>\n",
       "      <td>1.5</td>\n",
       "      <td>63</td>\n",
       "      <td>2000</td>\n",
       "      <td>1090</td>\n",
       "      <td>2021-09</td>\n",
       "      <td>25.983333</td>\n",
       "      <td>-0.183333</td>\n",
       "    </tr>\n",
       "    <tr>\n",
       "      <th>4237</th>\n",
       "      <td>2021-09-02</td>\n",
       "      <td>19</td>\n",
       "      <td>17.0</td>\n",
       "      <td>9.0</td>\n",
       "      <td>0.039</td>\n",
       "      <td>24.9</td>\n",
       "      <td>0</td>\n",
       "      <td>1.1</td>\n",
       "      <td>66</td>\n",
       "      <td>2000</td>\n",
       "      <td>1086</td>\n",
       "      <td>2021-09</td>\n",
       "      <td>24.050000</td>\n",
       "      <td>0.850000</td>\n",
       "    </tr>\n",
       "    <tr>\n",
       "      <th>4208</th>\n",
       "      <td>2021-09-03</td>\n",
       "      <td>18</td>\n",
       "      <td>6.0</td>\n",
       "      <td>6.0</td>\n",
       "      <td>0.045</td>\n",
       "      <td>28.0</td>\n",
       "      <td>0</td>\n",
       "      <td>2.3</td>\n",
       "      <td>44</td>\n",
       "      <td>2000</td>\n",
       "      <td>1026</td>\n",
       "      <td>2021-09</td>\n",
       "      <td>25.140000</td>\n",
       "      <td>2.860000</td>\n",
       "    </tr>\n",
       "    <tr>\n",
       "      <th>4229</th>\n",
       "      <td>2021-09-24</td>\n",
       "      <td>18</td>\n",
       "      <td>12.0</td>\n",
       "      <td>6.0</td>\n",
       "      <td>0.036</td>\n",
       "      <td>25.4</td>\n",
       "      <td>0</td>\n",
       "      <td>1.9</td>\n",
       "      <td>55</td>\n",
       "      <td>2000</td>\n",
       "      <td>988</td>\n",
       "      <td>2021-09</td>\n",
       "      <td>25.140000</td>\n",
       "      <td>0.260000</td>\n",
       "    </tr>\n",
       "    <tr>\n",
       "      <th>565</th>\n",
       "      <td>2021-04-28</td>\n",
       "      <td>19</td>\n",
       "      <td>39.0</td>\n",
       "      <td>14.0</td>\n",
       "      <td>0.028</td>\n",
       "      <td>16.1</td>\n",
       "      <td>0</td>\n",
       "      <td>1.6</td>\n",
       "      <td>37</td>\n",
       "      <td>2000</td>\n",
       "      <td>976</td>\n",
       "      <td>2021-04</td>\n",
       "      <td>15.863333</td>\n",
       "      <td>0.236667</td>\n",
       "    </tr>\n",
       "    <tr>\n",
       "      <th>4220</th>\n",
       "      <td>2021-09-15</td>\n",
       "      <td>18</td>\n",
       "      <td>12.0</td>\n",
       "      <td>5.0</td>\n",
       "      <td>0.040</td>\n",
       "      <td>25.9</td>\n",
       "      <td>0</td>\n",
       "      <td>4.4</td>\n",
       "      <td>49</td>\n",
       "      <td>2000</td>\n",
       "      <td>965</td>\n",
       "      <td>2021-09</td>\n",
       "      <td>25.140000</td>\n",
       "      <td>0.760000</td>\n",
       "    </tr>\n",
       "    <tr>\n",
       "      <th>4956</th>\n",
       "      <td>2021-10-13</td>\n",
       "      <td>18</td>\n",
       "      <td>15.0</td>\n",
       "      <td>7.0</td>\n",
       "      <td>0.032</td>\n",
       "      <td>22.4</td>\n",
       "      <td>0</td>\n",
       "      <td>1.8</td>\n",
       "      <td>60</td>\n",
       "      <td>2000</td>\n",
       "      <td>963</td>\n",
       "      <td>2021-10</td>\n",
       "      <td>17.412903</td>\n",
       "      <td>4.987097</td>\n",
       "    </tr>\n",
       "    <tr>\n",
       "      <th>4213</th>\n",
       "      <td>2021-09-08</td>\n",
       "      <td>18</td>\n",
       "      <td>15.0</td>\n",
       "      <td>7.0</td>\n",
       "      <td>0.031</td>\n",
       "      <td>25.5</td>\n",
       "      <td>0</td>\n",
       "      <td>3.0</td>\n",
       "      <td>64</td>\n",
       "      <td>2000</td>\n",
       "      <td>953</td>\n",
       "      <td>2021-09</td>\n",
       "      <td>25.140000</td>\n",
       "      <td>0.360000</td>\n",
       "    </tr>\n",
       "    <tr>\n",
       "      <th>4228</th>\n",
       "      <td>2021-09-23</td>\n",
       "      <td>18</td>\n",
       "      <td>14.0</td>\n",
       "      <td>4.0</td>\n",
       "      <td>0.044</td>\n",
       "      <td>23.8</td>\n",
       "      <td>0</td>\n",
       "      <td>2.5</td>\n",
       "      <td>54</td>\n",
       "      <td>2000</td>\n",
       "      <td>949</td>\n",
       "      <td>2021-09</td>\n",
       "      <td>25.140000</td>\n",
       "      <td>-1.340000</td>\n",
       "    </tr>\n",
       "    <tr>\n",
       "      <th>4297</th>\n",
       "      <td>2021-09-02</td>\n",
       "      <td>21</td>\n",
       "      <td>16.0</td>\n",
       "      <td>8.0</td>\n",
       "      <td>0.035</td>\n",
       "      <td>23.8</td>\n",
       "      <td>0</td>\n",
       "      <td>1.6</td>\n",
       "      <td>72</td>\n",
       "      <td>2000</td>\n",
       "      <td>944</td>\n",
       "      <td>2021-09</td>\n",
       "      <td>22.633333</td>\n",
       "      <td>1.166667</td>\n",
       "    </tr>\n",
       "    <tr>\n",
       "      <th>4267</th>\n",
       "      <td>2021-09-02</td>\n",
       "      <td>20</td>\n",
       "      <td>22.0</td>\n",
       "      <td>9.0</td>\n",
       "      <td>0.037</td>\n",
       "      <td>24.1</td>\n",
       "      <td>0</td>\n",
       "      <td>2.2</td>\n",
       "      <td>70</td>\n",
       "      <td>2000</td>\n",
       "      <td>942</td>\n",
       "      <td>2021-09</td>\n",
       "      <td>23.260000</td>\n",
       "      <td>0.840000</td>\n",
       "    </tr>\n",
       "    <tr>\n",
       "      <th>4218</th>\n",
       "      <td>2021-09-13</td>\n",
       "      <td>18</td>\n",
       "      <td>28.0</td>\n",
       "      <td>15.0</td>\n",
       "      <td>0.052</td>\n",
       "      <td>28.2</td>\n",
       "      <td>0</td>\n",
       "      <td>2.8</td>\n",
       "      <td>54</td>\n",
       "      <td>2000</td>\n",
       "      <td>939</td>\n",
       "      <td>2021-09</td>\n",
       "      <td>25.140000</td>\n",
       "      <td>3.060000</td>\n",
       "    </tr>\n",
       "    <tr>\n",
       "      <th>4219</th>\n",
       "      <td>2021-09-14</td>\n",
       "      <td>18</td>\n",
       "      <td>18.0</td>\n",
       "      <td>15.0</td>\n",
       "      <td>0.043</td>\n",
       "      <td>28.4</td>\n",
       "      <td>0</td>\n",
       "      <td>1.6</td>\n",
       "      <td>48</td>\n",
       "      <td>2000</td>\n",
       "      <td>932</td>\n",
       "      <td>2021-09</td>\n",
       "      <td>25.140000</td>\n",
       "      <td>3.260000</td>\n",
       "    </tr>\n",
       "    <tr>\n",
       "      <th>4235</th>\n",
       "      <td>2021-09-30</td>\n",
       "      <td>18</td>\n",
       "      <td>31.0</td>\n",
       "      <td>14.0</td>\n",
       "      <td>0.035</td>\n",
       "      <td>24.2</td>\n",
       "      <td>0</td>\n",
       "      <td>2.3</td>\n",
       "      <td>70</td>\n",
       "      <td>2000</td>\n",
       "      <td>925</td>\n",
       "      <td>2021-09</td>\n",
       "      <td>25.140000</td>\n",
       "      <td>-0.940000</td>\n",
       "    </tr>\n",
       "    <tr>\n",
       "      <th>2003</th>\n",
       "      <td>2021-06-04</td>\n",
       "      <td>18</td>\n",
       "      <td>33.0</td>\n",
       "      <td>12.0</td>\n",
       "      <td>0.059</td>\n",
       "      <td>22.5</td>\n",
       "      <td>0</td>\n",
       "      <td>4.3</td>\n",
       "      <td>45</td>\n",
       "      <td>2000</td>\n",
       "      <td>921</td>\n",
       "      <td>2021-06</td>\n",
       "      <td>25.696667</td>\n",
       "      <td>-3.196667</td>\n",
       "    </tr>\n",
       "    <tr>\n",
       "      <th>4944</th>\n",
       "      <td>2021-10-01</td>\n",
       "      <td>18</td>\n",
       "      <td>41.0</td>\n",
       "      <td>21.0</td>\n",
       "      <td>0.054</td>\n",
       "      <td>23.9</td>\n",
       "      <td>0</td>\n",
       "      <td>3.2</td>\n",
       "      <td>59</td>\n",
       "      <td>2000</td>\n",
       "      <td>915</td>\n",
       "      <td>2021-10</td>\n",
       "      <td>17.412903</td>\n",
       "      <td>6.487097</td>\n",
       "    </tr>\n",
       "    <tr>\n",
       "      <th>2020</th>\n",
       "      <td>2021-06-21</td>\n",
       "      <td>18</td>\n",
       "      <td>25.0</td>\n",
       "      <td>13.0</td>\n",
       "      <td>0.048</td>\n",
       "      <td>27.4</td>\n",
       "      <td>0</td>\n",
       "      <td>4.5</td>\n",
       "      <td>52</td>\n",
       "      <td>2000</td>\n",
       "      <td>906</td>\n",
       "      <td>2021-06</td>\n",
       "      <td>25.696667</td>\n",
       "      <td>1.703333</td>\n",
       "    </tr>\n",
       "  </tbody>\n",
       "</table>\n",
       "</div>"
      ],
      "text/plain": [
       "           date  hour  PM10  PM2.5  ozone  temperature  precipitation  \\\n",
       "4207 2021-09-02    18  20.0    8.0  0.043         25.4              0   \n",
       "535  2021-04-28    18  49.0   15.0  0.033         17.2              0   \n",
       "505  2021-04-28    17  53.0   15.0  0.037         17.1              0   \n",
       "4177 2021-09-02    17  15.0    7.0  0.046         25.8              0   \n",
       "4237 2021-09-02    19  17.0    9.0  0.039         24.9              0   \n",
       "4208 2021-09-03    18   6.0    6.0  0.045         28.0              0   \n",
       "4229 2021-09-24    18  12.0    6.0  0.036         25.4              0   \n",
       "565  2021-04-28    19  39.0   14.0  0.028         16.1              0   \n",
       "4220 2021-09-15    18  12.0    5.0  0.040         25.9              0   \n",
       "4956 2021-10-13    18  15.0    7.0  0.032         22.4              0   \n",
       "4213 2021-09-08    18  15.0    7.0  0.031         25.5              0   \n",
       "4228 2021-09-23    18  14.0    4.0  0.044         23.8              0   \n",
       "4297 2021-09-02    21  16.0    8.0  0.035         23.8              0   \n",
       "4267 2021-09-02    20  22.0    9.0  0.037         24.1              0   \n",
       "4218 2021-09-13    18  28.0   15.0  0.052         28.2              0   \n",
       "4219 2021-09-14    18  18.0   15.0  0.043         28.4              0   \n",
       "4235 2021-09-30    18  31.0   14.0  0.035         24.2              0   \n",
       "2003 2021-06-04    18  33.0   12.0  0.059         22.5              0   \n",
       "4944 2021-10-01    18  41.0   21.0  0.054         23.9              0   \n",
       "2020 2021-06-21    18  25.0   13.0  0.048         27.4              0   \n",
       "\n",
       "      windspeed  humidity  visibility  count    month      meanf  diff_temp  \n",
       "4207        2.1        65        2000   1746  2021-09  25.140000   0.260000  \n",
       "535         3.0        40        2000   1600  2021-04  17.100000   0.100000  \n",
       "505         3.0        42        2000   1126  2021-04  17.890000  -0.790000  \n",
       "4177        1.5        63        2000   1090  2021-09  25.983333  -0.183333  \n",
       "4237        1.1        66        2000   1086  2021-09  24.050000   0.850000  \n",
       "4208        2.3        44        2000   1026  2021-09  25.140000   2.860000  \n",
       "4229        1.9        55        2000    988  2021-09  25.140000   0.260000  \n",
       "565         1.6        37        2000    976  2021-04  15.863333   0.236667  \n",
       "4220        4.4        49        2000    965  2021-09  25.140000   0.760000  \n",
       "4956        1.8        60        2000    963  2021-10  17.412903   4.987097  \n",
       "4213        3.0        64        2000    953  2021-09  25.140000   0.360000  \n",
       "4228        2.5        54        2000    949  2021-09  25.140000  -1.340000  \n",
       "4297        1.6        72        2000    944  2021-09  22.633333   1.166667  \n",
       "4267        2.2        70        2000    942  2021-09  23.260000   0.840000  \n",
       "4218        2.8        54        2000    939  2021-09  25.140000   3.060000  \n",
       "4219        1.6        48        2000    932  2021-09  25.140000   3.260000  \n",
       "4235        2.3        70        2000    925  2021-09  25.140000  -0.940000  \n",
       "2003        4.3        45        2000    921  2021-06  25.696667  -3.196667  \n",
       "4944        3.2        59        2000    915  2021-10  17.412903   6.487097  \n",
       "2020        4.5        52        2000    906  2021-06  25.696667   1.703333  "
      ]
     },
     "execution_count": 401,
     "metadata": {},
     "output_type": "execute_result"
    }
   ],
   "source": [
    "month_temp.sort_values(target, ascending=False).head(20) # 평균 오존 : 0.03, 평균 풍속 : 2"
   ]
  },
  {
   "cell_type": "code",
   "execution_count": 402,
   "id": "989dd85f-1a8c-4375-9cae-54bfc9e757e6",
   "metadata": {},
   "outputs": [
    {
     "data": {
      "text/html": [
       "<div>\n",
       "<style scoped>\n",
       "    .dataframe tbody tr th:only-of-type {\n",
       "        vertical-align: middle;\n",
       "    }\n",
       "\n",
       "    .dataframe tbody tr th {\n",
       "        vertical-align: top;\n",
       "    }\n",
       "\n",
       "    .dataframe thead th {\n",
       "        text-align: right;\n",
       "    }\n",
       "</style>\n",
       "<table border=\"1\" class=\"dataframe\">\n",
       "  <thead>\n",
       "    <tr style=\"text-align: right;\">\n",
       "      <th></th>\n",
       "      <th>date</th>\n",
       "      <th>hour</th>\n",
       "      <th>PM10</th>\n",
       "      <th>PM2.5</th>\n",
       "      <th>ozone</th>\n",
       "      <th>temperature</th>\n",
       "      <th>precipitation</th>\n",
       "      <th>windspeed</th>\n",
       "      <th>humidity</th>\n",
       "      <th>visibility</th>\n",
       "      <th>count</th>\n",
       "      <th>month</th>\n",
       "      <th>day</th>\n",
       "    </tr>\n",
       "  </thead>\n",
       "  <tbody>\n",
       "    <tr>\n",
       "      <th>3710</th>\n",
       "      <td>2021-09-02</td>\n",
       "      <td>18</td>\n",
       "      <td>20.0</td>\n",
       "      <td>8.0</td>\n",
       "      <td>0.043</td>\n",
       "      <td>25.4</td>\n",
       "      <td>0</td>\n",
       "      <td>2.1</td>\n",
       "      <td>65</td>\n",
       "      <td>2000</td>\n",
       "      <td>1746</td>\n",
       "      <td>2021-09</td>\n",
       "      <td>Thursday</td>\n",
       "    </tr>\n",
       "    <tr>\n",
       "      <th>665</th>\n",
       "      <td>2021-04-28</td>\n",
       "      <td>18</td>\n",
       "      <td>49.0</td>\n",
       "      <td>15.0</td>\n",
       "      <td>0.033</td>\n",
       "      <td>17.2</td>\n",
       "      <td>0</td>\n",
       "      <td>3.0</td>\n",
       "      <td>40</td>\n",
       "      <td>2000</td>\n",
       "      <td>1600</td>\n",
       "      <td>2021-04</td>\n",
       "      <td>Wednesday</td>\n",
       "    </tr>\n",
       "    <tr>\n",
       "      <th>664</th>\n",
       "      <td>2021-04-28</td>\n",
       "      <td>17</td>\n",
       "      <td>53.0</td>\n",
       "      <td>15.0</td>\n",
       "      <td>0.037</td>\n",
       "      <td>17.1</td>\n",
       "      <td>0</td>\n",
       "      <td>3.0</td>\n",
       "      <td>42</td>\n",
       "      <td>2000</td>\n",
       "      <td>1126</td>\n",
       "      <td>2021-04</td>\n",
       "      <td>Wednesday</td>\n",
       "    </tr>\n",
       "    <tr>\n",
       "      <th>3709</th>\n",
       "      <td>2021-09-02</td>\n",
       "      <td>17</td>\n",
       "      <td>15.0</td>\n",
       "      <td>7.0</td>\n",
       "      <td>0.046</td>\n",
       "      <td>25.8</td>\n",
       "      <td>0</td>\n",
       "      <td>1.5</td>\n",
       "      <td>63</td>\n",
       "      <td>2000</td>\n",
       "      <td>1090</td>\n",
       "      <td>2021-09</td>\n",
       "      <td>Thursday</td>\n",
       "    </tr>\n",
       "    <tr>\n",
       "      <th>3711</th>\n",
       "      <td>2021-09-02</td>\n",
       "      <td>19</td>\n",
       "      <td>17.0</td>\n",
       "      <td>9.0</td>\n",
       "      <td>0.039</td>\n",
       "      <td>24.9</td>\n",
       "      <td>0</td>\n",
       "      <td>1.1</td>\n",
       "      <td>66</td>\n",
       "      <td>2000</td>\n",
       "      <td>1086</td>\n",
       "      <td>2021-09</td>\n",
       "      <td>Thursday</td>\n",
       "    </tr>\n",
       "    <tr>\n",
       "      <th>3734</th>\n",
       "      <td>2021-09-03</td>\n",
       "      <td>18</td>\n",
       "      <td>6.0</td>\n",
       "      <td>6.0</td>\n",
       "      <td>0.045</td>\n",
       "      <td>28.0</td>\n",
       "      <td>0</td>\n",
       "      <td>2.3</td>\n",
       "      <td>44</td>\n",
       "      <td>2000</td>\n",
       "      <td>1026</td>\n",
       "      <td>2021-09</td>\n",
       "      <td>Friday</td>\n",
       "    </tr>\n",
       "    <tr>\n",
       "      <th>4236</th>\n",
       "      <td>2021-09-24</td>\n",
       "      <td>18</td>\n",
       "      <td>12.0</td>\n",
       "      <td>6.0</td>\n",
       "      <td>0.036</td>\n",
       "      <td>25.4</td>\n",
       "      <td>0</td>\n",
       "      <td>1.9</td>\n",
       "      <td>55</td>\n",
       "      <td>2000</td>\n",
       "      <td>988</td>\n",
       "      <td>2021-09</td>\n",
       "      <td>Friday</td>\n",
       "    </tr>\n",
       "    <tr>\n",
       "      <th>666</th>\n",
       "      <td>2021-04-28</td>\n",
       "      <td>19</td>\n",
       "      <td>39.0</td>\n",
       "      <td>14.0</td>\n",
       "      <td>0.028</td>\n",
       "      <td>16.1</td>\n",
       "      <td>0</td>\n",
       "      <td>1.6</td>\n",
       "      <td>37</td>\n",
       "      <td>2000</td>\n",
       "      <td>976</td>\n",
       "      <td>2021-04</td>\n",
       "      <td>Wednesday</td>\n",
       "    </tr>\n",
       "    <tr>\n",
       "      <th>4022</th>\n",
       "      <td>2021-09-15</td>\n",
       "      <td>18</td>\n",
       "      <td>12.0</td>\n",
       "      <td>5.0</td>\n",
       "      <td>0.040</td>\n",
       "      <td>25.9</td>\n",
       "      <td>0</td>\n",
       "      <td>4.4</td>\n",
       "      <td>49</td>\n",
       "      <td>2000</td>\n",
       "      <td>965</td>\n",
       "      <td>2021-09</td>\n",
       "      <td>Wednesday</td>\n",
       "    </tr>\n",
       "    <tr>\n",
       "      <th>4692</th>\n",
       "      <td>2021-10-13</td>\n",
       "      <td>18</td>\n",
       "      <td>15.0</td>\n",
       "      <td>7.0</td>\n",
       "      <td>0.032</td>\n",
       "      <td>22.4</td>\n",
       "      <td>0</td>\n",
       "      <td>1.8</td>\n",
       "      <td>60</td>\n",
       "      <td>2000</td>\n",
       "      <td>963</td>\n",
       "      <td>2021-10</td>\n",
       "      <td>Wednesday</td>\n",
       "    </tr>\n",
       "    <tr>\n",
       "      <th>3854</th>\n",
       "      <td>2021-09-08</td>\n",
       "      <td>18</td>\n",
       "      <td>15.0</td>\n",
       "      <td>7.0</td>\n",
       "      <td>0.031</td>\n",
       "      <td>25.5</td>\n",
       "      <td>0</td>\n",
       "      <td>3.0</td>\n",
       "      <td>64</td>\n",
       "      <td>2000</td>\n",
       "      <td>953</td>\n",
       "      <td>2021-09</td>\n",
       "      <td>Wednesday</td>\n",
       "    </tr>\n",
       "    <tr>\n",
       "      <th>4212</th>\n",
       "      <td>2021-09-23</td>\n",
       "      <td>18</td>\n",
       "      <td>14.0</td>\n",
       "      <td>4.0</td>\n",
       "      <td>0.044</td>\n",
       "      <td>23.8</td>\n",
       "      <td>0</td>\n",
       "      <td>2.5</td>\n",
       "      <td>54</td>\n",
       "      <td>2000</td>\n",
       "      <td>949</td>\n",
       "      <td>2021-09</td>\n",
       "      <td>Thursday</td>\n",
       "    </tr>\n",
       "    <tr>\n",
       "      <th>3713</th>\n",
       "      <td>2021-09-02</td>\n",
       "      <td>21</td>\n",
       "      <td>16.0</td>\n",
       "      <td>8.0</td>\n",
       "      <td>0.035</td>\n",
       "      <td>23.8</td>\n",
       "      <td>0</td>\n",
       "      <td>1.6</td>\n",
       "      <td>72</td>\n",
       "      <td>2000</td>\n",
       "      <td>944</td>\n",
       "      <td>2021-09</td>\n",
       "      <td>Thursday</td>\n",
       "    </tr>\n",
       "    <tr>\n",
       "      <th>3712</th>\n",
       "      <td>2021-09-02</td>\n",
       "      <td>20</td>\n",
       "      <td>22.0</td>\n",
       "      <td>9.0</td>\n",
       "      <td>0.037</td>\n",
       "      <td>24.1</td>\n",
       "      <td>0</td>\n",
       "      <td>2.2</td>\n",
       "      <td>70</td>\n",
       "      <td>2000</td>\n",
       "      <td>942</td>\n",
       "      <td>2021-09</td>\n",
       "      <td>Thursday</td>\n",
       "    </tr>\n",
       "    <tr>\n",
       "      <th>3974</th>\n",
       "      <td>2021-09-13</td>\n",
       "      <td>18</td>\n",
       "      <td>28.0</td>\n",
       "      <td>15.0</td>\n",
       "      <td>0.052</td>\n",
       "      <td>28.2</td>\n",
       "      <td>0</td>\n",
       "      <td>2.8</td>\n",
       "      <td>54</td>\n",
       "      <td>2000</td>\n",
       "      <td>939</td>\n",
       "      <td>2021-09</td>\n",
       "      <td>Monday</td>\n",
       "    </tr>\n",
       "    <tr>\n",
       "      <th>3998</th>\n",
       "      <td>2021-09-14</td>\n",
       "      <td>18</td>\n",
       "      <td>18.0</td>\n",
       "      <td>15.0</td>\n",
       "      <td>0.043</td>\n",
       "      <td>28.4</td>\n",
       "      <td>0</td>\n",
       "      <td>1.6</td>\n",
       "      <td>48</td>\n",
       "      <td>2000</td>\n",
       "      <td>932</td>\n",
       "      <td>2021-09</td>\n",
       "      <td>Tuesday</td>\n",
       "    </tr>\n",
       "    <tr>\n",
       "      <th>4380</th>\n",
       "      <td>2021-09-30</td>\n",
       "      <td>18</td>\n",
       "      <td>31.0</td>\n",
       "      <td>14.0</td>\n",
       "      <td>0.035</td>\n",
       "      <td>24.2</td>\n",
       "      <td>0</td>\n",
       "      <td>2.3</td>\n",
       "      <td>70</td>\n",
       "      <td>2000</td>\n",
       "      <td>925</td>\n",
       "      <td>2021-09</td>\n",
       "      <td>Thursday</td>\n",
       "    </tr>\n",
       "    <tr>\n",
       "      <th>1550</th>\n",
       "      <td>2021-06-04</td>\n",
       "      <td>18</td>\n",
       "      <td>33.0</td>\n",
       "      <td>12.0</td>\n",
       "      <td>0.059</td>\n",
       "      <td>22.5</td>\n",
       "      <td>0</td>\n",
       "      <td>4.3</td>\n",
       "      <td>45</td>\n",
       "      <td>2000</td>\n",
       "      <td>921</td>\n",
       "      <td>2021-06</td>\n",
       "      <td>Friday</td>\n",
       "    </tr>\n",
       "    <tr>\n",
       "      <th>4404</th>\n",
       "      <td>2021-10-01</td>\n",
       "      <td>18</td>\n",
       "      <td>41.0</td>\n",
       "      <td>21.0</td>\n",
       "      <td>0.054</td>\n",
       "      <td>23.9</td>\n",
       "      <td>0</td>\n",
       "      <td>3.2</td>\n",
       "      <td>59</td>\n",
       "      <td>2000</td>\n",
       "      <td>915</td>\n",
       "      <td>2021-10</td>\n",
       "      <td>Friday</td>\n",
       "    </tr>\n",
       "    <tr>\n",
       "      <th>1958</th>\n",
       "      <td>2021-06-21</td>\n",
       "      <td>18</td>\n",
       "      <td>25.0</td>\n",
       "      <td>13.0</td>\n",
       "      <td>0.048</td>\n",
       "      <td>27.4</td>\n",
       "      <td>0</td>\n",
       "      <td>4.5</td>\n",
       "      <td>52</td>\n",
       "      <td>2000</td>\n",
       "      <td>906</td>\n",
       "      <td>2021-06</td>\n",
       "      <td>Monday</td>\n",
       "    </tr>\n",
       "  </tbody>\n",
       "</table>\n",
       "</div>"
      ],
      "text/plain": [
       "           date  hour  PM10  PM2.5  ozone  temperature  precipitation  \\\n",
       "3710 2021-09-02    18  20.0    8.0  0.043         25.4              0   \n",
       "665  2021-04-28    18  49.0   15.0  0.033         17.2              0   \n",
       "664  2021-04-28    17  53.0   15.0  0.037         17.1              0   \n",
       "3709 2021-09-02    17  15.0    7.0  0.046         25.8              0   \n",
       "3711 2021-09-02    19  17.0    9.0  0.039         24.9              0   \n",
       "3734 2021-09-03    18   6.0    6.0  0.045         28.0              0   \n",
       "4236 2021-09-24    18  12.0    6.0  0.036         25.4              0   \n",
       "666  2021-04-28    19  39.0   14.0  0.028         16.1              0   \n",
       "4022 2021-09-15    18  12.0    5.0  0.040         25.9              0   \n",
       "4692 2021-10-13    18  15.0    7.0  0.032         22.4              0   \n",
       "3854 2021-09-08    18  15.0    7.0  0.031         25.5              0   \n",
       "4212 2021-09-23    18  14.0    4.0  0.044         23.8              0   \n",
       "3713 2021-09-02    21  16.0    8.0  0.035         23.8              0   \n",
       "3712 2021-09-02    20  22.0    9.0  0.037         24.1              0   \n",
       "3974 2021-09-13    18  28.0   15.0  0.052         28.2              0   \n",
       "3998 2021-09-14    18  18.0   15.0  0.043         28.4              0   \n",
       "4380 2021-09-30    18  31.0   14.0  0.035         24.2              0   \n",
       "1550 2021-06-04    18  33.0   12.0  0.059         22.5              0   \n",
       "4404 2021-10-01    18  41.0   21.0  0.054         23.9              0   \n",
       "1958 2021-06-21    18  25.0   13.0  0.048         27.4              0   \n",
       "\n",
       "      windspeed  humidity  visibility  count    month        day  \n",
       "3710        2.1        65        2000   1746  2021-09   Thursday  \n",
       "665         3.0        40        2000   1600  2021-04  Wednesday  \n",
       "664         3.0        42        2000   1126  2021-04  Wednesday  \n",
       "3709        1.5        63        2000   1090  2021-09   Thursday  \n",
       "3711        1.1        66        2000   1086  2021-09   Thursday  \n",
       "3734        2.3        44        2000   1026  2021-09     Friday  \n",
       "4236        1.9        55        2000    988  2021-09     Friday  \n",
       "666         1.6        37        2000    976  2021-04  Wednesday  \n",
       "4022        4.4        49        2000    965  2021-09  Wednesday  \n",
       "4692        1.8        60        2000    963  2021-10  Wednesday  \n",
       "3854        3.0        64        2000    953  2021-09  Wednesday  \n",
       "4212        2.5        54        2000    949  2021-09   Thursday  \n",
       "3713        1.6        72        2000    944  2021-09   Thursday  \n",
       "3712        2.2        70        2000    942  2021-09   Thursday  \n",
       "3974        2.8        54        2000    939  2021-09     Monday  \n",
       "3998        1.6        48        2000    932  2021-09    Tuesday  \n",
       "4380        2.3        70        2000    925  2021-09   Thursday  \n",
       "1550        4.3        45        2000    921  2021-06     Friday  \n",
       "4404        3.2        59        2000    915  2021-10     Friday  \n",
       "1958        4.5        52        2000    906  2021-06     Monday  "
      ]
     },
     "execution_count": 402,
     "metadata": {},
     "output_type": "execute_result"
    }
   ],
   "source": [
    "data.sort_values(target, ascending=False).head(20)"
   ]
  },
  {
   "cell_type": "markdown",
   "id": "98aeed75",
   "metadata": {},
   "source": [
    "### 5. 가설 검정"
   ]
  },
  {
   "cell_type": "markdown",
   "id": "8b1f5479",
   "metadata": {},
   "source": [
    "#### <font color='green'>1. 강한 관계의 변수 (대립가설 채택)</font>"
   ]
  },
  {
   "cell_type": "markdown",
   "id": "ebfea2a3",
   "metadata": {},
   "source": [
    "강수여부, 시간대, 온도, 습도, 시정, 요일"
   ]
  },
  {
   "cell_type": "markdown",
   "id": "656b4439",
   "metadata": {},
   "source": [
    "#### <font color='green'>2. 약한 관계의 변수</font>\n"
   ]
  },
  {
   "cell_type": "markdown",
   "id": "8af19768",
   "metadata": {},
   "source": [
    "미세먼지, 초미세먼지"
   ]
  },
  {
   "cell_type": "markdown",
   "id": "38b18e41",
   "metadata": {},
   "source": [
    "#### <font color='green'>3. 관계 없는 변수 (귀무가설 채택)</font>\n"
   ]
  },
  {
   "cell_type": "markdown",
   "id": "6afd4247",
   "metadata": {},
   "source": []
  },
  {
   "cell_type": "markdown",
   "id": "51c63e70",
   "metadata": {},
   "source": [
    "### 6. Insight 도출"
   ]
  },
  {
   "cell_type": "markdown",
   "id": "463d041a",
   "metadata": {},
   "source": [
    "- 강수가 없을수록 따릉이 대여량이 높다.\n",
    "- 출근시간인 오전 8시, 퇴근시간인 오후 6시에 따릉이 대여량이 높다.\n",
    "- 겨울의 경우 평균 기온차보다 높은 따듯한 날일 경우 따릉이 대여량이 더 높다.\n",
    "- 습도가 적정습도일 경우 따릉이 대여량이 더 높다.\n",
    "- 시정 데이터가 평균보다 높을 경우 따릉이 대여량이 더 높다.\n",
    "- 수요일에 따릉이 대여량이 가장 많으며 주말보다 평일에 따릉이 대여량이 더 높다."
   ]
  },
  {
   "cell_type": "code",
   "execution_count": null,
   "id": "5bfd3fa5-c1d2-4dba-bbb9-c1a006e5e998",
   "metadata": {},
   "outputs": [],
   "source": []
  }
 ],
 "metadata": {
  "colab": {
   "name": "1. 데이터 불러오기 및 분석(EDA).ipynb",
   "provenance": []
  },
  "kernelspec": {
   "display_name": "Python 3",
   "language": "python",
   "name": "python3"
  },
  "language_info": {
   "codemirror_mode": {
    "name": "ipython",
    "version": 3
   },
   "file_extension": ".py",
   "mimetype": "text/x-python",
   "name": "python",
   "nbconvert_exporter": "python",
   "pygments_lexer": "ipython3",
   "version": "3.8.8"
  },
  "vscode": {
   "interpreter": {
    "hash": "e42634819b8c191a5d07eaf23810ff32516dd8d3875f28ec3e488928fbd3c187"
   }
  }
 },
 "nbformat": 4,
 "nbformat_minor": 5
}
