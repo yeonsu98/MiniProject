{
 "cells": [
  {
   "cell_type": "markdown",
   "id": "boxed-jamaica",
   "metadata": {
    "id": "boxed-jamaica"
   },
   "source": [
    "# 안녕하세요:)\n",
    "\n",
    "## AIVLE 1차 미니프로젝트 '서울시 생활정보 기반 대중교통 수요 분석 ' 과정에 오신 여러분을 환영합니다.\n",
    "* 본 과정에서는 서울시 생활정보 데이터를 기반으로 데이터 분석을 시도하고 주어진 문제를 해결할 것입니다.\n",
    "\n",
    "\n",
    "* 우리는 공공 데이터를 활용해 버스노선 관련 인사이트를 도출하여 유용한 정책을 세우는데 도움을 주고자 합니다"
   ]
  },
  {
   "cell_type": "markdown",
   "id": "46fa690c",
   "metadata": {
    "id": "46fa690c"
   },
   "source": [
    "## ▣ 우리가 풀어야 하는 문제는 무엇인가요?\n",
    "\n",
    "* 제공 데이터\n",
    "    - 구 별 유동인구 데이터\n",
    "    - 구 별 주민 등록 데이터\n",
    "    - 구 별 업종 등록 정보\n",
    "    - 버스 승하차 및 운행 노선 데이터 \n",
    "\n",
    "### 위 제공 데이터를 분석하여 버스 노선 추가 필요 대상 지역(구 단위)을 선정합니다"
   ]
  },
  {
   "cell_type": "markdown",
   "id": "22a4bba9",
   "metadata": {},
   "source": [
    "# 이 4개의 데이터들을 어떻게 합칠까요?"
   ]
  },
  {
   "cell_type": "code",
   "execution_count": 1,
   "id": "ce78669f",
   "metadata": {},
   "outputs": [],
   "source": [
    "import pandas as pd"
   ]
  },
  {
   "cell_type": "code",
   "execution_count": 2,
   "id": "d91f797e",
   "metadata": {},
   "outputs": [],
   "source": [
    "standard = pd.DataFrame({'도착 시군구 코드': [11010, 11020, 11030, 11040, 11050, 11060, 11070, 11080, 11090, 11100, 11110, 11120, 11130, 11140, 11150, 11160, 11170, 11180, 11190, 11200, 11210, 11220, 11230, 11240, 11250],\n",
    "                         '자치구' :['종로구','중구','용산구','성동구','광진구','동대문구','중랑구','성북구','강북구','도봉구','노원구','은평구','서대문구','마포구','양천구','강서구','구로구','금천구','영등포구','동작구','관악구','서초구','강남구','송파구','강동구']})"
   ]
  },
  {
   "cell_type": "code",
   "execution_count": 3,
   "id": "823d3b41",
   "metadata": {},
   "outputs": [
    {
     "data": {
      "text/html": [
       "<div>\n",
       "<style scoped>\n",
       "    .dataframe tbody tr th:only-of-type {\n",
       "        vertical-align: middle;\n",
       "    }\n",
       "\n",
       "    .dataframe tbody tr th {\n",
       "        vertical-align: top;\n",
       "    }\n",
       "\n",
       "    .dataframe thead th {\n",
       "        text-align: right;\n",
       "    }\n",
       "</style>\n",
       "<table border=\"1\" class=\"dataframe\">\n",
       "  <thead>\n",
       "    <tr style=\"text-align: right;\">\n",
       "      <th></th>\n",
       "      <th>도착 시군구 코드</th>\n",
       "      <th>자치구</th>\n",
       "    </tr>\n",
       "  </thead>\n",
       "  <tbody>\n",
       "    <tr>\n",
       "      <th>0</th>\n",
       "      <td>11010</td>\n",
       "      <td>종로구</td>\n",
       "    </tr>\n",
       "    <tr>\n",
       "      <th>1</th>\n",
       "      <td>11020</td>\n",
       "      <td>중구</td>\n",
       "    </tr>\n",
       "    <tr>\n",
       "      <th>2</th>\n",
       "      <td>11030</td>\n",
       "      <td>용산구</td>\n",
       "    </tr>\n",
       "    <tr>\n",
       "      <th>3</th>\n",
       "      <td>11040</td>\n",
       "      <td>성동구</td>\n",
       "    </tr>\n",
       "    <tr>\n",
       "      <th>4</th>\n",
       "      <td>11050</td>\n",
       "      <td>광진구</td>\n",
       "    </tr>\n",
       "    <tr>\n",
       "      <th>5</th>\n",
       "      <td>11060</td>\n",
       "      <td>동대문구</td>\n",
       "    </tr>\n",
       "    <tr>\n",
       "      <th>6</th>\n",
       "      <td>11070</td>\n",
       "      <td>중랑구</td>\n",
       "    </tr>\n",
       "    <tr>\n",
       "      <th>7</th>\n",
       "      <td>11080</td>\n",
       "      <td>성북구</td>\n",
       "    </tr>\n",
       "    <tr>\n",
       "      <th>8</th>\n",
       "      <td>11090</td>\n",
       "      <td>강북구</td>\n",
       "    </tr>\n",
       "    <tr>\n",
       "      <th>9</th>\n",
       "      <td>11100</td>\n",
       "      <td>도봉구</td>\n",
       "    </tr>\n",
       "    <tr>\n",
       "      <th>10</th>\n",
       "      <td>11110</td>\n",
       "      <td>노원구</td>\n",
       "    </tr>\n",
       "    <tr>\n",
       "      <th>11</th>\n",
       "      <td>11120</td>\n",
       "      <td>은평구</td>\n",
       "    </tr>\n",
       "    <tr>\n",
       "      <th>12</th>\n",
       "      <td>11130</td>\n",
       "      <td>서대문구</td>\n",
       "    </tr>\n",
       "    <tr>\n",
       "      <th>13</th>\n",
       "      <td>11140</td>\n",
       "      <td>마포구</td>\n",
       "    </tr>\n",
       "    <tr>\n",
       "      <th>14</th>\n",
       "      <td>11150</td>\n",
       "      <td>양천구</td>\n",
       "    </tr>\n",
       "    <tr>\n",
       "      <th>15</th>\n",
       "      <td>11160</td>\n",
       "      <td>강서구</td>\n",
       "    </tr>\n",
       "    <tr>\n",
       "      <th>16</th>\n",
       "      <td>11170</td>\n",
       "      <td>구로구</td>\n",
       "    </tr>\n",
       "    <tr>\n",
       "      <th>17</th>\n",
       "      <td>11180</td>\n",
       "      <td>금천구</td>\n",
       "    </tr>\n",
       "    <tr>\n",
       "      <th>18</th>\n",
       "      <td>11190</td>\n",
       "      <td>영등포구</td>\n",
       "    </tr>\n",
       "    <tr>\n",
       "      <th>19</th>\n",
       "      <td>11200</td>\n",
       "      <td>동작구</td>\n",
       "    </tr>\n",
       "    <tr>\n",
       "      <th>20</th>\n",
       "      <td>11210</td>\n",
       "      <td>관악구</td>\n",
       "    </tr>\n",
       "    <tr>\n",
       "      <th>21</th>\n",
       "      <td>11220</td>\n",
       "      <td>서초구</td>\n",
       "    </tr>\n",
       "    <tr>\n",
       "      <th>22</th>\n",
       "      <td>11230</td>\n",
       "      <td>강남구</td>\n",
       "    </tr>\n",
       "    <tr>\n",
       "      <th>23</th>\n",
       "      <td>11240</td>\n",
       "      <td>송파구</td>\n",
       "    </tr>\n",
       "    <tr>\n",
       "      <th>24</th>\n",
       "      <td>11250</td>\n",
       "      <td>강동구</td>\n",
       "    </tr>\n",
       "  </tbody>\n",
       "</table>\n",
       "</div>"
      ],
      "text/plain": [
       "    도착 시군구 코드   자치구\n",
       "0       11010   종로구\n",
       "1       11020    중구\n",
       "2       11030   용산구\n",
       "3       11040   성동구\n",
       "4       11050   광진구\n",
       "5       11060  동대문구\n",
       "6       11070   중랑구\n",
       "7       11080   성북구\n",
       "8       11090   강북구\n",
       "9       11100   도봉구\n",
       "10      11110   노원구\n",
       "11      11120   은평구\n",
       "12      11130  서대문구\n",
       "13      11140   마포구\n",
       "14      11150   양천구\n",
       "15      11160   강서구\n",
       "16      11170   구로구\n",
       "17      11180   금천구\n",
       "18      11190  영등포구\n",
       "19      11200   동작구\n",
       "20      11210   관악구\n",
       "21      11220   서초구\n",
       "22      11230   강남구\n",
       "23      11240   송파구\n",
       "24      11250   강동구"
      ]
     },
     "execution_count": 3,
     "metadata": {},
     "output_type": "execute_result"
    }
   ],
   "source": [
    "standard"
   ]
  },
  {
   "cell_type": "code",
   "execution_count": 4,
   "id": "5ee007e0",
   "metadata": {},
   "outputs": [],
   "source": [
    "# 버스 정류장 데이터 - df_seoul_bus_station\n",
    "# 유동인구 데이터 - df_seoul_moving\n",
    "# 구별 상권 데이터 - df_seoul_business\n",
    "# 구별 등록 인구 데이터 - df_seoul_people"
   ]
  },
  {
   "cell_type": "code",
   "execution_count": 5,
   "id": "aa6489c6",
   "metadata": {},
   "outputs": [],
   "source": [
    "# 아래에 실습코드를 작성하고 결과를 확인합니다."
   ]
  },
  {
   "cell_type": "code",
   "execution_count": 6,
   "id": "01b9e8ba",
   "metadata": {},
   "outputs": [],
   "source": [
    "# 아래에 실습코드를 작성하고 결과를 확인합니다."
   ]
  },
  {
   "cell_type": "markdown",
   "id": "ca567b34",
   "metadata": {},
   "source": [
    "---"
   ]
  },
  {
   "cell_type": "markdown",
   "id": "b2edf769",
   "metadata": {},
   "source": [
    "## 1.가설 수립 \n",
    "+ 어떤 데이터를 label 데이터로 하실 건가요?\n",
    "\n",
    "? 정해진게 없나요? - 네 라벨을 개인및 조별로 고민하셔서 라벨데이터를 설정하시면 되겠습니다\n",
    "? 가설마다 라벨데이터가 달라도 상관없나요? 네 그렇습니다\n",
    "? 가설은 3개만 해야하나요? 그 이상 하셔도 무방합니다\n",
    "\n",
    "### 가설을 설정해 봅시다 (인당 최소 3개) - 미니프로젝트 진행의 편의상 가설은 이변량 분석을 염두에 두고 설정해 주세요"
   ]
  },
  {
   "cell_type": "markdown",
   "id": "b3d42e07",
   "metadata": {},
   "source": [
    "* 가설 1"
   ]
  },
  {
   "cell_type": "markdown",
   "id": "4fd1db81",
   "metadata": {},
   "source": [
    "* 가설 2"
   ]
  },
  {
   "cell_type": "markdown",
   "id": "e527bc75",
   "metadata": {},
   "source": [
    "* 가설 3"
   ]
  },
  {
   "cell_type": "markdown",
   "id": "6aa7b930",
   "metadata": {},
   "source": [
    "## 2.단변량 분석\n",
    "\n",
    "+ 변수의 비즈니스 의미  \n",
    "\n",
    "+ 숫자? 범주?  \n",
    "\n",
    "+ 전처리 사항\n",
    "   - NaN 존재 여부 및 조치 방안  \n",
    "   - 가변수화 대상여부  \n",
    "   \n",
    "+ 기초통계량\n",
    "\n",
    "+ 분포  \n",
    "\n",
    "+ 위 정보로부터 파악한 내용(비즈니스!) 정리  \n",
    "\n",
    "+ 추가 분석해볼 사항 도출"
   ]
  },
  {
   "cell_type": "code",
   "execution_count": null,
   "id": "b62009a9",
   "metadata": {},
   "outputs": [],
   "source": [
    "# 시각화 한글폰트 설정\n",
    "import seaborn as sns\n",
    "import matplotlib.pyplot as plt\n",
    "\n",
    "plt.rc('font', family='nanum')\n",
    "sns.set(font=\"NanumGothicCoding\",#\"NanumGothicCoding\", \n",
    "        rc={\"axes.unicode_minus\":False}, # 마이너스 부호 깨짐 현상 해결\n",
    "        style='darkgrid')     "
   ]
  },
  {
   "cell_type": "markdown",
   "id": "39ef5d0f",
   "metadata": {},
   "source": [
    "### 1)\n"
   ]
  },
  {
   "cell_type": "markdown",
   "id": "a4e3ec6e",
   "metadata": {},
   "source": [
    "### 2)"
   ]
  },
  {
   "cell_type": "markdown",
   "id": "a7193abc",
   "metadata": {},
   "source": [
    "### 3)"
   ]
  },
  {
   "cell_type": "markdown",
   "id": "ac81d719",
   "metadata": {},
   "source": [
    "## 3.이변량 분석\n",
    "\n",
    "* 자료의 종류에 맞게 X --> Y 에 대해서 그래프(시각화)와 가설검정(수치화)를 수행하고 결과를 평가합니다.\n",
    "\n",
    "* 가설검정시 다음의 항목을 참조하여 수행합니다.\n",
    "    * 유의수준 : 5%\n",
    "    * 숫자 --> 숫자 : 상관분석\n",
    "    * 범주 --> 범주 : 카이제곱검정\n",
    "    * 범주 --> 숫자 : t검정, 분산분석\n",
    "    * 숫자 --> 범주 : 로지스틱 회귀모형을 통해, 회귀계수의 P.value로 검정을 수행합니다.\n"
   ]
  },
  {
   "cell_type": "code",
   "execution_count": null,
   "id": "d4c9ece2",
   "metadata": {},
   "outputs": [],
   "source": [
    "target = "
   ]
  },
  {
   "cell_type": "markdown",
   "id": "a1ef2391",
   "metadata": {},
   "source": [
    "### 1)"
   ]
  },
  {
   "cell_type": "markdown",
   "id": "9a7f6c08",
   "metadata": {},
   "source": [
    "### 2)"
   ]
  },
  {
   "cell_type": "markdown",
   "id": "3e09f869",
   "metadata": {},
   "source": [
    "### 3)"
   ]
  },
  {
   "cell_type": "markdown",
   "id": "1d3f065b",
   "metadata": {},
   "source": [
    "### 상관계수를 구하고 HeatMap으로 시각화 후 나름의 분석을 해보세요.\n",
    "\n"
   ]
  },
  {
   "cell_type": "code",
   "execution_count": null,
   "id": "4e41b8d9",
   "metadata": {},
   "outputs": [],
   "source": [
    "# 아래에 실습코드를 작성하고 상관계수를 확인 및 시각화 합니다.\n",
    "import scipy.stats as spst\n",
    "\n",
    "spst.pearsonr(X,Y)"
   ]
  },
  {
   "cell_type": "code",
   "execution_count": null,
   "id": "269c049e",
   "metadata": {},
   "outputs": [],
   "source": [
    "# 아래에 실습코드를 작성하고 상관계수를 확인 및 시각화 합니다.\n",
    "\n",
    "sns.heatmap(seoul_bus_station.corr(), annot = True)\n",
    "plt.show()"
   ]
  },
  {
   "cell_type": "code",
   "execution_count": null,
   "id": "100b24d7",
   "metadata": {},
   "outputs": [],
   "source": [
    "# 위 차트를 통해 알게된 사실을 정리해봅시다.\n",
    "# 1. \n",
    "# 2.\n",
    "# 3."
   ]
  },
  {
   "cell_type": "markdown",
   "id": "20e08293",
   "metadata": {},
   "source": [
    "## 4.관계 정리"
   ]
  },
  {
   "cell_type": "markdown",
   "id": "b11433ac",
   "metadata": {},
   "source": [
    "### 1) 강한 관계의 변수"
   ]
  },
  {
   "cell_type": "markdown",
   "id": "ae622498",
   "metadata": {},
   "source": []
  },
  {
   "cell_type": "markdown",
   "id": "3101b64b",
   "metadata": {},
   "source": [
    "### 2) 약한 관계의 변수"
   ]
  },
  {
   "cell_type": "markdown",
   "id": "7a7f579d",
   "metadata": {},
   "source": []
  },
  {
   "cell_type": "markdown",
   "id": "644198b7",
   "metadata": {},
   "source": [
    "## 5.솔루션 도출\n",
    "\n",
    "### 어느 구에 버스 노선 또는 정류장이 제일 필요한가요? 그 이유는?"
   ]
  },
  {
   "cell_type": "markdown",
   "id": "783e8346",
   "metadata": {},
   "source": []
  }
 ],
 "metadata": {
  "colab": {
   "collapsed_sections": [],
   "name": "서울버스수요분석 데이터 분석(EDA)_ver0.1.ipynb",
   "provenance": [],
   "toc_visible": true
  },
  "kernelspec": {
   "display_name": "Python 3",
   "language": "python",
   "name": "python3"
  },
  "language_info": {
   "codemirror_mode": {
    "name": "ipython",
    "version": 3
   },
   "file_extension": ".py",
   "mimetype": "text/x-python",
   "name": "python",
   "nbconvert_exporter": "python",
   "pygments_lexer": "ipython3",
   "version": "3.8.8"
  },
  "vscode": {
   "interpreter": {
    "hash": "f08154012ddadd8e950e6e9e035c7a7b32c136e7647e9b7c77e02eb723a8bedb"
   }
  }
 },
 "nbformat": 4,
 "nbformat_minor": 5
}
