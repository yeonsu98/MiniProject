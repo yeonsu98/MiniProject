{
 "cells": [
  {
   "cell_type": "markdown",
   "id": "boxed-jamaica",
   "metadata": {
    "id": "boxed-jamaica"
   },
   "source": [
    "# 안녕하세요:)\n",
    "\n",
    "## AIVLE 1차 미니프로젝트 '서울시 생활정보 기반 대중교통 수요 분석 ' 과정에 오신 여러분을 환영합니다.\n",
    "* 본 과정에서는 서울시 생활정보 데이터를 기반으로 데이터 분석을 시도하고 주어진 문제를 해결할 것입니다.\n",
    "\n",
    "* 우리는 공공 데이터를 활용해 버스 수요 관련 인사이트를 도출하여 버스 노선 또는 정류장이 더 필요한 구를 선정 하고자 합니다."
   ]
  },
  {
   "cell_type": "markdown",
   "id": "46fa690c",
   "metadata": {
    "id": "46fa690c"
   },
   "source": [
    "# 0. 튜토리얼 진행 하겠습니다.\n",
    "\n",
    "## 오늘부터 3일간 우리가 진행할 프로젝트에 대해 살펴 보겠습니다.\n",
    "    \n",
    "- 프로젝트를 진행하면서 무엇을 하고 있는지, 왜 하는지에 대해서 한번 생각 해보실 수 있는 시간이었으면 합니다.\n",
    "    \n",
    "- 정답이 있는 프로젝트가 아닙니다. 어떤 결과를 도출하셔도 좋습니다. \n",
    "\n",
    "- 모두가 끝까지 할 수 있도록 차근차근 가겠습니다."
   ]
  },
  {
   "cell_type": "markdown",
   "id": "warming-gentleman",
   "metadata": {
    "id": "warming-gentleman"
   },
   "source": [
    "#  1. 데이터 불러오기\n",
    "## 모두 4개의 데이터가 주어집니다.\n",
    "+ 버스 정류장 데이터 **\n",
    "\n",
    "+ 유동 인구 데이터 **\n",
    "\n",
    "+ 주민 등록 데이터 \n",
    "\n",
    "+ 업종 등록 데이터\n",
    "\n",
    "## 버스정류장 데이터** 와 유동인구 데이터** 를 메인으로 진행합니다.\n",
    "\n",
    "+ 주민 등록 데이터와 업종 등록 데이터는 '추가 데이터'로 사용 여부 선택 가능합니다.\n"
   ]
  },
  {
   "cell_type": "markdown",
   "id": "vocational-animal",
   "metadata": {
    "id": "vocational-animal"
   },
   "source": [
    "## 데이터 하나만 열어보고 갈게요 - 주민 등록 데이터\n",
    "\n",
    "* rawdata 폴더에 있는 '1.3 seoul_people.csv'파일을 'seoul_people' 변수에 저장하세요.\n",
    "    * 데이터 파일 로딩시 참고 사항 \n",
    "        * 구분자(sep)는 '\\t' 입니다\n",
    "        * 'cp949' 인코더를 사용해 주세요"
   ]
  },
  {
   "cell_type": "code",
   "execution_count": null,
   "id": "tNZcoLOyrkV7",
   "metadata": {
    "id": "tNZcoLOyrkV7"
   },
   "outputs": [],
   "source": [
    "# 서울시 구별 주민 등록 데이터 입니다\n",
    "# https://data.seoul.go.kr/dataList/419/S/2/datasetView.do\n",
    "\n",
    "import pandas as pd\n",
    "\n",
    "seoul_people = pd.read_csv('rawdata/1.3 seoul_people.csv',sep=\"\\t\", encoding = 'cp949')"
   ]
  },
  {
   "cell_type": "code",
   "execution_count": null,
   "id": "f35478db",
   "metadata": {
    "colab": {
     "base_uri": "https://localhost:8080/",
     "height": 424
    },
    "id": "f35478db",
    "outputId": "d6b67ac8-b957-41ff-9a25-ee4e4391a70f"
   },
   "outputs": [],
   "source": [
    "seoul_people.head()"
   ]
  },
  {
   "cell_type": "code",
   "execution_count": null,
   "id": "e6dcbc86",
   "metadata": {},
   "outputs": [],
   "source": [
    "seoul_people.info()"
   ]
  },
  {
   "cell_type": "code",
   "execution_count": null,
   "id": "bd095c82",
   "metadata": {},
   "outputs": [],
   "source": [
    "seoul_people.head(30)"
   ]
  },
  {
   "cell_type": "markdown",
   "id": "a3f5bc29",
   "metadata": {
    "id": "a3f5bc29"
   },
   "source": [
    "# 2. 데이터 확인하기\n",
    "## 데이터의 상태를 정확히 파악한 뒤, 분석하기 용이한 형태로 전처리 해봅시다.\n",
    "+ KeyPoint : 데이터를 확인하고 잘못된 자료들을 수정할 수 있다.\n",
    "  * 데이터 확인\n",
    "  * 관측치들의 패턴 탐색\n",
    "  * 잘못된 자료들을 탐색"
   ]
  },
  {
   "cell_type": "code",
   "execution_count": null,
   "id": "p7U4e8WiF9SI",
   "metadata": {
    "colab": {
     "base_uri": "https://localhost:8080/",
     "height": 927
    },
    "id": "p7U4e8WiF9SI",
    "outputId": "9baf5a56-78fd-4e87-b3ef-d2035818b3f1"
   },
   "outputs": [],
   "source": [
    "seoul_people.head()"
   ]
  },
  {
   "cell_type": "code",
   "execution_count": null,
   "id": "af210bff",
   "metadata": {},
   "outputs": [],
   "source": [
    "seoul_people = pd.read_csv('rawdata/1.3 seoul_people.csv', sep=\"\\t\", encoding = \"cp949\", header = 2)"
   ]
  },
  {
   "cell_type": "code",
   "execution_count": null,
   "id": "b685ad0c",
   "metadata": {},
   "outputs": [],
   "source": [
    "seoul_people"
   ]
  },
  {
   "cell_type": "markdown",
   "id": "47779f9f",
   "metadata": {},
   "source": [
    "## 답이 정해져 있는 프로젝트가 아닙니다 \n",
    "\n",
    "+ 저는 여기서 인구 합계와 남자, 여자 수만 가져가는데요, 여기서 다른 포인트를 잡아보는 것도 색다른 분석이 될 수 있습니다\n",
    "\n",
    "+ 65세 이상 인구의 이동시 주로 이용하는 교통 수단이 뭘까요?\n",
    "\n",
    "+ '세대당 인구'나 '등록 외국인의 수'에서 얻어낼 수 있는 인사이트가 있을까요?"
   ]
  },
  {
   "cell_type": "code",
   "execution_count": null,
   "id": "SjhCC60AF9Pt",
   "metadata": {
    "colab": {
     "base_uri": "https://localhost:8080/"
    },
    "id": "SjhCC60AF9Pt",
    "outputId": "0ac22802-a085-4490-f954-7eac40f616fa"
   },
   "outputs": [],
   "source": [
    "seoul_people = seoul_people[['자치구','남자','여자','계']]\n",
    "seoul_people = seoul_people.drop(0)\n",
    "seoul_people"
   ]
  },
  {
   "cell_type": "markdown",
   "id": "southeast-integration",
   "metadata": {
    "id": "southeast-integration"
   },
   "source": [
    "# 3. 데이터 분석하기\n",
    "## 최적의 모델을 만들기위해 데이터를 입체적으로 바라보는 시도는 중요합니다.\n",
    "+ KeyPoint : 데이터의 형태를 살펴보고 다양한 분석기법을 통해 모델링에 적합하도록 정제요소를 선별할 수 있다.\n",
    "  * 관측치들의 패턴 탐색\n",
    "  * 잘못된 자료들을 탐색\n",
    "  * 변수들간의 관계 파악"
   ]
  },
  {
   "cell_type": "markdown",
   "id": "92bda7ce",
   "metadata": {
    "id": "92bda7ce"
   },
   "source": [
    "## 우리는 시각화를 통해서 데이터를 분석할 예정입니다.\n",
    "+ 데이터 시각화(data visualization)는 데이터 분석 결과를 쉽게 이해할 수 있도록 시각적으로 표현하고 전달되는 과정을 말한다. 데이터 시각화의 목적은 도표(graph)라는 수단을 통해 정보를 명확하고 효과적으로 전달하는 것이다.(위키백과)\n",
    "\n",
    "+ 튜토리얼에서는 따로 그리는 시간을 가지진 않습니다만 프로젝트 진행시엔 많은 시도 부탁드립니다."
   ]
  },
  {
   "cell_type": "code",
   "execution_count": null,
   "id": "194ae01d",
   "metadata": {
    "id": "194ae01d"
   },
   "outputs": [],
   "source": [
    "# 시각화, 한글폰트 설정\n",
    "import seaborn as sns\n",
    "import matplotlib.pyplot as plt\n",
    "\n",
    "plt.rc('font', family='Malgun Gothic')\n",
    "sns.set(font=\"Malgun Gothic\",#\"NanumGothicCoding\", \n",
    "        rc={\"axes.unicode_minus\":False}, # 마이너스 부호 깨짐 현상 해결\n",
    "        style='darkgrid')"
   ]
  },
  {
   "cell_type": "markdown",
   "id": "7ac18101",
   "metadata": {
    "id": "7ac18101"
   },
   "source": [
    "### Seaborn을 활용한 데이터 시각화\n",
    "#### Seaborn 라이브러리는 데이터를 직관적으로 볼 수 있도록 다양한 지원을 해주고 있습니다.\n",
    "#### 여기서는 Seaborn이 제공하는 통계차트 중 대표적인 몇 가지를 활용해보고자 합니다.\n",
    "[참고] 공식 Document\n",
    "* Seaborn(https://seaborn.pydata.org/api.html)\n",
    "* Seaborn.CountChart(https://seaborn.pydata.org/generated/seaborn.countplot.html)\n",
    "* Seaborn.Distplot(https://seaborn.pydata.org/generated/seaborn.distplot.html?highlight=distplot#seaborn.distplot) : 히스토그램 + 커널밀도\n",
    "* Seaborn.Boxplot(https://seaborn.pydata.org/generated/seaborn.boxplot.html#seaborn.boxplot)\n",
    "* Seaborn.Heatmap(https://seaborn.pydata.org/generated/seaborn.heatmap.html?highlight=heatmap#seaborn.heatmap)\n",
    "* Seaborn.Pairplot(https://seaborn.pydata.org/generated/seaborn.pairplot.html?highlight=pairplot#seaborn.pairplot) : 조합별 히스토그램 + 산점도"
   ]
  },
  {
   "cell_type": "code",
   "execution_count": null,
   "id": "2a610ade",
   "metadata": {
    "id": "2a610ade",
    "outputId": "4107a6a7-5202-4040-9b25-3629a42cf26e"
   },
   "outputs": [],
   "source": [
    "# 아래에 실습코드를 작성하고 결과를 확인합니다.\n",
    "seoul_people[\"남자비율\"] = seoul_people['남자'] / seoul_people[\"계\"]"
   ]
  },
  {
   "cell_type": "code",
   "execution_count": null,
   "id": "lfrg30IaEjF6",
   "metadata": {
    "id": "lfrg30IaEjF6",
    "outputId": "c49e1b0b-1657-4494-9835-ef9b56ff3fdd"
   },
   "outputs": [],
   "source": [
    "# 아래에 실습코드를 작성하고 결과를 확인합니다.\n",
    "plt.figure(figsize=(20,4))\n",
    "plt.plot('자치구', '남자비율', data = seoul_people)\n"
   ]
  },
  {
   "cell_type": "code",
   "execution_count": null,
   "id": "3da8e4fb",
   "metadata": {},
   "outputs": [],
   "source": [
    "from matplotlib import rcParams\n",
    "rcParams['figure.figsize'] = 20,4\n",
    "sns.lineplot(data = seoul_people, x= '자치구', y='남자비율')"
   ]
  },
  {
   "cell_type": "code",
   "execution_count": null,
   "id": "dbadc42e",
   "metadata": {},
   "outputs": [],
   "source": [
    "sns.displot(seoul_people['남자비율'])"
   ]
  },
  {
   "cell_type": "markdown",
   "id": "activated-constraint",
   "metadata": {
    "id": "activated-constraint"
   },
   "source": [
    "### 상관관계 분석(Pandas/Seaborn)\n",
    "#### 상관관계 분석은 왜 하는것일까요? 변수 간 관계를 들여다보기 위해서!\n",
    "#### 막연하게 상관관계는 높으면 좋을 것 같습니다. 하지만 AI모델링 또는 통계분석에서 꼭 좋은 것은 아닙니다. \n",
    "+ 가령 살아온 날수와 식사를 한 끼니 수는 강한 상관관계를 가질 것입니다. 그러나 조금만 다르게 보면 둘은 같은 이야기를 하는 것이라고 할 수 있습니다."
   ]
  },
  {
   "cell_type": "code",
   "execution_count": null,
   "id": "voluntary-belief",
   "metadata": {
    "id": "voluntary-belief",
    "outputId": "ae894c3e-2a96-4302-ae51-32b20921273d"
   },
   "outputs": [],
   "source": [
    "# 아래에 실습코드를 작성하고 상관계수를 확인합니다.\n",
    "import scipy.stats as spst\n",
    "spst.pearsonr(seoul_people['남자'],seoul_people['계'])"
   ]
  },
  {
   "cell_type": "code",
   "execution_count": null,
   "id": "1c301fa7",
   "metadata": {},
   "outputs": [],
   "source": [
    "# 아래에 실습코드를 작성하고 상관계수를 확인합니다.\n",
    "seoul_people.corr()"
   ]
  },
  {
   "cell_type": "code",
   "execution_count": null,
   "id": "popular-signal",
   "metadata": {
    "id": "popular-signal"
   },
   "outputs": [],
   "source": [
    "# 위 차트들을 통해 알게된 사실을 정리해봅시다.\n",
    "\n",
    "# 1. \n",
    "\n",
    "# 2. \n",
    "\n",
    "# 3. "
   ]
  },
  {
   "cell_type": "markdown",
   "id": "51bee3a4",
   "metadata": {
    "id": "51bee3a4"
   },
   "source": [
    "### 인사이트 도출\n",
    "* 데이터 분석 결과를 토대로 인사이트를 정리해보세요."
   ]
  },
  {
   "cell_type": "code",
   "execution_count": null,
   "id": "3f2a41b4",
   "metadata": {
    "id": "3f2a41b4"
   },
   "outputs": [],
   "source": [
    "#### [종합문제] 인사이트 도출\n",
    "# 1. (현상)                               -> (인사이트)\n",
    "# 2. (현상)                               -> (인사이트)\n",
    "# 3. (현상)                               -> (인사이트)"
   ]
  },
  {
   "cell_type": "code",
   "execution_count": null,
   "id": "49c4ba14",
   "metadata": {},
   "outputs": [],
   "source": []
  }
 ],
 "metadata": {
  "colab": {
   "collapsed_sections": [],
   "name": "서울버스수요분석 데이터 분석(EDA)_ver0.1.ipynb",
   "provenance": [],
   "toc_visible": true
  },
  "kernelspec": {
   "display_name": "Python 3",
   "language": "python",
   "name": "python3"
  },
  "language_info": {
   "codemirror_mode": {
    "name": "ipython",
    "version": 3
   },
   "file_extension": ".py",
   "mimetype": "text/x-python",
   "name": "python",
   "nbconvert_exporter": "python",
   "pygments_lexer": "ipython3",
   "version": "3.8.8"
  },
  "vscode": {
   "interpreter": {
    "hash": "f08154012ddadd8e950e6e9e035c7a7b32c136e7647e9b7c77e02eb723a8bedb"
   }
  }
 },
 "nbformat": 4,
 "nbformat_minor": 5
}
