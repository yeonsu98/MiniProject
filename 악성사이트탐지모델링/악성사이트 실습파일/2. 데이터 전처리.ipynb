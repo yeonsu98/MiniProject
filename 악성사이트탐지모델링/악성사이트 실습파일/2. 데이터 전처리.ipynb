{
 "cells": [
  {
   "cell_type": "markdown",
   "metadata": {},
   "source": [
    "## [미니프로젝트] 악성사이트 탐지 머신러닝 모델 개발\n",
    "\n",
    "## <b>[2단계] 데이터 분석 및 전처리\n",
    "\n",
    "## ▣ 데이터 소개\n",
    "* 학습 데이터셋 : train_dataset.csv\n",
    "<br>\n",
    "\n",
    "## ▣ 학습 데이터셋의 변수 소개\n",
    "\n",
    "* url_len : URL 길이\n",
    "* url_num_hypens_dom : URL내 '-'(하이픈) 개수\n",
    "* url_path_len : URL의 경로 길이\n",
    "* url_domain_len : URL의 도메인 길이\n",
    "* url_host_name : URL의 hostname 길이\n",
    "* url_num_dots : URL내 '.'(닷) 개수\n",
    "* url_num_underscores : URL내 '_'(언더바) 개수\n",
    "* url_query_len : URL쿼리 길이\n",
    "* url_num_query_para : URL쿼리의 파라미터 개수\n",
    "* url_ip_present : URL내 IP표시 여부\n",
    "* url_entropy : URL 복잡도\n",
    "* url_chinese_present : URL내 중국어 표기 여부\n",
    "* url_port : URL내 포트 표기 여부\n",
    "* html_num_tags('iframe') : HTML내 'iframe' 태그 개수\n",
    "* html_num_tags('script') : HTML내 'script' 태그 개수\n",
    "* html_num_tags('embed') : HTML내 'embed' 태그 개수\n",
    "* html_num_tags('object') : HTML내 'object' 태그 개수\n",
    "* html_num_tags('div') : HTML내 'div' 태그 개수\n",
    "* html_num_tags('head') : HTML내 'head' 태그 개수\n",
    "* html_num_tags('body') : HTML내 'body' 태그 개수\n",
    "* html_num_tags('form') : HTML내 'form' 태그 개수\n",
    "* html_num_tags('a') : HTML내 'a' 태그 개수\n",
    "* html_num_tags('applet') : HTML내 'applet' 태그 개수\n",
    "* Result_v1 : 악성사이트 여부 컬럼 ( 'malicious'는 악성사이트, 'benign'은 정상사이트 )\n",
    "\n",
    "<br>\n",
    "\n",
    "---\n",
    "\n",
    "### **[프로세스]**\n",
    "0. 라이브러리 import 및 데이터 불러오기\n",
    "1. 데이터 분석하기\n",
    "2. 데이터 전처리하기\n",
    "\n",
    "\n",
    "---"
   ]
  },
  {
   "cell_type": "markdown",
   "metadata": {},
   "source": [
    "# <b>Step 0. 라이브러리 import 및 데이터 불러오기\n",
    "### **가. 라이브러리 import**"
   ]
  },
  {
   "cell_type": "code",
   "execution_count": 23,
   "metadata": {},
   "outputs": [],
   "source": [
    "import pandas as pd\n",
    "import numpy as np\n",
    "import matplotlib.pyplot as plt\n",
    "import seaborn as sns"
   ]
  },
  {
   "cell_type": "markdown",
   "metadata": {},
   "source": [
    "### **나.  학습데이터 불러오기**"
   ]
  },
  {
   "cell_type": "code",
   "execution_count": 7,
   "metadata": {},
   "outputs": [
    {
     "data": {
      "text/html": [
       "<div>\n",
       "<style scoped>\n",
       "    .dataframe tbody tr th:only-of-type {\n",
       "        vertical-align: middle;\n",
       "    }\n",
       "\n",
       "    .dataframe tbody tr th {\n",
       "        vertical-align: top;\n",
       "    }\n",
       "\n",
       "    .dataframe thead th {\n",
       "        text-align: right;\n",
       "    }\n",
       "</style>\n",
       "<table border=\"1\" class=\"dataframe\">\n",
       "  <thead>\n",
       "    <tr style=\"text-align: right;\">\n",
       "      <th></th>\n",
       "      <th>Unnamed: 0</th>\n",
       "      <th>url_len</th>\n",
       "      <th>url_num_hyphens_dom</th>\n",
       "      <th>url_path_len</th>\n",
       "      <th>url_domain_len</th>\n",
       "      <th>url_hostname_len</th>\n",
       "      <th>url_num_dots</th>\n",
       "      <th>url_num_underscores</th>\n",
       "      <th>url_query_len</th>\n",
       "      <th>url_num_query_para</th>\n",
       "      <th>...</th>\n",
       "      <th>html_num_tags('script')</th>\n",
       "      <th>html_num_tags('embed')</th>\n",
       "      <th>html_num_tags('object')</th>\n",
       "      <th>html_num_tags('div')</th>\n",
       "      <th>html_num_tags('head')</th>\n",
       "      <th>html_num_tags('body')</th>\n",
       "      <th>html_num_tags('form')</th>\n",
       "      <th>html_num_tags('a')</th>\n",
       "      <th>html_num_tags('applet')</th>\n",
       "      <th>Result_v1</th>\n",
       "    </tr>\n",
       "  </thead>\n",
       "  <tbody>\n",
       "    <tr>\n",
       "      <th>0</th>\n",
       "      <td>0</td>\n",
       "      <td>23.0</td>\n",
       "      <td>0.0</td>\n",
       "      <td>8.0</td>\n",
       "      <td>15.0</td>\n",
       "      <td>15.0</td>\n",
       "      <td>2.0</td>\n",
       "      <td>0.0</td>\n",
       "      <td>0.0</td>\n",
       "      <td>0.0</td>\n",
       "      <td>...</td>\n",
       "      <td>7.0</td>\n",
       "      <td>0.0</td>\n",
       "      <td>0.0</td>\n",
       "      <td>0.0</td>\n",
       "      <td>1.0</td>\n",
       "      <td>1.0</td>\n",
       "      <td>0.0</td>\n",
       "      <td>0.0</td>\n",
       "      <td>0.0</td>\n",
       "      <td>malicious</td>\n",
       "    </tr>\n",
       "    <tr>\n",
       "      <th>1</th>\n",
       "      <td>1</td>\n",
       "      <td>75.0</td>\n",
       "      <td>0.0</td>\n",
       "      <td>58.0</td>\n",
       "      <td>17.0</td>\n",
       "      <td>17.0</td>\n",
       "      <td>6.0</td>\n",
       "      <td>0.0</td>\n",
       "      <td>0.0</td>\n",
       "      <td>0.0</td>\n",
       "      <td>...</td>\n",
       "      <td>18.0</td>\n",
       "      <td>0.0</td>\n",
       "      <td>0.0</td>\n",
       "      <td>20.0</td>\n",
       "      <td>1.0</td>\n",
       "      <td>1.0</td>\n",
       "      <td>0.0</td>\n",
       "      <td>21.0</td>\n",
       "      <td>0.0</td>\n",
       "      <td>benign</td>\n",
       "    </tr>\n",
       "    <tr>\n",
       "      <th>2</th>\n",
       "      <td>2</td>\n",
       "      <td>20.0</td>\n",
       "      <td>0.0</td>\n",
       "      <td>4.0</td>\n",
       "      <td>16.0</td>\n",
       "      <td>16.0</td>\n",
       "      <td>2.0</td>\n",
       "      <td>0.0</td>\n",
       "      <td>0.0</td>\n",
       "      <td>0.0</td>\n",
       "      <td>...</td>\n",
       "      <td>33.0</td>\n",
       "      <td>0.0</td>\n",
       "      <td>0.0</td>\n",
       "      <td>101.0</td>\n",
       "      <td>1.0</td>\n",
       "      <td>1.0</td>\n",
       "      <td>3.0</td>\n",
       "      <td>70.0</td>\n",
       "      <td>0.0</td>\n",
       "      <td>benign</td>\n",
       "    </tr>\n",
       "    <tr>\n",
       "      <th>3</th>\n",
       "      <td>3</td>\n",
       "      <td>27.0</td>\n",
       "      <td>0.0</td>\n",
       "      <td>13.0</td>\n",
       "      <td>14.0</td>\n",
       "      <td>14.0</td>\n",
       "      <td>3.0</td>\n",
       "      <td>0.0</td>\n",
       "      <td>0.0</td>\n",
       "      <td>0.0</td>\n",
       "      <td>...</td>\n",
       "      <td>15.0</td>\n",
       "      <td>0.0</td>\n",
       "      <td>0.0</td>\n",
       "      <td>151.0</td>\n",
       "      <td>1.0</td>\n",
       "      <td>1.0</td>\n",
       "      <td>1.0</td>\n",
       "      <td>55.0</td>\n",
       "      <td>0.0</td>\n",
       "      <td>benign</td>\n",
       "    </tr>\n",
       "    <tr>\n",
       "      <th>4</th>\n",
       "      <td>4</td>\n",
       "      <td>39.0</td>\n",
       "      <td>2.0</td>\n",
       "      <td>12.0</td>\n",
       "      <td>27.0</td>\n",
       "      <td>27.0</td>\n",
       "      <td>2.0</td>\n",
       "      <td>0.0</td>\n",
       "      <td>0.0</td>\n",
       "      <td>0.0</td>\n",
       "      <td>...</td>\n",
       "      <td>10.0</td>\n",
       "      <td>0.0</td>\n",
       "      <td>0.0</td>\n",
       "      <td>332.0</td>\n",
       "      <td>1.0</td>\n",
       "      <td>1.0</td>\n",
       "      <td>0.0</td>\n",
       "      <td>321.0</td>\n",
       "      <td>0.0</td>\n",
       "      <td>benign</td>\n",
       "    </tr>\n",
       "  </tbody>\n",
       "</table>\n",
       "<p>5 rows × 25 columns</p>\n",
       "</div>"
      ],
      "text/plain": [
       "   Unnamed: 0  url_len  url_num_hyphens_dom  url_path_len  url_domain_len  \\\n",
       "0           0     23.0                  0.0           8.0            15.0   \n",
       "1           1     75.0                  0.0          58.0            17.0   \n",
       "2           2     20.0                  0.0           4.0            16.0   \n",
       "3           3     27.0                  0.0          13.0            14.0   \n",
       "4           4     39.0                  2.0          12.0            27.0   \n",
       "\n",
       "   url_hostname_len  url_num_dots  url_num_underscores  url_query_len  \\\n",
       "0              15.0           2.0                  0.0            0.0   \n",
       "1              17.0           6.0                  0.0            0.0   \n",
       "2              16.0           2.0                  0.0            0.0   \n",
       "3              14.0           3.0                  0.0            0.0   \n",
       "4              27.0           2.0                  0.0            0.0   \n",
       "\n",
       "   url_num_query_para  ...  html_num_tags('script')  html_num_tags('embed')  \\\n",
       "0                 0.0  ...                      7.0                     0.0   \n",
       "1                 0.0  ...                     18.0                     0.0   \n",
       "2                 0.0  ...                     33.0                     0.0   \n",
       "3                 0.0  ...                     15.0                     0.0   \n",
       "4                 0.0  ...                     10.0                     0.0   \n",
       "\n",
       "   html_num_tags('object')  html_num_tags('div')  html_num_tags('head')  \\\n",
       "0                      0.0                   0.0                    1.0   \n",
       "1                      0.0                  20.0                    1.0   \n",
       "2                      0.0                 101.0                    1.0   \n",
       "3                      0.0                 151.0                    1.0   \n",
       "4                      0.0                 332.0                    1.0   \n",
       "\n",
       "   html_num_tags('body')  html_num_tags('form')  html_num_tags('a')  \\\n",
       "0                    1.0                    0.0                 0.0   \n",
       "1                    1.0                    0.0                21.0   \n",
       "2                    1.0                    3.0                70.0   \n",
       "3                    1.0                    1.0                55.0   \n",
       "4                    1.0                    0.0               321.0   \n",
       "\n",
       "   html_num_tags('applet')  Result_v1  \n",
       "0                      0.0  malicious  \n",
       "1                      0.0     benign  \n",
       "2                      0.0     benign  \n",
       "3                      0.0     benign  \n",
       "4                      0.0     benign  \n",
       "\n",
       "[5 rows x 25 columns]"
      ]
     },
     "execution_count": 7,
     "metadata": {},
     "output_type": "execute_result"
    }
   ],
   "source": [
    "df = pd.read_csv('train_dataset.csv')\n",
    "df.head()"
   ]
  },
  {
   "cell_type": "code",
   "execution_count": 8,
   "metadata": {},
   "outputs": [],
   "source": [
    "# unnamed feature drop\n",
    "df = df.drop('Unnamed: 0', axis=1)"
   ]
  },
  {
   "cell_type": "code",
   "execution_count": 9,
   "metadata": {},
   "outputs": [
    {
     "data": {
      "text/html": [
       "<div>\n",
       "<style scoped>\n",
       "    .dataframe tbody tr th:only-of-type {\n",
       "        vertical-align: middle;\n",
       "    }\n",
       "\n",
       "    .dataframe tbody tr th {\n",
       "        vertical-align: top;\n",
       "    }\n",
       "\n",
       "    .dataframe thead th {\n",
       "        text-align: right;\n",
       "    }\n",
       "</style>\n",
       "<table border=\"1\" class=\"dataframe\">\n",
       "  <thead>\n",
       "    <tr style=\"text-align: right;\">\n",
       "      <th></th>\n",
       "      <th>url_len</th>\n",
       "      <th>url_num_hyphens_dom</th>\n",
       "      <th>url_path_len</th>\n",
       "      <th>url_domain_len</th>\n",
       "      <th>url_hostname_len</th>\n",
       "      <th>url_num_dots</th>\n",
       "      <th>url_num_underscores</th>\n",
       "      <th>url_query_len</th>\n",
       "      <th>url_num_query_para</th>\n",
       "      <th>url_ip_present</th>\n",
       "      <th>...</th>\n",
       "      <th>html_num_tags('script')</th>\n",
       "      <th>html_num_tags('embed')</th>\n",
       "      <th>html_num_tags('object')</th>\n",
       "      <th>html_num_tags('div')</th>\n",
       "      <th>html_num_tags('head')</th>\n",
       "      <th>html_num_tags('body')</th>\n",
       "      <th>html_num_tags('form')</th>\n",
       "      <th>html_num_tags('a')</th>\n",
       "      <th>html_num_tags('applet')</th>\n",
       "      <th>Result_v1</th>\n",
       "    </tr>\n",
       "  </thead>\n",
       "  <tbody>\n",
       "    <tr>\n",
       "      <th>0</th>\n",
       "      <td>23.0</td>\n",
       "      <td>0.0</td>\n",
       "      <td>8.0</td>\n",
       "      <td>15.0</td>\n",
       "      <td>15.0</td>\n",
       "      <td>2.0</td>\n",
       "      <td>0.0</td>\n",
       "      <td>0.0</td>\n",
       "      <td>0.0</td>\n",
       "      <td>0.0</td>\n",
       "      <td>...</td>\n",
       "      <td>7.0</td>\n",
       "      <td>0.0</td>\n",
       "      <td>0.0</td>\n",
       "      <td>0.0</td>\n",
       "      <td>1.0</td>\n",
       "      <td>1.0</td>\n",
       "      <td>0.0</td>\n",
       "      <td>0.0</td>\n",
       "      <td>0.0</td>\n",
       "      <td>malicious</td>\n",
       "    </tr>\n",
       "    <tr>\n",
       "      <th>1</th>\n",
       "      <td>75.0</td>\n",
       "      <td>0.0</td>\n",
       "      <td>58.0</td>\n",
       "      <td>17.0</td>\n",
       "      <td>17.0</td>\n",
       "      <td>6.0</td>\n",
       "      <td>0.0</td>\n",
       "      <td>0.0</td>\n",
       "      <td>0.0</td>\n",
       "      <td>0.0</td>\n",
       "      <td>...</td>\n",
       "      <td>18.0</td>\n",
       "      <td>0.0</td>\n",
       "      <td>0.0</td>\n",
       "      <td>20.0</td>\n",
       "      <td>1.0</td>\n",
       "      <td>1.0</td>\n",
       "      <td>0.0</td>\n",
       "      <td>21.0</td>\n",
       "      <td>0.0</td>\n",
       "      <td>benign</td>\n",
       "    </tr>\n",
       "    <tr>\n",
       "      <th>2</th>\n",
       "      <td>20.0</td>\n",
       "      <td>0.0</td>\n",
       "      <td>4.0</td>\n",
       "      <td>16.0</td>\n",
       "      <td>16.0</td>\n",
       "      <td>2.0</td>\n",
       "      <td>0.0</td>\n",
       "      <td>0.0</td>\n",
       "      <td>0.0</td>\n",
       "      <td>0.0</td>\n",
       "      <td>...</td>\n",
       "      <td>33.0</td>\n",
       "      <td>0.0</td>\n",
       "      <td>0.0</td>\n",
       "      <td>101.0</td>\n",
       "      <td>1.0</td>\n",
       "      <td>1.0</td>\n",
       "      <td>3.0</td>\n",
       "      <td>70.0</td>\n",
       "      <td>0.0</td>\n",
       "      <td>benign</td>\n",
       "    </tr>\n",
       "    <tr>\n",
       "      <th>3</th>\n",
       "      <td>27.0</td>\n",
       "      <td>0.0</td>\n",
       "      <td>13.0</td>\n",
       "      <td>14.0</td>\n",
       "      <td>14.0</td>\n",
       "      <td>3.0</td>\n",
       "      <td>0.0</td>\n",
       "      <td>0.0</td>\n",
       "      <td>0.0</td>\n",
       "      <td>0.0</td>\n",
       "      <td>...</td>\n",
       "      <td>15.0</td>\n",
       "      <td>0.0</td>\n",
       "      <td>0.0</td>\n",
       "      <td>151.0</td>\n",
       "      <td>1.0</td>\n",
       "      <td>1.0</td>\n",
       "      <td>1.0</td>\n",
       "      <td>55.0</td>\n",
       "      <td>0.0</td>\n",
       "      <td>benign</td>\n",
       "    </tr>\n",
       "    <tr>\n",
       "      <th>4</th>\n",
       "      <td>39.0</td>\n",
       "      <td>2.0</td>\n",
       "      <td>12.0</td>\n",
       "      <td>27.0</td>\n",
       "      <td>27.0</td>\n",
       "      <td>2.0</td>\n",
       "      <td>0.0</td>\n",
       "      <td>0.0</td>\n",
       "      <td>0.0</td>\n",
       "      <td>0.0</td>\n",
       "      <td>...</td>\n",
       "      <td>10.0</td>\n",
       "      <td>0.0</td>\n",
       "      <td>0.0</td>\n",
       "      <td>332.0</td>\n",
       "      <td>1.0</td>\n",
       "      <td>1.0</td>\n",
       "      <td>0.0</td>\n",
       "      <td>321.0</td>\n",
       "      <td>0.0</td>\n",
       "      <td>benign</td>\n",
       "    </tr>\n",
       "  </tbody>\n",
       "</table>\n",
       "<p>5 rows × 24 columns</p>\n",
       "</div>"
      ],
      "text/plain": [
       "   url_len  url_num_hyphens_dom  url_path_len  url_domain_len  \\\n",
       "0     23.0                  0.0           8.0            15.0   \n",
       "1     75.0                  0.0          58.0            17.0   \n",
       "2     20.0                  0.0           4.0            16.0   \n",
       "3     27.0                  0.0          13.0            14.0   \n",
       "4     39.0                  2.0          12.0            27.0   \n",
       "\n",
       "   url_hostname_len  url_num_dots  url_num_underscores  url_query_len  \\\n",
       "0              15.0           2.0                  0.0            0.0   \n",
       "1              17.0           6.0                  0.0            0.0   \n",
       "2              16.0           2.0                  0.0            0.0   \n",
       "3              14.0           3.0                  0.0            0.0   \n",
       "4              27.0           2.0                  0.0            0.0   \n",
       "\n",
       "   url_num_query_para  url_ip_present  ...  html_num_tags('script')  \\\n",
       "0                 0.0             0.0  ...                      7.0   \n",
       "1                 0.0             0.0  ...                     18.0   \n",
       "2                 0.0             0.0  ...                     33.0   \n",
       "3                 0.0             0.0  ...                     15.0   \n",
       "4                 0.0             0.0  ...                     10.0   \n",
       "\n",
       "   html_num_tags('embed')  html_num_tags('object')  html_num_tags('div')  \\\n",
       "0                     0.0                      0.0                   0.0   \n",
       "1                     0.0                      0.0                  20.0   \n",
       "2                     0.0                      0.0                 101.0   \n",
       "3                     0.0                      0.0                 151.0   \n",
       "4                     0.0                      0.0                 332.0   \n",
       "\n",
       "   html_num_tags('head')  html_num_tags('body')  html_num_tags('form')  \\\n",
       "0                    1.0                    1.0                    0.0   \n",
       "1                    1.0                    1.0                    0.0   \n",
       "2                    1.0                    1.0                    3.0   \n",
       "3                    1.0                    1.0                    1.0   \n",
       "4                    1.0                    1.0                    0.0   \n",
       "\n",
       "   html_num_tags('a')  html_num_tags('applet')  Result_v1  \n",
       "0                 0.0                      0.0  malicious  \n",
       "1                21.0                      0.0     benign  \n",
       "2                70.0                      0.0     benign  \n",
       "3                55.0                      0.0     benign  \n",
       "4               321.0                      0.0     benign  \n",
       "\n",
       "[5 rows x 24 columns]"
      ]
     },
     "execution_count": 9,
     "metadata": {},
     "output_type": "execute_result"
    }
   ],
   "source": [
    "df.head()"
   ]
  },
  {
   "cell_type": "markdown",
   "metadata": {},
   "source": [
    "# <b>Step 1. 데이터 분석하기\n",
    "---"
   ]
  },
  {
   "cell_type": "markdown",
   "metadata": {},
   "source": [
    "단변량 분석은 데이터분석의 매우 기초적인 분석기법으로, 독립적인 개별 변수가 가지고있는 특성들을 이해하는 과정입니다.\n",
    "\n",
    "## <b>Q1. 데이터 단변량 분석하기\n",
    "\n",
    "<span style=\"color: green\"> 개별 변수에 대해 아래 사항들을 분석해보세요. </span>\n",
    "\n",
    "1. 변수가 내포하고 있는 의미\n",
    "2. 변수가 수치형인지, 범주형인지\n",
    "3. 결측치 존재 여부 및 조치 방안\n",
    "4. 기초 통계량 확인\n",
    "5. 데이터 분포 확인\n",
    "6. 위 정보로부터 파악한 내용 정리\n",
    "7. 추가 분석사항 도출"
   ]
  },
  {
   "cell_type": "markdown",
   "metadata": {},
   "source": [
    "#### 1. url_len"
   ]
  },
  {
   "cell_type": "code",
   "execution_count": 52,
   "metadata": {},
   "outputs": [],
   "source": [
    "feature = 'url_len'"
   ]
  },
  {
   "cell_type": "markdown",
   "metadata": {},
   "source": [
    "1) 변수가 내포하고 있는 의미"
   ]
  },
  {
   "cell_type": "code",
   "execution_count": null,
   "metadata": {},
   "outputs": [],
   "source": [
    "# URL 길이"
   ]
  },
  {
   "cell_type": "markdown",
   "metadata": {},
   "source": [
    "2) 변수가 수치형인지, 범주형인지"
   ]
  },
  {
   "cell_type": "code",
   "execution_count": null,
   "metadata": {},
   "outputs": [],
   "source": [
    "# 수치형"
   ]
  },
  {
   "cell_type": "markdown",
   "metadata": {},
   "source": [
    "3) 결측치 존재 여부 및 조치 방안"
   ]
  },
  {
   "cell_type": "code",
   "execution_count": 19,
   "metadata": {},
   "outputs": [
    {
     "data": {
      "text/plain": [
       "0"
      ]
     },
     "execution_count": 19,
     "metadata": {},
     "output_type": "execute_result"
    }
   ],
   "source": [
    "df[feature].isna().sum() # 없음"
   ]
  },
  {
   "cell_type": "markdown",
   "metadata": {},
   "source": [
    "4) 기초 통계량 확인"
   ]
  },
  {
   "cell_type": "code",
   "execution_count": 21,
   "metadata": {},
   "outputs": [
    {
     "data": {
      "text/plain": [
       "count    3233.000000\n",
       "mean       56.106093\n",
       "std        86.544916\n",
       "min         6.000000\n",
       "25%        24.000000\n",
       "50%        36.000000\n",
       "75%        57.000000\n",
       "max      1837.000000\n",
       "Name: url_len, dtype: float64"
      ]
     },
     "execution_count": 21,
     "metadata": {},
     "output_type": "execute_result"
    }
   ],
   "source": [
    "df[feature].describe()"
   ]
  },
  {
   "cell_type": "markdown",
   "metadata": {},
   "source": [
    "5) 데이터 분포 확인"
   ]
  },
  {
   "cell_type": "code",
   "execution_count": 50,
   "metadata": {},
   "outputs": [],
   "source": [
    "def plot_show(feature):\n",
    "    plt.hist(df[feature])\n",
    "    plt.show()\n",
    "\n",
    "    plt.boxplot(df[feature], vert=False)\n",
    "    plt.show()"
   ]
  },
  {
   "cell_type": "code",
   "execution_count": 53,
   "metadata": {},
   "outputs": [
    {
     "data": {
      "image/png": "[encoded data removed]",
      "text/plain": [
       "<Figure size 432x288 with 1 Axes>"
      ]
     },
     "metadata": {
      "needs_background": "light"
     },
     "output_type": "display_data"
    },
    {
     "data": {
      "image/png": "[encoded data removed]",
      "text/plain": [
       "<Figure size 432x288 with 1 Axes>"
      ]
     },
     "metadata": {
      "needs_background": "light"
     },
     "output_type": "display_data"
    }
   ],
   "source": [
    "plot_show(feature)"
   ]
  },
  {
   "cell_type": "markdown",
   "metadata": {},
   "source": [
    "6) 위 정보로부터 파악한 내용 정리"
   ]
  },
  {
   "cell_type": "code",
   "execution_count": null,
   "metadata": {},
   "outputs": [],
   "source": [
    "# 20 ~ 40사이에 데이터가 가장 많음"
   ]
  },
  {
   "cell_type": "markdown",
   "metadata": {},
   "source": [
    "7) 추가 분석사항 도출"
   ]
  },
  {
   "cell_type": "code",
   "execution_count": null,
   "metadata": {},
   "outputs": [],
   "source": [
    "# url 길이와 악성사이트가 상관관계가 있는지"
   ]
  },
  {
   "cell_type": "markdown",
   "metadata": {},
   "source": [
    "#### 2. url_num_hypens_dom"
   ]
  },
  {
   "cell_type": "code",
   "execution_count": 55,
   "metadata": {},
   "outputs": [],
   "source": [
    "feature = 'url_num_hyphens_dom'"
   ]
  },
  {
   "cell_type": "markdown",
   "metadata": {},
   "source": [
    "1) 변수가 내포하고 있는 의미"
   ]
  },
  {
   "cell_type": "code",
   "execution_count": 46,
   "metadata": {},
   "outputs": [],
   "source": [
    "# url 내 하이픈 개수"
   ]
  },
  {
   "cell_type": "markdown",
   "metadata": {},
   "source": [
    "2) 변수가 수치형인지, 범주형인지"
   ]
  },
  {
   "cell_type": "code",
   "execution_count": 47,
   "metadata": {},
   "outputs": [
    {
     "data": {
      "text/plain": [
       "0    0.0\n",
       "1    0.0\n",
       "2    0.0\n",
       "3    0.0\n",
       "4    2.0\n",
       "Name: url_num_hyphens_dom, dtype: float64"
      ]
     },
     "execution_count": 47,
     "metadata": {},
     "output_type": "execute_result"
    }
   ],
   "source": [
    "df[feature].head() # 수치형"
   ]
  },
  {
   "cell_type": "markdown",
   "metadata": {},
   "source": [
    "3) 결측치 존재 여부 및 조치 방안"
   ]
  },
  {
   "cell_type": "code",
   "execution_count": 48,
   "metadata": {},
   "outputs": [
    {
     "data": {
      "text/plain": [
       "0"
      ]
     },
     "execution_count": 48,
     "metadata": {},
     "output_type": "execute_result"
    }
   ],
   "source": [
    "df[feature].isna().sum()"
   ]
  },
  {
   "cell_type": "markdown",
   "metadata": {},
   "source": [
    "4) 기초 통계량 확인"
   ]
  },
  {
   "cell_type": "code",
   "execution_count": 49,
   "metadata": {},
   "outputs": [
    {
     "data": {
      "text/plain": [
       "count    3233.000000\n",
       "mean        0.421590\n",
       "std         0.861794\n",
       "min         0.000000\n",
       "25%         0.000000\n",
       "50%         0.000000\n",
       "75%         1.000000\n",
       "max        14.000000\n",
       "Name: url_num_hyphens_dom, dtype: float64"
      ]
     },
     "execution_count": 49,
     "metadata": {},
     "output_type": "execute_result"
    }
   ],
   "source": [
    "df[feature].describe()"
   ]
  },
  {
   "cell_type": "markdown",
   "metadata": {},
   "source": [
    "5) 데이터 분포 확인"
   ]
  },
  {
   "cell_type": "code",
   "execution_count": 56,
   "metadata": {},
   "outputs": [
    {
     "data": {
      "image/png": "[encoded data removed]",
      "text/plain": [
       "<Figure size 432x288 with 1 Axes>"
      ]
     },
     "metadata": {
      "needs_background": "light"
     },
     "output_type": "display_data"
    },
    {
     "data": {
      "image/png": "[encoded data removed]",
      "text/plain": [
       "<Figure size 432x288 with 1 Axes>"
      ]
     },
     "metadata": {
      "needs_background": "light"
     },
     "output_type": "display_data"
    }
   ],
   "source": [
    "plot_show(feature)"
   ]
  },
  {
   "cell_type": "markdown",
   "metadata": {},
   "source": [
    "6) 위 정보로부터 파악한 내용 정리"
   ]
  },
  {
   "cell_type": "code",
   "execution_count": null,
   "metadata": {},
   "outputs": [],
   "source": [
    "# 0이 과반수 이상"
   ]
  },
  {
   "cell_type": "markdown",
   "metadata": {},
   "source": [
    "7) 추가 분석사항 도출"
   ]
  },
  {
   "cell_type": "code",
   "execution_count": null,
   "metadata": {},
   "outputs": [],
   "source": []
  },
  {
   "cell_type": "markdown",
   "metadata": {},
   "source": [
    "#### 3. url_domain_len"
   ]
  },
  {
   "cell_type": "code",
   "execution_count": 57,
   "metadata": {},
   "outputs": [],
   "source": [
    "feature = 'url_domain_len'"
   ]
  },
  {
   "cell_type": "markdown",
   "metadata": {},
   "source": [
    "1) 변수가 내포하고 있는 의미"
   ]
  },
  {
   "cell_type": "code",
   "execution_count": 58,
   "metadata": {},
   "outputs": [],
   "source": [
    "#  URL의 도메인 길이"
   ]
  },
  {
   "cell_type": "markdown",
   "metadata": {},
   "source": [
    "2) 변수가 수치형인지, 범주형인지"
   ]
  },
  {
   "cell_type": "code",
   "execution_count": 59,
   "metadata": {},
   "outputs": [
    {
     "data": {
      "text/plain": [
       "0    15.0\n",
       "1    17.0\n",
       "2    16.0\n",
       "3    14.0\n",
       "4    27.0\n",
       "Name: url_domain_len, dtype: float64"
      ]
     },
     "execution_count": 59,
     "metadata": {},
     "output_type": "execute_result"
    }
   ],
   "source": [
    "df[feature].head() # 수치형"
   ]
  },
  {
   "cell_type": "markdown",
   "metadata": {},
   "source": [
    "3) 결측치 존재 여부 및 조치 방안"
   ]
  },
  {
   "cell_type": "code",
   "execution_count": 60,
   "metadata": {},
   "outputs": [
    {
     "data": {
      "text/plain": [
       "1"
      ]
     },
     "execution_count": 60,
     "metadata": {},
     "output_type": "execute_result"
    }
   ],
   "source": [
    "df[feature].isna().sum() # 1개"
   ]
  },
  {
   "cell_type": "code",
   "execution_count": 68,
   "metadata": {
    "collapsed": true,
    "jupyter": {
     "outputs_hidden": true
    },
    "tags": []
   },
   "outputs": [
    {
     "ename": "IndexError",
     "evalue": "index 0 is out of bounds for axis 0 with size 0",
     "output_type": "error",
     "traceback": [
      "\u001b[1;31m---------------------------------------------------------------------------\u001b[0m",
      "\u001b[1;31mIndexError\u001b[0m                                Traceback (most recent call last)",
      "\u001b[1;32m<ipython-input-68-e237078f3a11>\u001b[0m in \u001b[0;36m<module>\u001b[1;34m\u001b[0m\n\u001b[1;32m----> 1\u001b[1;33m \u001b[0midx\u001b[0m \u001b[1;33m=\u001b[0m \u001b[0mdf\u001b[0m\u001b[1;33m.\u001b[0m\u001b[0mloc\u001b[0m\u001b[1;33m[\u001b[0m\u001b[0mdf\u001b[0m\u001b[1;33m[\u001b[0m\u001b[0mfeature\u001b[0m\u001b[1;33m]\u001b[0m\u001b[1;33m.\u001b[0m\u001b[0misna\u001b[0m\u001b[1;33m(\u001b[0m\u001b[1;33m)\u001b[0m\u001b[1;33m]\u001b[0m\u001b[1;33m.\u001b[0m\u001b[0mindex\u001b[0m\u001b[1;33m[\u001b[0m\u001b[1;36m0\u001b[0m\u001b[1;33m]\u001b[0m\u001b[1;33m\u001b[0m\u001b[1;33m\u001b[0m\u001b[0m\n\u001b[0m\u001b[0;32m      2\u001b[0m \u001b[0mdf\u001b[0m \u001b[1;33m=\u001b[0m \u001b[0mdf\u001b[0m\u001b[1;33m.\u001b[0m\u001b[0mdrop\u001b[0m\u001b[1;33m(\u001b[0m\u001b[0midx\u001b[0m\u001b[1;33m,\u001b[0m \u001b[0maxis\u001b[0m\u001b[1;33m=\u001b[0m\u001b[1;36m0\u001b[0m\u001b[1;33m)\u001b[0m\u001b[1;33m\u001b[0m\u001b[1;33m\u001b[0m\u001b[0m\n\u001b[0;32m      3\u001b[0m \u001b[0mdf\u001b[0m\u001b[1;33m[\u001b[0m\u001b[0mfeature\u001b[0m\u001b[1;33m]\u001b[0m\u001b[1;33m.\u001b[0m\u001b[0misna\u001b[0m\u001b[1;33m(\u001b[0m\u001b[1;33m)\u001b[0m\u001b[1;33m.\u001b[0m\u001b[0msum\u001b[0m\u001b[1;33m(\u001b[0m\u001b[1;33m)\u001b[0m\u001b[1;33m\u001b[0m\u001b[1;33m\u001b[0m\u001b[0m\n",
      "\u001b[1;32m~\\anaconda3\\lib\\site-packages\\pandas\\core\\indexes\\base.py\u001b[0m in \u001b[0;36m__getitem__\u001b[1;34m(self, key)\u001b[0m\n\u001b[0;32m   4295\u001b[0m         \u001b[1;32mif\u001b[0m \u001b[0mis_scalar\u001b[0m\u001b[1;33m(\u001b[0m\u001b[0mkey\u001b[0m\u001b[1;33m)\u001b[0m\u001b[1;33m:\u001b[0m\u001b[1;33m\u001b[0m\u001b[1;33m\u001b[0m\u001b[0m\n\u001b[0;32m   4296\u001b[0m             \u001b[0mkey\u001b[0m \u001b[1;33m=\u001b[0m \u001b[0mcom\u001b[0m\u001b[1;33m.\u001b[0m\u001b[0mcast_scalar_indexer\u001b[0m\u001b[1;33m(\u001b[0m\u001b[0mkey\u001b[0m\u001b[1;33m,\u001b[0m \u001b[0mwarn_float\u001b[0m\u001b[1;33m=\u001b[0m\u001b[1;32mTrue\u001b[0m\u001b[1;33m)\u001b[0m\u001b[1;33m\u001b[0m\u001b[1;33m\u001b[0m\u001b[0m\n\u001b[1;32m-> 4297\u001b[1;33m             \u001b[1;32mreturn\u001b[0m \u001b[0mgetitem\u001b[0m\u001b[1;33m(\u001b[0m\u001b[0mkey\u001b[0m\u001b[1;33m)\u001b[0m\u001b[1;33m\u001b[0m\u001b[1;33m\u001b[0m\u001b[0m\n\u001b[0m\u001b[0;32m   4298\u001b[0m \u001b[1;33m\u001b[0m\u001b[0m\n\u001b[0;32m   4299\u001b[0m         \u001b[1;32mif\u001b[0m \u001b[0misinstance\u001b[0m\u001b[1;33m(\u001b[0m\u001b[0mkey\u001b[0m\u001b[1;33m,\u001b[0m \u001b[0mslice\u001b[0m\u001b[1;33m)\u001b[0m\u001b[1;33m:\u001b[0m\u001b[1;33m\u001b[0m\u001b[1;33m\u001b[0m\u001b[0m\n",
      "\u001b[1;31mIndexError\u001b[0m: index 0 is out of bounds for axis 0 with size 0"
     ]
    }
   ],
   "source": [
    "idx = df.loc[df[feature].isna()].index[0]\n",
    "df = df.drop(idx, axis=0)"
   ]
  },
  {
   "cell_type": "markdown",
   "metadata": {},
   "source": [
    "4) 기초 통계량 확인"
   ]
  },
  {
   "cell_type": "code",
   "execution_count": 66,
   "metadata": {},
   "outputs": [
    {
     "data": {
      "text/plain": [
       "count    3232.000000\n",
       "mean       20.509592\n",
       "std         9.871500\n",
       "min         4.000000\n",
       "25%        14.000000\n",
       "50%        17.500000\n",
       "75%        24.000000\n",
       "max       109.000000\n",
       "Name: url_domain_len, dtype: float64"
      ]
     },
     "execution_count": 66,
     "metadata": {},
     "output_type": "execute_result"
    }
   ],
   "source": [
    "df[feature].describe()"
   ]
  },
  {
   "cell_type": "markdown",
   "metadata": {},
   "source": [
    "5) 데이터 분포 확인"
   ]
  },
  {
   "cell_type": "code",
   "execution_count": 67,
   "metadata": {},
   "outputs": [
    {
     "data": {
      "image/png": "[encoded data removed]",
      "text/plain": [
       "<Figure size 432x288 with 1 Axes>"
      ]
     },
     "metadata": {
      "needs_background": "light"
     },
     "output_type": "display_data"
    },
    {
     "data": {
      "image/png": "[encoded data removed]",
      "text/plain": [
       "<Figure size 432x288 with 1 Axes>"
      ]
     },
     "metadata": {
      "needs_background": "light"
     },
     "output_type": "display_data"
    }
   ],
   "source": [
    "plot_show(feature)"
   ]
  },
  {
   "cell_type": "markdown",
   "metadata": {},
   "source": [
    "6) 위 정보로부터 파악한 내용 정리"
   ]
  },
  {
   "cell_type": "code",
   "execution_count": null,
   "metadata": {},
   "outputs": [],
   "source": [
    "# 10-30이 가장 많음"
   ]
  },
  {
   "cell_type": "markdown",
   "metadata": {},
   "source": [
    "7) 추가 분석사항 도출"
   ]
  },
  {
   "cell_type": "code",
   "execution_count": null,
   "metadata": {},
   "outputs": [],
   "source": []
  },
  {
   "cell_type": "markdown",
   "metadata": {},
   "source": [
    "#### 4. url_path_len"
   ]
  },
  {
   "cell_type": "code",
   "execution_count": 69,
   "metadata": {},
   "outputs": [],
   "source": [
    "feature = 'url_path_len'"
   ]
  },
  {
   "cell_type": "markdown",
   "metadata": {},
   "source": [
    "1) 변수가 내포하고 있는 의미"
   ]
  },
  {
   "cell_type": "code",
   "execution_count": 70,
   "metadata": {},
   "outputs": [],
   "source": [
    "# URL의 경로 길이"
   ]
  },
  {
   "cell_type": "markdown",
   "metadata": {},
   "source": [
    "2) 변수가 수치형인지, 범주형인지"
   ]
  },
  {
   "cell_type": "code",
   "execution_count": 71,
   "metadata": {},
   "outputs": [
    {
     "data": {
      "text/plain": [
       "0     8.0\n",
       "1    58.0\n",
       "2     4.0\n",
       "3    13.0\n",
       "4    12.0\n",
       "Name: url_path_len, dtype: float64"
      ]
     },
     "execution_count": 71,
     "metadata": {},
     "output_type": "execute_result"
    }
   ],
   "source": [
    "df[feature].head() # 수치형"
   ]
  },
  {
   "cell_type": "markdown",
   "metadata": {},
   "source": [
    "3) 결측치 존재 여부 및 조치 방안"
   ]
  },
  {
   "cell_type": "code",
   "execution_count": 72,
   "metadata": {},
   "outputs": [
    {
     "data": {
      "text/plain": [
       "1"
      ]
     },
     "execution_count": 72,
     "metadata": {},
     "output_type": "execute_result"
    }
   ],
   "source": [
    "df[feature].isna().sum()"
   ]
  },
  {
   "cell_type": "code",
   "execution_count": 74,
   "metadata": {},
   "outputs": [],
   "source": [
    "idx = df.loc[df[feature].isna()].index[0]\n",
    "df = df.drop(idx, axis=0)"
   ]
  },
  {
   "cell_type": "code",
   "execution_count": 75,
   "metadata": {},
   "outputs": [
    {
     "data": {
      "text/plain": [
       "0"
      ]
     },
     "execution_count": 75,
     "metadata": {},
     "output_type": "execute_result"
    }
   ],
   "source": [
    "df[feature].isna().sum()"
   ]
  },
  {
   "cell_type": "markdown",
   "metadata": {},
   "source": [
    "4) 기초 통계량 확인"
   ]
  },
  {
   "cell_type": "code",
   "execution_count": 73,
   "metadata": {},
   "outputs": [
    {
     "data": {
      "text/plain": [
       "count    3231.000000\n",
       "mean       30.514392\n",
       "std        82.670398\n",
       "min         0.000000\n",
       "25%         1.000000\n",
       "50%        13.000000\n",
       "75%        32.000000\n",
       "max      1816.000000\n",
       "Name: url_path_len, dtype: float64"
      ]
     },
     "execution_count": 73,
     "metadata": {},
     "output_type": "execute_result"
    }
   ],
   "source": [
    "df[feature].describe()"
   ]
  },
  {
   "cell_type": "markdown",
   "metadata": {},
   "source": [
    "5) 데이터 분포 확인"
   ]
  },
  {
   "cell_type": "code",
   "execution_count": 77,
   "metadata": {},
   "outputs": [
    {
     "data": {
      "image/png": "[encoded data removed]",
      "text/plain": [
       "<Figure size 432x288 with 1 Axes>"
      ]
     },
     "metadata": {
      "needs_background": "light"
     },
     "output_type": "display_data"
    },
    {
     "data": {
      "image/png": "[encoded data removed]",
      "text/plain": [
       "<Figure size 432x288 with 1 Axes>"
      ]
     },
     "metadata": {
      "needs_background": "light"
     },
     "output_type": "display_data"
    }
   ],
   "source": [
    "plot_show(feature)"
   ]
  },
  {
   "cell_type": "markdown",
   "metadata": {},
   "source": [
    "6) 위 정보로부터 파악한 내용 정리"
   ]
  },
  {
   "cell_type": "code",
   "execution_count": null,
   "metadata": {},
   "outputs": [],
   "source": [
    "# 이상치 값들로 인해 통계량에 영향을 많이 줌"
   ]
  },
  {
   "cell_type": "markdown",
   "metadata": {},
   "source": [
    "7) 추가 분석사항 도출"
   ]
  },
  {
   "cell_type": "code",
   "execution_count": null,
   "metadata": {
    "tags": []
   },
   "outputs": [],
   "source": []
  },
  {
   "cell_type": "markdown",
   "metadata": {},
   "source": [
    "#### 5. url_ip_present"
   ]
  },
  {
   "cell_type": "code",
   "execution_count": 78,
   "metadata": {},
   "outputs": [],
   "source": [
    "feature = 'url_ip_present'"
   ]
  },
  {
   "cell_type": "markdown",
   "metadata": {},
   "source": [
    "1) 변수가 내포하고 있는 의미"
   ]
  },
  {
   "cell_type": "code",
   "execution_count": 79,
   "metadata": {},
   "outputs": [],
   "source": [
    "# URL내 IP표시 여부"
   ]
  },
  {
   "cell_type": "markdown",
   "metadata": {},
   "source": [
    "2) 변수가 수치형인지, 범주형인지"
   ]
  },
  {
   "cell_type": "code",
   "execution_count": 81,
   "metadata": {},
   "outputs": [
    {
     "data": {
      "text/plain": [
       "array([0., 1.])"
      ]
     },
     "execution_count": 81,
     "metadata": {},
     "output_type": "execute_result"
    }
   ],
   "source": [
    "df[feature].unique() # 범주형"
   ]
  },
  {
   "cell_type": "markdown",
   "metadata": {},
   "source": [
    "3) 결측치 존재 여부 및 조치 방안"
   ]
  },
  {
   "cell_type": "code",
   "execution_count": 82,
   "metadata": {},
   "outputs": [
    {
     "data": {
      "text/plain": [
       "0"
      ]
     },
     "execution_count": 82,
     "metadata": {},
     "output_type": "execute_result"
    }
   ],
   "source": [
    "df[feature].isna().sum()"
   ]
  },
  {
   "cell_type": "markdown",
   "metadata": {},
   "source": [
    "4) 기초 통계량 확인"
   ]
  },
  {
   "cell_type": "code",
   "execution_count": 83,
   "metadata": {},
   "outputs": [
    {
     "data": {
      "text/plain": [
       "count    3231.000000\n",
       "mean        0.060972\n",
       "std         0.239316\n",
       "min         0.000000\n",
       "25%         0.000000\n",
       "50%         0.000000\n",
       "75%         0.000000\n",
       "max         1.000000\n",
       "Name: url_ip_present, dtype: float64"
      ]
     },
     "execution_count": 83,
     "metadata": {},
     "output_type": "execute_result"
    }
   ],
   "source": [
    "df[feature].describe()"
   ]
  },
  {
   "cell_type": "markdown",
   "metadata": {},
   "source": [
    "5) 데이터 분포 확인"
   ]
  },
  {
   "cell_type": "code",
   "execution_count": 96,
   "metadata": {},
   "outputs": [
    {
     "name": "stdout",
     "output_type": "stream",
     "text": [
      "0.0    3034\n",
      "1.0     197\n",
      "Name: url_ip_present, dtype: int64\n"
     ]
    },
    {
     "name": "stderr",
     "output_type": "stream",
     "text": [
      "C:\\Users\\User\\anaconda3\\lib\\site-packages\\seaborn\\_decorators.py:36: FutureWarning: Pass the following variable as a keyword arg: x. From version 0.12, the only valid positional argument will be `data`, and passing other arguments without an explicit keyword will result in an error or misinterpretation.\n",
      "  warnings.warn(\n"
     ]
    },
    {
     "data": {
      "image/png": "[encoded data removed]",
      "text/plain": [
       "<Figure size 432x288 with 1 Axes>"
      ]
     },
     "metadata": {
      "needs_background": "light"
     },
     "output_type": "display_data"
    }
   ],
   "source": [
    "temp = df[feature].value_counts()\n",
    "print(temp)\n",
    "\n",
    "sns.countplot(df[feature])\n",
    "plt.show()"
   ]
  },
  {
   "cell_type": "markdown",
   "metadata": {},
   "source": [
    "6) 위 정보로부터 파악한 내용 정리"
   ]
  },
  {
   "cell_type": "code",
   "execution_count": null,
   "metadata": {},
   "outputs": [],
   "source": [
    "# IP 표시가 안된 url이 많음"
   ]
  },
  {
   "cell_type": "markdown",
   "metadata": {},
   "source": [
    "7) 추가 분석사항 도출"
   ]
  },
  {
   "cell_type": "code",
   "execution_count": null,
   "metadata": {},
   "outputs": [],
   "source": []
  },
  {
   "cell_type": "markdown",
   "metadata": {},
   "source": [
    "#### 6. html_num_tags('iframe')"
   ]
  },
  {
   "cell_type": "code",
   "execution_count": 104,
   "metadata": {},
   "outputs": [],
   "source": [
    "feature = \"html_num_tags('iframe')\""
   ]
  },
  {
   "cell_type": "markdown",
   "metadata": {},
   "source": [
    "1) 변수가 내포하고 있는 의미"
   ]
  },
  {
   "cell_type": "code",
   "execution_count": 102,
   "metadata": {},
   "outputs": [],
   "source": [
    "# HTML내 'iframe' 태그 개수\n",
    "# iframe : 해당 웹 페이지 안에 어떠한 제한 없이 다른 페이지를 불러와서 삽입 "
   ]
  },
  {
   "cell_type": "markdown",
   "metadata": {},
   "source": [
    "2) 변수가 수치형인지, 범주형인지"
   ]
  },
  {
   "cell_type": "code",
   "execution_count": 110,
   "metadata": {},
   "outputs": [
    {
     "data": {
      "text/plain": [
       "0    0.0\n",
       "1    0.0\n",
       "2    1.0\n",
       "3    0.0\n",
       "4    0.0\n",
       "Name: html_num_tags('iframe'), dtype: float64"
      ]
     },
     "execution_count": 110,
     "metadata": {},
     "output_type": "execute_result"
    }
   ],
   "source": [
    "df[feature].head() # 수치형"
   ]
  },
  {
   "cell_type": "markdown",
   "metadata": {},
   "source": [
    "3) 결측치 존재 여부 및 조치 방안"
   ]
  },
  {
   "cell_type": "code",
   "execution_count": 111,
   "metadata": {},
   "outputs": [
    {
     "data": {
      "text/plain": [
       "0"
      ]
     },
     "execution_count": 111,
     "metadata": {},
     "output_type": "execute_result"
    }
   ],
   "source": [
    "df[feature].isna().sum()"
   ]
  },
  {
   "cell_type": "markdown",
   "metadata": {},
   "source": [
    "4) 기초 통계량 확인"
   ]
  },
  {
   "cell_type": "code",
   "execution_count": 112,
   "metadata": {},
   "outputs": [
    {
     "data": {
      "text/plain": [
       "count    3231.000000\n",
       "mean        0.216961\n",
       "std         0.918491\n",
       "min         0.000000\n",
       "25%         0.000000\n",
       "50%         0.000000\n",
       "75%         0.000000\n",
       "max        26.000000\n",
       "Name: html_num_tags('iframe'), dtype: float64"
      ]
     },
     "execution_count": 112,
     "metadata": {},
     "output_type": "execute_result"
    }
   ],
   "source": [
    "df[feature].describe()"
   ]
  },
  {
   "cell_type": "markdown",
   "metadata": {},
   "source": [
    "5) 데이터 분포 확인"
   ]
  },
  {
   "cell_type": "code",
   "execution_count": 113,
   "metadata": {},
   "outputs": [
    {
     "data": {
      "image/png": "[encoded data removed]",
      "text/plain": [
       "<Figure size 432x288 with 1 Axes>"
      ]
     },
     "metadata": {
      "needs_background": "light"
     },
     "output_type": "display_data"
    },
    {
     "data": {
      "image/png": "[encoded data removed]",
      "text/plain": [
       "<Figure size 432x288 with 1 Axes>"
      ]
     },
     "metadata": {
      "needs_background": "light"
     },
     "output_type": "display_data"
    }
   ],
   "source": [
    "plot_show(feature)"
   ]
  },
  {
   "cell_type": "markdown",
   "metadata": {},
   "source": [
    "6) 위 정보로부터 파악한 내용 정리"
   ]
  },
  {
   "cell_type": "code",
   "execution_count": null,
   "metadata": {},
   "outputs": [],
   "source": [
    "# 거의 없음, 이상치는 눈여겨 볼 필요가 있을 듯!"
   ]
  },
  {
   "cell_type": "markdown",
   "metadata": {},
   "source": [
    "7) 추가 분석사항 도출"
   ]
  },
  {
   "cell_type": "code",
   "execution_count": null,
   "metadata": {},
   "outputs": [],
   "source": []
  },
  {
   "cell_type": "markdown",
   "metadata": {},
   "source": [
    "#### 7. html_num_tags('applet')"
   ]
  },
  {
   "cell_type": "code",
   "execution_count": 114,
   "metadata": {},
   "outputs": [],
   "source": [
    "feature = \"html_num_tags('applet')\""
   ]
  },
  {
   "cell_type": "markdown",
   "metadata": {},
   "source": [
    "1) 변수가 내포하고 있는 의미"
   ]
  },
  {
   "cell_type": "code",
   "execution_count": 115,
   "metadata": {},
   "outputs": [],
   "source": [
    "# HTML내 'applet' 태그 개수\n",
    "# 문서에 포함되는 애플릿(웹 페이지에 포함되어 작은 기능을 수행하는 프로그램)"
   ]
  },
  {
   "cell_type": "markdown",
   "metadata": {},
   "source": [
    "2) 변수가 수치형인지, 범주형인지"
   ]
  },
  {
   "cell_type": "code",
   "execution_count": 116,
   "metadata": {},
   "outputs": [
    {
     "data": {
      "text/plain": [
       "0    0.0\n",
       "1    0.0\n",
       "2    0.0\n",
       "3    0.0\n",
       "4    0.0\n",
       "Name: html_num_tags('applet'), dtype: float64"
      ]
     },
     "execution_count": 116,
     "metadata": {},
     "output_type": "execute_result"
    }
   ],
   "source": [
    "df[feature].head() # 수치형"
   ]
  },
  {
   "cell_type": "markdown",
   "metadata": {},
   "source": [
    "3) 결측치 존재 여부 및 조치 방안"
   ]
  },
  {
   "cell_type": "code",
   "execution_count": 117,
   "metadata": {},
   "outputs": [
    {
     "data": {
      "text/plain": [
       "0"
      ]
     },
     "execution_count": 117,
     "metadata": {},
     "output_type": "execute_result"
    }
   ],
   "source": [
    "df[feature].isna().sum()"
   ]
  },
  {
   "cell_type": "markdown",
   "metadata": {},
   "source": [
    "4) 기초 통계량 확인"
   ]
  },
  {
   "cell_type": "code",
   "execution_count": 118,
   "metadata": {},
   "outputs": [
    {
     "data": {
      "text/plain": [
       "count    3231.0\n",
       "mean        0.0\n",
       "std         0.0\n",
       "min         0.0\n",
       "25%         0.0\n",
       "50%         0.0\n",
       "75%         0.0\n",
       "max         0.0\n",
       "Name: html_num_tags('applet'), dtype: float64"
      ]
     },
     "execution_count": 118,
     "metadata": {},
     "output_type": "execute_result"
    }
   ],
   "source": [
    "df[feature].describe()"
   ]
  },
  {
   "cell_type": "markdown",
   "metadata": {},
   "source": [
    "5) 데이터 분포 확인"
   ]
  },
  {
   "cell_type": "code",
   "execution_count": 119,
   "metadata": {},
   "outputs": [
    {
     "data": {
      "image/png": "[encoded data removed]",
      "text/plain": [
       "<Figure size 432x288 with 1 Axes>"
      ]
     },
     "metadata": {
      "needs_background": "light"
     },
     "output_type": "display_data"
    },
    {
     "data": {
      "image/png": "[encoded data removed]",
      "text/plain": [
       "<Figure size 432x288 with 1 Axes>"
      ]
     },
     "metadata": {
      "needs_background": "light"
     },
     "output_type": "display_data"
    }
   ],
   "source": [
    "plot_show(feature)"
   ]
  },
  {
   "cell_type": "markdown",
   "metadata": {},
   "source": [
    "6) 위 정보로부터 파악한 내용 정리"
   ]
  },
  {
   "cell_type": "code",
   "execution_count": null,
   "metadata": {},
   "outputs": [],
   "source": [
    "# 없음"
   ]
  },
  {
   "cell_type": "markdown",
   "metadata": {},
   "source": [
    "7) 추가 분석사항 도출"
   ]
  },
  {
   "cell_type": "code",
   "execution_count": null,
   "metadata": {},
   "outputs": [],
   "source": []
  },
  {
   "cell_type": "markdown",
   "metadata": {},
   "source": [
    "#### 8. html_num_tags('script')"
   ]
  },
  {
   "cell_type": "code",
   "execution_count": 120,
   "metadata": {},
   "outputs": [],
   "source": [
    "feature = \"html_num_tags('script')\""
   ]
  },
  {
   "cell_type": "markdown",
   "metadata": {},
   "source": [
    "1) 변수가 내포하고 있는 의미"
   ]
  },
  {
   "cell_type": "code",
   "execution_count": 121,
   "metadata": {},
   "outputs": [],
   "source": [
    "# HTML내 'script' 태그 개수\n",
    "# <script> 태그는 자바스크립트와 같은 클라이언트 사이드 스크립트(client-side scripts) 정의"
   ]
  },
  {
   "cell_type": "markdown",
   "metadata": {},
   "source": [
    "2) 변수가 수치형인지, 범주형인지"
   ]
  },
  {
   "cell_type": "code",
   "execution_count": 122,
   "metadata": {},
   "outputs": [
    {
     "data": {
      "text/plain": [
       "0     7.0\n",
       "1    18.0\n",
       "2    33.0\n",
       "3    15.0\n",
       "4    10.0\n",
       "Name: html_num_tags('script'), dtype: float64"
      ]
     },
     "execution_count": 122,
     "metadata": {},
     "output_type": "execute_result"
    }
   ],
   "source": [
    "df[feature].head() # 수치형"
   ]
  },
  {
   "cell_type": "markdown",
   "metadata": {},
   "source": [
    "3) 결측치 존재 여부 및 조치 방안"
   ]
  },
  {
   "cell_type": "code",
   "execution_count": 123,
   "metadata": {},
   "outputs": [
    {
     "data": {
      "text/plain": [
       "0"
      ]
     },
     "execution_count": 123,
     "metadata": {},
     "output_type": "execute_result"
    }
   ],
   "source": [
    "df[feature].isna().sum()"
   ]
  },
  {
   "cell_type": "markdown",
   "metadata": {},
   "source": [
    "4) 기초 통계량 확인"
   ]
  },
  {
   "cell_type": "code",
   "execution_count": 124,
   "metadata": {},
   "outputs": [
    {
     "data": {
      "text/plain": [
       "count    3231.000000\n",
       "mean        8.659239\n",
       "std        12.769059\n",
       "min         0.000000\n",
       "25%         2.000000\n",
       "50%         4.000000\n",
       "75%        12.000000\n",
       "max       267.000000\n",
       "Name: html_num_tags('script'), dtype: float64"
      ]
     },
     "execution_count": 124,
     "metadata": {},
     "output_type": "execute_result"
    }
   ],
   "source": [
    "df[feature].describe()"
   ]
  },
  {
   "cell_type": "markdown",
   "metadata": {},
   "source": [
    "5) 데이터 분포 확인"
   ]
  },
  {
   "cell_type": "code",
   "execution_count": 125,
   "metadata": {},
   "outputs": [
    {
     "data": {
      "image/png": "[encoded data removed]",
      "text/plain": [
       "<Figure size 432x288 with 1 Axes>"
      ]
     },
     "metadata": {
      "needs_background": "light"
     },
     "output_type": "display_data"
    },
    {
     "data": {
      "image/png": "[encoded data removed]",
      "text/plain": [
       "<Figure size 432x288 with 1 Axes>"
      ]
     },
     "metadata": {
      "needs_background": "light"
     },
     "output_type": "display_data"
    }
   ],
   "source": [
    "plot_show(feature)"
   ]
  },
  {
   "cell_type": "markdown",
   "metadata": {},
   "source": [
    "6) 위 정보로부터 파악한 내용 정리"
   ]
  },
  {
   "cell_type": "code",
   "execution_count": null,
   "metadata": {},
   "outputs": [],
   "source": [
    "# 0-15 사이 가장 많음 왼쪽으로 많이 치우쳐진 그래프"
   ]
  },
  {
   "cell_type": "markdown",
   "metadata": {},
   "source": [
    "7) 추가 분석사항 도출"
   ]
  },
  {
   "cell_type": "code",
   "execution_count": null,
   "metadata": {},
   "outputs": [],
   "source": []
  },
  {
   "cell_type": "markdown",
   "metadata": {},
   "source": [
    "#### 9. html_num_tags('a')"
   ]
  },
  {
   "cell_type": "code",
   "execution_count": 126,
   "metadata": {},
   "outputs": [],
   "source": [
    "feature = \"html_num_tags('a')\""
   ]
  },
  {
   "cell_type": "markdown",
   "metadata": {},
   "source": [
    "1) 변수가 내포하고 있는 의미"
   ]
  },
  {
   "cell_type": "code",
   "execution_count": 127,
   "metadata": {},
   "outputs": [],
   "source": [
    "# HTML내 'a' 태그 개수\n",
    "# 하이퍼링크를 걸어주는 태그"
   ]
  },
  {
   "cell_type": "markdown",
   "metadata": {},
   "source": [
    "2) 변수가 수치형인지, 범주형인지"
   ]
  },
  {
   "cell_type": "code",
   "execution_count": 128,
   "metadata": {},
   "outputs": [
    {
     "data": {
      "text/plain": [
       "0      0.0\n",
       "1     21.0\n",
       "2     70.0\n",
       "3     55.0\n",
       "4    321.0\n",
       "Name: html_num_tags('a'), dtype: float64"
      ]
     },
     "execution_count": 128,
     "metadata": {},
     "output_type": "execute_result"
    }
   ],
   "source": [
    "df[feature].head() # 수치형"
   ]
  },
  {
   "cell_type": "markdown",
   "metadata": {},
   "source": [
    "3) 결측치 존재 여부 및 조치 방안"
   ]
  },
  {
   "cell_type": "code",
   "execution_count": 129,
   "metadata": {},
   "outputs": [
    {
     "data": {
      "text/plain": [
       "0"
      ]
     },
     "execution_count": 129,
     "metadata": {},
     "output_type": "execute_result"
    }
   ],
   "source": [
    "df[feature].isna().sum()"
   ]
  },
  {
   "cell_type": "markdown",
   "metadata": {},
   "source": [
    "4) 기초 통계량 확인"
   ]
  },
  {
   "cell_type": "code",
   "execution_count": 130,
   "metadata": {},
   "outputs": [
    {
     "data": {
      "text/plain": [
       "count     3231.000000\n",
       "mean        63.254101\n",
       "std        360.632590\n",
       "min          0.000000\n",
       "25%          2.000000\n",
       "50%         15.000000\n",
       "75%         49.000000\n",
       "max      13451.000000\n",
       "Name: html_num_tags('a'), dtype: float64"
      ]
     },
     "execution_count": 130,
     "metadata": {},
     "output_type": "execute_result"
    }
   ],
   "source": [
    "df[feature].describe()"
   ]
  },
  {
   "cell_type": "markdown",
   "metadata": {},
   "source": [
    "5) 데이터 분포 확인"
   ]
  },
  {
   "cell_type": "code",
   "execution_count": 131,
   "metadata": {},
   "outputs": [
    {
     "data": {
      "image/png": "[encoded data removed]",
      "text/plain": [
       "<Figure size 432x288 with 1 Axes>"
      ]
     },
     "metadata": {
      "needs_background": "light"
     },
     "output_type": "display_data"
    },
    {
     "data": {
      "image/png": "[encoded data removed]",
      "text/plain": [
       "<Figure size 432x288 with 1 Axes>"
      ]
     },
     "metadata": {
      "needs_background": "light"
     },
     "output_type": "display_data"
    }
   ],
   "source": [
    "plot_show(feature)"
   ]
  },
  {
   "cell_type": "markdown",
   "metadata": {},
   "source": [
    "6) 위 정보로부터 파악한 내용 정리"
   ]
  },
  {
   "cell_type": "code",
   "execution_count": null,
   "metadata": {},
   "outputs": [],
   "source": [
    "# 이상치 눈여겨 볼 필요 있음"
   ]
  },
  {
   "cell_type": "markdown",
   "metadata": {},
   "source": [
    "7) 추가 분석사항 도출"
   ]
  },
  {
   "cell_type": "code",
   "execution_count": null,
   "metadata": {},
   "outputs": [],
   "source": []
  },
  {
   "cell_type": "markdown",
   "metadata": {},
   "source": [
    "#### 10. url_hostname_len"
   ]
  },
  {
   "cell_type": "code",
   "execution_count": 156,
   "metadata": {},
   "outputs": [],
   "source": [
    "feature = \"url_hostname_len\""
   ]
  },
  {
   "cell_type": "markdown",
   "metadata": {},
   "source": [
    "1) 변수가 내포하고 있는 의미"
   ]
  },
  {
   "cell_type": "code",
   "execution_count": 157,
   "metadata": {},
   "outputs": [],
   "source": [
    "# URL의 hostname 길이"
   ]
  },
  {
   "cell_type": "markdown",
   "metadata": {},
   "source": [
    "2) 변수가 수치형인지, 범주형인지"
   ]
  },
  {
   "cell_type": "code",
   "execution_count": 158,
   "metadata": {},
   "outputs": [
    {
     "data": {
      "text/plain": [
       "0    15.0\n",
       "1    17.0\n",
       "2    16.0\n",
       "3    14.0\n",
       "4    27.0\n",
       "Name: url_hostname_len, dtype: float64"
      ]
     },
     "execution_count": 158,
     "metadata": {},
     "output_type": "execute_result"
    }
   ],
   "source": [
    "df[feature].head() # 수치형"
   ]
  },
  {
   "cell_type": "markdown",
   "metadata": {},
   "source": [
    "3) 결측치 존재 여부 및 조치 방안"
   ]
  },
  {
   "cell_type": "code",
   "execution_count": 159,
   "metadata": {},
   "outputs": [
    {
     "data": {
      "text/plain": [
       "0"
      ]
     },
     "execution_count": 159,
     "metadata": {},
     "output_type": "execute_result"
    }
   ],
   "source": [
    "df[feature].isna().sum()"
   ]
  },
  {
   "cell_type": "markdown",
   "metadata": {},
   "source": [
    "4) 기초 통계량 확인"
   ]
  },
  {
   "cell_type": "code",
   "execution_count": 160,
   "metadata": {},
   "outputs": [
    {
     "data": {
      "text/plain": [
       "count    3231.000000\n",
       "mean       20.450944\n",
       "std         9.902215\n",
       "min         4.000000\n",
       "25%        14.000000\n",
       "50%        17.000000\n",
       "75%        24.000000\n",
       "max       109.000000\n",
       "Name: url_hostname_len, dtype: float64"
      ]
     },
     "execution_count": 160,
     "metadata": {},
     "output_type": "execute_result"
    }
   ],
   "source": [
    "df[feature].describe()"
   ]
  },
  {
   "cell_type": "markdown",
   "metadata": {},
   "source": [
    "5) 데이터 분포 확인"
   ]
  },
  {
   "cell_type": "code",
   "execution_count": 161,
   "metadata": {},
   "outputs": [
    {
     "data": {
      "image/png": "[encoded data removed]",
      "text/plain": [
       "<Figure size 432x288 with 1 Axes>"
      ]
     },
     "metadata": {
      "needs_background": "light"
     },
     "output_type": "display_data"
    },
    {
     "data": {
      "image/png": "[encoded data removed]",
      "text/plain": [
       "<Figure size 432x288 with 1 Axes>"
      ]
     },
     "metadata": {
      "needs_background": "light"
     },
     "output_type": "display_data"
    }
   ],
   "source": [
    "plot_show(feature)"
   ]
  },
  {
   "cell_type": "markdown",
   "metadata": {},
   "source": [
    "6) 위 정보로부터 파악한 내용 정리"
   ]
  },
  {
   "cell_type": "code",
   "execution_count": null,
   "metadata": {},
   "outputs": [],
   "source": [
    "# 평균 20, 이상치 !"
   ]
  },
  {
   "cell_type": "markdown",
   "metadata": {},
   "source": [
    "7) 추가 분석사항 도출"
   ]
  },
  {
   "cell_type": "code",
   "execution_count": null,
   "metadata": {},
   "outputs": [],
   "source": []
  },
  {
   "cell_type": "markdown",
   "metadata": {},
   "source": [
    "#### 11. url_entropy"
   ]
  },
  {
   "cell_type": "code",
   "execution_count": 178,
   "metadata": {},
   "outputs": [],
   "source": [
    "feature = \"url_entropy\""
   ]
  },
  {
   "cell_type": "markdown",
   "metadata": {},
   "source": [
    "1) 변수가 내포하고 있는 의미"
   ]
  },
  {
   "cell_type": "code",
   "execution_count": 179,
   "metadata": {},
   "outputs": [],
   "source": [
    "# URL 복잡도"
   ]
  },
  {
   "cell_type": "markdown",
   "metadata": {},
   "source": [
    "2) 변수가 수치형인지, 범주형인지"
   ]
  },
  {
   "cell_type": "code",
   "execution_count": 180,
   "metadata": {},
   "outputs": [
    {
     "data": {
      "text/plain": [
       "0    4.260333\n",
       "1    4.636107\n",
       "2    3.708966\n",
       "3    4.025592\n",
       "4    4.631833\n",
       "Name: url_entropy, dtype: float64"
      ]
     },
     "execution_count": 180,
     "metadata": {},
     "output_type": "execute_result"
    }
   ],
   "source": [
    "df[feature].head() # 수치형"
   ]
  },
  {
   "cell_type": "markdown",
   "metadata": {},
   "source": [
    "3) 결측치 존재 여부 및 조치 방안"
   ]
  },
  {
   "cell_type": "code",
   "execution_count": 181,
   "metadata": {},
   "outputs": [
    {
     "data": {
      "text/plain": [
       "0"
      ]
     },
     "execution_count": 181,
     "metadata": {},
     "output_type": "execute_result"
    }
   ],
   "source": [
    "df[feature].isna().sum()"
   ]
  },
  {
   "cell_type": "markdown",
   "metadata": {},
   "source": [
    "4) 기초 통계량 확인"
   ]
  },
  {
   "cell_type": "code",
   "execution_count": 182,
   "metadata": {},
   "outputs": [
    {
     "data": {
      "text/plain": [
       "count    3231.000000\n",
       "mean        4.232582\n",
       "std         0.394697\n",
       "min         2.737839\n",
       "25%         3.992151\n",
       "50%         4.195816\n",
       "75%         4.470114\n",
       "max         5.821782\n",
       "Name: url_entropy, dtype: float64"
      ]
     },
     "execution_count": 182,
     "metadata": {},
     "output_type": "execute_result"
    }
   ],
   "source": [
    "df[feature].describe()"
   ]
  },
  {
   "cell_type": "markdown",
   "metadata": {},
   "source": [
    "5) 데이터 분포 확인"
   ]
  },
  {
   "cell_type": "code",
   "execution_count": 183,
   "metadata": {},
   "outputs": [
    {
     "data": {
      "image/png": "[encoded data removed]",
      "text/plain": [
       "<Figure size 432x288 with 1 Axes>"
      ]
     },
     "metadata": {
      "needs_background": "light"
     },
     "output_type": "display_data"
    },
    {
     "data": {
      "image/png": "[encoded data removed]",
      "text/plain": [
       "<Figure size 432x288 with 1 Axes>"
      ]
     },
     "metadata": {
      "needs_background": "light"
     },
     "output_type": "display_data"
    }
   ],
   "source": [
    "plot_show(feature)"
   ]
  },
  {
   "cell_type": "markdown",
   "metadata": {},
   "source": [
    "6) 위 정보로부터 파악한 내용 정리"
   ]
  },
  {
   "cell_type": "code",
   "execution_count": null,
   "metadata": {},
   "outputs": [],
   "source": [
    "# 정규분포의 형태"
   ]
  },
  {
   "cell_type": "markdown",
   "metadata": {},
   "source": [
    "7) 추가 분석사항 도출"
   ]
  },
  {
   "cell_type": "code",
   "execution_count": null,
   "metadata": {},
   "outputs": [],
   "source": []
  },
  {
   "cell_type": "markdown",
   "metadata": {},
   "source": [
    "## <b>Q2. 데이터 이변량 분석하기\n",
    "\n",
    "* 자료의 종류에 맞게 X --> Y 에 대해서 그래프(시각화)와 가설검정(수치화)를 수행하고 결과를 평가합니다.\n",
    "* 가설검정시 다음의 항목을 참조하여 수행합니다.\n",
    "    * 적절한 유의수준\n",
    "    * 숫자 --> 숫자 : 상관분석\n",
    "    * 범주 --> 범주 : 카이제곱검정\n",
    "    * 범주 --> 숫자 : t검정, 분산분석\n",
    "    * 숫자 --> 범주 : 로지스틱 회귀모형을 통해, 회귀계수의 P.value로 검정을 수행합니다."
   ]
  },
  {
   "cell_type": "code",
   "execution_count": 148,
   "metadata": {},
   "outputs": [],
   "source": [
    "temp = df.loc[:, ['Result_v1','url_len', 'url_num_hyphens_dom', 'url_path_len', 'url_domain_len', 'url_ip_present', \"html_num_tags('iframe')\", \"html_num_tags('script')\", \"html_num_tags('a')\"]]\n",
    "temp = df.copy()"
   ]
  },
  {
   "cell_type": "code",
   "execution_count": 149,
   "metadata": {},
   "outputs": [],
   "source": [
    "temp['Result_v1'] = temp['Result_v1'].map({'malicious' : 1, 'benign' : 0})"
   ]
  },
  {
   "cell_type": "code",
   "execution_count": 150,
   "metadata": {},
   "outputs": [
    {
     "data": {
      "text/html": [
       "<div>\n",
       "<style scoped>\n",
       "    .dataframe tbody tr th:only-of-type {\n",
       "        vertical-align: middle;\n",
       "    }\n",
       "\n",
       "    .dataframe tbody tr th {\n",
       "        vertical-align: top;\n",
       "    }\n",
       "\n",
       "    .dataframe thead th {\n",
       "        text-align: right;\n",
       "    }\n",
       "</style>\n",
       "<table border=\"1\" class=\"dataframe\">\n",
       "  <thead>\n",
       "    <tr style=\"text-align: right;\">\n",
       "      <th></th>\n",
       "      <th>url_len</th>\n",
       "      <th>url_num_hyphens_dom</th>\n",
       "      <th>url_path_len</th>\n",
       "      <th>url_domain_len</th>\n",
       "      <th>url_hostname_len</th>\n",
       "      <th>url_num_dots</th>\n",
       "      <th>url_num_underscores</th>\n",
       "      <th>url_query_len</th>\n",
       "      <th>url_num_query_para</th>\n",
       "      <th>url_ip_present</th>\n",
       "      <th>...</th>\n",
       "      <th>html_num_tags('script')</th>\n",
       "      <th>html_num_tags('embed')</th>\n",
       "      <th>html_num_tags('object')</th>\n",
       "      <th>html_num_tags('div')</th>\n",
       "      <th>html_num_tags('head')</th>\n",
       "      <th>html_num_tags('body')</th>\n",
       "      <th>html_num_tags('form')</th>\n",
       "      <th>html_num_tags('a')</th>\n",
       "      <th>html_num_tags('applet')</th>\n",
       "      <th>Result_v1</th>\n",
       "    </tr>\n",
       "  </thead>\n",
       "  <tbody>\n",
       "    <tr>\n",
       "      <th>0</th>\n",
       "      <td>23.0</td>\n",
       "      <td>0.0</td>\n",
       "      <td>8.0</td>\n",
       "      <td>15.0</td>\n",
       "      <td>15.0</td>\n",
       "      <td>2.0</td>\n",
       "      <td>0.0</td>\n",
       "      <td>0.0</td>\n",
       "      <td>0.0</td>\n",
       "      <td>0.0</td>\n",
       "      <td>...</td>\n",
       "      <td>7.0</td>\n",
       "      <td>0.0</td>\n",
       "      <td>0.0</td>\n",
       "      <td>0.0</td>\n",
       "      <td>1.0</td>\n",
       "      <td>1.0</td>\n",
       "      <td>0.0</td>\n",
       "      <td>0.0</td>\n",
       "      <td>0.0</td>\n",
       "      <td>1</td>\n",
       "    </tr>\n",
       "    <tr>\n",
       "      <th>1</th>\n",
       "      <td>75.0</td>\n",
       "      <td>0.0</td>\n",
       "      <td>58.0</td>\n",
       "      <td>17.0</td>\n",
       "      <td>17.0</td>\n",
       "      <td>6.0</td>\n",
       "      <td>0.0</td>\n",
       "      <td>0.0</td>\n",
       "      <td>0.0</td>\n",
       "      <td>0.0</td>\n",
       "      <td>...</td>\n",
       "      <td>18.0</td>\n",
       "      <td>0.0</td>\n",
       "      <td>0.0</td>\n",
       "      <td>20.0</td>\n",
       "      <td>1.0</td>\n",
       "      <td>1.0</td>\n",
       "      <td>0.0</td>\n",
       "      <td>21.0</td>\n",
       "      <td>0.0</td>\n",
       "      <td>0</td>\n",
       "    </tr>\n",
       "    <tr>\n",
       "      <th>2</th>\n",
       "      <td>20.0</td>\n",
       "      <td>0.0</td>\n",
       "      <td>4.0</td>\n",
       "      <td>16.0</td>\n",
       "      <td>16.0</td>\n",
       "      <td>2.0</td>\n",
       "      <td>0.0</td>\n",
       "      <td>0.0</td>\n",
       "      <td>0.0</td>\n",
       "      <td>0.0</td>\n",
       "      <td>...</td>\n",
       "      <td>33.0</td>\n",
       "      <td>0.0</td>\n",
       "      <td>0.0</td>\n",
       "      <td>101.0</td>\n",
       "      <td>1.0</td>\n",
       "      <td>1.0</td>\n",
       "      <td>3.0</td>\n",
       "      <td>70.0</td>\n",
       "      <td>0.0</td>\n",
       "      <td>0</td>\n",
       "    </tr>\n",
       "    <tr>\n",
       "      <th>3</th>\n",
       "      <td>27.0</td>\n",
       "      <td>0.0</td>\n",
       "      <td>13.0</td>\n",
       "      <td>14.0</td>\n",
       "      <td>14.0</td>\n",
       "      <td>3.0</td>\n",
       "      <td>0.0</td>\n",
       "      <td>0.0</td>\n",
       "      <td>0.0</td>\n",
       "      <td>0.0</td>\n",
       "      <td>...</td>\n",
       "      <td>15.0</td>\n",
       "      <td>0.0</td>\n",
       "      <td>0.0</td>\n",
       "      <td>151.0</td>\n",
       "      <td>1.0</td>\n",
       "      <td>1.0</td>\n",
       "      <td>1.0</td>\n",
       "      <td>55.0</td>\n",
       "      <td>0.0</td>\n",
       "      <td>0</td>\n",
       "    </tr>\n",
       "    <tr>\n",
       "      <th>4</th>\n",
       "      <td>39.0</td>\n",
       "      <td>2.0</td>\n",
       "      <td>12.0</td>\n",
       "      <td>27.0</td>\n",
       "      <td>27.0</td>\n",
       "      <td>2.0</td>\n",
       "      <td>0.0</td>\n",
       "      <td>0.0</td>\n",
       "      <td>0.0</td>\n",
       "      <td>0.0</td>\n",
       "      <td>...</td>\n",
       "      <td>10.0</td>\n",
       "      <td>0.0</td>\n",
       "      <td>0.0</td>\n",
       "      <td>332.0</td>\n",
       "      <td>1.0</td>\n",
       "      <td>1.0</td>\n",
       "      <td>0.0</td>\n",
       "      <td>321.0</td>\n",
       "      <td>0.0</td>\n",
       "      <td>0</td>\n",
       "    </tr>\n",
       "  </tbody>\n",
       "</table>\n",
       "<p>5 rows × 24 columns</p>\n",
       "</div>"
      ],
      "text/plain": [
       "   url_len  url_num_hyphens_dom  url_path_len  url_domain_len  \\\n",
       "0     23.0                  0.0           8.0            15.0   \n",
       "1     75.0                  0.0          58.0            17.0   \n",
       "2     20.0                  0.0           4.0            16.0   \n",
       "3     27.0                  0.0          13.0            14.0   \n",
       "4     39.0                  2.0          12.0            27.0   \n",
       "\n",
       "   url_hostname_len  url_num_dots  url_num_underscores  url_query_len  \\\n",
       "0              15.0           2.0                  0.0            0.0   \n",
       "1              17.0           6.0                  0.0            0.0   \n",
       "2              16.0           2.0                  0.0            0.0   \n",
       "3              14.0           3.0                  0.0            0.0   \n",
       "4              27.0           2.0                  0.0            0.0   \n",
       "\n",
       "   url_num_query_para  url_ip_present  ...  html_num_tags('script')  \\\n",
       "0                 0.0             0.0  ...                      7.0   \n",
       "1                 0.0             0.0  ...                     18.0   \n",
       "2                 0.0             0.0  ...                     33.0   \n",
       "3                 0.0             0.0  ...                     15.0   \n",
       "4                 0.0             0.0  ...                     10.0   \n",
       "\n",
       "   html_num_tags('embed')  html_num_tags('object')  html_num_tags('div')  \\\n",
       "0                     0.0                      0.0                   0.0   \n",
       "1                     0.0                      0.0                  20.0   \n",
       "2                     0.0                      0.0                 101.0   \n",
       "3                     0.0                      0.0                 151.0   \n",
       "4                     0.0                      0.0                 332.0   \n",
       "\n",
       "   html_num_tags('head')  html_num_tags('body')  html_num_tags('form')  \\\n",
       "0                    1.0                    1.0                    0.0   \n",
       "1                    1.0                    1.0                    0.0   \n",
       "2                    1.0                    1.0                    3.0   \n",
       "3                    1.0                    1.0                    1.0   \n",
       "4                    1.0                    1.0                    0.0   \n",
       "\n",
       "   html_num_tags('a')  html_num_tags('applet')  Result_v1  \n",
       "0                 0.0                      0.0          1  \n",
       "1                21.0                      0.0          0  \n",
       "2                70.0                      0.0          0  \n",
       "3                55.0                      0.0          0  \n",
       "4               321.0                      0.0          0  \n",
       "\n",
       "[5 rows x 24 columns]"
      ]
     },
     "execution_count": 150,
     "metadata": {},
     "output_type": "execute_result"
    }
   ],
   "source": [
    "temp.head()"
   ]
  },
  {
   "cell_type": "code",
   "execution_count": 151,
   "metadata": {},
   "outputs": [
    {
     "data": {
      "text/html": [
       "<div>\n",
       "<style scoped>\n",
       "    .dataframe tbody tr th:only-of-type {\n",
       "        vertical-align: middle;\n",
       "    }\n",
       "\n",
       "    .dataframe tbody tr th {\n",
       "        vertical-align: top;\n",
       "    }\n",
       "\n",
       "    .dataframe thead th {\n",
       "        text-align: right;\n",
       "    }\n",
       "</style>\n",
       "<table border=\"1\" class=\"dataframe\">\n",
       "  <thead>\n",
       "    <tr style=\"text-align: right;\">\n",
       "      <th></th>\n",
       "      <th>url_len</th>\n",
       "      <th>url_num_hyphens_dom</th>\n",
       "      <th>url_path_len</th>\n",
       "      <th>url_domain_len</th>\n",
       "      <th>url_hostname_len</th>\n",
       "      <th>url_num_dots</th>\n",
       "      <th>url_num_underscores</th>\n",
       "      <th>url_query_len</th>\n",
       "      <th>url_num_query_para</th>\n",
       "      <th>url_ip_present</th>\n",
       "      <th>...</th>\n",
       "      <th>html_num_tags('script')</th>\n",
       "      <th>html_num_tags('embed')</th>\n",
       "      <th>html_num_tags('object')</th>\n",
       "      <th>html_num_tags('div')</th>\n",
       "      <th>html_num_tags('head')</th>\n",
       "      <th>html_num_tags('body')</th>\n",
       "      <th>html_num_tags('form')</th>\n",
       "      <th>html_num_tags('a')</th>\n",
       "      <th>html_num_tags('applet')</th>\n",
       "      <th>Result_v1</th>\n",
       "    </tr>\n",
       "  </thead>\n",
       "  <tbody>\n",
       "    <tr>\n",
       "      <th>url_len</th>\n",
       "      <td>1.000000</td>\n",
       "      <td>-0.025183</td>\n",
       "      <td>0.944497</td>\n",
       "      <td>0.001670</td>\n",
       "      <td>0.002085</td>\n",
       "      <td>0.267134</td>\n",
       "      <td>0.307256</td>\n",
       "      <td>0.318540</td>\n",
       "      <td>0.267502</td>\n",
       "      <td>-0.067771</td>\n",
       "      <td>...</td>\n",
       "      <td>-0.026803</td>\n",
       "      <td>-0.012114</td>\n",
       "      <td>-0.021489</td>\n",
       "      <td>-0.013241</td>\n",
       "      <td>0.074980</td>\n",
       "      <td>0.043752</td>\n",
       "      <td>-0.037282</td>\n",
       "      <td>-0.019775</td>\n",
       "      <td>NaN</td>\n",
       "      <td>-0.006429</td>\n",
       "    </tr>\n",
       "    <tr>\n",
       "      <th>url_num_hyphens_dom</th>\n",
       "      <td>-0.025183</td>\n",
       "      <td>1.000000</td>\n",
       "      <td>-0.097643</td>\n",
       "      <td>0.589203</td>\n",
       "      <td>0.590278</td>\n",
       "      <td>-0.085324</td>\n",
       "      <td>-0.063695</td>\n",
       "      <td>0.001715</td>\n",
       "      <td>-0.002627</td>\n",
       "      <td>-0.124600</td>\n",
       "      <td>...</td>\n",
       "      <td>-0.110263</td>\n",
       "      <td>-0.052932</td>\n",
       "      <td>-0.048672</td>\n",
       "      <td>-0.013765</td>\n",
       "      <td>0.039036</td>\n",
       "      <td>-0.043295</td>\n",
       "      <td>0.038427</td>\n",
       "      <td>-0.036904</td>\n",
       "      <td>NaN</td>\n",
       "      <td>0.355480</td>\n",
       "    </tr>\n",
       "    <tr>\n",
       "      <th>url_path_len</th>\n",
       "      <td>0.944497</td>\n",
       "      <td>-0.097643</td>\n",
       "      <td>1.000000</td>\n",
       "      <td>-0.123280</td>\n",
       "      <td>-0.123081</td>\n",
       "      <td>0.196425</td>\n",
       "      <td>0.254179</td>\n",
       "      <td>0.011303</td>\n",
       "      <td>0.010422</td>\n",
       "      <td>-0.037249</td>\n",
       "      <td>...</td>\n",
       "      <td>0.006749</td>\n",
       "      <td>-0.003340</td>\n",
       "      <td>-0.015291</td>\n",
       "      <td>-0.008044</td>\n",
       "      <td>0.078578</td>\n",
       "      <td>-0.006032</td>\n",
       "      <td>-0.042510</td>\n",
       "      <td>-0.008870</td>\n",
       "      <td>NaN</td>\n",
       "      <td>-0.113835</td>\n",
       "    </tr>\n",
       "    <tr>\n",
       "      <th>url_domain_len</th>\n",
       "      <td>0.001670</td>\n",
       "      <td>0.589203</td>\n",
       "      <td>-0.123280</td>\n",
       "      <td>1.000000</td>\n",
       "      <td>0.998956</td>\n",
       "      <td>0.082025</td>\n",
       "      <td>-0.092685</td>\n",
       "      <td>0.014915</td>\n",
       "      <td>0.015721</td>\n",
       "      <td>-0.150800</td>\n",
       "      <td>...</td>\n",
       "      <td>-0.103895</td>\n",
       "      <td>-0.012265</td>\n",
       "      <td>-0.029448</td>\n",
       "      <td>-0.002495</td>\n",
       "      <td>0.002868</td>\n",
       "      <td>0.031097</td>\n",
       "      <td>0.033835</td>\n",
       "      <td>-0.035063</td>\n",
       "      <td>NaN</td>\n",
       "      <td>0.380448</td>\n",
       "    </tr>\n",
       "    <tr>\n",
       "      <th>url_hostname_len</th>\n",
       "      <td>0.002085</td>\n",
       "      <td>0.590278</td>\n",
       "      <td>-0.123081</td>\n",
       "      <td>0.998956</td>\n",
       "      <td>1.000000</td>\n",
       "      <td>0.078337</td>\n",
       "      <td>-0.094091</td>\n",
       "      <td>0.016032</td>\n",
       "      <td>0.016803</td>\n",
       "      <td>-0.169295</td>\n",
       "      <td>...</td>\n",
       "      <td>-0.101211</td>\n",
       "      <td>-0.011445</td>\n",
       "      <td>-0.030490</td>\n",
       "      <td>-0.001540</td>\n",
       "      <td>0.002779</td>\n",
       "      <td>0.031446</td>\n",
       "      <td>0.036627</td>\n",
       "      <td>-0.033953</td>\n",
       "      <td>NaN</td>\n",
       "      <td>0.384489</td>\n",
       "    </tr>\n",
       "    <tr>\n",
       "      <th>url_num_dots</th>\n",
       "      <td>0.267134</td>\n",
       "      <td>-0.085324</td>\n",
       "      <td>0.196425</td>\n",
       "      <td>0.082025</td>\n",
       "      <td>0.078337</td>\n",
       "      <td>1.000000</td>\n",
       "      <td>0.261850</td>\n",
       "      <td>0.227932</td>\n",
       "      <td>0.197153</td>\n",
       "      <td>0.184992</td>\n",
       "      <td>...</td>\n",
       "      <td>-0.086458</td>\n",
       "      <td>-0.030750</td>\n",
       "      <td>-0.017976</td>\n",
       "      <td>-0.027272</td>\n",
       "      <td>-0.024784</td>\n",
       "      <td>-0.000531</td>\n",
       "      <td>-0.066137</td>\n",
       "      <td>-0.027895</td>\n",
       "      <td>NaN</td>\n",
       "      <td>-0.047256</td>\n",
       "    </tr>\n",
       "    <tr>\n",
       "      <th>url_num_underscores</th>\n",
       "      <td>0.307256</td>\n",
       "      <td>-0.063695</td>\n",
       "      <td>0.254179</td>\n",
       "      <td>-0.092685</td>\n",
       "      <td>-0.094091</td>\n",
       "      <td>0.261850</td>\n",
       "      <td>1.000000</td>\n",
       "      <td>0.246116</td>\n",
       "      <td>0.245183</td>\n",
       "      <td>-0.052211</td>\n",
       "      <td>...</td>\n",
       "      <td>-0.069631</td>\n",
       "      <td>-0.029422</td>\n",
       "      <td>-0.021538</td>\n",
       "      <td>-0.017179</td>\n",
       "      <td>0.058713</td>\n",
       "      <td>0.031360</td>\n",
       "      <td>-0.079358</td>\n",
       "      <td>-0.007495</td>\n",
       "      <td>NaN</td>\n",
       "      <td>-0.133808</td>\n",
       "    </tr>\n",
       "    <tr>\n",
       "      <th>url_query_len</th>\n",
       "      <td>0.318540</td>\n",
       "      <td>0.001715</td>\n",
       "      <td>0.011303</td>\n",
       "      <td>0.014915</td>\n",
       "      <td>0.016032</td>\n",
       "      <td>0.227932</td>\n",
       "      <td>0.246116</td>\n",
       "      <td>1.000000</td>\n",
       "      <td>0.834315</td>\n",
       "      <td>-0.048321</td>\n",
       "      <td>...</td>\n",
       "      <td>-0.069375</td>\n",
       "      <td>-0.024240</td>\n",
       "      <td>-0.011191</td>\n",
       "      <td>-0.016998</td>\n",
       "      <td>-0.001409</td>\n",
       "      <td>0.150485</td>\n",
       "      <td>-0.001790</td>\n",
       "      <td>-0.023486</td>\n",
       "      <td>NaN</td>\n",
       "      <td>0.189689</td>\n",
       "    </tr>\n",
       "    <tr>\n",
       "      <th>url_num_query_para</th>\n",
       "      <td>0.267502</td>\n",
       "      <td>-0.002627</td>\n",
       "      <td>0.010422</td>\n",
       "      <td>0.015721</td>\n",
       "      <td>0.016803</td>\n",
       "      <td>0.197153</td>\n",
       "      <td>0.245183</td>\n",
       "      <td>0.834315</td>\n",
       "      <td>1.000000</td>\n",
       "      <td>-0.046998</td>\n",
       "      <td>...</td>\n",
       "      <td>-0.066136</td>\n",
       "      <td>-0.023577</td>\n",
       "      <td>-0.016486</td>\n",
       "      <td>-0.015185</td>\n",
       "      <td>-0.019294</td>\n",
       "      <td>0.109691</td>\n",
       "      <td>-0.005181</td>\n",
       "      <td>-0.022982</td>\n",
       "      <td>NaN</td>\n",
       "      <td>0.184497</td>\n",
       "    </tr>\n",
       "    <tr>\n",
       "      <th>url_ip_present</th>\n",
       "      <td>-0.067771</td>\n",
       "      <td>-0.124600</td>\n",
       "      <td>-0.037249</td>\n",
       "      <td>-0.150800</td>\n",
       "      <td>-0.169295</td>\n",
       "      <td>0.184992</td>\n",
       "      <td>-0.052211</td>\n",
       "      <td>-0.048321</td>\n",
       "      <td>-0.046998</td>\n",
       "      <td>1.000000</td>\n",
       "      <td>...</td>\n",
       "      <td>-0.086306</td>\n",
       "      <td>-0.032573</td>\n",
       "      <td>0.041407</td>\n",
       "      <td>-0.031192</td>\n",
       "      <td>0.012362</td>\n",
       "      <td>-0.018434</td>\n",
       "      <td>-0.077854</td>\n",
       "      <td>-0.035891</td>\n",
       "      <td>NaN</td>\n",
       "      <td>-0.076236</td>\n",
       "    </tr>\n",
       "    <tr>\n",
       "      <th>url_entropy</th>\n",
       "      <td>0.254685</td>\n",
       "      <td>0.071452</td>\n",
       "      <td>0.131595</td>\n",
       "      <td>0.160224</td>\n",
       "      <td>0.163410</td>\n",
       "      <td>0.195450</td>\n",
       "      <td>0.244172</td>\n",
       "      <td>0.358440</td>\n",
       "      <td>0.323323</td>\n",
       "      <td>-0.165779</td>\n",
       "      <td>...</td>\n",
       "      <td>-0.100682</td>\n",
       "      <td>0.017256</td>\n",
       "      <td>-0.029893</td>\n",
       "      <td>-0.021502</td>\n",
       "      <td>-0.012621</td>\n",
       "      <td>0.063027</td>\n",
       "      <td>-0.030399</td>\n",
       "      <td>-0.024935</td>\n",
       "      <td>NaN</td>\n",
       "      <td>0.162198</td>\n",
       "    </tr>\n",
       "    <tr>\n",
       "      <th>url_chinese_present</th>\n",
       "      <td>NaN</td>\n",
       "      <td>NaN</td>\n",
       "      <td>NaN</td>\n",
       "      <td>NaN</td>\n",
       "      <td>NaN</td>\n",
       "      <td>NaN</td>\n",
       "      <td>NaN</td>\n",
       "      <td>NaN</td>\n",
       "      <td>NaN</td>\n",
       "      <td>NaN</td>\n",
       "      <td>...</td>\n",
       "      <td>NaN</td>\n",
       "      <td>NaN</td>\n",
       "      <td>NaN</td>\n",
       "      <td>NaN</td>\n",
       "      <td>NaN</td>\n",
       "      <td>NaN</td>\n",
       "      <td>NaN</td>\n",
       "      <td>NaN</td>\n",
       "      <td>NaN</td>\n",
       "      <td>NaN</td>\n",
       "    </tr>\n",
       "    <tr>\n",
       "      <th>url_port</th>\n",
       "      <td>0.051000</td>\n",
       "      <td>-0.022785</td>\n",
       "      <td>0.056566</td>\n",
       "      <td>-0.002415</td>\n",
       "      <td>-0.024982</td>\n",
       "      <td>0.031340</td>\n",
       "      <td>0.091066</td>\n",
       "      <td>-0.008836</td>\n",
       "      <td>-0.008594</td>\n",
       "      <td>0.099405</td>\n",
       "      <td>...</td>\n",
       "      <td>-0.012834</td>\n",
       "      <td>-0.005956</td>\n",
       "      <td>-0.005739</td>\n",
       "      <td>-0.004837</td>\n",
       "      <td>0.000605</td>\n",
       "      <td>-0.003371</td>\n",
       "      <td>-0.012498</td>\n",
       "      <td>-0.007122</td>\n",
       "      <td>NaN</td>\n",
       "      <td>-0.006642</td>\n",
       "    </tr>\n",
       "    <tr>\n",
       "      <th>html_num_tags('iframe')</th>\n",
       "      <td>0.022091</td>\n",
       "      <td>-0.014977</td>\n",
       "      <td>0.033574</td>\n",
       "      <td>-0.011562</td>\n",
       "      <td>-0.010897</td>\n",
       "      <td>-0.000463</td>\n",
       "      <td>-0.027094</td>\n",
       "      <td>-0.028272</td>\n",
       "      <td>-0.030635</td>\n",
       "      <td>-0.027805</td>\n",
       "      <td>...</td>\n",
       "      <td>0.266982</td>\n",
       "      <td>0.070828</td>\n",
       "      <td>0.049475</td>\n",
       "      <td>0.047177</td>\n",
       "      <td>-0.027587</td>\n",
       "      <td>-0.006687</td>\n",
       "      <td>0.098308</td>\n",
       "      <td>0.045139</td>\n",
       "      <td>NaN</td>\n",
       "      <td>-0.033966</td>\n",
       "    </tr>\n",
       "    <tr>\n",
       "      <th>html_num_tags('script')</th>\n",
       "      <td>-0.026803</td>\n",
       "      <td>-0.110263</td>\n",
       "      <td>0.006749</td>\n",
       "      <td>-0.103895</td>\n",
       "      <td>-0.101211</td>\n",
       "      <td>-0.086458</td>\n",
       "      <td>-0.069631</td>\n",
       "      <td>-0.069375</td>\n",
       "      <td>-0.066136</td>\n",
       "      <td>-0.086306</td>\n",
       "      <td>...</td>\n",
       "      <td>1.000000</td>\n",
       "      <td>0.026666</td>\n",
       "      <td>-0.000805</td>\n",
       "      <td>0.109408</td>\n",
       "      <td>0.056140</td>\n",
       "      <td>0.009628</td>\n",
       "      <td>0.231170</td>\n",
       "      <td>0.087716</td>\n",
       "      <td>NaN</td>\n",
       "      <td>-0.202309</td>\n",
       "    </tr>\n",
       "    <tr>\n",
       "      <th>html_num_tags('embed')</th>\n",
       "      <td>-0.012114</td>\n",
       "      <td>-0.052932</td>\n",
       "      <td>-0.003340</td>\n",
       "      <td>-0.012265</td>\n",
       "      <td>-0.011445</td>\n",
       "      <td>-0.030750</td>\n",
       "      <td>-0.029422</td>\n",
       "      <td>-0.024240</td>\n",
       "      <td>-0.023577</td>\n",
       "      <td>-0.032573</td>\n",
       "      <td>...</td>\n",
       "      <td>0.026666</td>\n",
       "      <td>1.000000</td>\n",
       "      <td>0.489795</td>\n",
       "      <td>-0.008882</td>\n",
       "      <td>0.001661</td>\n",
       "      <td>-0.009247</td>\n",
       "      <td>-0.023065</td>\n",
       "      <td>0.012907</td>\n",
       "      <td>NaN</td>\n",
       "      <td>-0.111295</td>\n",
       "    </tr>\n",
       "    <tr>\n",
       "      <th>html_num_tags('object')</th>\n",
       "      <td>-0.021489</td>\n",
       "      <td>-0.048672</td>\n",
       "      <td>-0.015291</td>\n",
       "      <td>-0.029448</td>\n",
       "      <td>-0.030490</td>\n",
       "      <td>-0.017976</td>\n",
       "      <td>-0.021538</td>\n",
       "      <td>-0.011191</td>\n",
       "      <td>-0.016486</td>\n",
       "      <td>0.041407</td>\n",
       "      <td>...</td>\n",
       "      <td>-0.000805</td>\n",
       "      <td>0.489795</td>\n",
       "      <td>1.000000</td>\n",
       "      <td>0.040056</td>\n",
       "      <td>0.001600</td>\n",
       "      <td>0.013036</td>\n",
       "      <td>0.013915</td>\n",
       "      <td>0.082403</td>\n",
       "      <td>NaN</td>\n",
       "      <td>-0.105710</td>\n",
       "    </tr>\n",
       "    <tr>\n",
       "      <th>html_num_tags('div')</th>\n",
       "      <td>-0.013241</td>\n",
       "      <td>-0.013765</td>\n",
       "      <td>-0.008044</td>\n",
       "      <td>-0.002495</td>\n",
       "      <td>-0.001540</td>\n",
       "      <td>-0.027272</td>\n",
       "      <td>-0.017179</td>\n",
       "      <td>-0.016998</td>\n",
       "      <td>-0.015185</td>\n",
       "      <td>-0.031192</td>\n",
       "      <td>...</td>\n",
       "      <td>0.109408</td>\n",
       "      <td>-0.008882</td>\n",
       "      <td>0.040056</td>\n",
       "      <td>1.000000</td>\n",
       "      <td>0.001284</td>\n",
       "      <td>-0.006553</td>\n",
       "      <td>0.116670</td>\n",
       "      <td>0.840125</td>\n",
       "      <td>NaN</td>\n",
       "      <td>-0.061183</td>\n",
       "    </tr>\n",
       "    <tr>\n",
       "      <th>html_num_tags('head')</th>\n",
       "      <td>0.074980</td>\n",
       "      <td>0.039036</td>\n",
       "      <td>0.078578</td>\n",
       "      <td>0.002868</td>\n",
       "      <td>0.002779</td>\n",
       "      <td>-0.024784</td>\n",
       "      <td>0.058713</td>\n",
       "      <td>-0.001409</td>\n",
       "      <td>-0.019294</td>\n",
       "      <td>0.012362</td>\n",
       "      <td>...</td>\n",
       "      <td>0.056140</td>\n",
       "      <td>0.001661</td>\n",
       "      <td>0.001600</td>\n",
       "      <td>0.001284</td>\n",
       "      <td>1.000000</td>\n",
       "      <td>0.191956</td>\n",
       "      <td>0.031581</td>\n",
       "      <td>0.008334</td>\n",
       "      <td>NaN</td>\n",
       "      <td>0.012990</td>\n",
       "    </tr>\n",
       "    <tr>\n",
       "      <th>html_num_tags('body')</th>\n",
       "      <td>0.043752</td>\n",
       "      <td>-0.043295</td>\n",
       "      <td>-0.006032</td>\n",
       "      <td>0.031097</td>\n",
       "      <td>0.031446</td>\n",
       "      <td>-0.000531</td>\n",
       "      <td>0.031360</td>\n",
       "      <td>0.150485</td>\n",
       "      <td>0.109691</td>\n",
       "      <td>-0.018434</td>\n",
       "      <td>...</td>\n",
       "      <td>0.009628</td>\n",
       "      <td>-0.009247</td>\n",
       "      <td>0.013036</td>\n",
       "      <td>-0.006553</td>\n",
       "      <td>0.191956</td>\n",
       "      <td>1.000000</td>\n",
       "      <td>0.029755</td>\n",
       "      <td>-0.006687</td>\n",
       "      <td>NaN</td>\n",
       "      <td>0.110581</td>\n",
       "    </tr>\n",
       "    <tr>\n",
       "      <th>html_num_tags('form')</th>\n",
       "      <td>-0.037282</td>\n",
       "      <td>0.038427</td>\n",
       "      <td>-0.042510</td>\n",
       "      <td>0.033835</td>\n",
       "      <td>0.036627</td>\n",
       "      <td>-0.066137</td>\n",
       "      <td>-0.079358</td>\n",
       "      <td>-0.001790</td>\n",
       "      <td>-0.005181</td>\n",
       "      <td>-0.077854</td>\n",
       "      <td>...</td>\n",
       "      <td>0.231170</td>\n",
       "      <td>-0.023065</td>\n",
       "      <td>0.013915</td>\n",
       "      <td>0.116670</td>\n",
       "      <td>0.031581</td>\n",
       "      <td>0.029755</td>\n",
       "      <td>1.000000</td>\n",
       "      <td>0.087638</td>\n",
       "      <td>NaN</td>\n",
       "      <td>0.116354</td>\n",
       "    </tr>\n",
       "    <tr>\n",
       "      <th>html_num_tags('a')</th>\n",
       "      <td>-0.019775</td>\n",
       "      <td>-0.036904</td>\n",
       "      <td>-0.008870</td>\n",
       "      <td>-0.035063</td>\n",
       "      <td>-0.033953</td>\n",
       "      <td>-0.027895</td>\n",
       "      <td>-0.007495</td>\n",
       "      <td>-0.023486</td>\n",
       "      <td>-0.022982</td>\n",
       "      <td>-0.035891</td>\n",
       "      <td>...</td>\n",
       "      <td>0.087716</td>\n",
       "      <td>0.012907</td>\n",
       "      <td>0.082403</td>\n",
       "      <td>0.840125</td>\n",
       "      <td>0.008334</td>\n",
       "      <td>-0.006687</td>\n",
       "      <td>0.087638</td>\n",
       "      <td>1.000000</td>\n",
       "      <td>NaN</td>\n",
       "      <td>-0.113966</td>\n",
       "    </tr>\n",
       "    <tr>\n",
       "      <th>html_num_tags('applet')</th>\n",
       "      <td>NaN</td>\n",
       "      <td>NaN</td>\n",
       "      <td>NaN</td>\n",
       "      <td>NaN</td>\n",
       "      <td>NaN</td>\n",
       "      <td>NaN</td>\n",
       "      <td>NaN</td>\n",
       "      <td>NaN</td>\n",
       "      <td>NaN</td>\n",
       "      <td>NaN</td>\n",
       "      <td>...</td>\n",
       "      <td>NaN</td>\n",
       "      <td>NaN</td>\n",
       "      <td>NaN</td>\n",
       "      <td>NaN</td>\n",
       "      <td>NaN</td>\n",
       "      <td>NaN</td>\n",
       "      <td>NaN</td>\n",
       "      <td>NaN</td>\n",
       "      <td>NaN</td>\n",
       "      <td>NaN</td>\n",
       "    </tr>\n",
       "    <tr>\n",
       "      <th>Result_v1</th>\n",
       "      <td>-0.006429</td>\n",
       "      <td>0.355480</td>\n",
       "      <td>-0.113835</td>\n",
       "      <td>0.380448</td>\n",
       "      <td>0.384489</td>\n",
       "      <td>-0.047256</td>\n",
       "      <td>-0.133808</td>\n",
       "      <td>0.189689</td>\n",
       "      <td>0.184497</td>\n",
       "      <td>-0.076236</td>\n",
       "      <td>...</td>\n",
       "      <td>-0.202309</td>\n",
       "      <td>-0.111295</td>\n",
       "      <td>-0.105710</td>\n",
       "      <td>-0.061183</td>\n",
       "      <td>0.012990</td>\n",
       "      <td>0.110581</td>\n",
       "      <td>0.116354</td>\n",
       "      <td>-0.113966</td>\n",
       "      <td>NaN</td>\n",
       "      <td>1.000000</td>\n",
       "    </tr>\n",
       "  </tbody>\n",
       "</table>\n",
       "<p>24 rows × 24 columns</p>\n",
       "</div>"
      ],
      "text/plain": [
       "                          url_len  url_num_hyphens_dom  url_path_len  \\\n",
       "url_len                  1.000000            -0.025183      0.944497   \n",
       "url_num_hyphens_dom     -0.025183             1.000000     -0.097643   \n",
       "url_path_len             0.944497            -0.097643      1.000000   \n",
       "url_domain_len           0.001670             0.589203     -0.123280   \n",
       "url_hostname_len         0.002085             0.590278     -0.123081   \n",
       "url_num_dots             0.267134            -0.085324      0.196425   \n",
       "url_num_underscores      0.307256            -0.063695      0.254179   \n",
       "url_query_len            0.318540             0.001715      0.011303   \n",
       "url_num_query_para       0.267502            -0.002627      0.010422   \n",
       "url_ip_present          -0.067771            -0.124600     -0.037249   \n",
       "url_entropy              0.254685             0.071452      0.131595   \n",
       "url_chinese_present           NaN                  NaN           NaN   \n",
       "url_port                 0.051000            -0.022785      0.056566   \n",
       "html_num_tags('iframe')  0.022091            -0.014977      0.033574   \n",
       "html_num_tags('script') -0.026803            -0.110263      0.006749   \n",
       "html_num_tags('embed')  -0.012114            -0.052932     -0.003340   \n",
       "html_num_tags('object') -0.021489            -0.048672     -0.015291   \n",
       "html_num_tags('div')    -0.013241            -0.013765     -0.008044   \n",
       "html_num_tags('head')    0.074980             0.039036      0.078578   \n",
       "html_num_tags('body')    0.043752            -0.043295     -0.006032   \n",
       "html_num_tags('form')   -0.037282             0.038427     -0.042510   \n",
       "html_num_tags('a')      -0.019775            -0.036904     -0.008870   \n",
       "html_num_tags('applet')       NaN                  NaN           NaN   \n",
       "Result_v1               -0.006429             0.355480     -0.113835   \n",
       "\n",
       "                         url_domain_len  url_hostname_len  url_num_dots  \\\n",
       "url_len                        0.001670          0.002085      0.267134   \n",
       "url_num_hyphens_dom            0.589203          0.590278     -0.085324   \n",
       "url_path_len                  -0.123280         -0.123081      0.196425   \n",
       "url_domain_len                 1.000000          0.998956      0.082025   \n",
       "url_hostname_len               0.998956          1.000000      0.078337   \n",
       "url_num_dots                   0.082025          0.078337      1.000000   \n",
       "url_num_underscores           -0.092685         -0.094091      0.261850   \n",
       "url_query_len                  0.014915          0.016032      0.227932   \n",
       "url_num_query_para             0.015721          0.016803      0.197153   \n",
       "url_ip_present                -0.150800         -0.169295      0.184992   \n",
       "url_entropy                    0.160224          0.163410      0.195450   \n",
       "url_chinese_present                 NaN               NaN           NaN   \n",
       "url_port                      -0.002415         -0.024982      0.031340   \n",
       "html_num_tags('iframe')       -0.011562         -0.010897     -0.000463   \n",
       "html_num_tags('script')       -0.103895         -0.101211     -0.086458   \n",
       "html_num_tags('embed')        -0.012265         -0.011445     -0.030750   \n",
       "html_num_tags('object')       -0.029448         -0.030490     -0.017976   \n",
       "html_num_tags('div')          -0.002495         -0.001540     -0.027272   \n",
       "html_num_tags('head')          0.002868          0.002779     -0.024784   \n",
       "html_num_tags('body')          0.031097          0.031446     -0.000531   \n",
       "html_num_tags('form')          0.033835          0.036627     -0.066137   \n",
       "html_num_tags('a')            -0.035063         -0.033953     -0.027895   \n",
       "html_num_tags('applet')             NaN               NaN           NaN   \n",
       "Result_v1                      0.380448          0.384489     -0.047256   \n",
       "\n",
       "                         url_num_underscores  url_query_len  \\\n",
       "url_len                             0.307256       0.318540   \n",
       "url_num_hyphens_dom                -0.063695       0.001715   \n",
       "url_path_len                        0.254179       0.011303   \n",
       "url_domain_len                     -0.092685       0.014915   \n",
       "url_hostname_len                   -0.094091       0.016032   \n",
       "url_num_dots                        0.261850       0.227932   \n",
       "url_num_underscores                 1.000000       0.246116   \n",
       "url_query_len                       0.246116       1.000000   \n",
       "url_num_query_para                  0.245183       0.834315   \n",
       "url_ip_present                     -0.052211      -0.048321   \n",
       "url_entropy                         0.244172       0.358440   \n",
       "url_chinese_present                      NaN            NaN   \n",
       "url_port                            0.091066      -0.008836   \n",
       "html_num_tags('iframe')            -0.027094      -0.028272   \n",
       "html_num_tags('script')            -0.069631      -0.069375   \n",
       "html_num_tags('embed')             -0.029422      -0.024240   \n",
       "html_num_tags('object')            -0.021538      -0.011191   \n",
       "html_num_tags('div')               -0.017179      -0.016998   \n",
       "html_num_tags('head')               0.058713      -0.001409   \n",
       "html_num_tags('body')               0.031360       0.150485   \n",
       "html_num_tags('form')              -0.079358      -0.001790   \n",
       "html_num_tags('a')                 -0.007495      -0.023486   \n",
       "html_num_tags('applet')                  NaN            NaN   \n",
       "Result_v1                          -0.133808       0.189689   \n",
       "\n",
       "                         url_num_query_para  url_ip_present  ...  \\\n",
       "url_len                            0.267502       -0.067771  ...   \n",
       "url_num_hyphens_dom               -0.002627       -0.124600  ...   \n",
       "url_path_len                       0.010422       -0.037249  ...   \n",
       "url_domain_len                     0.015721       -0.150800  ...   \n",
       "url_hostname_len                   0.016803       -0.169295  ...   \n",
       "url_num_dots                       0.197153        0.184992  ...   \n",
       "url_num_underscores                0.245183       -0.052211  ...   \n",
       "url_query_len                      0.834315       -0.048321  ...   \n",
       "url_num_query_para                 1.000000       -0.046998  ...   \n",
       "url_ip_present                    -0.046998        1.000000  ...   \n",
       "url_entropy                        0.323323       -0.165779  ...   \n",
       "url_chinese_present                     NaN             NaN  ...   \n",
       "url_port                          -0.008594        0.099405  ...   \n",
       "html_num_tags('iframe')           -0.030635       -0.027805  ...   \n",
       "html_num_tags('script')           -0.066136       -0.086306  ...   \n",
       "html_num_tags('embed')            -0.023577       -0.032573  ...   \n",
       "html_num_tags('object')           -0.016486        0.041407  ...   \n",
       "html_num_tags('div')              -0.015185       -0.031192  ...   \n",
       "html_num_tags('head')             -0.019294        0.012362  ...   \n",
       "html_num_tags('body')              0.109691       -0.018434  ...   \n",
       "html_num_tags('form')             -0.005181       -0.077854  ...   \n",
       "html_num_tags('a')                -0.022982       -0.035891  ...   \n",
       "html_num_tags('applet')                 NaN             NaN  ...   \n",
       "Result_v1                          0.184497       -0.076236  ...   \n",
       "\n",
       "                         html_num_tags('script')  html_num_tags('embed')  \\\n",
       "url_len                                -0.026803               -0.012114   \n",
       "url_num_hyphens_dom                    -0.110263               -0.052932   \n",
       "url_path_len                            0.006749               -0.003340   \n",
       "url_domain_len                         -0.103895               -0.012265   \n",
       "url_hostname_len                       -0.101211               -0.011445   \n",
       "url_num_dots                           -0.086458               -0.030750   \n",
       "url_num_underscores                    -0.069631               -0.029422   \n",
       "url_query_len                          -0.069375               -0.024240   \n",
       "url_num_query_para                     -0.066136               -0.023577   \n",
       "url_ip_present                         -0.086306               -0.032573   \n",
       "url_entropy                            -0.100682                0.017256   \n",
       "url_chinese_present                          NaN                     NaN   \n",
       "url_port                               -0.012834               -0.005956   \n",
       "html_num_tags('iframe')                 0.266982                0.070828   \n",
       "html_num_tags('script')                 1.000000                0.026666   \n",
       "html_num_tags('embed')                  0.026666                1.000000   \n",
       "html_num_tags('object')                -0.000805                0.489795   \n",
       "html_num_tags('div')                    0.109408               -0.008882   \n",
       "html_num_tags('head')                   0.056140                0.001661   \n",
       "html_num_tags('body')                   0.009628               -0.009247   \n",
       "html_num_tags('form')                   0.231170               -0.023065   \n",
       "html_num_tags('a')                      0.087716                0.012907   \n",
       "html_num_tags('applet')                      NaN                     NaN   \n",
       "Result_v1                              -0.202309               -0.111295   \n",
       "\n",
       "                         html_num_tags('object')  html_num_tags('div')  \\\n",
       "url_len                                -0.021489             -0.013241   \n",
       "url_num_hyphens_dom                    -0.048672             -0.013765   \n",
       "url_path_len                           -0.015291             -0.008044   \n",
       "url_domain_len                         -0.029448             -0.002495   \n",
       "url_hostname_len                       -0.030490             -0.001540   \n",
       "url_num_dots                           -0.017976             -0.027272   \n",
       "url_num_underscores                    -0.021538             -0.017179   \n",
       "url_query_len                          -0.011191             -0.016998   \n",
       "url_num_query_para                     -0.016486             -0.015185   \n",
       "url_ip_present                          0.041407             -0.031192   \n",
       "url_entropy                            -0.029893             -0.021502   \n",
       "url_chinese_present                          NaN                   NaN   \n",
       "url_port                               -0.005739             -0.004837   \n",
       "html_num_tags('iframe')                 0.049475              0.047177   \n",
       "html_num_tags('script')                -0.000805              0.109408   \n",
       "html_num_tags('embed')                  0.489795             -0.008882   \n",
       "html_num_tags('object')                 1.000000              0.040056   \n",
       "html_num_tags('div')                    0.040056              1.000000   \n",
       "html_num_tags('head')                   0.001600              0.001284   \n",
       "html_num_tags('body')                   0.013036             -0.006553   \n",
       "html_num_tags('form')                   0.013915              0.116670   \n",
       "html_num_tags('a')                      0.082403              0.840125   \n",
       "html_num_tags('applet')                      NaN                   NaN   \n",
       "Result_v1                              -0.105710             -0.061183   \n",
       "\n",
       "                         html_num_tags('head')  html_num_tags('body')  \\\n",
       "url_len                               0.074980               0.043752   \n",
       "url_num_hyphens_dom                   0.039036              -0.043295   \n",
       "url_path_len                          0.078578              -0.006032   \n",
       "url_domain_len                        0.002868               0.031097   \n",
       "url_hostname_len                      0.002779               0.031446   \n",
       "url_num_dots                         -0.024784              -0.000531   \n",
       "url_num_underscores                   0.058713               0.031360   \n",
       "url_query_len                        -0.001409               0.150485   \n",
       "url_num_query_para                   -0.019294               0.109691   \n",
       "url_ip_present                        0.012362              -0.018434   \n",
       "url_entropy                          -0.012621               0.063027   \n",
       "url_chinese_present                        NaN                    NaN   \n",
       "url_port                              0.000605              -0.003371   \n",
       "html_num_tags('iframe')              -0.027587              -0.006687   \n",
       "html_num_tags('script')               0.056140               0.009628   \n",
       "html_num_tags('embed')                0.001661              -0.009247   \n",
       "html_num_tags('object')               0.001600               0.013036   \n",
       "html_num_tags('div')                  0.001284              -0.006553   \n",
       "html_num_tags('head')                 1.000000               0.191956   \n",
       "html_num_tags('body')                 0.191956               1.000000   \n",
       "html_num_tags('form')                 0.031581               0.029755   \n",
       "html_num_tags('a')                    0.008334              -0.006687   \n",
       "html_num_tags('applet')                    NaN                    NaN   \n",
       "Result_v1                             0.012990               0.110581   \n",
       "\n",
       "                         html_num_tags('form')  html_num_tags('a')  \\\n",
       "url_len                              -0.037282           -0.019775   \n",
       "url_num_hyphens_dom                   0.038427           -0.036904   \n",
       "url_path_len                         -0.042510           -0.008870   \n",
       "url_domain_len                        0.033835           -0.035063   \n",
       "url_hostname_len                      0.036627           -0.033953   \n",
       "url_num_dots                         -0.066137           -0.027895   \n",
       "url_num_underscores                  -0.079358           -0.007495   \n",
       "url_query_len                        -0.001790           -0.023486   \n",
       "url_num_query_para                   -0.005181           -0.022982   \n",
       "url_ip_present                       -0.077854           -0.035891   \n",
       "url_entropy                          -0.030399           -0.024935   \n",
       "url_chinese_present                        NaN                 NaN   \n",
       "url_port                             -0.012498           -0.007122   \n",
       "html_num_tags('iframe')               0.098308            0.045139   \n",
       "html_num_tags('script')               0.231170            0.087716   \n",
       "html_num_tags('embed')               -0.023065            0.012907   \n",
       "html_num_tags('object')               0.013915            0.082403   \n",
       "html_num_tags('div')                  0.116670            0.840125   \n",
       "html_num_tags('head')                 0.031581            0.008334   \n",
       "html_num_tags('body')                 0.029755           -0.006687   \n",
       "html_num_tags('form')                 1.000000            0.087638   \n",
       "html_num_tags('a')                    0.087638            1.000000   \n",
       "html_num_tags('applet')                    NaN                 NaN   \n",
       "Result_v1                             0.116354           -0.113966   \n",
       "\n",
       "                         html_num_tags('applet')  Result_v1  \n",
       "url_len                                      NaN  -0.006429  \n",
       "url_num_hyphens_dom                          NaN   0.355480  \n",
       "url_path_len                                 NaN  -0.113835  \n",
       "url_domain_len                               NaN   0.380448  \n",
       "url_hostname_len                             NaN   0.384489  \n",
       "url_num_dots                                 NaN  -0.047256  \n",
       "url_num_underscores                          NaN  -0.133808  \n",
       "url_query_len                                NaN   0.189689  \n",
       "url_num_query_para                           NaN   0.184497  \n",
       "url_ip_present                               NaN  -0.076236  \n",
       "url_entropy                                  NaN   0.162198  \n",
       "url_chinese_present                          NaN        NaN  \n",
       "url_port                                     NaN  -0.006642  \n",
       "html_num_tags('iframe')                      NaN  -0.033966  \n",
       "html_num_tags('script')                      NaN  -0.202309  \n",
       "html_num_tags('embed')                       NaN  -0.111295  \n",
       "html_num_tags('object')                      NaN  -0.105710  \n",
       "html_num_tags('div')                         NaN  -0.061183  \n",
       "html_num_tags('head')                        NaN   0.012990  \n",
       "html_num_tags('body')                        NaN   0.110581  \n",
       "html_num_tags('form')                        NaN   0.116354  \n",
       "html_num_tags('a')                           NaN  -0.113966  \n",
       "html_num_tags('applet')                      NaN        NaN  \n",
       "Result_v1                                    NaN   1.000000  \n",
       "\n",
       "[24 rows x 24 columns]"
      ]
     },
     "execution_count": 151,
     "metadata": {},
     "output_type": "execute_result"
    }
   ],
   "source": [
    "temp.corr()"
   ]
  },
  {
   "cell_type": "markdown",
   "metadata": {},
   "source": []
  },
  {
   "cell_type": "markdown",
   "metadata": {},
   "source": []
  },
  {
   "cell_type": "markdown",
   "metadata": {},
   "source": []
  },
  {
   "cell_type": "markdown",
   "metadata": {},
   "source": [
    "# <b>Step 2. 데이터 전처리\n",
    "---"
   ]
  },
  {
   "cell_type": "markdown",
   "metadata": {},
   "source": [
    "## <b>Q3. 중복 데이터 제거\n",
    "### 우리가 접속하는 대부분의 웹사이트는 정상 사이트입니다.\n",
    "### 또한, 특정 몇 개 사이트(ex. google, instagram, facebook 등)에 접속 빈도가 높습니다.\n",
    "### 편중된 데이터는 모델 학습에 안 좋은 영향을 주기 때문에 중복 데이터 제거를 통해 해결합니다.\n",
    "### 이 과정은 데이터 전처리 시 반드시 해야 하는 과정은 아니며, 프로젝트/데이터 성격에 맞게 결정하시면 됩니다."
   ]
  },
  {
   "cell_type": "markdown",
   "metadata": {},
   "source": [
    "### <span style=\"color:darkred\">[문제1] df info()를 통해 데이터를 확인하고 중복된 데이터는 삭제해주세요. 삭제 후 info()를 통해 이전 데이터와 비교해 보세요.<span>"
   ]
  },
  {
   "cell_type": "code",
   "execution_count": 11,
   "metadata": {},
   "outputs": [
    {
     "name": "stdout",
     "output_type": "stream",
     "text": [
      "<class 'pandas.core.frame.DataFrame'>\n",
      "RangeIndex: 3664 entries, 0 to 3663\n",
      "Data columns (total 24 columns):\n",
      " #   Column                   Non-Null Count  Dtype  \n",
      "---  ------                   --------------  -----  \n",
      " 0   url_len                  3664 non-null   float64\n",
      " 1   url_num_hyphens_dom      3664 non-null   float64\n",
      " 2   url_path_len             3663 non-null   float64\n",
      " 3   url_domain_len           3663 non-null   float64\n",
      " 4   url_hostname_len         3664 non-null   float64\n",
      " 5   url_num_dots             3664 non-null   float64\n",
      " 6   url_num_underscores      3664 non-null   float64\n",
      " 7   url_query_len            3664 non-null   float64\n",
      " 8   url_num_query_para       3664 non-null   float64\n",
      " 9   url_ip_present           3664 non-null   float64\n",
      " 10  url_entropy              3664 non-null   float64\n",
      " 11  url_chinese_present      3664 non-null   float64\n",
      " 12  url_port                 3664 non-null   float64\n",
      " 13  html_num_tags('iframe')  3664 non-null   float64\n",
      " 14  html_num_tags('script')  3664 non-null   float64\n",
      " 15  html_num_tags('embed')   3664 non-null   float64\n",
      " 16  html_num_tags('object')  3664 non-null   float64\n",
      " 17  html_num_tags('div')     3664 non-null   float64\n",
      " 18  html_num_tags('head')    3664 non-null   float64\n",
      " 19  html_num_tags('body')    3664 non-null   float64\n",
      " 20  html_num_tags('form')    3664 non-null   float64\n",
      " 21  html_num_tags('a')       3664 non-null   float64\n",
      " 22  html_num_tags('applet')  3664 non-null   float64\n",
      " 23  Result_v1                3664 non-null   object \n",
      "dtypes: float64(23), object(1)\n",
      "memory usage: 687.1+ KB\n"
     ]
    }
   ],
   "source": [
    "# 데이터 프레임의 info를 확인합니다.\n",
    "df.info()"
   ]
  },
  {
   "cell_type": "code",
   "execution_count": 14,
   "metadata": {},
   "outputs": [],
   "source": [
    "# 중복 데이터 제거를 제거합니다.\n",
    "df = df.drop_duplicates()"
   ]
  },
  {
   "cell_type": "code",
   "execution_count": 162,
   "metadata": {},
   "outputs": [
    {
     "name": "stdout",
     "output_type": "stream",
     "text": [
      "<class 'pandas.core.frame.DataFrame'>\n",
      "Int64Index: 3231 entries, 0 to 3663\n",
      "Data columns (total 24 columns):\n",
      " #   Column                   Non-Null Count  Dtype  \n",
      "---  ------                   --------------  -----  \n",
      " 0   url_len                  3231 non-null   float64\n",
      " 1   url_num_hyphens_dom      3231 non-null   float64\n",
      " 2   url_path_len             3231 non-null   float64\n",
      " 3   url_domain_len           3231 non-null   float64\n",
      " 4   url_hostname_len         3231 non-null   float64\n",
      " 5   url_num_dots             3231 non-null   float64\n",
      " 6   url_num_underscores      3231 non-null   float64\n",
      " 7   url_query_len            3231 non-null   float64\n",
      " 8   url_num_query_para       3231 non-null   float64\n",
      " 9   url_ip_present           3231 non-null   float64\n",
      " 10  url_entropy              3231 non-null   float64\n",
      " 11  url_chinese_present      3231 non-null   float64\n",
      " 12  url_port                 3231 non-null   float64\n",
      " 13  html_num_tags('iframe')  3231 non-null   float64\n",
      " 14  html_num_tags('script')  3231 non-null   float64\n",
      " 15  html_num_tags('embed')   3231 non-null   float64\n",
      " 16  html_num_tags('object')  3231 non-null   float64\n",
      " 17  html_num_tags('div')     3231 non-null   float64\n",
      " 18  html_num_tags('head')    3231 non-null   float64\n",
      " 19  html_num_tags('body')    3231 non-null   float64\n",
      " 20  html_num_tags('form')    3231 non-null   float64\n",
      " 21  html_num_tags('a')       3231 non-null   float64\n",
      " 22  html_num_tags('applet')  3231 non-null   float64\n",
      " 23  Result_v1                3231 non-null   object \n",
      "dtypes: float64(23), object(1)\n",
      "memory usage: 760.1+ KB\n"
     ]
    }
   ],
   "source": [
    "# 데이터 프레임의 info를 확인합니다.\n",
    "df.info()"
   ]
  },
  {
   "cell_type": "markdown",
   "metadata": {},
   "source": [
    "---"
   ]
  },
  {
   "cell_type": "markdown",
   "metadata": {},
   "source": [
    "## <b>Q4. 텍스트와 범주형 특성 처리\n",
    "\n",
    "### 기계가 데이터를 인식할 수 있도록 텍스트 데이터를 수치형 데이터로 변경합니다.\n",
    " - replace() 함수를 이용한 텍스트와 범주형 특성 처리"
   ]
  },
  {
   "cell_type": "markdown",
   "metadata": {},
   "source": [
    "**<span style=\"color:green\">[참고링크] 공식 Document**</span>\n",
    "\n",
    "* replace(https://pandas.pydata.org/pandas-docs/stable/reference/api/pandas.DataFrame.replace.html)\n",
    "* unique(https://pandas.pydata.org/pandas-docs/stable/reference/api/pandas.unique.html)"
   ]
  },
  {
   "cell_type": "markdown",
   "metadata": {},
   "source": [
    "### <span style=\"color:blue\">[예시] df_ex 데이터 프레임에서 replace 함수를 활용 'CA'는'California'로 'NY'는 'NewYork'으로 변경합니다.<span>"
   ]
  },
  {
   "cell_type": "code",
   "execution_count": 16,
   "metadata": {},
   "outputs": [
    {
     "name": "stdout",
     "output_type": "stream",
     "text": [
      "      name  age state  point\n",
      "0    Alice   24    NY     64\n",
      "1      Bob   42    CA     24\n",
      "2  Charlie   18    CA     70\n",
      "3     Dave   68    TX     70\n",
      "4    Ellen   24    CA     88\n",
      "5    Frank   30    NY     57\n"
     ]
    }
   ],
   "source": [
    "import pandas as pd\n",
    "\n",
    "df_ex = pd.DataFrame({'name': ['Alice','Bob','Charlie','Dave','Ellen','Frank'],\n",
    "                   'age': [24,42,18,68,24,30],\n",
    "                   'state': ['NY','CA','CA','TX','CA','NY'],\n",
    "                   'point': [64,24,70,70,88,57]}\n",
    "                  )\n",
    "\n",
    "print(df_ex)"
   ]
  },
  {
   "cell_type": "code",
   "execution_count": 165,
   "metadata": {},
   "outputs": [],
   "source": [
    "target = \"Result_v1\""
   ]
  },
  {
   "cell_type": "markdown",
   "metadata": {},
   "source": [
    "### <span style=\"color:darkred\">[문제2] replace() 함수를 활용 'benign'은 1로 'malicious'은 -1로 변경해주세요. 삭제 후 df['Result_v1'] 전후 데이터를 비교해 보세요.<span>"
   ]
  },
  {
   "cell_type": "code",
   "execution_count": 167,
   "metadata": {},
   "outputs": [
    {
     "data": {
      "text/plain": [
       "array(['malicious', 'benign'], dtype=object)"
      ]
     },
     "execution_count": 167,
     "metadata": {},
     "output_type": "execute_result"
    }
   ],
   "source": [
    "# 텍스트 데이터를 수치형 데이터로 변경 전 unique() 함수를 통해 유일한 값 확인\n",
    "df[target].unique()"
   ]
  },
  {
   "cell_type": "code",
   "execution_count": 168,
   "metadata": {},
   "outputs": [],
   "source": [
    "# replace() 함수를 사용 텍스트 데이터를 수치형 데이터로 변경합니다.\n",
    "df[target] = df[target].map({'benign' : 1, 'malicious' : -1})"
   ]
  },
  {
   "cell_type": "code",
   "execution_count": 169,
   "metadata": {},
   "outputs": [
    {
     "data": {
      "text/plain": [
       "array([-1,  1], dtype=int64)"
      ]
     },
     "execution_count": 169,
     "metadata": {},
     "output_type": "execute_result"
    }
   ],
   "source": [
    "# 텍스트 데이터를 수치형 데이터로 후 unique() 함수를 통해 유일한 값 확인\n",
    "df[target].unique()"
   ]
  },
  {
   "cell_type": "code",
   "execution_count": 201,
   "metadata": {},
   "outputs": [
    {
     "data": {
      "text/html": [
       "<div>\n",
       "<style scoped>\n",
       "    .dataframe tbody tr th:only-of-type {\n",
       "        vertical-align: middle;\n",
       "    }\n",
       "\n",
       "    .dataframe tbody tr th {\n",
       "        vertical-align: top;\n",
       "    }\n",
       "\n",
       "    .dataframe thead th {\n",
       "        text-align: right;\n",
       "    }\n",
       "</style>\n",
       "<table border=\"1\" class=\"dataframe\">\n",
       "  <thead>\n",
       "    <tr style=\"text-align: right;\">\n",
       "      <th></th>\n",
       "      <th>url_len</th>\n",
       "      <th>url_num_hyphens_dom</th>\n",
       "      <th>url_path_len</th>\n",
       "      <th>url_domain_len</th>\n",
       "      <th>url_hostname_len</th>\n",
       "      <th>url_num_dots</th>\n",
       "      <th>url_num_underscores</th>\n",
       "      <th>url_query_len</th>\n",
       "      <th>url_num_query_para</th>\n",
       "      <th>url_ip_present</th>\n",
       "      <th>...</th>\n",
       "      <th>html_num_tags('script')</th>\n",
       "      <th>html_num_tags('embed')</th>\n",
       "      <th>html_num_tags('object')</th>\n",
       "      <th>html_num_tags('div')</th>\n",
       "      <th>html_num_tags('head')</th>\n",
       "      <th>html_num_tags('body')</th>\n",
       "      <th>html_num_tags('form')</th>\n",
       "      <th>html_num_tags('a')</th>\n",
       "      <th>Result_v1</th>\n",
       "      <th>hyphens_ratio</th>\n",
       "    </tr>\n",
       "  </thead>\n",
       "  <tbody>\n",
       "    <tr>\n",
       "      <th>0</th>\n",
       "      <td>23.0</td>\n",
       "      <td>0.0</td>\n",
       "      <td>8.0</td>\n",
       "      <td>15.0</td>\n",
       "      <td>15.0</td>\n",
       "      <td>2.0</td>\n",
       "      <td>0.0</td>\n",
       "      <td>0.0</td>\n",
       "      <td>0.0</td>\n",
       "      <td>0.0</td>\n",
       "      <td>...</td>\n",
       "      <td>7.0</td>\n",
       "      <td>0.0</td>\n",
       "      <td>0.0</td>\n",
       "      <td>0.0</td>\n",
       "      <td>1.0</td>\n",
       "      <td>1.0</td>\n",
       "      <td>0.0</td>\n",
       "      <td>0.0</td>\n",
       "      <td>-1</td>\n",
       "      <td>0.000000</td>\n",
       "    </tr>\n",
       "    <tr>\n",
       "      <th>1</th>\n",
       "      <td>75.0</td>\n",
       "      <td>0.0</td>\n",
       "      <td>58.0</td>\n",
       "      <td>17.0</td>\n",
       "      <td>17.0</td>\n",
       "      <td>6.0</td>\n",
       "      <td>0.0</td>\n",
       "      <td>0.0</td>\n",
       "      <td>0.0</td>\n",
       "      <td>0.0</td>\n",
       "      <td>...</td>\n",
       "      <td>18.0</td>\n",
       "      <td>0.0</td>\n",
       "      <td>0.0</td>\n",
       "      <td>20.0</td>\n",
       "      <td>1.0</td>\n",
       "      <td>1.0</td>\n",
       "      <td>0.0</td>\n",
       "      <td>21.0</td>\n",
       "      <td>1</td>\n",
       "      <td>0.000000</td>\n",
       "    </tr>\n",
       "    <tr>\n",
       "      <th>2</th>\n",
       "      <td>20.0</td>\n",
       "      <td>0.0</td>\n",
       "      <td>4.0</td>\n",
       "      <td>16.0</td>\n",
       "      <td>16.0</td>\n",
       "      <td>2.0</td>\n",
       "      <td>0.0</td>\n",
       "      <td>0.0</td>\n",
       "      <td>0.0</td>\n",
       "      <td>0.0</td>\n",
       "      <td>...</td>\n",
       "      <td>33.0</td>\n",
       "      <td>0.0</td>\n",
       "      <td>0.0</td>\n",
       "      <td>101.0</td>\n",
       "      <td>1.0</td>\n",
       "      <td>1.0</td>\n",
       "      <td>3.0</td>\n",
       "      <td>70.0</td>\n",
       "      <td>1</td>\n",
       "      <td>0.000000</td>\n",
       "    </tr>\n",
       "    <tr>\n",
       "      <th>3</th>\n",
       "      <td>27.0</td>\n",
       "      <td>0.0</td>\n",
       "      <td>13.0</td>\n",
       "      <td>14.0</td>\n",
       "      <td>14.0</td>\n",
       "      <td>3.0</td>\n",
       "      <td>0.0</td>\n",
       "      <td>0.0</td>\n",
       "      <td>0.0</td>\n",
       "      <td>0.0</td>\n",
       "      <td>...</td>\n",
       "      <td>15.0</td>\n",
       "      <td>0.0</td>\n",
       "      <td>0.0</td>\n",
       "      <td>151.0</td>\n",
       "      <td>1.0</td>\n",
       "      <td>1.0</td>\n",
       "      <td>1.0</td>\n",
       "      <td>55.0</td>\n",
       "      <td>1</td>\n",
       "      <td>0.000000</td>\n",
       "    </tr>\n",
       "    <tr>\n",
       "      <th>4</th>\n",
       "      <td>39.0</td>\n",
       "      <td>2.0</td>\n",
       "      <td>12.0</td>\n",
       "      <td>27.0</td>\n",
       "      <td>27.0</td>\n",
       "      <td>2.0</td>\n",
       "      <td>0.0</td>\n",
       "      <td>0.0</td>\n",
       "      <td>0.0</td>\n",
       "      <td>0.0</td>\n",
       "      <td>...</td>\n",
       "      <td>10.0</td>\n",
       "      <td>0.0</td>\n",
       "      <td>0.0</td>\n",
       "      <td>332.0</td>\n",
       "      <td>1.0</td>\n",
       "      <td>1.0</td>\n",
       "      <td>0.0</td>\n",
       "      <td>321.0</td>\n",
       "      <td>1</td>\n",
       "      <td>0.051282</td>\n",
       "    </tr>\n",
       "  </tbody>\n",
       "</table>\n",
       "<p>5 rows × 23 columns</p>\n",
       "</div>"
      ],
      "text/plain": [
       "   url_len  url_num_hyphens_dom  url_path_len  url_domain_len  \\\n",
       "0     23.0                  0.0           8.0            15.0   \n",
       "1     75.0                  0.0          58.0            17.0   \n",
       "2     20.0                  0.0           4.0            16.0   \n",
       "3     27.0                  0.0          13.0            14.0   \n",
       "4     39.0                  2.0          12.0            27.0   \n",
       "\n",
       "   url_hostname_len  url_num_dots  url_num_underscores  url_query_len  \\\n",
       "0              15.0           2.0                  0.0            0.0   \n",
       "1              17.0           6.0                  0.0            0.0   \n",
       "2              16.0           2.0                  0.0            0.0   \n",
       "3              14.0           3.0                  0.0            0.0   \n",
       "4              27.0           2.0                  0.0            0.0   \n",
       "\n",
       "   url_num_query_para  url_ip_present  ...  html_num_tags('script')  \\\n",
       "0                 0.0             0.0  ...                      7.0   \n",
       "1                 0.0             0.0  ...                     18.0   \n",
       "2                 0.0             0.0  ...                     33.0   \n",
       "3                 0.0             0.0  ...                     15.0   \n",
       "4                 0.0             0.0  ...                     10.0   \n",
       "\n",
       "   html_num_tags('embed')  html_num_tags('object')  html_num_tags('div')  \\\n",
       "0                     0.0                      0.0                   0.0   \n",
       "1                     0.0                      0.0                  20.0   \n",
       "2                     0.0                      0.0                 101.0   \n",
       "3                     0.0                      0.0                 151.0   \n",
       "4                     0.0                      0.0                 332.0   \n",
       "\n",
       "   html_num_tags('head')  html_num_tags('body')  html_num_tags('form')  \\\n",
       "0                    1.0                    1.0                    0.0   \n",
       "1                    1.0                    1.0                    0.0   \n",
       "2                    1.0                    1.0                    3.0   \n",
       "3                    1.0                    1.0                    1.0   \n",
       "4                    1.0                    1.0                    0.0   \n",
       "\n",
       "   html_num_tags('a')  Result_v1  hyphens_ratio  \n",
       "0                 0.0         -1       0.000000  \n",
       "1                21.0          1       0.000000  \n",
       "2                70.0          1       0.000000  \n",
       "3                55.0          1       0.000000  \n",
       "4               321.0          1       0.051282  \n",
       "\n",
       "[5 rows x 23 columns]"
      ]
     },
     "execution_count": 201,
     "metadata": {},
     "output_type": "execute_result"
    }
   ],
   "source": [
    "df.head()"
   ]
  },
  {
   "cell_type": "markdown",
   "metadata": {},
   "source": [
    "## <b>Q5. 결측치 처리\n",
    "\n",
    "### 데이터 수집 과정에서 발생한 오류 등으로 인해 결측치가 포함된 경우가 많습니다.\n",
    "### 모델링 전에 결측치를 확인하고 이를 정제하는 과정은 필요합니다."
   ]
  },
  {
   "cell_type": "markdown",
   "metadata": {},
   "source": [
    "### <span style=\"color:darkred\">[문제3] 결측치의 존재를 확인하고 결측치가 포함된 데이터를 처리해보세요.<span>"
   ]
  },
  {
   "cell_type": "code",
   "execution_count": 1,
   "metadata": {},
   "outputs": [],
   "source": [
    "# 결축치의 존재를 확인합니다.\n",
    "\n"
   ]
  },
  {
   "cell_type": "code",
   "execution_count": 2,
   "metadata": {},
   "outputs": [],
   "source": [
    "# 결측치를 적절히 처리해줍니다.\n",
    "\n",
    "\n"
   ]
  },
  {
   "cell_type": "code",
   "execution_count": 2,
   "metadata": {},
   "outputs": [],
   "source": [
    "# 결축치의 존재를 확인합니다.\n",
    "\n"
   ]
  },
  {
   "cell_type": "markdown",
   "metadata": {},
   "source": [
    "---"
   ]
  },
  {
   "cell_type": "markdown",
   "metadata": {},
   "source": [
    "## <b>Q6. 데이터 탐색을 통해 새로운 변수 추가 혹은 불필요한 변수 제거\n",
    "\n",
    "### AI모델의 성능 향상을 위해 기존의 변수를 조합해 새로운 변수를 만들어 내기도 하고\n",
    "### 데이터 분석을 통해 필요없는 변수는 삭제하는 과정이 필요 합니다."
   ]
  },
  {
   "cell_type": "markdown",
   "metadata": {},
   "source": [
    "### <span style=\"color:darkred\">[문제4] 상관관계 함수 및 데이터 시각화 등을 활용하며 데이터셋을 분석하고 컬럼을 추가/삭제 해보세요.<span>"
   ]
  },
  {
   "cell_type": "code",
   "execution_count": 184,
   "metadata": {},
   "outputs": [
    {
     "data": {
      "text/html": [
       "<div>\n",
       "<style scoped>\n",
       "    .dataframe tbody tr th:only-of-type {\n",
       "        vertical-align: middle;\n",
       "    }\n",
       "\n",
       "    .dataframe tbody tr th {\n",
       "        vertical-align: top;\n",
       "    }\n",
       "\n",
       "    .dataframe thead th {\n",
       "        text-align: right;\n",
       "    }\n",
       "</style>\n",
       "<table border=\"1\" class=\"dataframe\">\n",
       "  <thead>\n",
       "    <tr style=\"text-align: right;\">\n",
       "      <th></th>\n",
       "      <th>url_len</th>\n",
       "      <th>url_num_hyphens_dom</th>\n",
       "      <th>url_path_len</th>\n",
       "      <th>url_domain_len</th>\n",
       "      <th>url_hostname_len</th>\n",
       "      <th>url_num_dots</th>\n",
       "      <th>url_num_underscores</th>\n",
       "      <th>url_query_len</th>\n",
       "      <th>url_num_query_para</th>\n",
       "      <th>url_ip_present</th>\n",
       "      <th>...</th>\n",
       "      <th>html_num_tags('iframe')</th>\n",
       "      <th>html_num_tags('script')</th>\n",
       "      <th>html_num_tags('embed')</th>\n",
       "      <th>html_num_tags('object')</th>\n",
       "      <th>html_num_tags('div')</th>\n",
       "      <th>html_num_tags('head')</th>\n",
       "      <th>html_num_tags('body')</th>\n",
       "      <th>html_num_tags('form')</th>\n",
       "      <th>html_num_tags('a')</th>\n",
       "      <th>Result_v1</th>\n",
       "    </tr>\n",
       "  </thead>\n",
       "  <tbody>\n",
       "    <tr>\n",
       "      <th>url_len</th>\n",
       "      <td>1.000000</td>\n",
       "      <td>-0.025183</td>\n",
       "      <td>0.944497</td>\n",
       "      <td>0.001670</td>\n",
       "      <td>0.002085</td>\n",
       "      <td>0.267134</td>\n",
       "      <td>0.307256</td>\n",
       "      <td>0.318540</td>\n",
       "      <td>0.267502</td>\n",
       "      <td>-0.067771</td>\n",
       "      <td>...</td>\n",
       "      <td>0.022091</td>\n",
       "      <td>-0.026803</td>\n",
       "      <td>-0.012114</td>\n",
       "      <td>-0.021489</td>\n",
       "      <td>-0.013241</td>\n",
       "      <td>0.074980</td>\n",
       "      <td>0.043752</td>\n",
       "      <td>-0.037282</td>\n",
       "      <td>-0.019775</td>\n",
       "      <td>0.006429</td>\n",
       "    </tr>\n",
       "    <tr>\n",
       "      <th>url_num_hyphens_dom</th>\n",
       "      <td>-0.025183</td>\n",
       "      <td>1.000000</td>\n",
       "      <td>-0.097643</td>\n",
       "      <td>0.589203</td>\n",
       "      <td>0.590278</td>\n",
       "      <td>-0.085324</td>\n",
       "      <td>-0.063695</td>\n",
       "      <td>0.001715</td>\n",
       "      <td>-0.002627</td>\n",
       "      <td>-0.124600</td>\n",
       "      <td>...</td>\n",
       "      <td>-0.014977</td>\n",
       "      <td>-0.110263</td>\n",
       "      <td>-0.052932</td>\n",
       "      <td>-0.048672</td>\n",
       "      <td>-0.013765</td>\n",
       "      <td>0.039036</td>\n",
       "      <td>-0.043295</td>\n",
       "      <td>0.038427</td>\n",
       "      <td>-0.036904</td>\n",
       "      <td>-0.355480</td>\n",
       "    </tr>\n",
       "    <tr>\n",
       "      <th>url_path_len</th>\n",
       "      <td>0.944497</td>\n",
       "      <td>-0.097643</td>\n",
       "      <td>1.000000</td>\n",
       "      <td>-0.123280</td>\n",
       "      <td>-0.123081</td>\n",
       "      <td>0.196425</td>\n",
       "      <td>0.254179</td>\n",
       "      <td>0.011303</td>\n",
       "      <td>0.010422</td>\n",
       "      <td>-0.037249</td>\n",
       "      <td>...</td>\n",
       "      <td>0.033574</td>\n",
       "      <td>0.006749</td>\n",
       "      <td>-0.003340</td>\n",
       "      <td>-0.015291</td>\n",
       "      <td>-0.008044</td>\n",
       "      <td>0.078578</td>\n",
       "      <td>-0.006032</td>\n",
       "      <td>-0.042510</td>\n",
       "      <td>-0.008870</td>\n",
       "      <td>0.113835</td>\n",
       "    </tr>\n",
       "    <tr>\n",
       "      <th>url_domain_len</th>\n",
       "      <td>0.001670</td>\n",
       "      <td>0.589203</td>\n",
       "      <td>-0.123280</td>\n",
       "      <td>1.000000</td>\n",
       "      <td>0.998956</td>\n",
       "      <td>0.082025</td>\n",
       "      <td>-0.092685</td>\n",
       "      <td>0.014915</td>\n",
       "      <td>0.015721</td>\n",
       "      <td>-0.150800</td>\n",
       "      <td>...</td>\n",
       "      <td>-0.011562</td>\n",
       "      <td>-0.103895</td>\n",
       "      <td>-0.012265</td>\n",
       "      <td>-0.029448</td>\n",
       "      <td>-0.002495</td>\n",
       "      <td>0.002868</td>\n",
       "      <td>0.031097</td>\n",
       "      <td>0.033835</td>\n",
       "      <td>-0.035063</td>\n",
       "      <td>-0.380448</td>\n",
       "    </tr>\n",
       "    <tr>\n",
       "      <th>url_hostname_len</th>\n",
       "      <td>0.002085</td>\n",
       "      <td>0.590278</td>\n",
       "      <td>-0.123081</td>\n",
       "      <td>0.998956</td>\n",
       "      <td>1.000000</td>\n",
       "      <td>0.078337</td>\n",
       "      <td>-0.094091</td>\n",
       "      <td>0.016032</td>\n",
       "      <td>0.016803</td>\n",
       "      <td>-0.169295</td>\n",
       "      <td>...</td>\n",
       "      <td>-0.010897</td>\n",
       "      <td>-0.101211</td>\n",
       "      <td>-0.011445</td>\n",
       "      <td>-0.030490</td>\n",
       "      <td>-0.001540</td>\n",
       "      <td>0.002779</td>\n",
       "      <td>0.031446</td>\n",
       "      <td>0.036627</td>\n",
       "      <td>-0.033953</td>\n",
       "      <td>-0.384489</td>\n",
       "    </tr>\n",
       "    <tr>\n",
       "      <th>url_num_dots</th>\n",
       "      <td>0.267134</td>\n",
       "      <td>-0.085324</td>\n",
       "      <td>0.196425</td>\n",
       "      <td>0.082025</td>\n",
       "      <td>0.078337</td>\n",
       "      <td>1.000000</td>\n",
       "      <td>0.261850</td>\n",
       "      <td>0.227932</td>\n",
       "      <td>0.197153</td>\n",
       "      <td>0.184992</td>\n",
       "      <td>...</td>\n",
       "      <td>-0.000463</td>\n",
       "      <td>-0.086458</td>\n",
       "      <td>-0.030750</td>\n",
       "      <td>-0.017976</td>\n",
       "      <td>-0.027272</td>\n",
       "      <td>-0.024784</td>\n",
       "      <td>-0.000531</td>\n",
       "      <td>-0.066137</td>\n",
       "      <td>-0.027895</td>\n",
       "      <td>0.047256</td>\n",
       "    </tr>\n",
       "    <tr>\n",
       "      <th>url_num_underscores</th>\n",
       "      <td>0.307256</td>\n",
       "      <td>-0.063695</td>\n",
       "      <td>0.254179</td>\n",
       "      <td>-0.092685</td>\n",
       "      <td>-0.094091</td>\n",
       "      <td>0.261850</td>\n",
       "      <td>1.000000</td>\n",
       "      <td>0.246116</td>\n",
       "      <td>0.245183</td>\n",
       "      <td>-0.052211</td>\n",
       "      <td>...</td>\n",
       "      <td>-0.027094</td>\n",
       "      <td>-0.069631</td>\n",
       "      <td>-0.029422</td>\n",
       "      <td>-0.021538</td>\n",
       "      <td>-0.017179</td>\n",
       "      <td>0.058713</td>\n",
       "      <td>0.031360</td>\n",
       "      <td>-0.079358</td>\n",
       "      <td>-0.007495</td>\n",
       "      <td>0.133808</td>\n",
       "    </tr>\n",
       "    <tr>\n",
       "      <th>url_query_len</th>\n",
       "      <td>0.318540</td>\n",
       "      <td>0.001715</td>\n",
       "      <td>0.011303</td>\n",
       "      <td>0.014915</td>\n",
       "      <td>0.016032</td>\n",
       "      <td>0.227932</td>\n",
       "      <td>0.246116</td>\n",
       "      <td>1.000000</td>\n",
       "      <td>0.834315</td>\n",
       "      <td>-0.048321</td>\n",
       "      <td>...</td>\n",
       "      <td>-0.028272</td>\n",
       "      <td>-0.069375</td>\n",
       "      <td>-0.024240</td>\n",
       "      <td>-0.011191</td>\n",
       "      <td>-0.016998</td>\n",
       "      <td>-0.001409</td>\n",
       "      <td>0.150485</td>\n",
       "      <td>-0.001790</td>\n",
       "      <td>-0.023486</td>\n",
       "      <td>-0.189689</td>\n",
       "    </tr>\n",
       "    <tr>\n",
       "      <th>url_num_query_para</th>\n",
       "      <td>0.267502</td>\n",
       "      <td>-0.002627</td>\n",
       "      <td>0.010422</td>\n",
       "      <td>0.015721</td>\n",
       "      <td>0.016803</td>\n",
       "      <td>0.197153</td>\n",
       "      <td>0.245183</td>\n",
       "      <td>0.834315</td>\n",
       "      <td>1.000000</td>\n",
       "      <td>-0.046998</td>\n",
       "      <td>...</td>\n",
       "      <td>-0.030635</td>\n",
       "      <td>-0.066136</td>\n",
       "      <td>-0.023577</td>\n",
       "      <td>-0.016486</td>\n",
       "      <td>-0.015185</td>\n",
       "      <td>-0.019294</td>\n",
       "      <td>0.109691</td>\n",
       "      <td>-0.005181</td>\n",
       "      <td>-0.022982</td>\n",
       "      <td>-0.184497</td>\n",
       "    </tr>\n",
       "    <tr>\n",
       "      <th>url_ip_present</th>\n",
       "      <td>-0.067771</td>\n",
       "      <td>-0.124600</td>\n",
       "      <td>-0.037249</td>\n",
       "      <td>-0.150800</td>\n",
       "      <td>-0.169295</td>\n",
       "      <td>0.184992</td>\n",
       "      <td>-0.052211</td>\n",
       "      <td>-0.048321</td>\n",
       "      <td>-0.046998</td>\n",
       "      <td>1.000000</td>\n",
       "      <td>...</td>\n",
       "      <td>-0.027805</td>\n",
       "      <td>-0.086306</td>\n",
       "      <td>-0.032573</td>\n",
       "      <td>0.041407</td>\n",
       "      <td>-0.031192</td>\n",
       "      <td>0.012362</td>\n",
       "      <td>-0.018434</td>\n",
       "      <td>-0.077854</td>\n",
       "      <td>-0.035891</td>\n",
       "      <td>0.076236</td>\n",
       "    </tr>\n",
       "    <tr>\n",
       "      <th>url_entropy</th>\n",
       "      <td>0.254685</td>\n",
       "      <td>0.071452</td>\n",
       "      <td>0.131595</td>\n",
       "      <td>0.160224</td>\n",
       "      <td>0.163410</td>\n",
       "      <td>0.195450</td>\n",
       "      <td>0.244172</td>\n",
       "      <td>0.358440</td>\n",
       "      <td>0.323323</td>\n",
       "      <td>-0.165779</td>\n",
       "      <td>...</td>\n",
       "      <td>-0.014104</td>\n",
       "      <td>-0.100682</td>\n",
       "      <td>0.017256</td>\n",
       "      <td>-0.029893</td>\n",
       "      <td>-0.021502</td>\n",
       "      <td>-0.012621</td>\n",
       "      <td>0.063027</td>\n",
       "      <td>-0.030399</td>\n",
       "      <td>-0.024935</td>\n",
       "      <td>-0.162198</td>\n",
       "    </tr>\n",
       "    <tr>\n",
       "      <th>url_port</th>\n",
       "      <td>0.051000</td>\n",
       "      <td>-0.022785</td>\n",
       "      <td>0.056566</td>\n",
       "      <td>-0.002415</td>\n",
       "      <td>-0.024982</td>\n",
       "      <td>0.031340</td>\n",
       "      <td>0.091066</td>\n",
       "      <td>-0.008836</td>\n",
       "      <td>-0.008594</td>\n",
       "      <td>0.099405</td>\n",
       "      <td>...</td>\n",
       "      <td>0.010737</td>\n",
       "      <td>-0.012834</td>\n",
       "      <td>-0.005956</td>\n",
       "      <td>-0.005739</td>\n",
       "      <td>-0.004837</td>\n",
       "      <td>0.000605</td>\n",
       "      <td>-0.003371</td>\n",
       "      <td>-0.012498</td>\n",
       "      <td>-0.007122</td>\n",
       "      <td>0.006642</td>\n",
       "    </tr>\n",
       "    <tr>\n",
       "      <th>html_num_tags('iframe')</th>\n",
       "      <td>0.022091</td>\n",
       "      <td>-0.014977</td>\n",
       "      <td>0.033574</td>\n",
       "      <td>-0.011562</td>\n",
       "      <td>-0.010897</td>\n",
       "      <td>-0.000463</td>\n",
       "      <td>-0.027094</td>\n",
       "      <td>-0.028272</td>\n",
       "      <td>-0.030635</td>\n",
       "      <td>-0.027805</td>\n",
       "      <td>...</td>\n",
       "      <td>1.000000</td>\n",
       "      <td>0.266982</td>\n",
       "      <td>0.070828</td>\n",
       "      <td>0.049475</td>\n",
       "      <td>0.047177</td>\n",
       "      <td>-0.027587</td>\n",
       "      <td>-0.006687</td>\n",
       "      <td>0.098308</td>\n",
       "      <td>0.045139</td>\n",
       "      <td>0.033966</td>\n",
       "    </tr>\n",
       "    <tr>\n",
       "      <th>html_num_tags('script')</th>\n",
       "      <td>-0.026803</td>\n",
       "      <td>-0.110263</td>\n",
       "      <td>0.006749</td>\n",
       "      <td>-0.103895</td>\n",
       "      <td>-0.101211</td>\n",
       "      <td>-0.086458</td>\n",
       "      <td>-0.069631</td>\n",
       "      <td>-0.069375</td>\n",
       "      <td>-0.066136</td>\n",
       "      <td>-0.086306</td>\n",
       "      <td>...</td>\n",
       "      <td>0.266982</td>\n",
       "      <td>1.000000</td>\n",
       "      <td>0.026666</td>\n",
       "      <td>-0.000805</td>\n",
       "      <td>0.109408</td>\n",
       "      <td>0.056140</td>\n",
       "      <td>0.009628</td>\n",
       "      <td>0.231170</td>\n",
       "      <td>0.087716</td>\n",
       "      <td>0.202309</td>\n",
       "    </tr>\n",
       "    <tr>\n",
       "      <th>html_num_tags('embed')</th>\n",
       "      <td>-0.012114</td>\n",
       "      <td>-0.052932</td>\n",
       "      <td>-0.003340</td>\n",
       "      <td>-0.012265</td>\n",
       "      <td>-0.011445</td>\n",
       "      <td>-0.030750</td>\n",
       "      <td>-0.029422</td>\n",
       "      <td>-0.024240</td>\n",
       "      <td>-0.023577</td>\n",
       "      <td>-0.032573</td>\n",
       "      <td>...</td>\n",
       "      <td>0.070828</td>\n",
       "      <td>0.026666</td>\n",
       "      <td>1.000000</td>\n",
       "      <td>0.489795</td>\n",
       "      <td>-0.008882</td>\n",
       "      <td>0.001661</td>\n",
       "      <td>-0.009247</td>\n",
       "      <td>-0.023065</td>\n",
       "      <td>0.012907</td>\n",
       "      <td>0.111295</td>\n",
       "    </tr>\n",
       "    <tr>\n",
       "      <th>html_num_tags('object')</th>\n",
       "      <td>-0.021489</td>\n",
       "      <td>-0.048672</td>\n",
       "      <td>-0.015291</td>\n",
       "      <td>-0.029448</td>\n",
       "      <td>-0.030490</td>\n",
       "      <td>-0.017976</td>\n",
       "      <td>-0.021538</td>\n",
       "      <td>-0.011191</td>\n",
       "      <td>-0.016486</td>\n",
       "      <td>0.041407</td>\n",
       "      <td>...</td>\n",
       "      <td>0.049475</td>\n",
       "      <td>-0.000805</td>\n",
       "      <td>0.489795</td>\n",
       "      <td>1.000000</td>\n",
       "      <td>0.040056</td>\n",
       "      <td>0.001600</td>\n",
       "      <td>0.013036</td>\n",
       "      <td>0.013915</td>\n",
       "      <td>0.082403</td>\n",
       "      <td>0.105710</td>\n",
       "    </tr>\n",
       "    <tr>\n",
       "      <th>html_num_tags('div')</th>\n",
       "      <td>-0.013241</td>\n",
       "      <td>-0.013765</td>\n",
       "      <td>-0.008044</td>\n",
       "      <td>-0.002495</td>\n",
       "      <td>-0.001540</td>\n",
       "      <td>-0.027272</td>\n",
       "      <td>-0.017179</td>\n",
       "      <td>-0.016998</td>\n",
       "      <td>-0.015185</td>\n",
       "      <td>-0.031192</td>\n",
       "      <td>...</td>\n",
       "      <td>0.047177</td>\n",
       "      <td>0.109408</td>\n",
       "      <td>-0.008882</td>\n",
       "      <td>0.040056</td>\n",
       "      <td>1.000000</td>\n",
       "      <td>0.001284</td>\n",
       "      <td>-0.006553</td>\n",
       "      <td>0.116670</td>\n",
       "      <td>0.840125</td>\n",
       "      <td>0.061183</td>\n",
       "    </tr>\n",
       "    <tr>\n",
       "      <th>html_num_tags('head')</th>\n",
       "      <td>0.074980</td>\n",
       "      <td>0.039036</td>\n",
       "      <td>0.078578</td>\n",
       "      <td>0.002868</td>\n",
       "      <td>0.002779</td>\n",
       "      <td>-0.024784</td>\n",
       "      <td>0.058713</td>\n",
       "      <td>-0.001409</td>\n",
       "      <td>-0.019294</td>\n",
       "      <td>0.012362</td>\n",
       "      <td>...</td>\n",
       "      <td>-0.027587</td>\n",
       "      <td>0.056140</td>\n",
       "      <td>0.001661</td>\n",
       "      <td>0.001600</td>\n",
       "      <td>0.001284</td>\n",
       "      <td>1.000000</td>\n",
       "      <td>0.191956</td>\n",
       "      <td>0.031581</td>\n",
       "      <td>0.008334</td>\n",
       "      <td>-0.012990</td>\n",
       "    </tr>\n",
       "    <tr>\n",
       "      <th>html_num_tags('body')</th>\n",
       "      <td>0.043752</td>\n",
       "      <td>-0.043295</td>\n",
       "      <td>-0.006032</td>\n",
       "      <td>0.031097</td>\n",
       "      <td>0.031446</td>\n",
       "      <td>-0.000531</td>\n",
       "      <td>0.031360</td>\n",
       "      <td>0.150485</td>\n",
       "      <td>0.109691</td>\n",
       "      <td>-0.018434</td>\n",
       "      <td>...</td>\n",
       "      <td>-0.006687</td>\n",
       "      <td>0.009628</td>\n",
       "      <td>-0.009247</td>\n",
       "      <td>0.013036</td>\n",
       "      <td>-0.006553</td>\n",
       "      <td>0.191956</td>\n",
       "      <td>1.000000</td>\n",
       "      <td>0.029755</td>\n",
       "      <td>-0.006687</td>\n",
       "      <td>-0.110581</td>\n",
       "    </tr>\n",
       "    <tr>\n",
       "      <th>html_num_tags('form')</th>\n",
       "      <td>-0.037282</td>\n",
       "      <td>0.038427</td>\n",
       "      <td>-0.042510</td>\n",
       "      <td>0.033835</td>\n",
       "      <td>0.036627</td>\n",
       "      <td>-0.066137</td>\n",
       "      <td>-0.079358</td>\n",
       "      <td>-0.001790</td>\n",
       "      <td>-0.005181</td>\n",
       "      <td>-0.077854</td>\n",
       "      <td>...</td>\n",
       "      <td>0.098308</td>\n",
       "      <td>0.231170</td>\n",
       "      <td>-0.023065</td>\n",
       "      <td>0.013915</td>\n",
       "      <td>0.116670</td>\n",
       "      <td>0.031581</td>\n",
       "      <td>0.029755</td>\n",
       "      <td>1.000000</td>\n",
       "      <td>0.087638</td>\n",
       "      <td>-0.116354</td>\n",
       "    </tr>\n",
       "    <tr>\n",
       "      <th>html_num_tags('a')</th>\n",
       "      <td>-0.019775</td>\n",
       "      <td>-0.036904</td>\n",
       "      <td>-0.008870</td>\n",
       "      <td>-0.035063</td>\n",
       "      <td>-0.033953</td>\n",
       "      <td>-0.027895</td>\n",
       "      <td>-0.007495</td>\n",
       "      <td>-0.023486</td>\n",
       "      <td>-0.022982</td>\n",
       "      <td>-0.035891</td>\n",
       "      <td>...</td>\n",
       "      <td>0.045139</td>\n",
       "      <td>0.087716</td>\n",
       "      <td>0.012907</td>\n",
       "      <td>0.082403</td>\n",
       "      <td>0.840125</td>\n",
       "      <td>0.008334</td>\n",
       "      <td>-0.006687</td>\n",
       "      <td>0.087638</td>\n",
       "      <td>1.000000</td>\n",
       "      <td>0.113966</td>\n",
       "    </tr>\n",
       "    <tr>\n",
       "      <th>Result_v1</th>\n",
       "      <td>0.006429</td>\n",
       "      <td>-0.355480</td>\n",
       "      <td>0.113835</td>\n",
       "      <td>-0.380448</td>\n",
       "      <td>-0.384489</td>\n",
       "      <td>0.047256</td>\n",
       "      <td>0.133808</td>\n",
       "      <td>-0.189689</td>\n",
       "      <td>-0.184497</td>\n",
       "      <td>0.076236</td>\n",
       "      <td>...</td>\n",
       "      <td>0.033966</td>\n",
       "      <td>0.202309</td>\n",
       "      <td>0.111295</td>\n",
       "      <td>0.105710</td>\n",
       "      <td>0.061183</td>\n",
       "      <td>-0.012990</td>\n",
       "      <td>-0.110581</td>\n",
       "      <td>-0.116354</td>\n",
       "      <td>0.113966</td>\n",
       "      <td>1.000000</td>\n",
       "    </tr>\n",
       "  </tbody>\n",
       "</table>\n",
       "<p>22 rows × 22 columns</p>\n",
       "</div>"
      ],
      "text/plain": [
       "                          url_len  url_num_hyphens_dom  url_path_len  \\\n",
       "url_len                  1.000000            -0.025183      0.944497   \n",
       "url_num_hyphens_dom     -0.025183             1.000000     -0.097643   \n",
       "url_path_len             0.944497            -0.097643      1.000000   \n",
       "url_domain_len           0.001670             0.589203     -0.123280   \n",
       "url_hostname_len         0.002085             0.590278     -0.123081   \n",
       "url_num_dots             0.267134            -0.085324      0.196425   \n",
       "url_num_underscores      0.307256            -0.063695      0.254179   \n",
       "url_query_len            0.318540             0.001715      0.011303   \n",
       "url_num_query_para       0.267502            -0.002627      0.010422   \n",
       "url_ip_present          -0.067771            -0.124600     -0.037249   \n",
       "url_entropy              0.254685             0.071452      0.131595   \n",
       "url_port                 0.051000            -0.022785      0.056566   \n",
       "html_num_tags('iframe')  0.022091            -0.014977      0.033574   \n",
       "html_num_tags('script') -0.026803            -0.110263      0.006749   \n",
       "html_num_tags('embed')  -0.012114            -0.052932     -0.003340   \n",
       "html_num_tags('object') -0.021489            -0.048672     -0.015291   \n",
       "html_num_tags('div')    -0.013241            -0.013765     -0.008044   \n",
       "html_num_tags('head')    0.074980             0.039036      0.078578   \n",
       "html_num_tags('body')    0.043752            -0.043295     -0.006032   \n",
       "html_num_tags('form')   -0.037282             0.038427     -0.042510   \n",
       "html_num_tags('a')      -0.019775            -0.036904     -0.008870   \n",
       "Result_v1                0.006429            -0.355480      0.113835   \n",
       "\n",
       "                         url_domain_len  url_hostname_len  url_num_dots  \\\n",
       "url_len                        0.001670          0.002085      0.267134   \n",
       "url_num_hyphens_dom            0.589203          0.590278     -0.085324   \n",
       "url_path_len                  -0.123280         -0.123081      0.196425   \n",
       "url_domain_len                 1.000000          0.998956      0.082025   \n",
       "url_hostname_len               0.998956          1.000000      0.078337   \n",
       "url_num_dots                   0.082025          0.078337      1.000000   \n",
       "url_num_underscores           -0.092685         -0.094091      0.261850   \n",
       "url_query_len                  0.014915          0.016032      0.227932   \n",
       "url_num_query_para             0.015721          0.016803      0.197153   \n",
       "url_ip_present                -0.150800         -0.169295      0.184992   \n",
       "url_entropy                    0.160224          0.163410      0.195450   \n",
       "url_port                      -0.002415         -0.024982      0.031340   \n",
       "html_num_tags('iframe')       -0.011562         -0.010897     -0.000463   \n",
       "html_num_tags('script')       -0.103895         -0.101211     -0.086458   \n",
       "html_num_tags('embed')        -0.012265         -0.011445     -0.030750   \n",
       "html_num_tags('object')       -0.029448         -0.030490     -0.017976   \n",
       "html_num_tags('div')          -0.002495         -0.001540     -0.027272   \n",
       "html_num_tags('head')          0.002868          0.002779     -0.024784   \n",
       "html_num_tags('body')          0.031097          0.031446     -0.000531   \n",
       "html_num_tags('form')          0.033835          0.036627     -0.066137   \n",
       "html_num_tags('a')            -0.035063         -0.033953     -0.027895   \n",
       "Result_v1                     -0.380448         -0.384489      0.047256   \n",
       "\n",
       "                         url_num_underscores  url_query_len  \\\n",
       "url_len                             0.307256       0.318540   \n",
       "url_num_hyphens_dom                -0.063695       0.001715   \n",
       "url_path_len                        0.254179       0.011303   \n",
       "url_domain_len                     -0.092685       0.014915   \n",
       "url_hostname_len                   -0.094091       0.016032   \n",
       "url_num_dots                        0.261850       0.227932   \n",
       "url_num_underscores                 1.000000       0.246116   \n",
       "url_query_len                       0.246116       1.000000   \n",
       "url_num_query_para                  0.245183       0.834315   \n",
       "url_ip_present                     -0.052211      -0.048321   \n",
       "url_entropy                         0.244172       0.358440   \n",
       "url_port                            0.091066      -0.008836   \n",
       "html_num_tags('iframe')            -0.027094      -0.028272   \n",
       "html_num_tags('script')            -0.069631      -0.069375   \n",
       "html_num_tags('embed')             -0.029422      -0.024240   \n",
       "html_num_tags('object')            -0.021538      -0.011191   \n",
       "html_num_tags('div')               -0.017179      -0.016998   \n",
       "html_num_tags('head')               0.058713      -0.001409   \n",
       "html_num_tags('body')               0.031360       0.150485   \n",
       "html_num_tags('form')              -0.079358      -0.001790   \n",
       "html_num_tags('a')                 -0.007495      -0.023486   \n",
       "Result_v1                           0.133808      -0.189689   \n",
       "\n",
       "                         url_num_query_para  url_ip_present  ...  \\\n",
       "url_len                            0.267502       -0.067771  ...   \n",
       "url_num_hyphens_dom               -0.002627       -0.124600  ...   \n",
       "url_path_len                       0.010422       -0.037249  ...   \n",
       "url_domain_len                     0.015721       -0.150800  ...   \n",
       "url_hostname_len                   0.016803       -0.169295  ...   \n",
       "url_num_dots                       0.197153        0.184992  ...   \n",
       "url_num_underscores                0.245183       -0.052211  ...   \n",
       "url_query_len                      0.834315       -0.048321  ...   \n",
       "url_num_query_para                 1.000000       -0.046998  ...   \n",
       "url_ip_present                    -0.046998        1.000000  ...   \n",
       "url_entropy                        0.323323       -0.165779  ...   \n",
       "url_port                          -0.008594        0.099405  ...   \n",
       "html_num_tags('iframe')           -0.030635       -0.027805  ...   \n",
       "html_num_tags('script')           -0.066136       -0.086306  ...   \n",
       "html_num_tags('embed')            -0.023577       -0.032573  ...   \n",
       "html_num_tags('object')           -0.016486        0.041407  ...   \n",
       "html_num_tags('div')              -0.015185       -0.031192  ...   \n",
       "html_num_tags('head')             -0.019294        0.012362  ...   \n",
       "html_num_tags('body')              0.109691       -0.018434  ...   \n",
       "html_num_tags('form')             -0.005181       -0.077854  ...   \n",
       "html_num_tags('a')                -0.022982       -0.035891  ...   \n",
       "Result_v1                         -0.184497        0.076236  ...   \n",
       "\n",
       "                         html_num_tags('iframe')  html_num_tags('script')  \\\n",
       "url_len                                 0.022091                -0.026803   \n",
       "url_num_hyphens_dom                    -0.014977                -0.110263   \n",
       "url_path_len                            0.033574                 0.006749   \n",
       "url_domain_len                         -0.011562                -0.103895   \n",
       "url_hostname_len                       -0.010897                -0.101211   \n",
       "url_num_dots                           -0.000463                -0.086458   \n",
       "url_num_underscores                    -0.027094                -0.069631   \n",
       "url_query_len                          -0.028272                -0.069375   \n",
       "url_num_query_para                     -0.030635                -0.066136   \n",
       "url_ip_present                         -0.027805                -0.086306   \n",
       "url_entropy                            -0.014104                -0.100682   \n",
       "url_port                                0.010737                -0.012834   \n",
       "html_num_tags('iframe')                 1.000000                 0.266982   \n",
       "html_num_tags('script')                 0.266982                 1.000000   \n",
       "html_num_tags('embed')                  0.070828                 0.026666   \n",
       "html_num_tags('object')                 0.049475                -0.000805   \n",
       "html_num_tags('div')                    0.047177                 0.109408   \n",
       "html_num_tags('head')                  -0.027587                 0.056140   \n",
       "html_num_tags('body')                  -0.006687                 0.009628   \n",
       "html_num_tags('form')                   0.098308                 0.231170   \n",
       "html_num_tags('a')                      0.045139                 0.087716   \n",
       "Result_v1                               0.033966                 0.202309   \n",
       "\n",
       "                         html_num_tags('embed')  html_num_tags('object')  \\\n",
       "url_len                               -0.012114                -0.021489   \n",
       "url_num_hyphens_dom                   -0.052932                -0.048672   \n",
       "url_path_len                          -0.003340                -0.015291   \n",
       "url_domain_len                        -0.012265                -0.029448   \n",
       "url_hostname_len                      -0.011445                -0.030490   \n",
       "url_num_dots                          -0.030750                -0.017976   \n",
       "url_num_underscores                   -0.029422                -0.021538   \n",
       "url_query_len                         -0.024240                -0.011191   \n",
       "url_num_query_para                    -0.023577                -0.016486   \n",
       "url_ip_present                        -0.032573                 0.041407   \n",
       "url_entropy                            0.017256                -0.029893   \n",
       "url_port                              -0.005956                -0.005739   \n",
       "html_num_tags('iframe')                0.070828                 0.049475   \n",
       "html_num_tags('script')                0.026666                -0.000805   \n",
       "html_num_tags('embed')                 1.000000                 0.489795   \n",
       "html_num_tags('object')                0.489795                 1.000000   \n",
       "html_num_tags('div')                  -0.008882                 0.040056   \n",
       "html_num_tags('head')                  0.001661                 0.001600   \n",
       "html_num_tags('body')                 -0.009247                 0.013036   \n",
       "html_num_tags('form')                 -0.023065                 0.013915   \n",
       "html_num_tags('a')                     0.012907                 0.082403   \n",
       "Result_v1                              0.111295                 0.105710   \n",
       "\n",
       "                         html_num_tags('div')  html_num_tags('head')  \\\n",
       "url_len                             -0.013241               0.074980   \n",
       "url_num_hyphens_dom                 -0.013765               0.039036   \n",
       "url_path_len                        -0.008044               0.078578   \n",
       "url_domain_len                      -0.002495               0.002868   \n",
       "url_hostname_len                    -0.001540               0.002779   \n",
       "url_num_dots                        -0.027272              -0.024784   \n",
       "url_num_underscores                 -0.017179               0.058713   \n",
       "url_query_len                       -0.016998              -0.001409   \n",
       "url_num_query_para                  -0.015185              -0.019294   \n",
       "url_ip_present                      -0.031192               0.012362   \n",
       "url_entropy                         -0.021502              -0.012621   \n",
       "url_port                            -0.004837               0.000605   \n",
       "html_num_tags('iframe')              0.047177              -0.027587   \n",
       "html_num_tags('script')              0.109408               0.056140   \n",
       "html_num_tags('embed')              -0.008882               0.001661   \n",
       "html_num_tags('object')              0.040056               0.001600   \n",
       "html_num_tags('div')                 1.000000               0.001284   \n",
       "html_num_tags('head')                0.001284               1.000000   \n",
       "html_num_tags('body')               -0.006553               0.191956   \n",
       "html_num_tags('form')                0.116670               0.031581   \n",
       "html_num_tags('a')                   0.840125               0.008334   \n",
       "Result_v1                            0.061183              -0.012990   \n",
       "\n",
       "                         html_num_tags('body')  html_num_tags('form')  \\\n",
       "url_len                               0.043752              -0.037282   \n",
       "url_num_hyphens_dom                  -0.043295               0.038427   \n",
       "url_path_len                         -0.006032              -0.042510   \n",
       "url_domain_len                        0.031097               0.033835   \n",
       "url_hostname_len                      0.031446               0.036627   \n",
       "url_num_dots                         -0.000531              -0.066137   \n",
       "url_num_underscores                   0.031360              -0.079358   \n",
       "url_query_len                         0.150485              -0.001790   \n",
       "url_num_query_para                    0.109691              -0.005181   \n",
       "url_ip_present                       -0.018434              -0.077854   \n",
       "url_entropy                           0.063027              -0.030399   \n",
       "url_port                             -0.003371              -0.012498   \n",
       "html_num_tags('iframe')              -0.006687               0.098308   \n",
       "html_num_tags('script')               0.009628               0.231170   \n",
       "html_num_tags('embed')               -0.009247              -0.023065   \n",
       "html_num_tags('object')               0.013036               0.013915   \n",
       "html_num_tags('div')                 -0.006553               0.116670   \n",
       "html_num_tags('head')                 0.191956               0.031581   \n",
       "html_num_tags('body')                 1.000000               0.029755   \n",
       "html_num_tags('form')                 0.029755               1.000000   \n",
       "html_num_tags('a')                   -0.006687               0.087638   \n",
       "Result_v1                            -0.110581              -0.116354   \n",
       "\n",
       "                         html_num_tags('a')  Result_v1  \n",
       "url_len                           -0.019775   0.006429  \n",
       "url_num_hyphens_dom               -0.036904  -0.355480  \n",
       "url_path_len                      -0.008870   0.113835  \n",
       "url_domain_len                    -0.035063  -0.380448  \n",
       "url_hostname_len                  -0.033953  -0.384489  \n",
       "url_num_dots                      -0.027895   0.047256  \n",
       "url_num_underscores               -0.007495   0.133808  \n",
       "url_query_len                     -0.023486  -0.189689  \n",
       "url_num_query_para                -0.022982  -0.184497  \n",
       "url_ip_present                    -0.035891   0.076236  \n",
       "url_entropy                       -0.024935  -0.162198  \n",
       "url_port                          -0.007122   0.006642  \n",
       "html_num_tags('iframe')            0.045139   0.033966  \n",
       "html_num_tags('script')            0.087716   0.202309  \n",
       "html_num_tags('embed')             0.012907   0.111295  \n",
       "html_num_tags('object')            0.082403   0.105710  \n",
       "html_num_tags('div')               0.840125   0.061183  \n",
       "html_num_tags('head')              0.008334  -0.012990  \n",
       "html_num_tags('body')             -0.006687  -0.110581  \n",
       "html_num_tags('form')              0.087638  -0.116354  \n",
       "html_num_tags('a')                 1.000000   0.113966  \n",
       "Result_v1                          0.113966   1.000000  \n",
       "\n",
       "[22 rows x 22 columns]"
      ]
     },
     "execution_count": 184,
     "metadata": {},
     "output_type": "execute_result"
    }
   ],
   "source": [
    "df.corr()"
   ]
  },
  {
   "cell_type": "code",
   "execution_count": 173,
   "metadata": {},
   "outputs": [
    {
     "data": {
      "text/plain": [
       "<AxesSubplot:>"
      ]
     },
     "execution_count": 173,
     "metadata": {},
     "output_type": "execute_result"
    },
    {
     "data": {
      "image/png": "[encoded data removed]",
      "text/plain": [
       "<Figure size 432x288 with 2 Axes>"
      ]
     },
     "metadata": {
      "needs_background": "light"
     },
     "output_type": "display_data"
    }
   ],
   "source": [
    "sns.heatmap(df.corr(), cmap = plt.cm.PuBu)"
   ]
  },
  {
   "cell_type": "code",
   "execution_count": 175,
   "metadata": {},
   "outputs": [],
   "source": [
    "# 모든 값이 0인 url_chinese_present, htmp_num_tags('applet') 제거\n",
    "col = ['url_chinese_present', \"html_num_tags('applet')\"]\n",
    "df = df.drop(col, axis=1)"
   ]
  },
  {
   "cell_type": "code",
   "execution_count": 229,
   "metadata": {},
   "outputs": [
    {
     "data": {
      "text/plain": [
       "<AxesSubplot:>"
      ]
     },
     "execution_count": 229,
     "metadata": {},
     "output_type": "execute_result"
    },
    {
     "data": {
      "image/png": "[encoded data removed]",
      "text/plain": [
       "<Figure size 432x288 with 2 Axes>"
      ]
     },
     "metadata": {
      "needs_background": "light"
     },
     "output_type": "display_data"
    }
   ],
   "source": [
    "sns.heatmap(df.corr(), cmap = plt.cm.PuBu)"
   ]
  },
  {
   "cell_type": "code",
   "execution_count": null,
   "metadata": {},
   "outputs": [],
   "source": []
  },
  {
   "cell_type": "code",
   "execution_count": 194,
   "metadata": {},
   "outputs": [
    {
     "data": {
      "text/html": [
       "<div>\n",
       "<style scoped>\n",
       "    .dataframe tbody tr th:only-of-type {\n",
       "        vertical-align: middle;\n",
       "    }\n",
       "\n",
       "    .dataframe tbody tr th {\n",
       "        vertical-align: top;\n",
       "    }\n",
       "\n",
       "    .dataframe thead th {\n",
       "        text-align: right;\n",
       "    }\n",
       "</style>\n",
       "<table border=\"1\" class=\"dataframe\">\n",
       "  <thead>\n",
       "    <tr style=\"text-align: right;\">\n",
       "      <th></th>\n",
       "      <th>level_0</th>\n",
       "      <th>index</th>\n",
       "      <th>url_len</th>\n",
       "      <th>url_num_hyphens_dom</th>\n",
       "      <th>url_path_len</th>\n",
       "      <th>url_domain_len</th>\n",
       "      <th>url_hostname_len</th>\n",
       "      <th>url_num_dots</th>\n",
       "      <th>url_num_underscores</th>\n",
       "      <th>url_query_len</th>\n",
       "      <th>...</th>\n",
       "      <th>html_num_tags('script')</th>\n",
       "      <th>html_num_tags('embed')</th>\n",
       "      <th>html_num_tags('object')</th>\n",
       "      <th>html_num_tags('div')</th>\n",
       "      <th>html_num_tags('head')</th>\n",
       "      <th>html_num_tags('body')</th>\n",
       "      <th>html_num_tags('form')</th>\n",
       "      <th>html_num_tags('a')</th>\n",
       "      <th>Result_v1</th>\n",
       "      <th>hyphens_ratio</th>\n",
       "    </tr>\n",
       "  </thead>\n",
       "  <tbody>\n",
       "    <tr>\n",
       "      <th>0</th>\n",
       "      <td>0</td>\n",
       "      <td>0</td>\n",
       "      <td>23.0</td>\n",
       "      <td>0.0</td>\n",
       "      <td>8.0</td>\n",
       "      <td>15.0</td>\n",
       "      <td>15.0</td>\n",
       "      <td>2.0</td>\n",
       "      <td>0.0</td>\n",
       "      <td>0.0</td>\n",
       "      <td>...</td>\n",
       "      <td>7.0</td>\n",
       "      <td>0.0</td>\n",
       "      <td>0.0</td>\n",
       "      <td>0.0</td>\n",
       "      <td>1.0</td>\n",
       "      <td>1.0</td>\n",
       "      <td>0.0</td>\n",
       "      <td>0.0</td>\n",
       "      <td>-1</td>\n",
       "      <td>0.000000</td>\n",
       "    </tr>\n",
       "    <tr>\n",
       "      <th>1</th>\n",
       "      <td>1</td>\n",
       "      <td>1</td>\n",
       "      <td>75.0</td>\n",
       "      <td>0.0</td>\n",
       "      <td>58.0</td>\n",
       "      <td>17.0</td>\n",
       "      <td>17.0</td>\n",
       "      <td>6.0</td>\n",
       "      <td>0.0</td>\n",
       "      <td>0.0</td>\n",
       "      <td>...</td>\n",
       "      <td>18.0</td>\n",
       "      <td>0.0</td>\n",
       "      <td>0.0</td>\n",
       "      <td>20.0</td>\n",
       "      <td>1.0</td>\n",
       "      <td>1.0</td>\n",
       "      <td>0.0</td>\n",
       "      <td>21.0</td>\n",
       "      <td>1</td>\n",
       "      <td>0.000000</td>\n",
       "    </tr>\n",
       "    <tr>\n",
       "      <th>2</th>\n",
       "      <td>2</td>\n",
       "      <td>2</td>\n",
       "      <td>20.0</td>\n",
       "      <td>0.0</td>\n",
       "      <td>4.0</td>\n",
       "      <td>16.0</td>\n",
       "      <td>16.0</td>\n",
       "      <td>2.0</td>\n",
       "      <td>0.0</td>\n",
       "      <td>0.0</td>\n",
       "      <td>...</td>\n",
       "      <td>33.0</td>\n",
       "      <td>0.0</td>\n",
       "      <td>0.0</td>\n",
       "      <td>101.0</td>\n",
       "      <td>1.0</td>\n",
       "      <td>1.0</td>\n",
       "      <td>3.0</td>\n",
       "      <td>70.0</td>\n",
       "      <td>1</td>\n",
       "      <td>0.000000</td>\n",
       "    </tr>\n",
       "    <tr>\n",
       "      <th>3</th>\n",
       "      <td>3</td>\n",
       "      <td>3</td>\n",
       "      <td>27.0</td>\n",
       "      <td>0.0</td>\n",
       "      <td>13.0</td>\n",
       "      <td>14.0</td>\n",
       "      <td>14.0</td>\n",
       "      <td>3.0</td>\n",
       "      <td>0.0</td>\n",
       "      <td>0.0</td>\n",
       "      <td>...</td>\n",
       "      <td>15.0</td>\n",
       "      <td>0.0</td>\n",
       "      <td>0.0</td>\n",
       "      <td>151.0</td>\n",
       "      <td>1.0</td>\n",
       "      <td>1.0</td>\n",
       "      <td>1.0</td>\n",
       "      <td>55.0</td>\n",
       "      <td>1</td>\n",
       "      <td>0.000000</td>\n",
       "    </tr>\n",
       "    <tr>\n",
       "      <th>4</th>\n",
       "      <td>4</td>\n",
       "      <td>4</td>\n",
       "      <td>39.0</td>\n",
       "      <td>2.0</td>\n",
       "      <td>12.0</td>\n",
       "      <td>27.0</td>\n",
       "      <td>27.0</td>\n",
       "      <td>2.0</td>\n",
       "      <td>0.0</td>\n",
       "      <td>0.0</td>\n",
       "      <td>...</td>\n",
       "      <td>10.0</td>\n",
       "      <td>0.0</td>\n",
       "      <td>0.0</td>\n",
       "      <td>332.0</td>\n",
       "      <td>1.0</td>\n",
       "      <td>1.0</td>\n",
       "      <td>0.0</td>\n",
       "      <td>321.0</td>\n",
       "      <td>1</td>\n",
       "      <td>0.051282</td>\n",
       "    </tr>\n",
       "  </tbody>\n",
       "</table>\n",
       "<p>5 rows × 25 columns</p>\n",
       "</div>"
      ],
      "text/plain": [
       "   level_0  index  url_len  url_num_hyphens_dom  url_path_len  url_domain_len  \\\n",
       "0        0      0     23.0                  0.0           8.0            15.0   \n",
       "1        1      1     75.0                  0.0          58.0            17.0   \n",
       "2        2      2     20.0                  0.0           4.0            16.0   \n",
       "3        3      3     27.0                  0.0          13.0            14.0   \n",
       "4        4      4     39.0                  2.0          12.0            27.0   \n",
       "\n",
       "   url_hostname_len  url_num_dots  url_num_underscores  url_query_len  ...  \\\n",
       "0              15.0           2.0                  0.0            0.0  ...   \n",
       "1              17.0           6.0                  0.0            0.0  ...   \n",
       "2              16.0           2.0                  0.0            0.0  ...   \n",
       "3              14.0           3.0                  0.0            0.0  ...   \n",
       "4              27.0           2.0                  0.0            0.0  ...   \n",
       "\n",
       "   html_num_tags('script')  html_num_tags('embed')  html_num_tags('object')  \\\n",
       "0                      7.0                     0.0                      0.0   \n",
       "1                     18.0                     0.0                      0.0   \n",
       "2                     33.0                     0.0                      0.0   \n",
       "3                     15.0                     0.0                      0.0   \n",
       "4                     10.0                     0.0                      0.0   \n",
       "\n",
       "   html_num_tags('div')  html_num_tags('head')  html_num_tags('body')  \\\n",
       "0                   0.0                    1.0                    1.0   \n",
       "1                  20.0                    1.0                    1.0   \n",
       "2                 101.0                    1.0                    1.0   \n",
       "3                 151.0                    1.0                    1.0   \n",
       "4                 332.0                    1.0                    1.0   \n",
       "\n",
       "   html_num_tags('form')  html_num_tags('a')  Result_v1  hyphens_ratio  \n",
       "0                    0.0                 0.0         -1       0.000000  \n",
       "1                    0.0                21.0          1       0.000000  \n",
       "2                    3.0                70.0          1       0.000000  \n",
       "3                    1.0                55.0          1       0.000000  \n",
       "4                    0.0               321.0          1       0.051282  \n",
       "\n",
       "[5 rows x 25 columns]"
      ]
     },
     "execution_count": 194,
     "metadata": {},
     "output_type": "execute_result"
    }
   ],
   "source": [
    "df['hyphens_ratio'] = df['url_num_hyphens_dom']/df['url_len']\n",
    "df.head()"
   ]
  },
  {
   "cell_type": "code",
   "execution_count": 202,
   "metadata": {
    "tags": []
   },
   "outputs": [
    {
     "data": {
      "text/html": [
       "<div>\n",
       "<style scoped>\n",
       "    .dataframe tbody tr th:only-of-type {\n",
       "        vertical-align: middle;\n",
       "    }\n",
       "\n",
       "    .dataframe tbody tr th {\n",
       "        vertical-align: top;\n",
       "    }\n",
       "\n",
       "    .dataframe thead th {\n",
       "        text-align: right;\n",
       "    }\n",
       "</style>\n",
       "<table border=\"1\" class=\"dataframe\">\n",
       "  <thead>\n",
       "    <tr style=\"text-align: right;\">\n",
       "      <th></th>\n",
       "      <th>url_len</th>\n",
       "      <th>url_num_hyphens_dom</th>\n",
       "      <th>url_path_len</th>\n",
       "      <th>url_domain_len</th>\n",
       "      <th>url_hostname_len</th>\n",
       "      <th>url_num_dots</th>\n",
       "      <th>url_num_underscores</th>\n",
       "      <th>url_query_len</th>\n",
       "      <th>url_num_query_para</th>\n",
       "      <th>url_ip_present</th>\n",
       "      <th>...</th>\n",
       "      <th>html_num_tags('script')</th>\n",
       "      <th>html_num_tags('embed')</th>\n",
       "      <th>html_num_tags('object')</th>\n",
       "      <th>html_num_tags('div')</th>\n",
       "      <th>html_num_tags('head')</th>\n",
       "      <th>html_num_tags('body')</th>\n",
       "      <th>html_num_tags('form')</th>\n",
       "      <th>html_num_tags('a')</th>\n",
       "      <th>Result_v1</th>\n",
       "      <th>hyphens_ratio</th>\n",
       "    </tr>\n",
       "  </thead>\n",
       "  <tbody>\n",
       "    <tr>\n",
       "      <th>url_len</th>\n",
       "      <td>1.000000</td>\n",
       "      <td>-0.025183</td>\n",
       "      <td>0.944497</td>\n",
       "      <td>0.001670</td>\n",
       "      <td>0.002085</td>\n",
       "      <td>0.267134</td>\n",
       "      <td>0.307256</td>\n",
       "      <td>0.318540</td>\n",
       "      <td>0.267502</td>\n",
       "      <td>-0.067771</td>\n",
       "      <td>...</td>\n",
       "      <td>-0.026803</td>\n",
       "      <td>-0.012114</td>\n",
       "      <td>-0.021489</td>\n",
       "      <td>-0.013241</td>\n",
       "      <td>0.074980</td>\n",
       "      <td>0.043752</td>\n",
       "      <td>-0.037282</td>\n",
       "      <td>-0.019775</td>\n",
       "      <td>0.006429</td>\n",
       "      <td>-0.102340</td>\n",
       "    </tr>\n",
       "    <tr>\n",
       "      <th>url_num_hyphens_dom</th>\n",
       "      <td>-0.025183</td>\n",
       "      <td>1.000000</td>\n",
       "      <td>-0.097643</td>\n",
       "      <td>0.589203</td>\n",
       "      <td>0.590278</td>\n",
       "      <td>-0.085324</td>\n",
       "      <td>-0.063695</td>\n",
       "      <td>0.001715</td>\n",
       "      <td>-0.002627</td>\n",
       "      <td>-0.124600</td>\n",
       "      <td>...</td>\n",
       "      <td>-0.110263</td>\n",
       "      <td>-0.052932</td>\n",
       "      <td>-0.048672</td>\n",
       "      <td>-0.013765</td>\n",
       "      <td>0.039036</td>\n",
       "      <td>-0.043295</td>\n",
       "      <td>0.038427</td>\n",
       "      <td>-0.036904</td>\n",
       "      <td>-0.355480</td>\n",
       "      <td>0.887624</td>\n",
       "    </tr>\n",
       "    <tr>\n",
       "      <th>url_path_len</th>\n",
       "      <td>0.944497</td>\n",
       "      <td>-0.097643</td>\n",
       "      <td>1.000000</td>\n",
       "      <td>-0.123280</td>\n",
       "      <td>-0.123081</td>\n",
       "      <td>0.196425</td>\n",
       "      <td>0.254179</td>\n",
       "      <td>0.011303</td>\n",
       "      <td>0.010422</td>\n",
       "      <td>-0.037249</td>\n",
       "      <td>...</td>\n",
       "      <td>0.006749</td>\n",
       "      <td>-0.003340</td>\n",
       "      <td>-0.015291</td>\n",
       "      <td>-0.008044</td>\n",
       "      <td>0.078578</td>\n",
       "      <td>-0.006032</td>\n",
       "      <td>-0.042510</td>\n",
       "      <td>-0.008870</td>\n",
       "      <td>0.113835</td>\n",
       "      <td>-0.138286</td>\n",
       "    </tr>\n",
       "    <tr>\n",
       "      <th>url_domain_len</th>\n",
       "      <td>0.001670</td>\n",
       "      <td>0.589203</td>\n",
       "      <td>-0.123280</td>\n",
       "      <td>1.000000</td>\n",
       "      <td>0.998956</td>\n",
       "      <td>0.082025</td>\n",
       "      <td>-0.092685</td>\n",
       "      <td>0.014915</td>\n",
       "      <td>0.015721</td>\n",
       "      <td>-0.150800</td>\n",
       "      <td>...</td>\n",
       "      <td>-0.103895</td>\n",
       "      <td>-0.012265</td>\n",
       "      <td>-0.029448</td>\n",
       "      <td>-0.002495</td>\n",
       "      <td>0.002868</td>\n",
       "      <td>0.031097</td>\n",
       "      <td>0.033835</td>\n",
       "      <td>-0.035063</td>\n",
       "      <td>-0.380448</td>\n",
       "      <td>0.439454</td>\n",
       "    </tr>\n",
       "    <tr>\n",
       "      <th>url_hostname_len</th>\n",
       "      <td>0.002085</td>\n",
       "      <td>0.590278</td>\n",
       "      <td>-0.123081</td>\n",
       "      <td>0.998956</td>\n",
       "      <td>1.000000</td>\n",
       "      <td>0.078337</td>\n",
       "      <td>-0.094091</td>\n",
       "      <td>0.016032</td>\n",
       "      <td>0.016803</td>\n",
       "      <td>-0.169295</td>\n",
       "      <td>...</td>\n",
       "      <td>-0.101211</td>\n",
       "      <td>-0.011445</td>\n",
       "      <td>-0.030490</td>\n",
       "      <td>-0.001540</td>\n",
       "      <td>0.002779</td>\n",
       "      <td>0.031446</td>\n",
       "      <td>0.036627</td>\n",
       "      <td>-0.033953</td>\n",
       "      <td>-0.384489</td>\n",
       "      <td>0.441060</td>\n",
       "    </tr>\n",
       "    <tr>\n",
       "      <th>url_num_dots</th>\n",
       "      <td>0.267134</td>\n",
       "      <td>-0.085324</td>\n",
       "      <td>0.196425</td>\n",
       "      <td>0.082025</td>\n",
       "      <td>0.078337</td>\n",
       "      <td>1.000000</td>\n",
       "      <td>0.261850</td>\n",
       "      <td>0.227932</td>\n",
       "      <td>0.197153</td>\n",
       "      <td>0.184992</td>\n",
       "      <td>...</td>\n",
       "      <td>-0.086458</td>\n",
       "      <td>-0.030750</td>\n",
       "      <td>-0.017976</td>\n",
       "      <td>-0.027272</td>\n",
       "      <td>-0.024784</td>\n",
       "      <td>-0.000531</td>\n",
       "      <td>-0.066137</td>\n",
       "      <td>-0.027895</td>\n",
       "      <td>0.047256</td>\n",
       "      <td>-0.184254</td>\n",
       "    </tr>\n",
       "    <tr>\n",
       "      <th>url_num_underscores</th>\n",
       "      <td>0.307256</td>\n",
       "      <td>-0.063695</td>\n",
       "      <td>0.254179</td>\n",
       "      <td>-0.092685</td>\n",
       "      <td>-0.094091</td>\n",
       "      <td>0.261850</td>\n",
       "      <td>1.000000</td>\n",
       "      <td>0.246116</td>\n",
       "      <td>0.245183</td>\n",
       "      <td>-0.052211</td>\n",
       "      <td>...</td>\n",
       "      <td>-0.069631</td>\n",
       "      <td>-0.029422</td>\n",
       "      <td>-0.021538</td>\n",
       "      <td>-0.017179</td>\n",
       "      <td>0.058713</td>\n",
       "      <td>0.031360</td>\n",
       "      <td>-0.079358</td>\n",
       "      <td>-0.007495</td>\n",
       "      <td>0.133808</td>\n",
       "      <td>-0.099547</td>\n",
       "    </tr>\n",
       "    <tr>\n",
       "      <th>url_query_len</th>\n",
       "      <td>0.318540</td>\n",
       "      <td>0.001715</td>\n",
       "      <td>0.011303</td>\n",
       "      <td>0.014915</td>\n",
       "      <td>0.016032</td>\n",
       "      <td>0.227932</td>\n",
       "      <td>0.246116</td>\n",
       "      <td>1.000000</td>\n",
       "      <td>0.834315</td>\n",
       "      <td>-0.048321</td>\n",
       "      <td>...</td>\n",
       "      <td>-0.069375</td>\n",
       "      <td>-0.024240</td>\n",
       "      <td>-0.011191</td>\n",
       "      <td>-0.016998</td>\n",
       "      <td>-0.001409</td>\n",
       "      <td>0.150485</td>\n",
       "      <td>-0.001790</td>\n",
       "      <td>-0.023486</td>\n",
       "      <td>-0.189689</td>\n",
       "      <td>-0.066090</td>\n",
       "    </tr>\n",
       "    <tr>\n",
       "      <th>url_num_query_para</th>\n",
       "      <td>0.267502</td>\n",
       "      <td>-0.002627</td>\n",
       "      <td>0.010422</td>\n",
       "      <td>0.015721</td>\n",
       "      <td>0.016803</td>\n",
       "      <td>0.197153</td>\n",
       "      <td>0.245183</td>\n",
       "      <td>0.834315</td>\n",
       "      <td>1.000000</td>\n",
       "      <td>-0.046998</td>\n",
       "      <td>...</td>\n",
       "      <td>-0.066136</td>\n",
       "      <td>-0.023577</td>\n",
       "      <td>-0.016486</td>\n",
       "      <td>-0.015185</td>\n",
       "      <td>-0.019294</td>\n",
       "      <td>0.109691</td>\n",
       "      <td>-0.005181</td>\n",
       "      <td>-0.022982</td>\n",
       "      <td>-0.184497</td>\n",
       "      <td>-0.063020</td>\n",
       "    </tr>\n",
       "    <tr>\n",
       "      <th>url_ip_present</th>\n",
       "      <td>-0.067771</td>\n",
       "      <td>-0.124600</td>\n",
       "      <td>-0.037249</td>\n",
       "      <td>-0.150800</td>\n",
       "      <td>-0.169295</td>\n",
       "      <td>0.184992</td>\n",
       "      <td>-0.052211</td>\n",
       "      <td>-0.048321</td>\n",
       "      <td>-0.046998</td>\n",
       "      <td>1.000000</td>\n",
       "      <td>...</td>\n",
       "      <td>-0.086306</td>\n",
       "      <td>-0.032573</td>\n",
       "      <td>0.041407</td>\n",
       "      <td>-0.031192</td>\n",
       "      <td>0.012362</td>\n",
       "      <td>-0.018434</td>\n",
       "      <td>-0.077854</td>\n",
       "      <td>-0.035891</td>\n",
       "      <td>0.076236</td>\n",
       "      <td>-0.127395</td>\n",
       "    </tr>\n",
       "    <tr>\n",
       "      <th>url_entropy</th>\n",
       "      <td>0.254685</td>\n",
       "      <td>0.071452</td>\n",
       "      <td>0.131595</td>\n",
       "      <td>0.160224</td>\n",
       "      <td>0.163410</td>\n",
       "      <td>0.195450</td>\n",
       "      <td>0.244172</td>\n",
       "      <td>0.358440</td>\n",
       "      <td>0.323323</td>\n",
       "      <td>-0.165779</td>\n",
       "      <td>...</td>\n",
       "      <td>-0.100682</td>\n",
       "      <td>0.017256</td>\n",
       "      <td>-0.029893</td>\n",
       "      <td>-0.021502</td>\n",
       "      <td>-0.012621</td>\n",
       "      <td>0.063027</td>\n",
       "      <td>-0.030399</td>\n",
       "      <td>-0.024935</td>\n",
       "      <td>-0.162198</td>\n",
       "      <td>-0.046208</td>\n",
       "    </tr>\n",
       "    <tr>\n",
       "      <th>url_port</th>\n",
       "      <td>0.051000</td>\n",
       "      <td>-0.022785</td>\n",
       "      <td>0.056566</td>\n",
       "      <td>-0.002415</td>\n",
       "      <td>-0.024982</td>\n",
       "      <td>0.031340</td>\n",
       "      <td>0.091066</td>\n",
       "      <td>-0.008836</td>\n",
       "      <td>-0.008594</td>\n",
       "      <td>0.099405</td>\n",
       "      <td>...</td>\n",
       "      <td>-0.012834</td>\n",
       "      <td>-0.005956</td>\n",
       "      <td>-0.005739</td>\n",
       "      <td>-0.004837</td>\n",
       "      <td>0.000605</td>\n",
       "      <td>-0.003371</td>\n",
       "      <td>-0.012498</td>\n",
       "      <td>-0.007122</td>\n",
       "      <td>0.006642</td>\n",
       "      <td>-0.023296</td>\n",
       "    </tr>\n",
       "    <tr>\n",
       "      <th>html_num_tags('iframe')</th>\n",
       "      <td>0.022091</td>\n",
       "      <td>-0.014977</td>\n",
       "      <td>0.033574</td>\n",
       "      <td>-0.011562</td>\n",
       "      <td>-0.010897</td>\n",
       "      <td>-0.000463</td>\n",
       "      <td>-0.027094</td>\n",
       "      <td>-0.028272</td>\n",
       "      <td>-0.030635</td>\n",
       "      <td>-0.027805</td>\n",
       "      <td>...</td>\n",
       "      <td>0.266982</td>\n",
       "      <td>0.070828</td>\n",
       "      <td>0.049475</td>\n",
       "      <td>0.047177</td>\n",
       "      <td>-0.027587</td>\n",
       "      <td>-0.006687</td>\n",
       "      <td>0.098308</td>\n",
       "      <td>0.045139</td>\n",
       "      <td>0.033966</td>\n",
       "      <td>-0.003441</td>\n",
       "    </tr>\n",
       "    <tr>\n",
       "      <th>html_num_tags('script')</th>\n",
       "      <td>-0.026803</td>\n",
       "      <td>-0.110263</td>\n",
       "      <td>0.006749</td>\n",
       "      <td>-0.103895</td>\n",
       "      <td>-0.101211</td>\n",
       "      <td>-0.086458</td>\n",
       "      <td>-0.069631</td>\n",
       "      <td>-0.069375</td>\n",
       "      <td>-0.066136</td>\n",
       "      <td>-0.086306</td>\n",
       "      <td>...</td>\n",
       "      <td>1.000000</td>\n",
       "      <td>0.026666</td>\n",
       "      <td>-0.000805</td>\n",
       "      <td>0.109408</td>\n",
       "      <td>0.056140</td>\n",
       "      <td>0.009628</td>\n",
       "      <td>0.231170</td>\n",
       "      <td>0.087716</td>\n",
       "      <td>0.202309</td>\n",
       "      <td>-0.093254</td>\n",
       "    </tr>\n",
       "    <tr>\n",
       "      <th>html_num_tags('embed')</th>\n",
       "      <td>-0.012114</td>\n",
       "      <td>-0.052932</td>\n",
       "      <td>-0.003340</td>\n",
       "      <td>-0.012265</td>\n",
       "      <td>-0.011445</td>\n",
       "      <td>-0.030750</td>\n",
       "      <td>-0.029422</td>\n",
       "      <td>-0.024240</td>\n",
       "      <td>-0.023577</td>\n",
       "      <td>-0.032573</td>\n",
       "      <td>...</td>\n",
       "      <td>0.026666</td>\n",
       "      <td>1.000000</td>\n",
       "      <td>0.489795</td>\n",
       "      <td>-0.008882</td>\n",
       "      <td>0.001661</td>\n",
       "      <td>-0.009247</td>\n",
       "      <td>-0.023065</td>\n",
       "      <td>0.012907</td>\n",
       "      <td>0.111295</td>\n",
       "      <td>-0.053772</td>\n",
       "    </tr>\n",
       "    <tr>\n",
       "      <th>html_num_tags('object')</th>\n",
       "      <td>-0.021489</td>\n",
       "      <td>-0.048672</td>\n",
       "      <td>-0.015291</td>\n",
       "      <td>-0.029448</td>\n",
       "      <td>-0.030490</td>\n",
       "      <td>-0.017976</td>\n",
       "      <td>-0.021538</td>\n",
       "      <td>-0.011191</td>\n",
       "      <td>-0.016486</td>\n",
       "      <td>0.041407</td>\n",
       "      <td>...</td>\n",
       "      <td>-0.000805</td>\n",
       "      <td>0.489795</td>\n",
       "      <td>1.000000</td>\n",
       "      <td>0.040056</td>\n",
       "      <td>0.001600</td>\n",
       "      <td>0.013036</td>\n",
       "      <td>0.013915</td>\n",
       "      <td>0.082403</td>\n",
       "      <td>0.105710</td>\n",
       "      <td>-0.049086</td>\n",
       "    </tr>\n",
       "    <tr>\n",
       "      <th>html_num_tags('div')</th>\n",
       "      <td>-0.013241</td>\n",
       "      <td>-0.013765</td>\n",
       "      <td>-0.008044</td>\n",
       "      <td>-0.002495</td>\n",
       "      <td>-0.001540</td>\n",
       "      <td>-0.027272</td>\n",
       "      <td>-0.017179</td>\n",
       "      <td>-0.016998</td>\n",
       "      <td>-0.015185</td>\n",
       "      <td>-0.031192</td>\n",
       "      <td>...</td>\n",
       "      <td>0.109408</td>\n",
       "      <td>-0.008882</td>\n",
       "      <td>0.040056</td>\n",
       "      <td>1.000000</td>\n",
       "      <td>0.001284</td>\n",
       "      <td>-0.006553</td>\n",
       "      <td>0.116670</td>\n",
       "      <td>0.840125</td>\n",
       "      <td>0.061183</td>\n",
       "      <td>-0.002508</td>\n",
       "    </tr>\n",
       "    <tr>\n",
       "      <th>html_num_tags('head')</th>\n",
       "      <td>0.074980</td>\n",
       "      <td>0.039036</td>\n",
       "      <td>0.078578</td>\n",
       "      <td>0.002868</td>\n",
       "      <td>0.002779</td>\n",
       "      <td>-0.024784</td>\n",
       "      <td>0.058713</td>\n",
       "      <td>-0.001409</td>\n",
       "      <td>-0.019294</td>\n",
       "      <td>0.012362</td>\n",
       "      <td>...</td>\n",
       "      <td>0.056140</td>\n",
       "      <td>0.001661</td>\n",
       "      <td>0.001600</td>\n",
       "      <td>0.001284</td>\n",
       "      <td>1.000000</td>\n",
       "      <td>0.191956</td>\n",
       "      <td>0.031581</td>\n",
       "      <td>0.008334</td>\n",
       "      <td>-0.012990</td>\n",
       "      <td>0.016200</td>\n",
       "    </tr>\n",
       "    <tr>\n",
       "      <th>html_num_tags('body')</th>\n",
       "      <td>0.043752</td>\n",
       "      <td>-0.043295</td>\n",
       "      <td>-0.006032</td>\n",
       "      <td>0.031097</td>\n",
       "      <td>0.031446</td>\n",
       "      <td>-0.000531</td>\n",
       "      <td>0.031360</td>\n",
       "      <td>0.150485</td>\n",
       "      <td>0.109691</td>\n",
       "      <td>-0.018434</td>\n",
       "      <td>...</td>\n",
       "      <td>0.009628</td>\n",
       "      <td>-0.009247</td>\n",
       "      <td>0.013036</td>\n",
       "      <td>-0.006553</td>\n",
       "      <td>0.191956</td>\n",
       "      <td>1.000000</td>\n",
       "      <td>0.029755</td>\n",
       "      <td>-0.006687</td>\n",
       "      <td>-0.110581</td>\n",
       "      <td>-0.027211</td>\n",
       "    </tr>\n",
       "    <tr>\n",
       "      <th>html_num_tags('form')</th>\n",
       "      <td>-0.037282</td>\n",
       "      <td>0.038427</td>\n",
       "      <td>-0.042510</td>\n",
       "      <td>0.033835</td>\n",
       "      <td>0.036627</td>\n",
       "      <td>-0.066137</td>\n",
       "      <td>-0.079358</td>\n",
       "      <td>-0.001790</td>\n",
       "      <td>-0.005181</td>\n",
       "      <td>-0.077854</td>\n",
       "      <td>...</td>\n",
       "      <td>0.231170</td>\n",
       "      <td>-0.023065</td>\n",
       "      <td>0.013915</td>\n",
       "      <td>0.116670</td>\n",
       "      <td>0.031581</td>\n",
       "      <td>0.029755</td>\n",
       "      <td>1.000000</td>\n",
       "      <td>0.087638</td>\n",
       "      <td>-0.116354</td>\n",
       "      <td>0.074543</td>\n",
       "    </tr>\n",
       "    <tr>\n",
       "      <th>html_num_tags('a')</th>\n",
       "      <td>-0.019775</td>\n",
       "      <td>-0.036904</td>\n",
       "      <td>-0.008870</td>\n",
       "      <td>-0.035063</td>\n",
       "      <td>-0.033953</td>\n",
       "      <td>-0.027895</td>\n",
       "      <td>-0.007495</td>\n",
       "      <td>-0.023486</td>\n",
       "      <td>-0.022982</td>\n",
       "      <td>-0.035891</td>\n",
       "      <td>...</td>\n",
       "      <td>0.087716</td>\n",
       "      <td>0.012907</td>\n",
       "      <td>0.082403</td>\n",
       "      <td>0.840125</td>\n",
       "      <td>0.008334</td>\n",
       "      <td>-0.006687</td>\n",
       "      <td>0.087638</td>\n",
       "      <td>1.000000</td>\n",
       "      <td>0.113966</td>\n",
       "      <td>-0.028238</td>\n",
       "    </tr>\n",
       "    <tr>\n",
       "      <th>Result_v1</th>\n",
       "      <td>0.006429</td>\n",
       "      <td>-0.355480</td>\n",
       "      <td>0.113835</td>\n",
       "      <td>-0.380448</td>\n",
       "      <td>-0.384489</td>\n",
       "      <td>0.047256</td>\n",
       "      <td>0.133808</td>\n",
       "      <td>-0.189689</td>\n",
       "      <td>-0.184497</td>\n",
       "      <td>0.076236</td>\n",
       "      <td>...</td>\n",
       "      <td>0.202309</td>\n",
       "      <td>0.111295</td>\n",
       "      <td>0.105710</td>\n",
       "      <td>0.061183</td>\n",
       "      <td>-0.012990</td>\n",
       "      <td>-0.110581</td>\n",
       "      <td>-0.116354</td>\n",
       "      <td>0.113966</td>\n",
       "      <td>1.000000</td>\n",
       "      <td>-0.346218</td>\n",
       "    </tr>\n",
       "    <tr>\n",
       "      <th>hyphens_ratio</th>\n",
       "      <td>-0.102340</td>\n",
       "      <td>0.887624</td>\n",
       "      <td>-0.138286</td>\n",
       "      <td>0.439454</td>\n",
       "      <td>0.441060</td>\n",
       "      <td>-0.184254</td>\n",
       "      <td>-0.099547</td>\n",
       "      <td>-0.066090</td>\n",
       "      <td>-0.063020</td>\n",
       "      <td>-0.127395</td>\n",
       "      <td>...</td>\n",
       "      <td>-0.093254</td>\n",
       "      <td>-0.053772</td>\n",
       "      <td>-0.049086</td>\n",
       "      <td>-0.002508</td>\n",
       "      <td>0.016200</td>\n",
       "      <td>-0.027211</td>\n",
       "      <td>0.074543</td>\n",
       "      <td>-0.028238</td>\n",
       "      <td>-0.346218</td>\n",
       "      <td>1.000000</td>\n",
       "    </tr>\n",
       "  </tbody>\n",
       "</table>\n",
       "<p>23 rows × 23 columns</p>\n",
       "</div>"
      ],
      "text/plain": [
       "                          url_len  url_num_hyphens_dom  url_path_len  \\\n",
       "url_len                  1.000000            -0.025183      0.944497   \n",
       "url_num_hyphens_dom     -0.025183             1.000000     -0.097643   \n",
       "url_path_len             0.944497            -0.097643      1.000000   \n",
       "url_domain_len           0.001670             0.589203     -0.123280   \n",
       "url_hostname_len         0.002085             0.590278     -0.123081   \n",
       "url_num_dots             0.267134            -0.085324      0.196425   \n",
       "url_num_underscores      0.307256            -0.063695      0.254179   \n",
       "url_query_len            0.318540             0.001715      0.011303   \n",
       "url_num_query_para       0.267502            -0.002627      0.010422   \n",
       "url_ip_present          -0.067771            -0.124600     -0.037249   \n",
       "url_entropy              0.254685             0.071452      0.131595   \n",
       "url_port                 0.051000            -0.022785      0.056566   \n",
       "html_num_tags('iframe')  0.022091            -0.014977      0.033574   \n",
       "html_num_tags('script') -0.026803            -0.110263      0.006749   \n",
       "html_num_tags('embed')  -0.012114            -0.052932     -0.003340   \n",
       "html_num_tags('object') -0.021489            -0.048672     -0.015291   \n",
       "html_num_tags('div')    -0.013241            -0.013765     -0.008044   \n",
       "html_num_tags('head')    0.074980             0.039036      0.078578   \n",
       "html_num_tags('body')    0.043752            -0.043295     -0.006032   \n",
       "html_num_tags('form')   -0.037282             0.038427     -0.042510   \n",
       "html_num_tags('a')      -0.019775            -0.036904     -0.008870   \n",
       "Result_v1                0.006429            -0.355480      0.113835   \n",
       "hyphens_ratio           -0.102340             0.887624     -0.138286   \n",
       "\n",
       "                         url_domain_len  url_hostname_len  url_num_dots  \\\n",
       "url_len                        0.001670          0.002085      0.267134   \n",
       "url_num_hyphens_dom            0.589203          0.590278     -0.085324   \n",
       "url_path_len                  -0.123280         -0.123081      0.196425   \n",
       "url_domain_len                 1.000000          0.998956      0.082025   \n",
       "url_hostname_len               0.998956          1.000000      0.078337   \n",
       "url_num_dots                   0.082025          0.078337      1.000000   \n",
       "url_num_underscores           -0.092685         -0.094091      0.261850   \n",
       "url_query_len                  0.014915          0.016032      0.227932   \n",
       "url_num_query_para             0.015721          0.016803      0.197153   \n",
       "url_ip_present                -0.150800         -0.169295      0.184992   \n",
       "url_entropy                    0.160224          0.163410      0.195450   \n",
       "url_port                      -0.002415         -0.024982      0.031340   \n",
       "html_num_tags('iframe')       -0.011562         -0.010897     -0.000463   \n",
       "html_num_tags('script')       -0.103895         -0.101211     -0.086458   \n",
       "html_num_tags('embed')        -0.012265         -0.011445     -0.030750   \n",
       "html_num_tags('object')       -0.029448         -0.030490     -0.017976   \n",
       "html_num_tags('div')          -0.002495         -0.001540     -0.027272   \n",
       "html_num_tags('head')          0.002868          0.002779     -0.024784   \n",
       "html_num_tags('body')          0.031097          0.031446     -0.000531   \n",
       "html_num_tags('form')          0.033835          0.036627     -0.066137   \n",
       "html_num_tags('a')            -0.035063         -0.033953     -0.027895   \n",
       "Result_v1                     -0.380448         -0.384489      0.047256   \n",
       "hyphens_ratio                  0.439454          0.441060     -0.184254   \n",
       "\n",
       "                         url_num_underscores  url_query_len  \\\n",
       "url_len                             0.307256       0.318540   \n",
       "url_num_hyphens_dom                -0.063695       0.001715   \n",
       "url_path_len                        0.254179       0.011303   \n",
       "url_domain_len                     -0.092685       0.014915   \n",
       "url_hostname_len                   -0.094091       0.016032   \n",
       "url_num_dots                        0.261850       0.227932   \n",
       "url_num_underscores                 1.000000       0.246116   \n",
       "url_query_len                       0.246116       1.000000   \n",
       "url_num_query_para                  0.245183       0.834315   \n",
       "url_ip_present                     -0.052211      -0.048321   \n",
       "url_entropy                         0.244172       0.358440   \n",
       "url_port                            0.091066      -0.008836   \n",
       "html_num_tags('iframe')            -0.027094      -0.028272   \n",
       "html_num_tags('script')            -0.069631      -0.069375   \n",
       "html_num_tags('embed')             -0.029422      -0.024240   \n",
       "html_num_tags('object')            -0.021538      -0.011191   \n",
       "html_num_tags('div')               -0.017179      -0.016998   \n",
       "html_num_tags('head')               0.058713      -0.001409   \n",
       "html_num_tags('body')               0.031360       0.150485   \n",
       "html_num_tags('form')              -0.079358      -0.001790   \n",
       "html_num_tags('a')                 -0.007495      -0.023486   \n",
       "Result_v1                           0.133808      -0.189689   \n",
       "hyphens_ratio                      -0.099547      -0.066090   \n",
       "\n",
       "                         url_num_query_para  url_ip_present  ...  \\\n",
       "url_len                            0.267502       -0.067771  ...   \n",
       "url_num_hyphens_dom               -0.002627       -0.124600  ...   \n",
       "url_path_len                       0.010422       -0.037249  ...   \n",
       "url_domain_len                     0.015721       -0.150800  ...   \n",
       "url_hostname_len                   0.016803       -0.169295  ...   \n",
       "url_num_dots                       0.197153        0.184992  ...   \n",
       "url_num_underscores                0.245183       -0.052211  ...   \n",
       "url_query_len                      0.834315       -0.048321  ...   \n",
       "url_num_query_para                 1.000000       -0.046998  ...   \n",
       "url_ip_present                    -0.046998        1.000000  ...   \n",
       "url_entropy                        0.323323       -0.165779  ...   \n",
       "url_port                          -0.008594        0.099405  ...   \n",
       "html_num_tags('iframe')           -0.030635       -0.027805  ...   \n",
       "html_num_tags('script')           -0.066136       -0.086306  ...   \n",
       "html_num_tags('embed')            -0.023577       -0.032573  ...   \n",
       "html_num_tags('object')           -0.016486        0.041407  ...   \n",
       "html_num_tags('div')              -0.015185       -0.031192  ...   \n",
       "html_num_tags('head')             -0.019294        0.012362  ...   \n",
       "html_num_tags('body')              0.109691       -0.018434  ...   \n",
       "html_num_tags('form')             -0.005181       -0.077854  ...   \n",
       "html_num_tags('a')                -0.022982       -0.035891  ...   \n",
       "Result_v1                         -0.184497        0.076236  ...   \n",
       "hyphens_ratio                     -0.063020       -0.127395  ...   \n",
       "\n",
       "                         html_num_tags('script')  html_num_tags('embed')  \\\n",
       "url_len                                -0.026803               -0.012114   \n",
       "url_num_hyphens_dom                    -0.110263               -0.052932   \n",
       "url_path_len                            0.006749               -0.003340   \n",
       "url_domain_len                         -0.103895               -0.012265   \n",
       "url_hostname_len                       -0.101211               -0.011445   \n",
       "url_num_dots                           -0.086458               -0.030750   \n",
       "url_num_underscores                    -0.069631               -0.029422   \n",
       "url_query_len                          -0.069375               -0.024240   \n",
       "url_num_query_para                     -0.066136               -0.023577   \n",
       "url_ip_present                         -0.086306               -0.032573   \n",
       "url_entropy                            -0.100682                0.017256   \n",
       "url_port                               -0.012834               -0.005956   \n",
       "html_num_tags('iframe')                 0.266982                0.070828   \n",
       "html_num_tags('script')                 1.000000                0.026666   \n",
       "html_num_tags('embed')                  0.026666                1.000000   \n",
       "html_num_tags('object')                -0.000805                0.489795   \n",
       "html_num_tags('div')                    0.109408               -0.008882   \n",
       "html_num_tags('head')                   0.056140                0.001661   \n",
       "html_num_tags('body')                   0.009628               -0.009247   \n",
       "html_num_tags('form')                   0.231170               -0.023065   \n",
       "html_num_tags('a')                      0.087716                0.012907   \n",
       "Result_v1                               0.202309                0.111295   \n",
       "hyphens_ratio                          -0.093254               -0.053772   \n",
       "\n",
       "                         html_num_tags('object')  html_num_tags('div')  \\\n",
       "url_len                                -0.021489             -0.013241   \n",
       "url_num_hyphens_dom                    -0.048672             -0.013765   \n",
       "url_path_len                           -0.015291             -0.008044   \n",
       "url_domain_len                         -0.029448             -0.002495   \n",
       "url_hostname_len                       -0.030490             -0.001540   \n",
       "url_num_dots                           -0.017976             -0.027272   \n",
       "url_num_underscores                    -0.021538             -0.017179   \n",
       "url_query_len                          -0.011191             -0.016998   \n",
       "url_num_query_para                     -0.016486             -0.015185   \n",
       "url_ip_present                          0.041407             -0.031192   \n",
       "url_entropy                            -0.029893             -0.021502   \n",
       "url_port                               -0.005739             -0.004837   \n",
       "html_num_tags('iframe')                 0.049475              0.047177   \n",
       "html_num_tags('script')                -0.000805              0.109408   \n",
       "html_num_tags('embed')                  0.489795             -0.008882   \n",
       "html_num_tags('object')                 1.000000              0.040056   \n",
       "html_num_tags('div')                    0.040056              1.000000   \n",
       "html_num_tags('head')                   0.001600              0.001284   \n",
       "html_num_tags('body')                   0.013036             -0.006553   \n",
       "html_num_tags('form')                   0.013915              0.116670   \n",
       "html_num_tags('a')                      0.082403              0.840125   \n",
       "Result_v1                               0.105710              0.061183   \n",
       "hyphens_ratio                          -0.049086             -0.002508   \n",
       "\n",
       "                         html_num_tags('head')  html_num_tags('body')  \\\n",
       "url_len                               0.074980               0.043752   \n",
       "url_num_hyphens_dom                   0.039036              -0.043295   \n",
       "url_path_len                          0.078578              -0.006032   \n",
       "url_domain_len                        0.002868               0.031097   \n",
       "url_hostname_len                      0.002779               0.031446   \n",
       "url_num_dots                         -0.024784              -0.000531   \n",
       "url_num_underscores                   0.058713               0.031360   \n",
       "url_query_len                        -0.001409               0.150485   \n",
       "url_num_query_para                   -0.019294               0.109691   \n",
       "url_ip_present                        0.012362              -0.018434   \n",
       "url_entropy                          -0.012621               0.063027   \n",
       "url_port                              0.000605              -0.003371   \n",
       "html_num_tags('iframe')              -0.027587              -0.006687   \n",
       "html_num_tags('script')               0.056140               0.009628   \n",
       "html_num_tags('embed')                0.001661              -0.009247   \n",
       "html_num_tags('object')               0.001600               0.013036   \n",
       "html_num_tags('div')                  0.001284              -0.006553   \n",
       "html_num_tags('head')                 1.000000               0.191956   \n",
       "html_num_tags('body')                 0.191956               1.000000   \n",
       "html_num_tags('form')                 0.031581               0.029755   \n",
       "html_num_tags('a')                    0.008334              -0.006687   \n",
       "Result_v1                            -0.012990              -0.110581   \n",
       "hyphens_ratio                         0.016200              -0.027211   \n",
       "\n",
       "                         html_num_tags('form')  html_num_tags('a')  Result_v1  \\\n",
       "url_len                              -0.037282           -0.019775   0.006429   \n",
       "url_num_hyphens_dom                   0.038427           -0.036904  -0.355480   \n",
       "url_path_len                         -0.042510           -0.008870   0.113835   \n",
       "url_domain_len                        0.033835           -0.035063  -0.380448   \n",
       "url_hostname_len                      0.036627           -0.033953  -0.384489   \n",
       "url_num_dots                         -0.066137           -0.027895   0.047256   \n",
       "url_num_underscores                  -0.079358           -0.007495   0.133808   \n",
       "url_query_len                        -0.001790           -0.023486  -0.189689   \n",
       "url_num_query_para                   -0.005181           -0.022982  -0.184497   \n",
       "url_ip_present                       -0.077854           -0.035891   0.076236   \n",
       "url_entropy                          -0.030399           -0.024935  -0.162198   \n",
       "url_port                             -0.012498           -0.007122   0.006642   \n",
       "html_num_tags('iframe')               0.098308            0.045139   0.033966   \n",
       "html_num_tags('script')               0.231170            0.087716   0.202309   \n",
       "html_num_tags('embed')               -0.023065            0.012907   0.111295   \n",
       "html_num_tags('object')               0.013915            0.082403   0.105710   \n",
       "html_num_tags('div')                  0.116670            0.840125   0.061183   \n",
       "html_num_tags('head')                 0.031581            0.008334  -0.012990   \n",
       "html_num_tags('body')                 0.029755           -0.006687  -0.110581   \n",
       "html_num_tags('form')                 1.000000            0.087638  -0.116354   \n",
       "html_num_tags('a')                    0.087638            1.000000   0.113966   \n",
       "Result_v1                            -0.116354            0.113966   1.000000   \n",
       "hyphens_ratio                         0.074543           -0.028238  -0.346218   \n",
       "\n",
       "                         hyphens_ratio  \n",
       "url_len                      -0.102340  \n",
       "url_num_hyphens_dom           0.887624  \n",
       "url_path_len                 -0.138286  \n",
       "url_domain_len                0.439454  \n",
       "url_hostname_len              0.441060  \n",
       "url_num_dots                 -0.184254  \n",
       "url_num_underscores          -0.099547  \n",
       "url_query_len                -0.066090  \n",
       "url_num_query_para           -0.063020  \n",
       "url_ip_present               -0.127395  \n",
       "url_entropy                  -0.046208  \n",
       "url_port                     -0.023296  \n",
       "html_num_tags('iframe')      -0.003441  \n",
       "html_num_tags('script')      -0.093254  \n",
       "html_num_tags('embed')       -0.053772  \n",
       "html_num_tags('object')      -0.049086  \n",
       "html_num_tags('div')         -0.002508  \n",
       "html_num_tags('head')         0.016200  \n",
       "html_num_tags('body')        -0.027211  \n",
       "html_num_tags('form')         0.074543  \n",
       "html_num_tags('a')           -0.028238  \n",
       "Result_v1                    -0.346218  \n",
       "hyphens_ratio                 1.000000  \n",
       "\n",
       "[23 rows x 23 columns]"
      ]
     },
     "execution_count": 202,
     "metadata": {},
     "output_type": "execute_result"
    }
   ],
   "source": [
    "df.corr()"
   ]
  },
  {
   "cell_type": "code",
   "execution_count": 225,
   "metadata": {
    "tags": []
   },
   "outputs": [],
   "source": [
    "arr = []\n",
    "for index, row in df.iterrows():\n",
    "    sum = 0\n",
    "    for i in range(12, 21):\n",
    "        sum += row[df.columns[i]]\n",
    "    arr.append(sum)\n",
    "\n",
    "df['total_tag'] = arr"
   ]
  },
  {
   "cell_type": "code",
   "execution_count": 226,
   "metadata": {},
   "outputs": [
    {
     "data": {
      "text/html": [
       "<div>\n",
       "<style scoped>\n",
       "    .dataframe tbody tr th:only-of-type {\n",
       "        vertical-align: middle;\n",
       "    }\n",
       "\n",
       "    .dataframe tbody tr th {\n",
       "        vertical-align: top;\n",
       "    }\n",
       "\n",
       "    .dataframe thead th {\n",
       "        text-align: right;\n",
       "    }\n",
       "</style>\n",
       "<table border=\"1\" class=\"dataframe\">\n",
       "  <thead>\n",
       "    <tr style=\"text-align: right;\">\n",
       "      <th></th>\n",
       "      <th>url_len</th>\n",
       "      <th>url_num_hyphens_dom</th>\n",
       "      <th>url_path_len</th>\n",
       "      <th>url_domain_len</th>\n",
       "      <th>url_hostname_len</th>\n",
       "      <th>url_num_dots</th>\n",
       "      <th>url_num_underscores</th>\n",
       "      <th>url_query_len</th>\n",
       "      <th>url_num_query_para</th>\n",
       "      <th>url_ip_present</th>\n",
       "      <th>...</th>\n",
       "      <th>html_num_tags('embed')</th>\n",
       "      <th>html_num_tags('object')</th>\n",
       "      <th>html_num_tags('div')</th>\n",
       "      <th>html_num_tags('head')</th>\n",
       "      <th>html_num_tags('body')</th>\n",
       "      <th>html_num_tags('form')</th>\n",
       "      <th>html_num_tags('a')</th>\n",
       "      <th>Result_v1</th>\n",
       "      <th>hyphens_ratio</th>\n",
       "      <th>total_tag</th>\n",
       "    </tr>\n",
       "  </thead>\n",
       "  <tbody>\n",
       "    <tr>\n",
       "      <th>0</th>\n",
       "      <td>23.0</td>\n",
       "      <td>0.0</td>\n",
       "      <td>8.0</td>\n",
       "      <td>15.0</td>\n",
       "      <td>15.0</td>\n",
       "      <td>2.0</td>\n",
       "      <td>0.0</td>\n",
       "      <td>0.0</td>\n",
       "      <td>0.0</td>\n",
       "      <td>0.0</td>\n",
       "      <td>...</td>\n",
       "      <td>0.0</td>\n",
       "      <td>0.0</td>\n",
       "      <td>0.0</td>\n",
       "      <td>1.0</td>\n",
       "      <td>1.0</td>\n",
       "      <td>0.0</td>\n",
       "      <td>0.0</td>\n",
       "      <td>-1</td>\n",
       "      <td>0.000000</td>\n",
       "      <td>9.0</td>\n",
       "    </tr>\n",
       "    <tr>\n",
       "      <th>1</th>\n",
       "      <td>75.0</td>\n",
       "      <td>0.0</td>\n",
       "      <td>58.0</td>\n",
       "      <td>17.0</td>\n",
       "      <td>17.0</td>\n",
       "      <td>6.0</td>\n",
       "      <td>0.0</td>\n",
       "      <td>0.0</td>\n",
       "      <td>0.0</td>\n",
       "      <td>0.0</td>\n",
       "      <td>...</td>\n",
       "      <td>0.0</td>\n",
       "      <td>0.0</td>\n",
       "      <td>20.0</td>\n",
       "      <td>1.0</td>\n",
       "      <td>1.0</td>\n",
       "      <td>0.0</td>\n",
       "      <td>21.0</td>\n",
       "      <td>1</td>\n",
       "      <td>0.000000</td>\n",
       "      <td>61.0</td>\n",
       "    </tr>\n",
       "    <tr>\n",
       "      <th>2</th>\n",
       "      <td>20.0</td>\n",
       "      <td>0.0</td>\n",
       "      <td>4.0</td>\n",
       "      <td>16.0</td>\n",
       "      <td>16.0</td>\n",
       "      <td>2.0</td>\n",
       "      <td>0.0</td>\n",
       "      <td>0.0</td>\n",
       "      <td>0.0</td>\n",
       "      <td>0.0</td>\n",
       "      <td>...</td>\n",
       "      <td>0.0</td>\n",
       "      <td>0.0</td>\n",
       "      <td>101.0</td>\n",
       "      <td>1.0</td>\n",
       "      <td>1.0</td>\n",
       "      <td>3.0</td>\n",
       "      <td>70.0</td>\n",
       "      <td>1</td>\n",
       "      <td>0.000000</td>\n",
       "      <td>210.0</td>\n",
       "    </tr>\n",
       "    <tr>\n",
       "      <th>3</th>\n",
       "      <td>27.0</td>\n",
       "      <td>0.0</td>\n",
       "      <td>13.0</td>\n",
       "      <td>14.0</td>\n",
       "      <td>14.0</td>\n",
       "      <td>3.0</td>\n",
       "      <td>0.0</td>\n",
       "      <td>0.0</td>\n",
       "      <td>0.0</td>\n",
       "      <td>0.0</td>\n",
       "      <td>...</td>\n",
       "      <td>0.0</td>\n",
       "      <td>0.0</td>\n",
       "      <td>151.0</td>\n",
       "      <td>1.0</td>\n",
       "      <td>1.0</td>\n",
       "      <td>1.0</td>\n",
       "      <td>55.0</td>\n",
       "      <td>1</td>\n",
       "      <td>0.000000</td>\n",
       "      <td>224.0</td>\n",
       "    </tr>\n",
       "    <tr>\n",
       "      <th>4</th>\n",
       "      <td>39.0</td>\n",
       "      <td>2.0</td>\n",
       "      <td>12.0</td>\n",
       "      <td>27.0</td>\n",
       "      <td>27.0</td>\n",
       "      <td>2.0</td>\n",
       "      <td>0.0</td>\n",
       "      <td>0.0</td>\n",
       "      <td>0.0</td>\n",
       "      <td>0.0</td>\n",
       "      <td>...</td>\n",
       "      <td>0.0</td>\n",
       "      <td>0.0</td>\n",
       "      <td>332.0</td>\n",
       "      <td>1.0</td>\n",
       "      <td>1.0</td>\n",
       "      <td>0.0</td>\n",
       "      <td>321.0</td>\n",
       "      <td>1</td>\n",
       "      <td>0.051282</td>\n",
       "      <td>665.0</td>\n",
       "    </tr>\n",
       "  </tbody>\n",
       "</table>\n",
       "<p>5 rows × 24 columns</p>\n",
       "</div>"
      ],
      "text/plain": [
       "   url_len  url_num_hyphens_dom  url_path_len  url_domain_len  \\\n",
       "0     23.0                  0.0           8.0            15.0   \n",
       "1     75.0                  0.0          58.0            17.0   \n",
       "2     20.0                  0.0           4.0            16.0   \n",
       "3     27.0                  0.0          13.0            14.0   \n",
       "4     39.0                  2.0          12.0            27.0   \n",
       "\n",
       "   url_hostname_len  url_num_dots  url_num_underscores  url_query_len  \\\n",
       "0              15.0           2.0                  0.0            0.0   \n",
       "1              17.0           6.0                  0.0            0.0   \n",
       "2              16.0           2.0                  0.0            0.0   \n",
       "3              14.0           3.0                  0.0            0.0   \n",
       "4              27.0           2.0                  0.0            0.0   \n",
       "\n",
       "   url_num_query_para  url_ip_present  ...  html_num_tags('embed')  \\\n",
       "0                 0.0             0.0  ...                     0.0   \n",
       "1                 0.0             0.0  ...                     0.0   \n",
       "2                 0.0             0.0  ...                     0.0   \n",
       "3                 0.0             0.0  ...                     0.0   \n",
       "4                 0.0             0.0  ...                     0.0   \n",
       "\n",
       "   html_num_tags('object')  html_num_tags('div')  html_num_tags('head')  \\\n",
       "0                      0.0                   0.0                    1.0   \n",
       "1                      0.0                  20.0                    1.0   \n",
       "2                      0.0                 101.0                    1.0   \n",
       "3                      0.0                 151.0                    1.0   \n",
       "4                      0.0                 332.0                    1.0   \n",
       "\n",
       "   html_num_tags('body')  html_num_tags('form')  html_num_tags('a')  \\\n",
       "0                    1.0                    0.0                 0.0   \n",
       "1                    1.0                    0.0                21.0   \n",
       "2                    1.0                    3.0                70.0   \n",
       "3                    1.0                    1.0                55.0   \n",
       "4                    1.0                    0.0               321.0   \n",
       "\n",
       "   Result_v1  hyphens_ratio  total_tag  \n",
       "0         -1       0.000000        9.0  \n",
       "1          1       0.000000       61.0  \n",
       "2          1       0.000000      210.0  \n",
       "3          1       0.000000      224.0  \n",
       "4          1       0.051282      665.0  \n",
       "\n",
       "[5 rows x 24 columns]"
      ]
     },
     "execution_count": 226,
     "metadata": {},
     "output_type": "execute_result"
    }
   ],
   "source": [
    "df.head()"
   ]
  },
  {
   "cell_type": "code",
   "execution_count": 227,
   "metadata": {},
   "outputs": [
    {
     "data": {
      "text/html": [
       "<div>\n",
       "<style scoped>\n",
       "    .dataframe tbody tr th:only-of-type {\n",
       "        vertical-align: middle;\n",
       "    }\n",
       "\n",
       "    .dataframe tbody tr th {\n",
       "        vertical-align: top;\n",
       "    }\n",
       "\n",
       "    .dataframe thead th {\n",
       "        text-align: right;\n",
       "    }\n",
       "</style>\n",
       "<table border=\"1\" class=\"dataframe\">\n",
       "  <thead>\n",
       "    <tr style=\"text-align: right;\">\n",
       "      <th></th>\n",
       "      <th>url_len</th>\n",
       "      <th>url_num_hyphens_dom</th>\n",
       "      <th>url_path_len</th>\n",
       "      <th>url_domain_len</th>\n",
       "      <th>url_hostname_len</th>\n",
       "      <th>url_num_dots</th>\n",
       "      <th>url_num_underscores</th>\n",
       "      <th>url_query_len</th>\n",
       "      <th>url_num_query_para</th>\n",
       "      <th>url_ip_present</th>\n",
       "      <th>...</th>\n",
       "      <th>html_num_tags('embed')</th>\n",
       "      <th>html_num_tags('object')</th>\n",
       "      <th>html_num_tags('div')</th>\n",
       "      <th>html_num_tags('head')</th>\n",
       "      <th>html_num_tags('body')</th>\n",
       "      <th>html_num_tags('form')</th>\n",
       "      <th>html_num_tags('a')</th>\n",
       "      <th>Result_v1</th>\n",
       "      <th>hyphens_ratio</th>\n",
       "      <th>total_tag</th>\n",
       "    </tr>\n",
       "  </thead>\n",
       "  <tbody>\n",
       "    <tr>\n",
       "      <th>url_len</th>\n",
       "      <td>1.000000</td>\n",
       "      <td>-0.025183</td>\n",
       "      <td>0.944497</td>\n",
       "      <td>0.001670</td>\n",
       "      <td>0.002085</td>\n",
       "      <td>0.267134</td>\n",
       "      <td>0.307256</td>\n",
       "      <td>0.318540</td>\n",
       "      <td>0.267502</td>\n",
       "      <td>-0.067771</td>\n",
       "      <td>...</td>\n",
       "      <td>-0.012114</td>\n",
       "      <td>-0.021489</td>\n",
       "      <td>-0.013241</td>\n",
       "      <td>0.074980</td>\n",
       "      <td>0.043752</td>\n",
       "      <td>-0.037282</td>\n",
       "      <td>-0.019775</td>\n",
       "      <td>0.006429</td>\n",
       "      <td>-0.102340</td>\n",
       "      <td>-0.017557</td>\n",
       "    </tr>\n",
       "    <tr>\n",
       "      <th>url_num_hyphens_dom</th>\n",
       "      <td>-0.025183</td>\n",
       "      <td>1.000000</td>\n",
       "      <td>-0.097643</td>\n",
       "      <td>0.589203</td>\n",
       "      <td>0.590278</td>\n",
       "      <td>-0.085324</td>\n",
       "      <td>-0.063695</td>\n",
       "      <td>0.001715</td>\n",
       "      <td>-0.002627</td>\n",
       "      <td>-0.124600</td>\n",
       "      <td>...</td>\n",
       "      <td>-0.052932</td>\n",
       "      <td>-0.048672</td>\n",
       "      <td>-0.013765</td>\n",
       "      <td>0.039036</td>\n",
       "      <td>-0.043295</td>\n",
       "      <td>0.038427</td>\n",
       "      <td>-0.036904</td>\n",
       "      <td>-0.355480</td>\n",
       "      <td>0.887624</td>\n",
       "      <td>-0.027843</td>\n",
       "    </tr>\n",
       "    <tr>\n",
       "      <th>url_path_len</th>\n",
       "      <td>0.944497</td>\n",
       "      <td>-0.097643</td>\n",
       "      <td>1.000000</td>\n",
       "      <td>-0.123280</td>\n",
       "      <td>-0.123081</td>\n",
       "      <td>0.196425</td>\n",
       "      <td>0.254179</td>\n",
       "      <td>0.011303</td>\n",
       "      <td>0.010422</td>\n",
       "      <td>-0.037249</td>\n",
       "      <td>...</td>\n",
       "      <td>-0.003340</td>\n",
       "      <td>-0.015291</td>\n",
       "      <td>-0.008044</td>\n",
       "      <td>0.078578</td>\n",
       "      <td>-0.006032</td>\n",
       "      <td>-0.042510</td>\n",
       "      <td>-0.008870</td>\n",
       "      <td>0.113835</td>\n",
       "      <td>-0.138286</td>\n",
       "      <td>-0.008703</td>\n",
       "    </tr>\n",
       "    <tr>\n",
       "      <th>url_domain_len</th>\n",
       "      <td>0.001670</td>\n",
       "      <td>0.589203</td>\n",
       "      <td>-0.123280</td>\n",
       "      <td>1.000000</td>\n",
       "      <td>0.998956</td>\n",
       "      <td>0.082025</td>\n",
       "      <td>-0.092685</td>\n",
       "      <td>0.014915</td>\n",
       "      <td>0.015721</td>\n",
       "      <td>-0.150800</td>\n",
       "      <td>...</td>\n",
       "      <td>-0.012265</td>\n",
       "      <td>-0.029448</td>\n",
       "      <td>-0.002495</td>\n",
       "      <td>0.002868</td>\n",
       "      <td>0.031097</td>\n",
       "      <td>0.033835</td>\n",
       "      <td>-0.035063</td>\n",
       "      <td>-0.380448</td>\n",
       "      <td>0.439454</td>\n",
       "      <td>-0.020711</td>\n",
       "    </tr>\n",
       "    <tr>\n",
       "      <th>url_hostname_len</th>\n",
       "      <td>0.002085</td>\n",
       "      <td>0.590278</td>\n",
       "      <td>-0.123081</td>\n",
       "      <td>0.998956</td>\n",
       "      <td>1.000000</td>\n",
       "      <td>0.078337</td>\n",
       "      <td>-0.094091</td>\n",
       "      <td>0.016032</td>\n",
       "      <td>0.016803</td>\n",
       "      <td>-0.169295</td>\n",
       "      <td>...</td>\n",
       "      <td>-0.011445</td>\n",
       "      <td>-0.030490</td>\n",
       "      <td>-0.001540</td>\n",
       "      <td>0.002779</td>\n",
       "      <td>0.031446</td>\n",
       "      <td>0.036627</td>\n",
       "      <td>-0.033953</td>\n",
       "      <td>-0.384489</td>\n",
       "      <td>0.441060</td>\n",
       "      <td>-0.019585</td>\n",
       "    </tr>\n",
       "    <tr>\n",
       "      <th>url_num_dots</th>\n",
       "      <td>0.267134</td>\n",
       "      <td>-0.085324</td>\n",
       "      <td>0.196425</td>\n",
       "      <td>0.082025</td>\n",
       "      <td>0.078337</td>\n",
       "      <td>1.000000</td>\n",
       "      <td>0.261850</td>\n",
       "      <td>0.227932</td>\n",
       "      <td>0.197153</td>\n",
       "      <td>0.184992</td>\n",
       "      <td>...</td>\n",
       "      <td>-0.030750</td>\n",
       "      <td>-0.017976</td>\n",
       "      <td>-0.027272</td>\n",
       "      <td>-0.024784</td>\n",
       "      <td>-0.000531</td>\n",
       "      <td>-0.066137</td>\n",
       "      <td>-0.027895</td>\n",
       "      <td>0.047256</td>\n",
       "      <td>-0.184254</td>\n",
       "      <td>-0.030375</td>\n",
       "    </tr>\n",
       "    <tr>\n",
       "      <th>url_num_underscores</th>\n",
       "      <td>0.307256</td>\n",
       "      <td>-0.063695</td>\n",
       "      <td>0.254179</td>\n",
       "      <td>-0.092685</td>\n",
       "      <td>-0.094091</td>\n",
       "      <td>0.261850</td>\n",
       "      <td>1.000000</td>\n",
       "      <td>0.246116</td>\n",
       "      <td>0.245183</td>\n",
       "      <td>-0.052211</td>\n",
       "      <td>...</td>\n",
       "      <td>-0.029422</td>\n",
       "      <td>-0.021538</td>\n",
       "      <td>-0.017179</td>\n",
       "      <td>0.058713</td>\n",
       "      <td>0.031360</td>\n",
       "      <td>-0.079358</td>\n",
       "      <td>-0.007495</td>\n",
       "      <td>0.133808</td>\n",
       "      <td>-0.099547</td>\n",
       "      <td>-0.014449</td>\n",
       "    </tr>\n",
       "    <tr>\n",
       "      <th>url_query_len</th>\n",
       "      <td>0.318540</td>\n",
       "      <td>0.001715</td>\n",
       "      <td>0.011303</td>\n",
       "      <td>0.014915</td>\n",
       "      <td>0.016032</td>\n",
       "      <td>0.227932</td>\n",
       "      <td>0.246116</td>\n",
       "      <td>1.000000</td>\n",
       "      <td>0.834315</td>\n",
       "      <td>-0.048321</td>\n",
       "      <td>...</td>\n",
       "      <td>-0.024240</td>\n",
       "      <td>-0.011191</td>\n",
       "      <td>-0.016998</td>\n",
       "      <td>-0.001409</td>\n",
       "      <td>0.150485</td>\n",
       "      <td>-0.001790</td>\n",
       "      <td>-0.023486</td>\n",
       "      <td>-0.189689</td>\n",
       "      <td>-0.066090</td>\n",
       "      <td>-0.022165</td>\n",
       "    </tr>\n",
       "    <tr>\n",
       "      <th>url_num_query_para</th>\n",
       "      <td>0.267502</td>\n",
       "      <td>-0.002627</td>\n",
       "      <td>0.010422</td>\n",
       "      <td>0.015721</td>\n",
       "      <td>0.016803</td>\n",
       "      <td>0.197153</td>\n",
       "      <td>0.245183</td>\n",
       "      <td>0.834315</td>\n",
       "      <td>1.000000</td>\n",
       "      <td>-0.046998</td>\n",
       "      <td>...</td>\n",
       "      <td>-0.023577</td>\n",
       "      <td>-0.016486</td>\n",
       "      <td>-0.015185</td>\n",
       "      <td>-0.019294</td>\n",
       "      <td>0.109691</td>\n",
       "      <td>-0.005181</td>\n",
       "      <td>-0.022982</td>\n",
       "      <td>-0.184497</td>\n",
       "      <td>-0.063020</td>\n",
       "      <td>-0.020907</td>\n",
       "    </tr>\n",
       "    <tr>\n",
       "      <th>url_ip_present</th>\n",
       "      <td>-0.067771</td>\n",
       "      <td>-0.124600</td>\n",
       "      <td>-0.037249</td>\n",
       "      <td>-0.150800</td>\n",
       "      <td>-0.169295</td>\n",
       "      <td>0.184992</td>\n",
       "      <td>-0.052211</td>\n",
       "      <td>-0.048321</td>\n",
       "      <td>-0.046998</td>\n",
       "      <td>1.000000</td>\n",
       "      <td>...</td>\n",
       "      <td>-0.032573</td>\n",
       "      <td>0.041407</td>\n",
       "      <td>-0.031192</td>\n",
       "      <td>0.012362</td>\n",
       "      <td>-0.018434</td>\n",
       "      <td>-0.077854</td>\n",
       "      <td>-0.035891</td>\n",
       "      <td>0.076236</td>\n",
       "      <td>-0.127395</td>\n",
       "      <td>-0.036531</td>\n",
       "    </tr>\n",
       "    <tr>\n",
       "      <th>url_entropy</th>\n",
       "      <td>0.254685</td>\n",
       "      <td>0.071452</td>\n",
       "      <td>0.131595</td>\n",
       "      <td>0.160224</td>\n",
       "      <td>0.163410</td>\n",
       "      <td>0.195450</td>\n",
       "      <td>0.244172</td>\n",
       "      <td>0.358440</td>\n",
       "      <td>0.323323</td>\n",
       "      <td>-0.165779</td>\n",
       "      <td>...</td>\n",
       "      <td>0.017256</td>\n",
       "      <td>-0.029893</td>\n",
       "      <td>-0.021502</td>\n",
       "      <td>-0.012621</td>\n",
       "      <td>0.063027</td>\n",
       "      <td>-0.030399</td>\n",
       "      <td>-0.024935</td>\n",
       "      <td>-0.162198</td>\n",
       "      <td>-0.046208</td>\n",
       "      <td>-0.025946</td>\n",
       "    </tr>\n",
       "    <tr>\n",
       "      <th>url_port</th>\n",
       "      <td>0.051000</td>\n",
       "      <td>-0.022785</td>\n",
       "      <td>0.056566</td>\n",
       "      <td>-0.002415</td>\n",
       "      <td>-0.024982</td>\n",
       "      <td>0.031340</td>\n",
       "      <td>0.091066</td>\n",
       "      <td>-0.008836</td>\n",
       "      <td>-0.008594</td>\n",
       "      <td>0.099405</td>\n",
       "      <td>...</td>\n",
       "      <td>-0.005956</td>\n",
       "      <td>-0.005739</td>\n",
       "      <td>-0.004837</td>\n",
       "      <td>0.000605</td>\n",
       "      <td>-0.003371</td>\n",
       "      <td>-0.012498</td>\n",
       "      <td>-0.007122</td>\n",
       "      <td>0.006642</td>\n",
       "      <td>-0.023296</td>\n",
       "      <td>-0.006422</td>\n",
       "    </tr>\n",
       "    <tr>\n",
       "      <th>html_num_tags('iframe')</th>\n",
       "      <td>0.022091</td>\n",
       "      <td>-0.014977</td>\n",
       "      <td>0.033574</td>\n",
       "      <td>-0.011562</td>\n",
       "      <td>-0.010897</td>\n",
       "      <td>-0.000463</td>\n",
       "      <td>-0.027094</td>\n",
       "      <td>-0.028272</td>\n",
       "      <td>-0.030635</td>\n",
       "      <td>-0.027805</td>\n",
       "      <td>...</td>\n",
       "      <td>0.070828</td>\n",
       "      <td>0.049475</td>\n",
       "      <td>0.047177</td>\n",
       "      <td>-0.027587</td>\n",
       "      <td>-0.006687</td>\n",
       "      <td>0.098308</td>\n",
       "      <td>0.045139</td>\n",
       "      <td>0.033966</td>\n",
       "      <td>-0.003441</td>\n",
       "      <td>0.054301</td>\n",
       "    </tr>\n",
       "    <tr>\n",
       "      <th>html_num_tags('script')</th>\n",
       "      <td>-0.026803</td>\n",
       "      <td>-0.110263</td>\n",
       "      <td>0.006749</td>\n",
       "      <td>-0.103895</td>\n",
       "      <td>-0.101211</td>\n",
       "      <td>-0.086458</td>\n",
       "      <td>-0.069631</td>\n",
       "      <td>-0.069375</td>\n",
       "      <td>-0.066136</td>\n",
       "      <td>-0.086306</td>\n",
       "      <td>...</td>\n",
       "      <td>0.026666</td>\n",
       "      <td>-0.000805</td>\n",
       "      <td>0.109408</td>\n",
       "      <td>0.056140</td>\n",
       "      <td>0.009628</td>\n",
       "      <td>0.231170</td>\n",
       "      <td>0.087716</td>\n",
       "      <td>0.202309</td>\n",
       "      <td>-0.093254</td>\n",
       "      <td>0.121533</td>\n",
       "    </tr>\n",
       "    <tr>\n",
       "      <th>html_num_tags('embed')</th>\n",
       "      <td>-0.012114</td>\n",
       "      <td>-0.052932</td>\n",
       "      <td>-0.003340</td>\n",
       "      <td>-0.012265</td>\n",
       "      <td>-0.011445</td>\n",
       "      <td>-0.030750</td>\n",
       "      <td>-0.029422</td>\n",
       "      <td>-0.024240</td>\n",
       "      <td>-0.023577</td>\n",
       "      <td>-0.032573</td>\n",
       "      <td>...</td>\n",
       "      <td>1.000000</td>\n",
       "      <td>0.489795</td>\n",
       "      <td>-0.008882</td>\n",
       "      <td>0.001661</td>\n",
       "      <td>-0.009247</td>\n",
       "      <td>-0.023065</td>\n",
       "      <td>0.012907</td>\n",
       "      <td>0.111295</td>\n",
       "      <td>-0.053772</td>\n",
       "      <td>0.002575</td>\n",
       "    </tr>\n",
       "    <tr>\n",
       "      <th>html_num_tags('object')</th>\n",
       "      <td>-0.021489</td>\n",
       "      <td>-0.048672</td>\n",
       "      <td>-0.015291</td>\n",
       "      <td>-0.029448</td>\n",
       "      <td>-0.030490</td>\n",
       "      <td>-0.017976</td>\n",
       "      <td>-0.021538</td>\n",
       "      <td>-0.011191</td>\n",
       "      <td>-0.016486</td>\n",
       "      <td>0.041407</td>\n",
       "      <td>...</td>\n",
       "      <td>0.489795</td>\n",
       "      <td>1.000000</td>\n",
       "      <td>0.040056</td>\n",
       "      <td>0.001600</td>\n",
       "      <td>0.013036</td>\n",
       "      <td>0.013915</td>\n",
       "      <td>0.082403</td>\n",
       "      <td>0.105710</td>\n",
       "      <td>-0.049086</td>\n",
       "      <td>0.063423</td>\n",
       "    </tr>\n",
       "    <tr>\n",
       "      <th>html_num_tags('div')</th>\n",
       "      <td>-0.013241</td>\n",
       "      <td>-0.013765</td>\n",
       "      <td>-0.008044</td>\n",
       "      <td>-0.002495</td>\n",
       "      <td>-0.001540</td>\n",
       "      <td>-0.027272</td>\n",
       "      <td>-0.017179</td>\n",
       "      <td>-0.016998</td>\n",
       "      <td>-0.015185</td>\n",
       "      <td>-0.031192</td>\n",
       "      <td>...</td>\n",
       "      <td>-0.008882</td>\n",
       "      <td>0.040056</td>\n",
       "      <td>1.000000</td>\n",
       "      <td>0.001284</td>\n",
       "      <td>-0.006553</td>\n",
       "      <td>0.116670</td>\n",
       "      <td>0.840125</td>\n",
       "      <td>0.061183</td>\n",
       "      <td>-0.002508</td>\n",
       "      <td>0.962172</td>\n",
       "    </tr>\n",
       "    <tr>\n",
       "      <th>html_num_tags('head')</th>\n",
       "      <td>0.074980</td>\n",
       "      <td>0.039036</td>\n",
       "      <td>0.078578</td>\n",
       "      <td>0.002868</td>\n",
       "      <td>0.002779</td>\n",
       "      <td>-0.024784</td>\n",
       "      <td>0.058713</td>\n",
       "      <td>-0.001409</td>\n",
       "      <td>-0.019294</td>\n",
       "      <td>0.012362</td>\n",
       "      <td>...</td>\n",
       "      <td>0.001661</td>\n",
       "      <td>0.001600</td>\n",
       "      <td>0.001284</td>\n",
       "      <td>1.000000</td>\n",
       "      <td>0.191956</td>\n",
       "      <td>0.031581</td>\n",
       "      <td>0.008334</td>\n",
       "      <td>-0.012990</td>\n",
       "      <td>0.016200</td>\n",
       "      <td>0.006161</td>\n",
       "    </tr>\n",
       "    <tr>\n",
       "      <th>html_num_tags('body')</th>\n",
       "      <td>0.043752</td>\n",
       "      <td>-0.043295</td>\n",
       "      <td>-0.006032</td>\n",
       "      <td>0.031097</td>\n",
       "      <td>0.031446</td>\n",
       "      <td>-0.000531</td>\n",
       "      <td>0.031360</td>\n",
       "      <td>0.150485</td>\n",
       "      <td>0.109691</td>\n",
       "      <td>-0.018434</td>\n",
       "      <td>...</td>\n",
       "      <td>-0.009247</td>\n",
       "      <td>0.013036</td>\n",
       "      <td>-0.006553</td>\n",
       "      <td>0.191956</td>\n",
       "      <td>1.000000</td>\n",
       "      <td>0.029755</td>\n",
       "      <td>-0.006687</td>\n",
       "      <td>-0.110581</td>\n",
       "      <td>-0.027211</td>\n",
       "      <td>-0.006299</td>\n",
       "    </tr>\n",
       "    <tr>\n",
       "      <th>html_num_tags('form')</th>\n",
       "      <td>-0.037282</td>\n",
       "      <td>0.038427</td>\n",
       "      <td>-0.042510</td>\n",
       "      <td>0.033835</td>\n",
       "      <td>0.036627</td>\n",
       "      <td>-0.066137</td>\n",
       "      <td>-0.079358</td>\n",
       "      <td>-0.001790</td>\n",
       "      <td>-0.005181</td>\n",
       "      <td>-0.077854</td>\n",
       "      <td>...</td>\n",
       "      <td>-0.023065</td>\n",
       "      <td>0.013915</td>\n",
       "      <td>0.116670</td>\n",
       "      <td>0.031581</td>\n",
       "      <td>0.029755</td>\n",
       "      <td>1.000000</td>\n",
       "      <td>0.087638</td>\n",
       "      <td>-0.116354</td>\n",
       "      <td>0.074543</td>\n",
       "      <td>0.113222</td>\n",
       "    </tr>\n",
       "    <tr>\n",
       "      <th>html_num_tags('a')</th>\n",
       "      <td>-0.019775</td>\n",
       "      <td>-0.036904</td>\n",
       "      <td>-0.008870</td>\n",
       "      <td>-0.035063</td>\n",
       "      <td>-0.033953</td>\n",
       "      <td>-0.027895</td>\n",
       "      <td>-0.007495</td>\n",
       "      <td>-0.023486</td>\n",
       "      <td>-0.022982</td>\n",
       "      <td>-0.035891</td>\n",
       "      <td>...</td>\n",
       "      <td>0.012907</td>\n",
       "      <td>0.082403</td>\n",
       "      <td>0.840125</td>\n",
       "      <td>0.008334</td>\n",
       "      <td>-0.006687</td>\n",
       "      <td>0.087638</td>\n",
       "      <td>1.000000</td>\n",
       "      <td>0.113966</td>\n",
       "      <td>-0.028238</td>\n",
       "      <td>0.955769</td>\n",
       "    </tr>\n",
       "    <tr>\n",
       "      <th>Result_v1</th>\n",
       "      <td>0.006429</td>\n",
       "      <td>-0.355480</td>\n",
       "      <td>0.113835</td>\n",
       "      <td>-0.380448</td>\n",
       "      <td>-0.384489</td>\n",
       "      <td>0.047256</td>\n",
       "      <td>0.133808</td>\n",
       "      <td>-0.189689</td>\n",
       "      <td>-0.184497</td>\n",
       "      <td>0.076236</td>\n",
       "      <td>...</td>\n",
       "      <td>0.111295</td>\n",
       "      <td>0.105710</td>\n",
       "      <td>0.061183</td>\n",
       "      <td>-0.012990</td>\n",
       "      <td>-0.110581</td>\n",
       "      <td>-0.116354</td>\n",
       "      <td>0.113966</td>\n",
       "      <td>1.000000</td>\n",
       "      <td>-0.346218</td>\n",
       "      <td>0.093499</td>\n",
       "    </tr>\n",
       "    <tr>\n",
       "      <th>hyphens_ratio</th>\n",
       "      <td>-0.102340</td>\n",
       "      <td>0.887624</td>\n",
       "      <td>-0.138286</td>\n",
       "      <td>0.439454</td>\n",
       "      <td>0.441060</td>\n",
       "      <td>-0.184254</td>\n",
       "      <td>-0.099547</td>\n",
       "      <td>-0.066090</td>\n",
       "      <td>-0.063020</td>\n",
       "      <td>-0.127395</td>\n",
       "      <td>...</td>\n",
       "      <td>-0.053772</td>\n",
       "      <td>-0.049086</td>\n",
       "      <td>-0.002508</td>\n",
       "      <td>0.016200</td>\n",
       "      <td>-0.027211</td>\n",
       "      <td>0.074543</td>\n",
       "      <td>-0.028238</td>\n",
       "      <td>-0.346218</td>\n",
       "      <td>1.000000</td>\n",
       "      <td>-0.017038</td>\n",
       "    </tr>\n",
       "    <tr>\n",
       "      <th>total_tag</th>\n",
       "      <td>-0.017557</td>\n",
       "      <td>-0.027843</td>\n",
       "      <td>-0.008703</td>\n",
       "      <td>-0.020711</td>\n",
       "      <td>-0.019585</td>\n",
       "      <td>-0.030375</td>\n",
       "      <td>-0.014449</td>\n",
       "      <td>-0.022165</td>\n",
       "      <td>-0.020907</td>\n",
       "      <td>-0.036531</td>\n",
       "      <td>...</td>\n",
       "      <td>0.002575</td>\n",
       "      <td>0.063423</td>\n",
       "      <td>0.962172</td>\n",
       "      <td>0.006161</td>\n",
       "      <td>-0.006299</td>\n",
       "      <td>0.113222</td>\n",
       "      <td>0.955769</td>\n",
       "      <td>0.093499</td>\n",
       "      <td>-0.017038</td>\n",
       "      <td>1.000000</td>\n",
       "    </tr>\n",
       "  </tbody>\n",
       "</table>\n",
       "<p>24 rows × 24 columns</p>\n",
       "</div>"
      ],
      "text/plain": [
       "                          url_len  url_num_hyphens_dom  url_path_len  \\\n",
       "url_len                  1.000000            -0.025183      0.944497   \n",
       "url_num_hyphens_dom     -0.025183             1.000000     -0.097643   \n",
       "url_path_len             0.944497            -0.097643      1.000000   \n",
       "url_domain_len           0.001670             0.589203     -0.123280   \n",
       "url_hostname_len         0.002085             0.590278     -0.123081   \n",
       "url_num_dots             0.267134            -0.085324      0.196425   \n",
       "url_num_underscores      0.307256            -0.063695      0.254179   \n",
       "url_query_len            0.318540             0.001715      0.011303   \n",
       "url_num_query_para       0.267502            -0.002627      0.010422   \n",
       "url_ip_present          -0.067771            -0.124600     -0.037249   \n",
       "url_entropy              0.254685             0.071452      0.131595   \n",
       "url_port                 0.051000            -0.022785      0.056566   \n",
       "html_num_tags('iframe')  0.022091            -0.014977      0.033574   \n",
       "html_num_tags('script') -0.026803            -0.110263      0.006749   \n",
       "html_num_tags('embed')  -0.012114            -0.052932     -0.003340   \n",
       "html_num_tags('object') -0.021489            -0.048672     -0.015291   \n",
       "html_num_tags('div')    -0.013241            -0.013765     -0.008044   \n",
       "html_num_tags('head')    0.074980             0.039036      0.078578   \n",
       "html_num_tags('body')    0.043752            -0.043295     -0.006032   \n",
       "html_num_tags('form')   -0.037282             0.038427     -0.042510   \n",
       "html_num_tags('a')      -0.019775            -0.036904     -0.008870   \n",
       "Result_v1                0.006429            -0.355480      0.113835   \n",
       "hyphens_ratio           -0.102340             0.887624     -0.138286   \n",
       "total_tag               -0.017557            -0.027843     -0.008703   \n",
       "\n",
       "                         url_domain_len  url_hostname_len  url_num_dots  \\\n",
       "url_len                        0.001670          0.002085      0.267134   \n",
       "url_num_hyphens_dom            0.589203          0.590278     -0.085324   \n",
       "url_path_len                  -0.123280         -0.123081      0.196425   \n",
       "url_domain_len                 1.000000          0.998956      0.082025   \n",
       "url_hostname_len               0.998956          1.000000      0.078337   \n",
       "url_num_dots                   0.082025          0.078337      1.000000   \n",
       "url_num_underscores           -0.092685         -0.094091      0.261850   \n",
       "url_query_len                  0.014915          0.016032      0.227932   \n",
       "url_num_query_para             0.015721          0.016803      0.197153   \n",
       "url_ip_present                -0.150800         -0.169295      0.184992   \n",
       "url_entropy                    0.160224          0.163410      0.195450   \n",
       "url_port                      -0.002415         -0.024982      0.031340   \n",
       "html_num_tags('iframe')       -0.011562         -0.010897     -0.000463   \n",
       "html_num_tags('script')       -0.103895         -0.101211     -0.086458   \n",
       "html_num_tags('embed')        -0.012265         -0.011445     -0.030750   \n",
       "html_num_tags('object')       -0.029448         -0.030490     -0.017976   \n",
       "html_num_tags('div')          -0.002495         -0.001540     -0.027272   \n",
       "html_num_tags('head')          0.002868          0.002779     -0.024784   \n",
       "html_num_tags('body')          0.031097          0.031446     -0.000531   \n",
       "html_num_tags('form')          0.033835          0.036627     -0.066137   \n",
       "html_num_tags('a')            -0.035063         -0.033953     -0.027895   \n",
       "Result_v1                     -0.380448         -0.384489      0.047256   \n",
       "hyphens_ratio                  0.439454          0.441060     -0.184254   \n",
       "total_tag                     -0.020711         -0.019585     -0.030375   \n",
       "\n",
       "                         url_num_underscores  url_query_len  \\\n",
       "url_len                             0.307256       0.318540   \n",
       "url_num_hyphens_dom                -0.063695       0.001715   \n",
       "url_path_len                        0.254179       0.011303   \n",
       "url_domain_len                     -0.092685       0.014915   \n",
       "url_hostname_len                   -0.094091       0.016032   \n",
       "url_num_dots                        0.261850       0.227932   \n",
       "url_num_underscores                 1.000000       0.246116   \n",
       "url_query_len                       0.246116       1.000000   \n",
       "url_num_query_para                  0.245183       0.834315   \n",
       "url_ip_present                     -0.052211      -0.048321   \n",
       "url_entropy                         0.244172       0.358440   \n",
       "url_port                            0.091066      -0.008836   \n",
       "html_num_tags('iframe')            -0.027094      -0.028272   \n",
       "html_num_tags('script')            -0.069631      -0.069375   \n",
       "html_num_tags('embed')             -0.029422      -0.024240   \n",
       "html_num_tags('object')            -0.021538      -0.011191   \n",
       "html_num_tags('div')               -0.017179      -0.016998   \n",
       "html_num_tags('head')               0.058713      -0.001409   \n",
       "html_num_tags('body')               0.031360       0.150485   \n",
       "html_num_tags('form')              -0.079358      -0.001790   \n",
       "html_num_tags('a')                 -0.007495      -0.023486   \n",
       "Result_v1                           0.133808      -0.189689   \n",
       "hyphens_ratio                      -0.099547      -0.066090   \n",
       "total_tag                          -0.014449      -0.022165   \n",
       "\n",
       "                         url_num_query_para  url_ip_present  ...  \\\n",
       "url_len                            0.267502       -0.067771  ...   \n",
       "url_num_hyphens_dom               -0.002627       -0.124600  ...   \n",
       "url_path_len                       0.010422       -0.037249  ...   \n",
       "url_domain_len                     0.015721       -0.150800  ...   \n",
       "url_hostname_len                   0.016803       -0.169295  ...   \n",
       "url_num_dots                       0.197153        0.184992  ...   \n",
       "url_num_underscores                0.245183       -0.052211  ...   \n",
       "url_query_len                      0.834315       -0.048321  ...   \n",
       "url_num_query_para                 1.000000       -0.046998  ...   \n",
       "url_ip_present                    -0.046998        1.000000  ...   \n",
       "url_entropy                        0.323323       -0.165779  ...   \n",
       "url_port                          -0.008594        0.099405  ...   \n",
       "html_num_tags('iframe')           -0.030635       -0.027805  ...   \n",
       "html_num_tags('script')           -0.066136       -0.086306  ...   \n",
       "html_num_tags('embed')            -0.023577       -0.032573  ...   \n",
       "html_num_tags('object')           -0.016486        0.041407  ...   \n",
       "html_num_tags('div')              -0.015185       -0.031192  ...   \n",
       "html_num_tags('head')             -0.019294        0.012362  ...   \n",
       "html_num_tags('body')              0.109691       -0.018434  ...   \n",
       "html_num_tags('form')             -0.005181       -0.077854  ...   \n",
       "html_num_tags('a')                -0.022982       -0.035891  ...   \n",
       "Result_v1                         -0.184497        0.076236  ...   \n",
       "hyphens_ratio                     -0.063020       -0.127395  ...   \n",
       "total_tag                         -0.020907       -0.036531  ...   \n",
       "\n",
       "                         html_num_tags('embed')  html_num_tags('object')  \\\n",
       "url_len                               -0.012114                -0.021489   \n",
       "url_num_hyphens_dom                   -0.052932                -0.048672   \n",
       "url_path_len                          -0.003340                -0.015291   \n",
       "url_domain_len                        -0.012265                -0.029448   \n",
       "url_hostname_len                      -0.011445                -0.030490   \n",
       "url_num_dots                          -0.030750                -0.017976   \n",
       "url_num_underscores                   -0.029422                -0.021538   \n",
       "url_query_len                         -0.024240                -0.011191   \n",
       "url_num_query_para                    -0.023577                -0.016486   \n",
       "url_ip_present                        -0.032573                 0.041407   \n",
       "url_entropy                            0.017256                -0.029893   \n",
       "url_port                              -0.005956                -0.005739   \n",
       "html_num_tags('iframe')                0.070828                 0.049475   \n",
       "html_num_tags('script')                0.026666                -0.000805   \n",
       "html_num_tags('embed')                 1.000000                 0.489795   \n",
       "html_num_tags('object')                0.489795                 1.000000   \n",
       "html_num_tags('div')                  -0.008882                 0.040056   \n",
       "html_num_tags('head')                  0.001661                 0.001600   \n",
       "html_num_tags('body')                 -0.009247                 0.013036   \n",
       "html_num_tags('form')                 -0.023065                 0.013915   \n",
       "html_num_tags('a')                     0.012907                 0.082403   \n",
       "Result_v1                              0.111295                 0.105710   \n",
       "hyphens_ratio                         -0.053772                -0.049086   \n",
       "total_tag                              0.002575                 0.063423   \n",
       "\n",
       "                         html_num_tags('div')  html_num_tags('head')  \\\n",
       "url_len                             -0.013241               0.074980   \n",
       "url_num_hyphens_dom                 -0.013765               0.039036   \n",
       "url_path_len                        -0.008044               0.078578   \n",
       "url_domain_len                      -0.002495               0.002868   \n",
       "url_hostname_len                    -0.001540               0.002779   \n",
       "url_num_dots                        -0.027272              -0.024784   \n",
       "url_num_underscores                 -0.017179               0.058713   \n",
       "url_query_len                       -0.016998              -0.001409   \n",
       "url_num_query_para                  -0.015185              -0.019294   \n",
       "url_ip_present                      -0.031192               0.012362   \n",
       "url_entropy                         -0.021502              -0.012621   \n",
       "url_port                            -0.004837               0.000605   \n",
       "html_num_tags('iframe')              0.047177              -0.027587   \n",
       "html_num_tags('script')              0.109408               0.056140   \n",
       "html_num_tags('embed')              -0.008882               0.001661   \n",
       "html_num_tags('object')              0.040056               0.001600   \n",
       "html_num_tags('div')                 1.000000               0.001284   \n",
       "html_num_tags('head')                0.001284               1.000000   \n",
       "html_num_tags('body')               -0.006553               0.191956   \n",
       "html_num_tags('form')                0.116670               0.031581   \n",
       "html_num_tags('a')                   0.840125               0.008334   \n",
       "Result_v1                            0.061183              -0.012990   \n",
       "hyphens_ratio                       -0.002508               0.016200   \n",
       "total_tag                            0.962172               0.006161   \n",
       "\n",
       "                         html_num_tags('body')  html_num_tags('form')  \\\n",
       "url_len                               0.043752              -0.037282   \n",
       "url_num_hyphens_dom                  -0.043295               0.038427   \n",
       "url_path_len                         -0.006032              -0.042510   \n",
       "url_domain_len                        0.031097               0.033835   \n",
       "url_hostname_len                      0.031446               0.036627   \n",
       "url_num_dots                         -0.000531              -0.066137   \n",
       "url_num_underscores                   0.031360              -0.079358   \n",
       "url_query_len                         0.150485              -0.001790   \n",
       "url_num_query_para                    0.109691              -0.005181   \n",
       "url_ip_present                       -0.018434              -0.077854   \n",
       "url_entropy                           0.063027              -0.030399   \n",
       "url_port                             -0.003371              -0.012498   \n",
       "html_num_tags('iframe')              -0.006687               0.098308   \n",
       "html_num_tags('script')               0.009628               0.231170   \n",
       "html_num_tags('embed')               -0.009247              -0.023065   \n",
       "html_num_tags('object')               0.013036               0.013915   \n",
       "html_num_tags('div')                 -0.006553               0.116670   \n",
       "html_num_tags('head')                 0.191956               0.031581   \n",
       "html_num_tags('body')                 1.000000               0.029755   \n",
       "html_num_tags('form')                 0.029755               1.000000   \n",
       "html_num_tags('a')                   -0.006687               0.087638   \n",
       "Result_v1                            -0.110581              -0.116354   \n",
       "hyphens_ratio                        -0.027211               0.074543   \n",
       "total_tag                            -0.006299               0.113222   \n",
       "\n",
       "                         html_num_tags('a')  Result_v1  hyphens_ratio  \\\n",
       "url_len                           -0.019775   0.006429      -0.102340   \n",
       "url_num_hyphens_dom               -0.036904  -0.355480       0.887624   \n",
       "url_path_len                      -0.008870   0.113835      -0.138286   \n",
       "url_domain_len                    -0.035063  -0.380448       0.439454   \n",
       "url_hostname_len                  -0.033953  -0.384489       0.441060   \n",
       "url_num_dots                      -0.027895   0.047256      -0.184254   \n",
       "url_num_underscores               -0.007495   0.133808      -0.099547   \n",
       "url_query_len                     -0.023486  -0.189689      -0.066090   \n",
       "url_num_query_para                -0.022982  -0.184497      -0.063020   \n",
       "url_ip_present                    -0.035891   0.076236      -0.127395   \n",
       "url_entropy                       -0.024935  -0.162198      -0.046208   \n",
       "url_port                          -0.007122   0.006642      -0.023296   \n",
       "html_num_tags('iframe')            0.045139   0.033966      -0.003441   \n",
       "html_num_tags('script')            0.087716   0.202309      -0.093254   \n",
       "html_num_tags('embed')             0.012907   0.111295      -0.053772   \n",
       "html_num_tags('object')            0.082403   0.105710      -0.049086   \n",
       "html_num_tags('div')               0.840125   0.061183      -0.002508   \n",
       "html_num_tags('head')              0.008334  -0.012990       0.016200   \n",
       "html_num_tags('body')             -0.006687  -0.110581      -0.027211   \n",
       "html_num_tags('form')              0.087638  -0.116354       0.074543   \n",
       "html_num_tags('a')                 1.000000   0.113966      -0.028238   \n",
       "Result_v1                          0.113966   1.000000      -0.346218   \n",
       "hyphens_ratio                     -0.028238  -0.346218       1.000000   \n",
       "total_tag                          0.955769   0.093499      -0.017038   \n",
       "\n",
       "                         total_tag  \n",
       "url_len                  -0.017557  \n",
       "url_num_hyphens_dom      -0.027843  \n",
       "url_path_len             -0.008703  \n",
       "url_domain_len           -0.020711  \n",
       "url_hostname_len         -0.019585  \n",
       "url_num_dots             -0.030375  \n",
       "url_num_underscores      -0.014449  \n",
       "url_query_len            -0.022165  \n",
       "url_num_query_para       -0.020907  \n",
       "url_ip_present           -0.036531  \n",
       "url_entropy              -0.025946  \n",
       "url_port                 -0.006422  \n",
       "html_num_tags('iframe')   0.054301  \n",
       "html_num_tags('script')   0.121533  \n",
       "html_num_tags('embed')    0.002575  \n",
       "html_num_tags('object')   0.063423  \n",
       "html_num_tags('div')      0.962172  \n",
       "html_num_tags('head')     0.006161  \n",
       "html_num_tags('body')    -0.006299  \n",
       "html_num_tags('form')     0.113222  \n",
       "html_num_tags('a')        0.955769  \n",
       "Result_v1                 0.093499  \n",
       "hyphens_ratio            -0.017038  \n",
       "total_tag                 1.000000  \n",
       "\n",
       "[24 rows x 24 columns]"
      ]
     },
     "execution_count": 227,
     "metadata": {},
     "output_type": "execute_result"
    }
   ],
   "source": [
    "df.corr()"
   ]
  },
  {
   "cell_type": "markdown",
   "metadata": {},
   "source": [
    "---"
   ]
  },
  {
   "cell_type": "markdown",
   "metadata": {},
   "source": [
    "## <b>Q7. train_test_split을 이용하여, train_x, test_x, train_y, test_y로 데이터 분리\n",
    "\n",
    "### 모델을 학습하는 데에는 Train 데이터만 사용해야 합니다.\n",
    "### 학습에 사용하지 않은 데이터를 통해 모델을 평가해야 합니다.\n",
    "### 그러기 위해 Train / Test 데이터로 분리합니다.\n"
   ]
  },
  {
   "cell_type": "markdown",
   "metadata": {},
   "source": [
    "**<span style=\"color:green\">[참고링크] 공식 Document**</span>\n",
    "\n",
    "* train_test_split(https://scikit-learn.org/stable/modules/generated/sklearn.model_selection.train_test_split.html)"
   ]
  },
  {
   "cell_type": "markdown",
   "metadata": {},
   "source": [
    "### <span style=\"color:darkred\">[문제5] train_test_split 함수를 사용하여 train 데이터와 test 데이터를 분리하고 각각의 shape를 확인하세요<span>"
   ]
  },
  {
   "cell_type": "code",
   "execution_count": 231,
   "metadata": {},
   "outputs": [],
   "source": [
    "target = 'Result_v1'\n",
    "\n",
    "x = df.drop(target, axis=1)\n",
    "y = df.loc[:, target]"
   ]
  },
  {
   "cell_type": "code",
   "execution_count": 236,
   "metadata": {},
   "outputs": [],
   "source": [
    "from sklearn.model_selection import train_test_split\n",
    "\n",
    "x_train, x_val, y_train, y_val = train_test_split(x, y, test_size=0.3, random_state=2022)"
   ]
  },
  {
   "cell_type": "code",
   "execution_count": 239,
   "metadata": {},
   "outputs": [
    {
     "data": {
      "text/plain": [
       "((2261, 23), (970, 23), (2261,), (970,))"
      ]
     },
     "execution_count": 239,
     "metadata": {},
     "output_type": "execute_result"
    }
   ],
   "source": [
    "x_train.shape, x_val.shape, y_train.shape, y_val.shape"
   ]
  },
  {
   "cell_type": "code",
   "execution_count": 241,
   "metadata": {},
   "outputs": [
    {
     "data": {
      "text/html": [
       "<div>\n",
       "<style scoped>\n",
       "    .dataframe tbody tr th:only-of-type {\n",
       "        vertical-align: middle;\n",
       "    }\n",
       "\n",
       "    .dataframe tbody tr th {\n",
       "        vertical-align: top;\n",
       "    }\n",
       "\n",
       "    .dataframe thead th {\n",
       "        text-align: right;\n",
       "    }\n",
       "</style>\n",
       "<table border=\"1\" class=\"dataframe\">\n",
       "  <thead>\n",
       "    <tr style=\"text-align: right;\">\n",
       "      <th></th>\n",
       "      <th>url_len</th>\n",
       "      <th>url_num_hyphens_dom</th>\n",
       "      <th>url_path_len</th>\n",
       "      <th>url_domain_len</th>\n",
       "      <th>url_hostname_len</th>\n",
       "      <th>url_num_dots</th>\n",
       "      <th>url_num_underscores</th>\n",
       "      <th>url_query_len</th>\n",
       "      <th>url_num_query_para</th>\n",
       "      <th>url_ip_present</th>\n",
       "      <th>...</th>\n",
       "      <th>html_num_tags('embed')</th>\n",
       "      <th>html_num_tags('object')</th>\n",
       "      <th>html_num_tags('div')</th>\n",
       "      <th>html_num_tags('head')</th>\n",
       "      <th>html_num_tags('body')</th>\n",
       "      <th>html_num_tags('form')</th>\n",
       "      <th>html_num_tags('a')</th>\n",
       "      <th>Result_v1</th>\n",
       "      <th>hyphens_ratio</th>\n",
       "      <th>total_tag</th>\n",
       "    </tr>\n",
       "  </thead>\n",
       "  <tbody>\n",
       "    <tr>\n",
       "      <th>0</th>\n",
       "      <td>23.0</td>\n",
       "      <td>0.0</td>\n",
       "      <td>8.0</td>\n",
       "      <td>15.0</td>\n",
       "      <td>15.0</td>\n",
       "      <td>2.0</td>\n",
       "      <td>0.0</td>\n",
       "      <td>0.0</td>\n",
       "      <td>0.0</td>\n",
       "      <td>0.0</td>\n",
       "      <td>...</td>\n",
       "      <td>0.0</td>\n",
       "      <td>0.0</td>\n",
       "      <td>0.0</td>\n",
       "      <td>1.0</td>\n",
       "      <td>1.0</td>\n",
       "      <td>0.0</td>\n",
       "      <td>0.0</td>\n",
       "      <td>-1</td>\n",
       "      <td>0.000000</td>\n",
       "      <td>9.0</td>\n",
       "    </tr>\n",
       "    <tr>\n",
       "      <th>1</th>\n",
       "      <td>75.0</td>\n",
       "      <td>0.0</td>\n",
       "      <td>58.0</td>\n",
       "      <td>17.0</td>\n",
       "      <td>17.0</td>\n",
       "      <td>6.0</td>\n",
       "      <td>0.0</td>\n",
       "      <td>0.0</td>\n",
       "      <td>0.0</td>\n",
       "      <td>0.0</td>\n",
       "      <td>...</td>\n",
       "      <td>0.0</td>\n",
       "      <td>0.0</td>\n",
       "      <td>20.0</td>\n",
       "      <td>1.0</td>\n",
       "      <td>1.0</td>\n",
       "      <td>0.0</td>\n",
       "      <td>21.0</td>\n",
       "      <td>1</td>\n",
       "      <td>0.000000</td>\n",
       "      <td>61.0</td>\n",
       "    </tr>\n",
       "    <tr>\n",
       "      <th>2</th>\n",
       "      <td>20.0</td>\n",
       "      <td>0.0</td>\n",
       "      <td>4.0</td>\n",
       "      <td>16.0</td>\n",
       "      <td>16.0</td>\n",
       "      <td>2.0</td>\n",
       "      <td>0.0</td>\n",
       "      <td>0.0</td>\n",
       "      <td>0.0</td>\n",
       "      <td>0.0</td>\n",
       "      <td>...</td>\n",
       "      <td>0.0</td>\n",
       "      <td>0.0</td>\n",
       "      <td>101.0</td>\n",
       "      <td>1.0</td>\n",
       "      <td>1.0</td>\n",
       "      <td>3.0</td>\n",
       "      <td>70.0</td>\n",
       "      <td>1</td>\n",
       "      <td>0.000000</td>\n",
       "      <td>210.0</td>\n",
       "    </tr>\n",
       "    <tr>\n",
       "      <th>3</th>\n",
       "      <td>27.0</td>\n",
       "      <td>0.0</td>\n",
       "      <td>13.0</td>\n",
       "      <td>14.0</td>\n",
       "      <td>14.0</td>\n",
       "      <td>3.0</td>\n",
       "      <td>0.0</td>\n",
       "      <td>0.0</td>\n",
       "      <td>0.0</td>\n",
       "      <td>0.0</td>\n",
       "      <td>...</td>\n",
       "      <td>0.0</td>\n",
       "      <td>0.0</td>\n",
       "      <td>151.0</td>\n",
       "      <td>1.0</td>\n",
       "      <td>1.0</td>\n",
       "      <td>1.0</td>\n",
       "      <td>55.0</td>\n",
       "      <td>1</td>\n",
       "      <td>0.000000</td>\n",
       "      <td>224.0</td>\n",
       "    </tr>\n",
       "    <tr>\n",
       "      <th>4</th>\n",
       "      <td>39.0</td>\n",
       "      <td>2.0</td>\n",
       "      <td>12.0</td>\n",
       "      <td>27.0</td>\n",
       "      <td>27.0</td>\n",
       "      <td>2.0</td>\n",
       "      <td>0.0</td>\n",
       "      <td>0.0</td>\n",
       "      <td>0.0</td>\n",
       "      <td>0.0</td>\n",
       "      <td>...</td>\n",
       "      <td>0.0</td>\n",
       "      <td>0.0</td>\n",
       "      <td>332.0</td>\n",
       "      <td>1.0</td>\n",
       "      <td>1.0</td>\n",
       "      <td>0.0</td>\n",
       "      <td>321.0</td>\n",
       "      <td>1</td>\n",
       "      <td>0.051282</td>\n",
       "      <td>665.0</td>\n",
       "    </tr>\n",
       "  </tbody>\n",
       "</table>\n",
       "<p>5 rows × 24 columns</p>\n",
       "</div>"
      ],
      "text/plain": [
       "   url_len  url_num_hyphens_dom  url_path_len  url_domain_len  \\\n",
       "0     23.0                  0.0           8.0            15.0   \n",
       "1     75.0                  0.0          58.0            17.0   \n",
       "2     20.0                  0.0           4.0            16.0   \n",
       "3     27.0                  0.0          13.0            14.0   \n",
       "4     39.0                  2.0          12.0            27.0   \n",
       "\n",
       "   url_hostname_len  url_num_dots  url_num_underscores  url_query_len  \\\n",
       "0              15.0           2.0                  0.0            0.0   \n",
       "1              17.0           6.0                  0.0            0.0   \n",
       "2              16.0           2.0                  0.0            0.0   \n",
       "3              14.0           3.0                  0.0            0.0   \n",
       "4              27.0           2.0                  0.0            0.0   \n",
       "\n",
       "   url_num_query_para  url_ip_present  ...  html_num_tags('embed')  \\\n",
       "0                 0.0             0.0  ...                     0.0   \n",
       "1                 0.0             0.0  ...                     0.0   \n",
       "2                 0.0             0.0  ...                     0.0   \n",
       "3                 0.0             0.0  ...                     0.0   \n",
       "4                 0.0             0.0  ...                     0.0   \n",
       "\n",
       "   html_num_tags('object')  html_num_tags('div')  html_num_tags('head')  \\\n",
       "0                      0.0                   0.0                    1.0   \n",
       "1                      0.0                  20.0                    1.0   \n",
       "2                      0.0                 101.0                    1.0   \n",
       "3                      0.0                 151.0                    1.0   \n",
       "4                      0.0                 332.0                    1.0   \n",
       "\n",
       "   html_num_tags('body')  html_num_tags('form')  html_num_tags('a')  \\\n",
       "0                    1.0                    0.0                 0.0   \n",
       "1                    1.0                    0.0                21.0   \n",
       "2                    1.0                    3.0                70.0   \n",
       "3                    1.0                    1.0                55.0   \n",
       "4                    1.0                    0.0               321.0   \n",
       "\n",
       "   Result_v1  hyphens_ratio  total_tag  \n",
       "0         -1       0.000000        9.0  \n",
       "1          1       0.000000       61.0  \n",
       "2          1       0.000000      210.0  \n",
       "3          1       0.000000      224.0  \n",
       "4          1       0.051282      665.0  \n",
       "\n",
       "[5 rows x 24 columns]"
      ]
     },
     "execution_count": 241,
     "metadata": {},
     "output_type": "execute_result"
    }
   ],
   "source": [
    "df.head()"
   ]
  },
  {
   "cell_type": "code",
   "execution_count": 242,
   "metadata": {},
   "outputs": [],
   "source": [
    "df.to_csv('data.csv', index=False)"
   ]
  },
  {
   "cell_type": "code",
   "execution_count": null,
   "metadata": {},
   "outputs": [],
   "source": []
  }
 ],
 "metadata": {
  "kernelspec": {
   "display_name": "Python 3",
   "language": "python",
   "name": "python3"
  },
  "language_info": {
   "codemirror_mode": {
    "name": "ipython",
    "version": 3
   },
   "file_extension": ".py",
   "mimetype": "text/x-python",
   "name": "python",
   "nbconvert_exporter": "python",
   "pygments_lexer": "ipython3",
   "version": "3.8.8"
  },
  "vscode": {
   "interpreter": {
    "hash": "f08154012ddadd8e950e6e9e035c7a7b32c136e7647e9b7c77e02eb723a8bedb"
   }
  }
 },
 "nbformat": 4,
 "nbformat_minor": 4
}
